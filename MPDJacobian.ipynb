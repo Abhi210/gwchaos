{
 "cells": [
  {
   "cell_type": "code",
   "execution_count": 173,
   "metadata": {},
   "outputs": [],
   "source": [
    "# Basic Libraries\n",
    "\n",
    "import numpy as np\n",
    "import scipy as sp\n",
    "import sympy as smp\n",
    "from scipy.integrate import solve_ivp, odeint\n",
    "import itertools\n",
    "import mpmath\n",
    "import opt_einsum as oe\n",
    "import numba as nb\n",
    "import symengine as sme\n",
    "from scipy.spatial import KDTree\n",
    "from scipy.sparse import coo_array\n",
    "\n",
    "# For Plotting\n",
    "import matplotlib.pyplot as plt\n",
    "import plotly.graph_objects as go\n",
    "import plotly.express as px\n",
    "from plotly.subplots import make_subplots\n",
    "\n",
    "# For Debugging and Profiling\n",
    "import snoop\n",
    "from cProfile import Profile\n",
    "from pstats import SortKey, Stats\n",
    "import pyperclip"
   ]
  },
  {
   "cell_type": "code",
   "execution_count": 174,
   "metadata": {},
   "outputs": [],
   "source": [
    "def get_norm(T, g):\n",
    "    \"\"\"\n",
    "    T should have confuguration either 'u' or 'uu\n",
    "    Returned Configuration: Scalar\n",
    "    \"\"\"\n",
    "    if T.ndim == 2:\n",
    "        return np.einsum(\"ua,vb,ab,uv->\", g, g, T, T)\n",
    "\n",
    "    else:\n",
    "        return np.einsum(\"ab,a,b->\", g, T, T)"
   ]
  },
  {
   "cell_type": "code",
   "execution_count": 175,
   "metadata": {},
   "outputs": [],
   "source": [
    "def levi_civita_symbol(dim=4):\n",
    "    \"\"\"\n",
    "    Define Levi Cevita Tensor\n",
    "    Config: uuuu\n",
    "    \"\"\"\n",
    "\n",
    "    arr = np.zeros(tuple([dim for _ in range(dim)]))\n",
    "    for x in itertools.permutations(tuple(range(dim))):\n",
    "        mat = np.zeros((dim, dim), dtype=np.int32)\n",
    "        for i, j in zip(range(dim), x):\n",
    "            mat[i, j] = 1\n",
    "        arr[x] = int(np.linalg.det(mat))\n",
    "    return arr"
   ]
  },
  {
   "cell_type": "code",
   "execution_count": 176,
   "metadata": {},
   "outputs": [],
   "source": [
    "# @snoop\n",
    "def levi_civita_tensor(gk):\n",
    "    #! uuuu\n",
    "    epsu = levi_civita_symbol()\n",
    "    det_g = smp.det(smp.Matrix(gk))\n",
    "    return epsu / sme.sqrt(-(det_g))"
   ]
  },
  {
   "cell_type": "code",
   "execution_count": 177,
   "metadata": {},
   "outputs": [],
   "source": [
    "def cov_metric_tensor(r, theta, a, M=1.0):\n",
    "    \"\"\"\n",
    "    Define the metric tensor function.\n",
    "\n",
    "    Parameters:\n",
    "        a (float): Parameter 'a' in the metric.\n",
    "        r (float): Parameter 'r' in the metric.\n",
    "        theta (float): Parameter 'theta' in the metric.\n",
    "\n",
    "    Returns:\n",
    "        np.ndarray: The metric tensor at the given values of a, r, and theta.\n",
    "        Configuration: ll\n",
    "    \"\"\"\n",
    "    #! Correction Added Mass term in the symbols\n",
    "    g = np.zeros((4, 4), dtype=type(r))\n",
    "\n",
    "    Delta = a**2 - 2 * M * r + r**2\n",
    "    Sigma = r**2 + a**2 * sme.cos(theta) ** 2\n",
    "\n",
    "    g[0, 0] = -(1.0 - 2.0 * M * r / Sigma)\n",
    "    g[1, 1] = Sigma / Delta\n",
    "    g[2, 2] = Sigma\n",
    "    g[3, 3] = (\n",
    "        sme.sin(theta) ** 2\n",
    "        * ((r**2 + a**2) ** 2 - Delta * a**2 * sme.sin(theta) ** 2)\n",
    "        / Sigma\n",
    "    )\n",
    "    g[0, 3] = -2.0 * a * M * r * sme.sin(theta) ** 2 / Sigma\n",
    "    g[3, 0] = g[0, 3]\n",
    "\n",
    "    # return g.astype(float)\n",
    "    return g"
   ]
  },
  {
   "cell_type": "code",
   "execution_count": 178,
   "metadata": {},
   "outputs": [],
   "source": [
    "def cot_metric_tensor(r, theta, a, M=1.0):\n",
    "    \"\"\"\n",
    "    Define the metric tensor function.\n",
    "\n",
    "    Parameters:\n",
    "        a (float): Parameter 'a' in the metric.\n",
    "        r (float): Parameter 'r' in the metric.\n",
    "        theta (float): Parameter 'theta' in the metric.\n",
    "\n",
    "    Returns:\n",
    "        np.ndarray: The metric tensor at the given values of a, r, and theta.\n",
    "        Configuration: uu\n",
    "    \"\"\"\n",
    "    Delta = a**2 - 2 * M * r + r**2\n",
    "    Sigma = r**2 + a**2 * sme.cos(theta) ** 2\n",
    "\n",
    "    denom = Delta * sme.sin(theta) ** 2\n",
    "\n",
    "    g = np.zeros((4, 4), dtype=type(r))\n",
    "    g[0, 0] = (\n",
    "        -(\n",
    "            sme.sin(theta) ** 2\n",
    "            * ((r**2 + a**2) ** 2 - Delta * a**2 * sme.sin(theta) ** 2)\n",
    "            / Sigma\n",
    "        )\n",
    "        / denom\n",
    "    )\n",
    "\n",
    "    g[1, 1] = Delta / Sigma\n",
    "\n",
    "    g[2, 2] = 1.0 / Sigma\n",
    "\n",
    "    # g[3, 3] = -(-(1.0 - 2.0 * r / Sigma)) / denom\n",
    "    #! Corrected the g[3,3] term below\n",
    "    g[3, 3] = (Delta - a**2 * sme.sin(theta) ** 2) / (denom * Sigma)\n",
    "\n",
    "    g[0, 3] = (-2.0 * a * M * r * sme.sin(theta) ** 2 / Sigma) / denom\n",
    "\n",
    "    g[3, 0] = g[0, 3]\n",
    "\n",
    "    return g\n",
    "    # return g"
   ]
  },
  {
   "cell_type": "code",
   "execution_count": 179,
   "metadata": {},
   "outputs": [],
   "source": [
    "def kerr_christoffel(r, theta, a, M=1.0):\n",
    "    \"\"\"\n",
    "    Function to give the christoffel symbols for kerr metric.\n",
    "    The christoffel symbols are given as \\Gamma ^i _{jk}\n",
    "\n",
    "    From Reference Paper, Appendix\n",
    "    Config: ull\n",
    "    \"\"\"\n",
    "\n",
    "    cs = np.zeros((4, 4, 4), dtype=type(r))\n",
    "\n",
    "    # Definitions\n",
    "    Delta = a**2 - 2 * M * r + r**2\n",
    "    Sigma = r**2 + a**2 * sme.cos(theta) ** 2\n",
    "\n",
    "    cs[3, 0, 1] = M * (2 * r**2 - Sigma) / (Delta * Sigma**2) * a\n",
    "    cs[0, 0, 1] = (\n",
    "        M * (r**2 + a**2) * (r**2 - a**2 * sme.cos(theta) ** 2) / (Sigma**2 * Delta)\n",
    "    )\n",
    "\n",
    "    cs[3, 0, 2] = -2 * M * a * r * (sme.cos(theta) / sme.sin(theta)) / (Sigma**2)\n",
    "    cs[0, 0, 2] = -2 * M * a**2 * r * sme.sin(theta) * sme.cos(theta) / Sigma**2\n",
    "\n",
    "    cs[0, 1, 3] = (\n",
    "        -M\n",
    "        * a\n",
    "        * (2 * r**2 * (r**2 + a**2) + Sigma * (r**2 - a**2))\n",
    "        * sme.sin(theta) ** 2\n",
    "        / (Delta * Sigma**2)\n",
    "    )\n",
    "\n",
    "    cs[3, 1, 3] = (\n",
    "        r * Sigma * (Sigma - 2 * M * r)\n",
    "        - M * a**2 * (2 * r**2 - Sigma) * sme.sin(theta) ** 2\n",
    "    ) / (Delta * Sigma**2)\n",
    "\n",
    "    cs[0, 2, 3] = M * a**3 * r * sme.sin(theta) ** 2 * sme.sin(2 * theta) / Sigma**2\n",
    "\n",
    "    cs[3, 2, 3] = (\n",
    "        (sme.cos(theta) / sme.sin(theta))\n",
    "        * (Sigma**2 + 2 * M * a**2 * r * sme.sin(theta) ** 2)\n",
    "        / Sigma**2\n",
    "    )\n",
    "\n",
    "    cs[1, 0, 0] = M * Delta * (2 * r**2 - Sigma) / Sigma**3\n",
    "\n",
    "    cs[1, 0, 3] = -cs[1, 0, 0] * a * sme.sin(theta) ** 2\n",
    "\n",
    "    cs[2, 0, 0] = -M * a * r * sme.sin(2 * theta) / Sigma**3 * a\n",
    "    cs[2, 0, 3] = (\n",
    "        2.0 * M * r * a * (r**2 + a**2) * sme.sin(theta) * sme.cos(theta) / Sigma**3\n",
    "    )\n",
    "\n",
    "    cs[1, 1, 1] = r / Sigma + (M - r) / Delta\n",
    "\n",
    "    cs[1, 2, 2] = -r * Delta / Sigma\n",
    "    cs[2, 1, 2] = -cs[1, 2, 2] / Delta\n",
    "\n",
    "    cs[1, 1, 2] = cs[2, 2, 2] = -(a**2) * sme.sin(2 * theta) / (2 * Sigma)\n",
    "    cs[2, 1, 1] = -cs[1, 1, 2] / Delta\n",
    "\n",
    "    cs[1, 3, 3] = (\n",
    "        -Delta\n",
    "        * (r * Sigma**2 - M * a**2 * (2 * r**2 - Sigma) * sme.sin(theta) ** 2)\n",
    "        * sme.sin(theta) ** 2\n",
    "        / Sigma**3\n",
    "    )\n",
    "\n",
    "    cs[2, 3, 3] = (\n",
    "        -(Delta * Sigma**2 + 2 * M * r * (r**2 + a**2) ** 2)\n",
    "        * sme.sin(2 * theta)\n",
    "        / (2 * Sigma**3)\n",
    "    )\n",
    "\n",
    "    cs[0, 1, 0] = cs[0, 0, 1]\n",
    "    cs[0, 2, 0] = cs[0, 0, 2]\n",
    "    cs[0, 3, 1] = cs[0, 1, 3]\n",
    "    cs[0, 3, 2] = cs[0, 2, 3]\n",
    "\n",
    "    cs[1, 3, 0] = cs[1, 0, 3]\n",
    "    cs[1, 2, 1] = cs[1, 1, 2]\n",
    "\n",
    "    cs[2, 3, 0] = cs[2, 0, 3]\n",
    "    cs[2, 2, 1] = cs[2, 1, 2]\n",
    "\n",
    "    cs[3, 1, 0] = cs[3, 0, 1]\n",
    "    cs[3, 2, 0] = cs[3, 0, 2]\n",
    "    cs[3, 3, 1] = cs[3, 1, 3]\n",
    "    cs[3, 3, 2] = cs[3, 2, 3]\n",
    "\n",
    "    # return symmetrize(arr=cs)+np.zeros((4,4,4))\n",
    "    return cs + np.zeros((4, 4, 4))\n",
    "    # return cs"
   ]
  },
  {
   "cell_type": "code",
   "execution_count": 180,
   "metadata": {},
   "outputs": [],
   "source": [
    "def kerr_riemann_tensor(r, theta, a, M=1.0, config=\"ulll\"):\n",
    "    \"\"\"\n",
    "    Define variables\n",
    "\n",
    "    Components of the Riemann tensor for Kerr Metric\n",
    "    From Reference Paper, Appendix\n",
    "    The Configuration is ulll\n",
    "    \"\"\"\n",
    "\n",
    "    rijkl = np.zeros((4, 4, 4, 4), dtype=type(r))\n",
    "\n",
    "    # Definitions\n",
    "    Delta = a**2 - 2.0 * M * r + r**2\n",
    "    Sigma = r**2 + a**2 * sme.cos(theta) ** 2\n",
    "\n",
    "    rijkl[0, 0, 0, 3] = (\n",
    "        2.0\n",
    "        * M**2\n",
    "        * sme.sin(theta) ** 2\n",
    "        * a\n",
    "        * r**2\n",
    "        * (r**2 - 3.0 * a**2 * sme.cos(theta) ** 2)\n",
    "        / Sigma**4\n",
    "    )\n",
    "\n",
    "    rijkl[0, 0, 1, 2] = (\n",
    "        -2.0\n",
    "        * M**2\n",
    "        * (3.0 * r**2 - a**2 * sme.cos(theta) ** 2)\n",
    "        * r\n",
    "        * sme.cos(theta)\n",
    "        * a**2\n",
    "        * sme.sin(theta)\n",
    "        / (Sigma**3 * Delta)\n",
    "    )\n",
    "\n",
    "    rijkl[0, 1, 0, 1] = (\n",
    "        M\n",
    "        * r\n",
    "        * (2.0 * (r**2 + a**2) + a**2 * sme.sin(theta) ** 2)\n",
    "        * (r**2 - 3.0 * a**2 * sme.cos(theta) ** 2)\n",
    "        / (Sigma**3 * Delta)\n",
    "    )\n",
    "\n",
    "    rijkl[0, 1, 0, 2] = (\n",
    "        -M\n",
    "        * (3.0 * r**2 - a**2 * sme.cos(theta) ** 2)\n",
    "        * (3.0 * (r**2 + a**2) - 2 * M * r)\n",
    "        * a**2\n",
    "        * sme.sin(theta)\n",
    "        * sme.cos(theta)\n",
    "        / (Sigma**3 * Delta)\n",
    "    )\n",
    "\n",
    "    rijkl[0, 1, 1, 3] = (\n",
    "        3.0\n",
    "        * M\n",
    "        * sme.sin(theta) ** 2\n",
    "        * a\n",
    "        * r\n",
    "        * (r**2 + a**2)\n",
    "        * (r**2 - 3.0 * a**2 * sme.cos(theta) ** 2)\n",
    "        / (Sigma**3 * Delta)\n",
    "    )\n",
    "\n",
    "    rijkl[0, 1, 2, 3] = (\n",
    "        -M\n",
    "        * sme.cos(theta)\n",
    "        * sme.sin(theta)\n",
    "        * a\n",
    "        * (3.0 * r**2 - a**2 * sme.cos(theta) ** 2)\n",
    "        * (2.0 * (r**2 + a**2) ** 2 + a**2 * sme.sin(theta) ** 2 * Delta)\n",
    "        / (Sigma**3 * Delta)\n",
    "    )\n",
    "\n",
    "    # Antisymmetric under exchange of last two indices.\n",
    "    rijkl[0, 0, 3, 0] = -rijkl[0, 0, 0, 3]\n",
    "    rijkl[0, 0, 2, 1] = -rijkl[0, 0, 1, 2]\n",
    "    rijkl[0, 1, 1, 0] = -rijkl[0, 1, 0, 1]\n",
    "    rijkl[0, 1, 2, 0] = -rijkl[0, 1, 0, 2]\n",
    "    rijkl[0, 1, 3, 1] = -rijkl[0, 1, 1, 3]\n",
    "    rijkl[0, 1, 3, 2] = -rijkl[0, 1, 2, 3]\n",
    "\n",
    "    #! -------------------------------------------------------------------------------------#\n",
    "\n",
    "    rijkl[0, 2, 0, 1] = (\n",
    "        -M\n",
    "        * (3.0 * r**2 - a**2 * sme.cos(theta) ** 2)\n",
    "        * (3.0 * (r**2 + a**2) - 4 * M * r)\n",
    "        * a**2\n",
    "        * sme.sin(theta)\n",
    "        * sme.cos(theta)\n",
    "        / (Sigma**3 * Delta)\n",
    "    )\n",
    "    rijkl[0, 2, 0, 2] = (\n",
    "        -M\n",
    "        * r\n",
    "        * (r**2 - 3.0 * a**2 * sme.cos(theta) ** 2)\n",
    "        * (r**2 + a**2 + 2 * a**2 * sme.sin(theta) ** 2)\n",
    "        / Sigma**3\n",
    "    )\n",
    "    rijkl[0, 2, 1, 3] = (\n",
    "        -M\n",
    "        * (3.0 * r**2 - a**2 * sme.cos(theta) ** 2)\n",
    "        * ((a**2 + r**2) ** 2 + 2.0 * a**2 * sme.sin(theta) ** 2 * Delta)\n",
    "        * a\n",
    "        * sme.sin(theta)\n",
    "        * sme.cos(theta)\n",
    "        / (Sigma**3 * Delta)\n",
    "    )\n",
    "    rijkl[0, 2, 2, 3] = (\n",
    "        -3.0\n",
    "        * M\n",
    "        * sme.sin(theta) ** 2\n",
    "        * r\n",
    "        * a\n",
    "        * (a**2 + r**2)\n",
    "        * (r**2 - 3.0 * a**2 * sme.cos(theta) ** 2)\n",
    "        / Sigma**3\n",
    "    )\n",
    "    rijkl[0, 3, 0, 3] = (\n",
    "        -sme.sin(theta) ** 2\n",
    "        * M\n",
    "        * r\n",
    "        * (r**2 + 3 * a**2 * sme.sin(theta) ** 2 - 3 * a**2)\n",
    "        * ((a**2 + r**2) ** 2 - a**2 * sme.sin(theta) ** 2 * Delta)\n",
    "        / Sigma**4\n",
    "    )\n",
    "    rijkl[0, 3, 1, 2] = (\n",
    "        (3.0 * r**2 - a**2 * sme.cos(theta) ** 2)\n",
    "        * M\n",
    "        * ((a**2 + r**2) ** 2 - a**2 * sme.sin(theta) ** 2 * Delta)\n",
    "        * a\n",
    "        * sme.sin(theta)\n",
    "        * sme.cos(theta)\n",
    "        / (Sigma**3 * Delta)\n",
    "    )\n",
    "\n",
    "    # Symmetries\n",
    "    rijkl[0, 2, 1, 0] = -rijkl[0, 2, 0, 1]\n",
    "    rijkl[0, 2, 2, 0] = -rijkl[0, 2, 0, 2]\n",
    "    rijkl[0, 2, 3, 1] = -rijkl[0, 2, 1, 3]\n",
    "    rijkl[0, 2, 3, 2] = -rijkl[0, 2, 2, 3]\n",
    "    rijkl[0, 3, 3, 0] = -rijkl[0, 3, 0, 3]\n",
    "    rijkl[0, 3, 2, 1] = -rijkl[0, 3, 1, 2]\n",
    "\n",
    "    #! ------------------------------------------------------------------------------#\n",
    "\n",
    "    rijkl[1, 0, 0, 1] = (\n",
    "        r\n",
    "        * M\n",
    "        * (r**2 - 3.0 * a**2 * sme.cos(theta) ** 2)\n",
    "        * (a**2 * sme.sin(theta) ** 2 + 2.0 * Delta)\n",
    "        / Sigma**4\n",
    "    )\n",
    "    rijkl[1, 0, 0, 2] = (\n",
    "        -3.0\n",
    "        * M\n",
    "        * Delta\n",
    "        * a**2\n",
    "        * (3.0 * r**2 - a**2 * sme.cos(theta) ** 2)\n",
    "        * sme.sin(theta)\n",
    "        * sme.cos(theta)\n",
    "        / Sigma**4\n",
    "    )\n",
    "    rijkl[1, 0, 1, 3] = (\n",
    "        r\n",
    "        * M\n",
    "        * a\n",
    "        * (3.0 * (r**2 + a**2) - 4.0 * M * r)\n",
    "        * (r**2 - 3.0 * a**2 * sme.cos(theta) ** 2)\n",
    "        * sme.sin(theta) ** 2\n",
    "        / Sigma**4\n",
    "    )\n",
    "    rijkl[1, 0, 2, 3] = (\n",
    "        -a\n",
    "        * M\n",
    "        * (2.0 * (r**2 + a**2) + a**2 * sme.sin(theta) ** 2)\n",
    "        * (3.0 * r**2 - a**2 * sme.cos(theta) ** 2)\n",
    "        * Delta\n",
    "        * sme.cos(theta)\n",
    "        * sme.sin(theta)\n",
    "        / Sigma**4\n",
    "    )\n",
    "    rijkl[1, 2, 0, 3] = (\n",
    "        -sme.cos(theta)\n",
    "        * M\n",
    "        * sme.sin(theta)\n",
    "        * a\n",
    "        * (3.0 * r**2 - a**2 * sme.cos(theta) ** 2)\n",
    "        * Delta\n",
    "        / Sigma**3\n",
    "    )\n",
    "    rijkl[1, 2, 1, 2] = -M * r * (r**2 - 3.0 * a**2 * sme.cos(theta) ** 2) / Sigma**2\n",
    "    rijkl[1, 3, 0, 1] = (\n",
    "        -sme.sin(theta) ** 2\n",
    "        * M\n",
    "        * r\n",
    "        * a\n",
    "        * (r**2 - 3.0 * a**2 * sme.cos(theta) ** 2)\n",
    "        * (3.0 * (r**2 + a**2) - 4.0 * M * r)\n",
    "        / Sigma**4\n",
    "    )\n",
    "    rijkl[1, 3, 0, 2] = (\n",
    "        a\n",
    "        * M\n",
    "        * (3.0 * r**2 - a**2 * sme.cos(theta) ** 2)\n",
    "        * (r**2 + a**2 + 2.0 * a**2 * sme.sin(theta) ** 2)\n",
    "        * Delta\n",
    "        * sme.cos(theta)\n",
    "        * sme.sin(theta)\n",
    "        / Sigma**4\n",
    "    )\n",
    "    rijkl[1, 3, 1, 3] = (\n",
    "        -sme.sin(theta) ** 2\n",
    "        * M\n",
    "        * r\n",
    "        * (r**2 - 3.0 * a**2 * sme.cos(theta) ** 2)\n",
    "        * ((r**2 + a**2) ** 2 + 2.0 * a**2 * Delta * sme.sin(theta) ** 2)\n",
    "        / Sigma**4\n",
    "    )\n",
    "    rijkl[1, 3, 2, 3] = (\n",
    "        3.0\n",
    "        * M\n",
    "        * a**2\n",
    "        * (r**2 + a**2)\n",
    "        * (3.0 * r**2 - a**2 * sme.cos(theta) ** 2)\n",
    "        * Delta\n",
    "        * sme.cos(theta)\n",
    "        * sme.sin(theta) ** 3\n",
    "        / Sigma**4\n",
    "    )\n",
    "\n",
    "    # Symmetries\n",
    "    rijkl[1, 0, 1, 0] = -rijkl[1, 0, 0, 1]\n",
    "    rijkl[1, 0, 2, 0] = -rijkl[1, 0, 0, 2]\n",
    "    rijkl[1, 0, 3, 1] = -rijkl[1, 0, 1, 3]\n",
    "    rijkl[1, 0, 3, 2] = -rijkl[1, 0, 2, 3]\n",
    "    rijkl[1, 2, 3, 0] = -rijkl[1, 2, 0, 3]\n",
    "    rijkl[1, 2, 2, 1] = -rijkl[1, 2, 1, 2]\n",
    "    rijkl[1, 3, 1, 0] = -rijkl[1, 3, 0, 1]\n",
    "    rijkl[1, 3, 2, 0] = -rijkl[1, 3, 0, 2]\n",
    "    rijkl[1, 3, 3, 1] = -rijkl[1, 3, 1, 3]\n",
    "    rijkl[1, 3, 3, 2] = -rijkl[1, 3, 2, 3]\n",
    "\n",
    "    #! -------------------------------------------------------------------------------------#\n",
    "\n",
    "    rijkl[2, 0, 0, 1] = (\n",
    "        -3.0\n",
    "        * M\n",
    "        * a**2\n",
    "        * (3.0 * r**2 - a**2 * sme.cos(theta) ** 2)\n",
    "        * sme.sin(theta)\n",
    "        * sme.cos(theta)\n",
    "        / Sigma**4\n",
    "    )\n",
    "    rijkl[2, 0, 0, 2] = (\n",
    "        -M\n",
    "        * r\n",
    "        * (r**2 - 3.0 * a**2 * sme.cos(theta) ** 2)\n",
    "        * (2.0 * a**2 * sme.sin(theta) ** 2 + Delta)\n",
    "        / Sigma**4\n",
    "    )\n",
    "    rijkl[2, 0, 1, 3] = (\n",
    "        -a\n",
    "        * M\n",
    "        * (3.0 * r**2 - a**2 * sme.cos(theta) ** 2)\n",
    "        * (r**2 + a**2 + 2.0 * a**2 * sme.sin(theta) ** 2)\n",
    "        * sme.cos(theta)\n",
    "        * sme.sin(theta)\n",
    "        / Sigma**4\n",
    "    )\n",
    "    rijkl[2, 0, 2, 3] = (\n",
    "        -M\n",
    "        * r\n",
    "        * a\n",
    "        * (r**2 - 3.0 * a**2 * sme.cos(theta) ** 2)\n",
    "        * (3.0 * (r**2 + a**2) - 2.0 * M * r)\n",
    "        * sme.sin(theta) ** 2\n",
    "        / Sigma**4\n",
    "    )\n",
    "    rijkl[2, 1, 0, 3] = (\n",
    "        M\n",
    "        * a\n",
    "        * (3.0 * r**2 - a**2 * sme.cos(theta) ** 2)\n",
    "        * sme.cos(theta)\n",
    "        * sme.sin(theta)\n",
    "        / Sigma**3\n",
    "    )\n",
    "    rijkl[2, 1, 1, 2] = (\n",
    "        M * r * (r**2 - 3.0 * a**2 * sme.cos(theta) ** 2) / (Delta * Sigma**2)\n",
    "    )\n",
    "    rijkl[2, 3, 0, 1] = (\n",
    "        M\n",
    "        * a\n",
    "        * (2.0 * (r**2 + a**2) + a**2 * sme.sin(theta) ** 2)\n",
    "        * (3.0 * r**2 - a**2 * sme.cos(theta) ** 2)\n",
    "        * sme.cos(theta)\n",
    "        * sme.sin(theta)\n",
    "        / Sigma**4\n",
    "    )\n",
    "    rijkl[2, 3, 0, 2] = (\n",
    "        M\n",
    "        * r\n",
    "        * a\n",
    "        * (r**2 - 3.0 * a**2 * sme.cos(theta) ** 2)\n",
    "        * (3.0 * (r**2 + a**2) - 2.0 * M * r)\n",
    "        * sme.sin(theta) ** 2\n",
    "        / Sigma**4\n",
    "    )\n",
    "    rijkl[2, 3, 1, 3] = (\n",
    "        3.0\n",
    "        * M\n",
    "        * a**2\n",
    "        * (r**2 + a**2)\n",
    "        * (3.0 * r**2 - a**2 * sme.cos(theta) ** 2)\n",
    "        * sme.cos(theta)\n",
    "        * sme.sin(theta) ** 3\n",
    "        / Sigma**4\n",
    "    )\n",
    "    rijkl[2, 3, 2, 3] = (\n",
    "        M\n",
    "        * r\n",
    "        * (r**2 - 3.0 * a**2 * sme.cos(theta) ** 2)\n",
    "        * (2.0 * (r**2 + a**2) ** 2 + a**2 * Delta * sme.sin(theta) ** 2)\n",
    "        * sme.sin(theta) ** 2\n",
    "        / Sigma**4\n",
    "    )\n",
    "\n",
    "    # Symmetries\n",
    "    rijkl[2, 0, 1, 0] = -rijkl[2, 0, 0, 1]\n",
    "    rijkl[2, 0, 2, 0] = -rijkl[2, 0, 0, 2]\n",
    "    rijkl[2, 0, 3, 1] = -rijkl[2, 0, 1, 3]\n",
    "    rijkl[2, 0, 3, 2] = -rijkl[2, 0, 2, 3]\n",
    "    rijkl[2, 1, 3, 0] = -rijkl[2, 1, 0, 3]\n",
    "    rijkl[2, 1, 2, 1] = -rijkl[2, 1, 1, 2]\n",
    "    rijkl[2, 3, 1, 0] = -rijkl[2, 3, 0, 1]\n",
    "    rijkl[2, 3, 2, 0] = -rijkl[2, 3, 0, 2]\n",
    "    # rijkl[2, 3, 2, 1] = -rijkl[2, 3, 1, 2]\n",
    "    rijkl[2, 3, 3, 1] = -rijkl[2, 3, 1, 3]\n",
    "    rijkl[2, 3, 3, 2] = -rijkl[2, 3, 2, 3]\n",
    "\n",
    "    #! --------------------------------------------------------------------------#\n",
    "\n",
    "    rijkl[3, 0, 1, 2] = (\n",
    "        -M\n",
    "        * (3.0 * r**2 - a**2 * sme.cos(theta) ** 2)\n",
    "        * (a**2 * sme.sin(theta) ** 2 - Delta)\n",
    "        * a\n",
    "        * (sme.cos(theta) / sme.sin(theta))\n",
    "        / (Delta * Sigma**3)\n",
    "    )\n",
    "    rijkl[3, 1, 0, 1] = (\n",
    "        3.0 * M * r * a * (r**2 - 3.0 * a**2 * sme.cos(theta) ** 2) / (Delta * Sigma**3)\n",
    "    )\n",
    "    rijkl[3, 1, 0, 2] = (\n",
    "        -M\n",
    "        * a\n",
    "        * (3.0 * r**2 - a**2 * sme.cos(theta) ** 2)\n",
    "        * (2.0 * a**2 * sme.sin(theta) ** 2 + Delta)\n",
    "        * (sme.cos(theta) / sme.sin(theta))\n",
    "        / (Delta * Sigma**3)\n",
    "    )\n",
    "    rijkl[3, 1, 1, 3] = (\n",
    "        M\n",
    "        * r\n",
    "        * (r**2 - 3.0 * a**2 * sme.cos(theta) ** 2)\n",
    "        * (r**2 + a**2 + 2.0 * a**2 * sme.sin(theta) ** 2)\n",
    "        / (Delta * Sigma**3)\n",
    "    )\n",
    "    rijkl[3, 1, 2, 3] = (\n",
    "        -M\n",
    "        * (3.0 * r**2 - a**2 * sme.cos(theta) ** 2)\n",
    "        * (3.0 * (r**2 + a**2) - 2.0 * M * r)\n",
    "        * a**2\n",
    "        * sme.sin(theta)\n",
    "        * sme.cos(theta)\n",
    "        / (Delta * Sigma**3)\n",
    "    )\n",
    "    rijkl[3, 2, 0, 1] = (\n",
    "        -M\n",
    "        * (3.0 * r**2 - a**2 * sme.cos(theta) ** 2)\n",
    "        * (a**2 * sme.sin(theta) ** 2 + 2.0 * Delta)\n",
    "        * a\n",
    "        * (sme.cos(theta) / sme.sin(theta))\n",
    "        / (Delta * Sigma**3)\n",
    "    )\n",
    "    rijkl[3, 2, 0, 2] = (\n",
    "        -M * 3.0 * r * a * (r**2 - 3.0 * a**2 * sme.cos(theta) ** 2) / Sigma**3\n",
    "    )\n",
    "    rijkl[3, 2, 1, 3] = (\n",
    "        -M\n",
    "        * a**2\n",
    "        * (3 * r**2 - a**2 * sme.cos(theta) ** 2)\n",
    "        * (3.0 * (r**2 + a**2) - 4.0 * M * r)\n",
    "        * sme.sin(theta)\n",
    "        * sme.cos(theta)\n",
    "        / (Delta * Sigma**3)\n",
    "    )\n",
    "    rijkl[3, 2, 2, 3] = (\n",
    "        -M\n",
    "        * r\n",
    "        * (2.0 * (r**2 + a**2) + a**2 * sme.sin(theta) ** 2)\n",
    "        * (r**2 - 3.0 * a**2 * sme.cos(theta) ** 2)\n",
    "        / Sigma**3\n",
    "    )\n",
    "    rijkl[3, 3, 0, 3] = (\n",
    "        -2.0\n",
    "        * M**2\n",
    "        * a\n",
    "        * r**2\n",
    "        * (r**2 - 3.0 * a**2 * sme.cos(theta) ** 2)\n",
    "        * sme.sin(theta) ** 2\n",
    "        / Sigma**4\n",
    "    )\n",
    "    rijkl[3, 3, 1, 2] = (\n",
    "        2.0\n",
    "        * M**2\n",
    "        * r\n",
    "        * a**2\n",
    "        * (3.0 * r**2 - a**2 * sme.cos(theta) ** 2)\n",
    "        * sme.cos(theta)\n",
    "        * sme.sin(theta)\n",
    "        / (Delta * Sigma**3)\n",
    "    )\n",
    "\n",
    "    # Symmetries\n",
    "    rijkl[3, 0, 2, 1] = -rijkl[3, 0, 1, 2]\n",
    "    rijkl[3, 1, 1, 0] = -rijkl[3, 1, 0, 1]\n",
    "    rijkl[3, 1, 2, 0] = -rijkl[3, 1, 0, 2]\n",
    "    rijkl[3, 1, 3, 1] = -rijkl[3, 1, 1, 3]\n",
    "    rijkl[3, 1, 3, 2] = -rijkl[3, 1, 2, 3]\n",
    "    rijkl[3, 2, 1, 0] = -rijkl[3, 2, 0, 1]\n",
    "    rijkl[3, 2, 2, 0] = -rijkl[3, 2, 0, 2]\n",
    "    rijkl[3, 2, 3, 1] = -rijkl[3, 2, 1, 3]\n",
    "    rijkl[3, 2, 3, 2] = -rijkl[3, 2, 2, 3]\n",
    "    rijkl[3, 3, 3, 0] = -rijkl[3, 3, 0, 3]\n",
    "    rijkl[3, 3, 2, 1] = -rijkl[3, 3, 1, 2]\n",
    "\n",
    "    #!---------------------------------------------------------------------#\n",
    "\n",
    "    part1 = a**2 + 2 * r * (-2 * M + r) + a**2 * sme.cos(2 * theta)\n",
    "    part2 = 3 * a**2 - 2 * r**2 + 3 * a**2 * sme.cos(2 * theta)\n",
    "    part3 = (a**2 + 2 * r**2 + a**2 * sme.cos(2 * theta)) ** 4\n",
    "    # Calculating Rtensor elements\n",
    "\n",
    "    # rijkl[3, 0, 0, 3] =  (part1 + part2 + part3 + part4) / (Sigma**5)\n",
    "    rijkl[3, 0, 0, 3] = 4 * M * r * part1 * part2 / part3\n",
    "    rijkl[3, 0, 3, 0] = -rijkl[3, 0, 0, 3]\n",
    "\n",
    "    # return rijkl\n",
    "    if config == \"ulll\":\n",
    "        return rijkl + np.zeros((4, 4, 4, 4))\n",
    "\n",
    "    elif config == \"llll\":\n",
    "        gk = cov_metric_tensor(r=r, theta=theta, a=a, M=M)\n",
    "        return np.einsum(\"ij,jklm->iklm\", gk, rijkl) + np.zeros((4, 4, 4, 4))\n",
    "\n",
    "    # elif config==\"lluu\":\n",
    "    #     #!Config: lluu\n",
    "    #     gkinv = cot_metric_tensor(r=r, theta=theta, a=a, M=M)\n",
    "    #     gk = cov_metric_tensor(r=r, theta=theta, a=a, M=M)\n",
    "    #     rllll = np.einsum(\"ij,jklm->iklm\", gk, rijkl)\n",
    "\n",
    "    #     return np.einsum(\"kjlm,la,mb->kjab\", rllll, gkinv, gkinv)\n",
    "\n",
    "    else:\n",
    "        return \"Invalid String\""
   ]
  },
  {
   "cell_type": "code",
   "execution_count": 181,
   "metadata": {},
   "outputs": [],
   "source": [
    "def spintensor(levi, pvector, svector, m):\n",
    "\n",
    "    # p_vectorl = np.einsum(\"ij,j->i\", gk, pvector)  #! Lower the pvector\n",
    "    # s_vectorl = np.einsum(\"ij,j->i\", gk, svector)  #! Lower the svector\n",
    "\n",
    "    #! Using above definition\n",
    "    return -np.einsum(\"uvab,a,b->uv\", levi, svector, pvector) / m"
   ]
  },
  {
   "cell_type": "code",
   "execution_count": 182,
   "metadata": {},
   "outputs": [],
   "source": [
    "def metric_D(r, theta, a, M=1.0):\n",
    "    dgkt = np.zeros((4, 4), dtype=type(r))\n",
    "    dgkp = np.zeros((4, 4), dtype=type(r))\n",
    "\n",
    "    denom = (r**2 + a**2 * sme.cos(theta) ** 2) ** 2\n",
    "\n",
    "    dgkt[1, 0] = M * (a**2 - 2 * r**2 + a**2 * sme.cos(2 * theta)) / denom\n",
    "    dgkt[1, 3] = (\n",
    "        -(2 * a * M * (-(r**2) + a**2 * sme.cos(theta) ** 2) * sme.sin(theta) ** 2)\n",
    "        / denom\n",
    "    )\n",
    "    dgkt[2, 0] = 2 * a**2 * M * r * sme.sin(2 * theta) / denom\n",
    "    dgkt[2, 3] = -2 * a * M * r * (r**2 + a**2) * sme.sin(2 * theta) / denom\n",
    "\n",
    "    dgkp[1, 0] = (\n",
    "        -2 * a * M * (-(r**2) + a**2 * sme.cos(theta) ** 2) * sme.sin(theta) ** 2 / denom\n",
    "    )\n",
    "\n",
    "    dgkp[1, 3] = (\n",
    "        2\n",
    "        * sme.sin(theta) ** 2\n",
    "        * (\n",
    "            sme.cos(theta) ** 2\n",
    "            * (2 * a**2 * r * (a**2 + r**2) + a**4 * (M - r) * sme.sin(theta) ** 2)\n",
    "            + r * (-(a**4) + r**4 + a**2 * (a**2 - M * r) * sme.sin(theta) ** 2)\n",
    "        )\n",
    "        / denom\n",
    "    )\n",
    "\n",
    "    dgkp[2, 0] = -2 * a * M * r * (a**2 + r**2) * sme.sin(2 * theta) / denom\n",
    "    dgkp[2, 3] = (\n",
    "        (\n",
    "            3 * a**6\n",
    "            + 10 * a**4 * M * r\n",
    "            + 11 * a**4 * r**2\n",
    "            + 16 * a**2 * M * r**3\n",
    "            + 16 * a**2 * r**4\n",
    "            + 8 * r**6\n",
    "            + 4\n",
    "            * a**2\n",
    "            * (a**2 + 2 * r**2)\n",
    "            * (a**2 + r * (-2 * M + r))\n",
    "            * sme.cos(2 * theta)\n",
    "            + a**4 * (a**2 - 2 * M * r + r**2) * sme.cos(4 * theta)\n",
    "        )\n",
    "        * sme.sin(2 * theta)\n",
    "        / (8 * denom)\n",
    "    )\n",
    "\n",
    "    return dgkt.T + np.zeros((4, 4)), dgkp.T + np.zeros((4, 4))"
   ]
  },
  {
   "cell_type": "code",
   "execution_count": 183,
   "metadata": {},
   "outputs": [],
   "source": [
    "# @snoop\n",
    "def energy(pvector, Stensor, dgkt):\n",
    "    #! Changed Here\n",
    "    # pvecl = np.einsum(\"ij,j->i\", gk, pvector)\n",
    "    term2 = np.einsum(\"uv,uv->\", dgkt, Stensor) / 2.0\n",
    "    return -pvector[0] + term2"
   ]
  },
  {
   "cell_type": "code",
   "execution_count": 184,
   "metadata": {},
   "outputs": [],
   "source": [
    "def angular_momentum(pvector, Stensor, dgkp):\n",
    "    #! Changed Here\n",
    "    # pvecl = np.einsum(\"ij,j->i\", gk, pvector)\n",
    "    term2 = np.einsum(\"uv,uv->\", dgkp, Stensor) / 2.0\n",
    "    return pvector[3] - term2"
   ]
  },
  {
   "cell_type": "code",
   "execution_count": 185,
   "metadata": {},
   "outputs": [],
   "source": [
    "def calculate_four_momentum(pvector, uvector, svector, cs, dRlluu):\n",
    "    # correction = np.einsum(\n",
    "    #     \"abps,psuv,b,u,v->a\", Riemann, levi_mixed, uvector, svector, pvector\n",
    "    # ) / (2.0 * m)\n",
    "    correction = -np.einsum(\n",
    "        \"uvab,v,a,b->u\", dRlluu, uvector, pvector, svector, optimize=True\n",
    "    )\n",
    "    dp = correction + np.einsum(\"auv,a,u->v\", cs, pvector, uvector)\n",
    "\n",
    "    return dp"
   ]
  },
  {
   "cell_type": "code",
   "execution_count": 186,
   "metadata": {},
   "outputs": [],
   "source": [
    "def calculate_four_spin(pvector, uvector, svector, cs, dRuluu):\n",
    "\n",
    "    # correction= -np.einsum(\"u,abps,psgd,a,b,g,d->u\",pvector,Riemann,svector,uvector,pvector,svector,optimize=True)/2.0\n",
    "    correction = -np.einsum(\n",
    "        \"u,abgd,a,b,g,d->u\",\n",
    "        pvector,\n",
    "        dRuluu,\n",
    "        svector,\n",
    "        uvector,\n",
    "        pvector,\n",
    "        svector,\n",
    "        optimize=True,\n",
    "    )\n",
    "\n",
    "    ds = correction + np.einsum(\"auv,a,u->v\", cs, svector, uvector)\n",
    "\n",
    "    return ds"
   ]
  },
  {
   "cell_type": "code",
   "execution_count": 187,
   "metadata": {},
   "outputs": [],
   "source": [
    "# @snoop\n",
    "def calculate_four_velocity(gk, gkinv, pvector, svector, ddRuuuu,return_N=False):\n",
    "    # scalar_divisor = np.einsum(\"uvps,uv,ps->\", Riemann_cov, Stensor, Stensor) / 4.0\n",
    "\n",
    "    # correction = np.einsum(\n",
    "    #     \"ab,bguv,g,uv->a\", Stensor, Riemann_cov, pvector, Stensor\n",
    "    # ) / (2.0 * (m**2 + scalar_divisor))\n",
    "    correction = -np.einsum(\"uabg,a,b,g->u\", ddRuuuu, svector, pvector, svector)\n",
    "    pvecu = np.einsum(\"ij,j->i\", gkinv, pvector)\n",
    "\n",
    "    dx = pvecu + correction\n",
    "    # Vsq = np.einsum(\"uv,u,v->\", gk, dx, dx)\n",
    "\n",
    "    # Pv = sme.sqrt(-1 / Vsq)\n",
    "    Pv = np.sqrt(\n",
    "        1.0 / (1.0 - gk.dot(correction).dot(correction) + 2.0 * pvector.dot(correction))\n",
    "    )\n",
    "\n",
    "    # Pv = 1.0\n",
    "    dx = dx * Pv\n",
    "\n",
    "    if return_N:\n",
    "        return dx,Pv\n",
    "    return dx"
   ]
  },
  {
   "cell_type": "code",
   "execution_count": 188,
   "metadata": {},
   "outputs": [],
   "source": [
    "# @snoop\n",
    "def MPD(t, y, p):\n",
    "    t, r, theta, phi, pt, pr, ptheta, pphi, st, sr, stheta, sphi = y\n",
    "\n",
    "    a, m, M = p\n",
    "\n",
    "    # xvector=y[:4]\n",
    "    pvector = y[4:8]  #! p_u\n",
    "    svector = y[8:]  #! s_u\n",
    "\n",
    "    gk = cov_metric_tensor(r, theta, a, M)  #! g_{ij}\n",
    "    gkinv = cot_metric_tensor(r, theta, a, M)\n",
    "    cs = kerr_christoffel(r, theta, a, M)  #! G^i_{jk}\n",
    "\n",
    "    Riemann = kerr_riemann_tensor(r, theta, a, M, \"ulll\")  #! R^a_{bcd}\n",
    "\n",
    "    # Riemann_cov = np.einsum(\"ul,lvps->uvps\", gk, Riemann)  #! R_{abcd}\n",
    "    # Riemann_uull = np.einsum(\"ap,upgd->uagd\", gkinv, Riemann)  #! R^{ua}_{gd}\n",
    "\n",
    "    levi = levi_civita_tensor(gk)  #! e^{abcd}\n",
    "    # levi_mixed = np.einsum(\"psxy,xu,yv->psuv\", levi, gk, gk)  #! e^{ps}_{uv}\n",
    "    levi_mixed = np.einsum(\"px,sy,xyuv->psuv\", gk, gk, levi)\n",
    "\n",
    "    dRuluu = 0.5 * np.einsum(\"abps,psuv->abuv\", Riemann, levi)\n",
    "    dRlluu = np.einsum(\"ia,abuv->ibuv\", gk, dRuluu)\n",
    "\n",
    "    ddRuuuu = 0.5 * np.einsum(\"bi,aips,psuv->abuv\", gkinv, dRuluu, levi_mixed)\n",
    "\n",
    "    # stensor = spintensor(levi, pvector=pvector, svector=svector, gk=gk, m=m)  #! S^{uv}\n",
    "\n",
    "    uvector = calculate_four_velocity(\n",
    "        gk=gk, gkinv=gkinv, pvector=pvector, svector=svector, ddRuuuu=ddRuuuu\n",
    "    )  #!dx_mu\n",
    "\n",
    "    dp = calculate_four_momentum(\n",
    "        pvector=pvector, uvector=uvector, svector=svector, cs=cs, dRlluu=dRlluu\n",
    "    )\n",
    "    #!dp_{mu}\n",
    "\n",
    "    ds = calculate_four_spin(\n",
    "        pvector=pvector, uvector=uvector, svector=svector, cs=cs, dRuluu=dRuluu\n",
    "    )\n",
    "    #!ds^{mu}\n",
    "\n",
    "    dy = np.zeros_like(y)\n",
    "\n",
    "    dy[0:4] = uvector\n",
    "    dy[4:8] = dp\n",
    "    dy[8:] = ds\n",
    "\n",
    "    return dy"
   ]
  },
  {
   "cell_type": "code",
   "execution_count": 189,
   "metadata": {},
   "outputs": [],
   "source": [
    "t, r, theta, phi = smp.symbols(\"t r theta phi\")\n",
    "pt,pr,ptheta,pphi=sme.symbols(\"pt pr ptheta pphi\")\n",
    "st, sr, stheta, sphi = sme.symbols(\"st sr stheta sphi\")\n",
    "a,m,M= sme.symbols(\"a m M\")"
   ]
  },
  {
   "cell_type": "code",
   "execution_count": 190,
   "metadata": {},
   "outputs": [],
   "source": [
    "gk= cov_metric_tensor(r, theta,a ,M)"
   ]
  },
  {
   "cell_type": "code",
   "execution_count": 191,
   "metadata": {},
   "outputs": [],
   "source": [
    "# t, r, theta, phi, pt, pr, ptheta, pphi, st, sr, stheta, sphi=[y(i) for i in range(12)]"
   ]
  },
  {
   "cell_type": "code",
   "execution_count": 192,
   "metadata": {},
   "outputs": [],
   "source": [
    "p=np.array([a,m,M])"
   ]
  },
  {
   "cell_type": "code",
   "execution_count": 193,
   "metadata": {},
   "outputs": [],
   "source": [
    "y0=np.array([t,r,theta,phi,pt,pr,ptheta,pphi,st,sr,stheta,sphi])"
   ]
  },
  {
   "cell_type": "code",
   "execution_count": 194,
   "metadata": {},
   "outputs": [],
   "source": [
    "M_ = 1e0\n",
    "m_ = 1e0\n",
    "\n",
    "S = 1e0 * m_ * M_  # 1e0 * m_ * M_\n",
    "E = 0.9328 * m_\n",
    "Jz = 2.8 * m_ * M_\n",
    "\n",
    "r0 = 12.23 * M_\n",
    "theta0 = np.pi / 7.0\n",
    "phi0 = 0.0\n",
    "a0 = 1.0 * M_"
   ]
  },
  {
   "cell_type": "code",
   "execution_count": 195,
   "metadata": {},
   "outputs": [],
   "source": [
    "# v_ = np.sqrt(M_ / r0)\n",
    "# abar = a0 / M_\n",
    "\n",
    "# Epro = (1 - 2 * v_**2 + abar * v_**3) / (np.sqrt(1 - 3 * v_**2 + 2 * abar * v_**3))\n",
    "# Eret = (1 - 2 * v_**2 - abar * v_**3) / (np.sqrt(1 - 3 * v_**2 - 2 * abar * v_**3))\n",
    "\n",
    "# ideg = np.pi / 30\n",
    "# ecc = 0.01\n",
    "# alpha_ip = 1 + np.cos(ideg)\n",
    "# alpha_im = 1 - np.cos(ideg)\n",
    "\n",
    "# E = 0.5 * (alpha_ip * Epro + alpha_im * Eret)\n",
    "# Jz = np.cos(ideg) * np.sqrt((1 - ecc**2) / (2 * (1 - E)))"
   ]
  },
  {
   "cell_type": "code",
   "execution_count": 196,
   "metadata": {},
   "outputs": [],
   "source": [
    "gk = cov_metric_tensor(r=r0, theta=theta0, a=a0, M=M_)\n",
    "gkinv = cot_metric_tensor(r=r0, theta=theta0, a=a0, M=M_)"
   ]
  },
  {
   "cell_type": "code",
   "execution_count": 197,
   "metadata": {},
   "outputs": [],
   "source": [
    "cs = kerr_christoffel(r=r0, theta=theta0, a=a0, M=M_)"
   ]
  },
  {
   "cell_type": "code",
   "execution_count": 198,
   "metadata": {},
   "outputs": [],
   "source": [
    "P1 = 1e-2 * m_"
   ]
  },
  {
   "cell_type": "code",
   "execution_count": 199,
   "metadata": {},
   "outputs": [],
   "source": [
    "S1 = 1e-4 * m_\n",
    "S2 = 1e-4 * m_"
   ]
  },
  {
   "cell_type": "code",
   "execution_count": 200,
   "metadata": {},
   "outputs": [],
   "source": [
    "p0, p2, p3 = sme.symbols(\"p0 p2 p3\", real=True)"
   ]
  },
  {
   "cell_type": "code",
   "execution_count": 201,
   "metadata": {},
   "outputs": [],
   "source": [
    "s0, s3 = sme.symbols(\"s0 s3\", real=True)"
   ]
  },
  {
   "cell_type": "code",
   "execution_count": 202,
   "metadata": {},
   "outputs": [],
   "source": [
    "gpcoordu = np.array([p0, P1, p2, p3])\n",
    "gscoordu = np.array([s0, S1, S2, s3])"
   ]
  },
  {
   "cell_type": "code",
   "execution_count": 203,
   "metadata": {},
   "outputs": [],
   "source": [
    "# Definitions\n",
    "Delta = a0**2 - 2 * M_ * r0 + r0**2\n",
    "Sigma = r0**2 + a0**2 * sme.cos(theta0) ** 2"
   ]
  },
  {
   "cell_type": "code",
   "execution_count": 204,
   "metadata": {},
   "outputs": [],
   "source": [
    "levi = levi_civita_tensor(gk)"
   ]
  },
  {
   "cell_type": "code",
   "execution_count": 205,
   "metadata": {},
   "outputs": [],
   "source": [
    "# Sab = spi(sa=gsi, pb=gpi, gk=eta, epsilon=epsl)\n",
    "Suv = spintensor(levi=levi, pvector=gpcoordu, svector=gscoordu, m=m_)\n",
    "#!Config: uu, In Coordinate Basis"
   ]
  },
  {
   "cell_type": "code",
   "execution_count": 206,
   "metadata": {},
   "outputs": [],
   "source": [
    "dgkt, dgkp = metric_D(r0, theta0, a0, M_)"
   ]
  },
  {
   "cell_type": "code",
   "execution_count": 207,
   "metadata": {},
   "outputs": [],
   "source": [
    "eq210a = energy(gpcoordu, Suv, dgkt) - E"
   ]
  },
  {
   "cell_type": "code",
   "execution_count": 208,
   "metadata": {},
   "outputs": [],
   "source": [
    "eq210b = angular_momentum(gpcoordu, Suv, dgkp) - Jz"
   ]
  },
  {
   "cell_type": "code",
   "execution_count": 209,
   "metadata": {},
   "outputs": [],
   "source": [
    "eq533 = get_norm(T=gpcoordu, g=gkinv) + m_**2"
   ]
  },
  {
   "cell_type": "code",
   "execution_count": 210,
   "metadata": {},
   "outputs": [],
   "source": [
    "eq229 = np.einsum(\"ij,j,i->\", gkinv, gpcoordu, gscoordu) - 0.0"
   ]
  },
  {
   "cell_type": "code",
   "execution_count": 211,
   "metadata": {},
   "outputs": [],
   "source": [
    "eq228 = np.einsum(\"ij,j,i->\", gkinv, gscoordu, gscoordu) - S**2"
   ]
  },
  {
   "cell_type": "code",
   "execution_count": 212,
   "metadata": {},
   "outputs": [],
   "source": [
    "def solve_eq(p_0, p_2, p_3, s_0, s_3):\n",
    "    f = smp.lambdify([p0, p2, p3, s0, s3], [eq210a, eq210b, eq533, eq228, eq229])\n",
    "    return f(p_0, p_2, p_3, s_0, s_3)"
   ]
  },
  {
   "cell_type": "code",
   "execution_count": 213,
   "metadata": {},
   "outputs": [],
   "source": [
    "def solve_eq_sp(p):\n",
    "    f = sme.lambdify([p0, p2, p3, s0, s3], [eq210a, eq210b, eq533, eq228, eq229])\n",
    "    return np.array(f(p[0], p[1], p[2], p[3], p[4]))"
   ]
  },
  {
   "cell_type": "code",
   "execution_count": 214,
   "metadata": {},
   "outputs": [],
   "source": [
    "def jac_nl_symb():\n",
    "    X = smp.Matrix([eq210a, eq210b, eq533, eq228, eq229])\n",
    "    Y = smp.Matrix([p0, p2, p3, s0, s3])\n",
    "\n",
    "    return X.jacobian(Y)"
   ]
  },
  {
   "cell_type": "code",
   "execution_count": 215,
   "metadata": {},
   "outputs": [],
   "source": [
    "jac = jac_nl_symb()"
   ]
  },
  {
   "cell_type": "code",
   "execution_count": 216,
   "metadata": {},
   "outputs": [],
   "source": [
    "def jac_nl(p_0, p_2, p_3, s_0, s_3):\n",
    "    f = smp.lambdify([p0, p2, p3, s0, s3], jac)\n",
    "\n",
    "    return f(p_0, p_2, p_3, s_0, s_3)"
   ]
  },
  {
   "cell_type": "code",
   "execution_count": 217,
   "metadata": {},
   "outputs": [
    {
     "data": {
      "text/plain": [
       "[-0.008516151961313057,\n",
       " -0.24454205497915282,\n",
       " 0.22824767546796887,\n",
       " -0.9999999782175489,\n",
       " -1.764820810652289e-05]"
      ]
     },
     "execution_count": 217,
     "metadata": {},
     "output_type": "execute_result"
    }
   ],
   "source": [
    "solve_eq(-0.924284, -1.33974, 2.55554, 0.0000381344, -0.000652199)"
   ]
  },
  {
   "cell_type": "code",
   "execution_count": 218,
   "metadata": {},
   "outputs": [
    {
     "ename": "ValueError",
     "evalue": "Could not find root within given tolerance. (0.0522611261397916484733 > 1e-19)\nTry another starting point or tweak arguments.",
     "output_type": "error",
     "traceback": [
      "\u001b[0;31m---------------------------------------------------------------------------\u001b[0m",
      "\u001b[0;31mValueError\u001b[0m                                Traceback (most recent call last)",
      "Cell \u001b[0;32mIn[218], line 1\u001b[0m\n\u001b[0;32m----> 1\u001b[0m roots \u001b[38;5;241m=\u001b[39m \u001b[43mmpmath\u001b[49m\u001b[38;5;241;43m.\u001b[39;49m\u001b[43mfindroot\u001b[49m\u001b[43m(\u001b[49m\n\u001b[1;32m      2\u001b[0m \u001b[43m    \u001b[49m\u001b[43msolve_eq\u001b[49m\u001b[43m,\u001b[49m\n\u001b[1;32m      3\u001b[0m \u001b[43m    \u001b[49m\u001b[43m(\u001b[49m\u001b[38;5;241;43m-\u001b[39;49m\u001b[38;5;241;43m0.92\u001b[39;49m\u001b[43m,\u001b[49m\u001b[43m \u001b[49m\u001b[38;5;241;43m-\u001b[39;49m\u001b[38;5;241;43m1.33\u001b[39;49m\u001b[43m,\u001b[49m\u001b[43m \u001b[49m\u001b[38;5;241;43m2.55\u001b[39;49m\u001b[43m,\u001b[49m\u001b[43m \u001b[49m\u001b[38;5;241;43m0.0000038\u001b[39;49m\u001b[43m,\u001b[49m\u001b[43m \u001b[49m\u001b[38;5;241;43m-\u001b[39;49m\u001b[38;5;241;43m0.00065\u001b[39;49m\u001b[43m)\u001b[49m\u001b[43m,\u001b[49m\n\u001b[1;32m      4\u001b[0m \u001b[43m    \u001b[49m\u001b[43msolver\u001b[49m\u001b[38;5;241;43m=\u001b[39;49m\u001b[38;5;124;43m\"\u001b[39;49m\u001b[38;5;124;43mmdnewton\u001b[39;49m\u001b[38;5;124;43m\"\u001b[39;49m\u001b[43m,\u001b[49m\n\u001b[1;32m      5\u001b[0m \u001b[43m    \u001b[49m\u001b[43mtol\u001b[49m\u001b[38;5;241;43m=\u001b[39;49m\u001b[38;5;241;43m1e-19\u001b[39;49m\u001b[43m,\u001b[49m\n\u001b[1;32m      6\u001b[0m \u001b[43m    \u001b[49m\u001b[43mJ\u001b[49m\u001b[38;5;241;43m=\u001b[39;49m\u001b[43mjac_nl\u001b[49m\u001b[43m,\u001b[49m\n\u001b[1;32m      7\u001b[0m \u001b[43m    \u001b[49m\u001b[43mverify\u001b[49m\u001b[38;5;241;43m=\u001b[39;49m\u001b[38;5;28;43;01mTrue\u001b[39;49;00m\u001b[43m,\u001b[49m\n\u001b[1;32m      8\u001b[0m \u001b[43m)\u001b[49m\n",
      "File \u001b[0;32m~/GWProject/gwpython/lib/python3.11/site-packages/mpmath/calculus/optimization.py:985\u001b[0m, in \u001b[0;36mfindroot\u001b[0;34m(ctx, f, x0, solver, tol, verbose, verify, **kwargs)\u001b[0m\n\u001b[1;32m    983\u001b[0m         xl \u001b[38;5;241m=\u001b[39m x\n\u001b[1;32m    984\u001b[0m     \u001b[38;5;28;01mif\u001b[39;00m verify \u001b[38;5;129;01mand\u001b[39;00m norm(f(\u001b[38;5;241m*\u001b[39mxl))\u001b[38;5;241m*\u001b[39m\u001b[38;5;241m*\u001b[39m\u001b[38;5;241m2\u001b[39m \u001b[38;5;241m>\u001b[39m tol: \u001b[38;5;66;03m# TODO: better condition?\u001b[39;00m\n\u001b[0;32m--> 985\u001b[0m         \u001b[38;5;28;01mraise\u001b[39;00m \u001b[38;5;167;01mValueError\u001b[39;00m(\u001b[38;5;124m'\u001b[39m\u001b[38;5;124mCould not find root within given tolerance. \u001b[39m\u001b[38;5;124m'\u001b[39m\n\u001b[1;32m    986\u001b[0m                          \u001b[38;5;124m'\u001b[39m\u001b[38;5;124m(\u001b[39m\u001b[38;5;132;01m%s\u001b[39;00m\u001b[38;5;124m > \u001b[39m\u001b[38;5;132;01m%s\u001b[39;00m\u001b[38;5;124m)\u001b[39m\u001b[38;5;130;01m\\n\u001b[39;00m\u001b[38;5;124m'\u001b[39m\n\u001b[1;32m    987\u001b[0m                          \u001b[38;5;124m'\u001b[39m\u001b[38;5;124mTry another starting point or tweak arguments.\u001b[39m\u001b[38;5;124m'\u001b[39m\n\u001b[1;32m    988\u001b[0m                          \u001b[38;5;241m%\u001b[39m (norm(f(\u001b[38;5;241m*\u001b[39mxl))\u001b[38;5;241m*\u001b[39m\u001b[38;5;241m*\u001b[39m\u001b[38;5;241m2\u001b[39m, tol))\n\u001b[1;32m    989\u001b[0m     \u001b[38;5;28;01mreturn\u001b[39;00m x\n\u001b[1;32m    990\u001b[0m \u001b[38;5;28;01mfinally\u001b[39;00m:\n",
      "\u001b[0;31mValueError\u001b[0m: Could not find root within given tolerance. (0.0522611261397916484733 > 1e-19)\nTry another starting point or tweak arguments."
     ]
    }
   ],
   "source": [
    "roots = mpmath.findroot(\n",
    "    solve_eq,\n",
    "    (-0.92, -1.33, 2.55, 0.0000038, -0.00065),\n",
    "    solver=\"mdnewton\",\n",
    "    tol=1e-19,\n",
    "    J=jac_nl,\n",
    "    verify=True,\n",
    ")"
   ]
  },
  {
   "cell_type": "code",
   "execution_count": null,
   "metadata": {},
   "outputs": [],
   "source": [
    "roots = np.array(roots.tolist(), dtype=np.float64)[:, 0]"
   ]
  },
  {
   "cell_type": "code",
   "execution_count": 58,
   "metadata": {},
   "outputs": [
    {
     "data": {
      "text/plain": [
       "[-1.1102230246251565e-16,\n",
       " -4.440892098500626e-15,\n",
       " 1.8540724511240114e-13,\n",
       " 0.0,\n",
       " 6.979593837022798e-17]"
      ]
     },
     "execution_count": 58,
     "metadata": {},
     "output_type": "execute_result"
    }
   ],
   "source": [
    "solve_eq(*roots)"
   ]
  },
  {
   "cell_type": "code",
   "execution_count": 59,
   "metadata": {},
   "outputs": [],
   "source": [
    "np0, np2, np3, ns0, ns3 = roots"
   ]
  },
  {
   "cell_type": "code",
   "execution_count": 60,
   "metadata": {},
   "outputs": [],
   "source": [
    "ngpcoordu = np.array([np0, P1, np2, np3]).astype(np.float64)\n",
    "ngscoordu = np.array([ns0, S1, S2, ns3]).astype(np.float64)"
   ]
  },
  {
   "cell_type": "code",
   "execution_count": 61,
   "metadata": {},
   "outputs": [],
   "source": [
    "levi_mixed = np.einsum(\"px,sy,xyuv->psuv\", gk, gk, levi)"
   ]
  },
  {
   "cell_type": "code",
   "execution_count": 62,
   "metadata": {},
   "outputs": [],
   "source": [
    "rulll = kerr_riemann_tensor(r=r0, theta=theta0, a=a0, M=M_, config=\"ulll\")"
   ]
  },
  {
   "cell_type": "code",
   "execution_count": 63,
   "metadata": {},
   "outputs": [],
   "source": [
    "dRuluu = 0.5 * np.einsum(\"abps,psuv->abuv\", rulll, levi)\n",
    "ddRuuuu = 0.5 * np.einsum(\"bi,aips,psuv->abuv\", gkinv, dRuluu, levi_mixed)"
   ]
  },
  {
   "cell_type": "code",
   "execution_count": 64,
   "metadata": {},
   "outputs": [],
   "source": [
    "dRlluu = np.einsum(\"ia,abuv->ibuv\", gk, dRuluu)"
   ]
  },
  {
   "cell_type": "code",
   "execution_count": 65,
   "metadata": {},
   "outputs": [],
   "source": [
    "vmu0 = calculate_four_velocity(\n",
    "    gk=gk, gkinv=gkinv, pvector=ngpcoordu, svector=ngscoordu, ddRuuuu=ddRuuuu\n",
    ")"
   ]
  },
  {
   "cell_type": "code",
   "execution_count": 66,
   "metadata": {},
   "outputs": [],
   "source": [
    "#!We pass r0^mu,p^mu and S^mu\n",
    "Vy0 = np.array(\n",
    "    [\n",
    "        0.0,\n",
    "        r0,\n",
    "        theta0,\n",
    "        phi0,\n",
    "        ngpcoordu[0],\n",
    "        ngpcoordu[1],\n",
    "        ngpcoordu[2],\n",
    "        ngpcoordu[3],\n",
    "        ngscoordu[0],\n",
    "        ngscoordu[1],\n",
    "        ngscoordu[2],\n",
    "        ngscoordu[3],\n",
    "    ]\n",
    ").astype(np.float64)"
   ]
  },
  {
   "cell_type": "code",
   "execution_count": 67,
   "metadata": {},
   "outputs": [],
   "source": [
    "f=MPD(0.,y0,p)"
   ]
  },
  {
   "cell_type": "code",
   "execution_count": 129,
   "metadata": {},
   "outputs": [],
   "source": [
    "Vy0 = np.array([\n",
    "    161.52164841145472,\n",
    "    6.087951858542188,\n",
    "    1.1298042147358822,\n",
    "    9.282392215837014,\n",
    "    -0.9344438982449085,\n",
    "    -0.02439080056116108,\n",
    "    -0.5953280361905549,\n",
    "    2.6946583071136145,\n",
    "    0.07919493360681484,\n",
    "    -1.0656437568406378,\n",
    "    -2.252369195025744,\n",
    "    -1.6755780805836944,\n",
    "])"
   ]
  },
  {
   "cell_type": "code",
   "execution_count": 130,
   "metadata": {},
   "outputs": [
    {
     "data": {
      "text/plain": [
       "[161.52164841145472,\n",
       " 6.087951858542188,\n",
       " 1.1298042147358822,\n",
       " 9.282392215837014,\n",
       " -0.9344438982449085,\n",
       " -0.02439080056116108,\n",
       " -0.5953280361905549,\n",
       " 2.6946583071136145,\n",
       " 0.07919493360681484,\n",
       " -1.0656437568406378,\n",
       " -2.252369195025744,\n",
       " -1.6755780805836944]"
      ]
     },
     "execution_count": 130,
     "metadata": {},
     "output_type": "execute_result"
    }
   ],
   "source": [
    "Vy0.tolist()"
   ]
  },
  {
   "cell_type": "code",
   "execution_count": 133,
   "metadata": {},
   "outputs": [],
   "source": [
    "Vp=[a0,m_,M_]"
   ]
  },
  {
   "cell_type": "code",
   "execution_count": 134,
   "metadata": {},
   "outputs": [],
   "source": [
    "Vp=[2.3,1.0,1.0]"
   ]
  },
  {
   "cell_type": "code",
   "execution_count": 135,
   "metadata": {},
   "outputs": [],
   "source": [
    "Vf = [\n",
    "    f[i].subs(\n",
    "        {\n",
    "            t: Vy0[0],\n",
    "            r: Vy0[1],\n",
    "            theta: Vy0[2],\n",
    "            phi: Vy0[3],\n",
    "            pt: Vy0[4],\n",
    "            pr: Vy0[5],\n",
    "            ptheta: Vy0[6],\n",
    "            pphi: Vy0[7],\n",
    "            st: Vy0[8],\n",
    "            sr: Vy0[9],\n",
    "            stheta: Vy0[10],\n",
    "            sphi: Vy0[11],\n",
    "            a: Vp[0],\n",
    "            M: Vp[2],\n",
    "        }\n",
    "    )\n",
    "    for i in range(len(f))\n",
    "]"
   ]
  },
  {
   "cell_type": "code",
   "execution_count": 136,
   "metadata": {},
   "outputs": [
    {
     "data": {
      "text/plain": [
       "array([0.182521947203695, -0.0283346153194189, -0.0136761490615742,\n",
       "       0.0987802313399659, 0.000615152970256947, 0.0212974582448888,\n",
       "       0.0938586059634684, -0.0090181948878729, -0.0232281133033001,\n",
       "       -0.0147123550974135, 1.29009125384342, -2.941477898723],\n",
       "      dtype=object)"
      ]
     },
     "execution_count": 136,
     "metadata": {},
     "output_type": "execute_result"
    }
   ],
   "source": [
    "np.array(Vf) - np.array(\n",
    "    [\n",
    "        1.1493191511726109,\n",
    "        0.008389561579624175,\n",
    "        -0.002139050568792576,\n",
    "        0.0009599428852153357,\n",
    "        9.825088322941853e-07,\n",
    "        -4.626315209536312e-05,\n",
    "        0.006661267438494629,\n",
    "        -0.0008534236380036949,\n",
    "        -0.000460614618953672,\n",
    "        -0.004912052433092574,\n",
    "        -1.429528824926082,\n",
    "        3.49938296849447,\n",
    "    ]\n",
    ")"
   ]
  },
  {
   "cell_type": "code",
   "execution_count": 137,
   "metadata": {},
   "outputs": [],
   "source": [
    "jacob = np.array([sme.Derivative(f[i], j) for i in range(len(f)) for j in y0])"
   ]
  },
  {
   "cell_type": "code",
   "execution_count": 138,
   "metadata": {},
   "outputs": [],
   "source": [
    "jacobr=jacob.reshape((12,12))"
   ]
  },
  {
   "cell_type": "code",
   "execution_count": 139,
   "metadata": {},
   "outputs": [],
   "source": [
    "Vjacob = [jacob[i].subs(\n",
    "    {\n",
    "        t: Vy0[0],\n",
    "        r: Vy0[1],\n",
    "        theta: Vy0[2],\n",
    "        phi: Vy0[3],\n",
    "        pt: Vy0[4],\n",
    "        pr: Vy0[5],\n",
    "        ptheta: Vy0[6],\n",
    "        pphi: Vy0[7],\n",
    "        st: Vy0[8],\n",
    "        sr: Vy0[9],\n",
    "        stheta: Vy0[10],\n",
    "        sphi: Vy0[11],\n",
    "        a: Vp[0],\n",
    "        M: Vp[2],\n",
    "    }\n",
    ") for i in range(len(jacob))]"
   ]
  },
  {
   "cell_type": "code",
   "execution_count": 140,
   "metadata": {},
   "outputs": [],
   "source": [
    "Vjacobr= np.array(Vjacob).reshape((12,12)).astype(float)"
   ]
  },
  {
   "cell_type": "code",
   "execution_count": 141,
   "metadata": {},
   "outputs": [],
   "source": [
    "Njacob = np.array([[0.0, -0.0793013149681327, -0.1175359542863243, 0.0, 0.3354670959189461, -0.02695770261176843, -0.021636733703851486, 0.1113078811952205, -0.000773158215306346, 0.0034399857748643042, 0.0003715680550306961, 1.1692344296064798e-05], [0.0, 0.0002131886063202003, -0.00014789052367737828, 0.0, -0.02703972296947422, 0.8153798773430057, 0.0005168378030457405, -0.0018821117770278192, 0.00851051077959747, -0.00023093380241584856, 4.84105446379068e-05, 0.0003714853285848786], [0.0, 0.005151258342561303, -0.0002367425656815993, 0.0, -0.0221364383538638, 0.000523347189021454, 0.027203227292384786, -0.0016616767320330225, -0.0005211311064213517, -0.000562906169279756, 1.294367177323131e-05, -0.00015033040721061232], [0.0, -0.03320230744318949, -0.08437637610622961, 0.0, 0.11205367389852841, -0.001887138015358201, -0.001633110435037038, 0.038479686400883596, -0.0003058969696384695, 0.0010764066352929042, 0.00013297100191735135, -2.5233354115699817e-05], [0.0, -0.0005086434931642118, -0.0002578891069778569, 0.0, -3.47284206382897e-05, -0.0019290869635158695, -0.0005253367245770384, 8.308439766318437e-05, -0.0007891579932688931, -0.0003811532353580082, 2.8170307127694638e-05, -0.00019117186360334039], [0.0, -0.016057777875390627, -0.04380075979752405, 0.0, 0.07451251378368817, -1.705371828459794e-05, -0.0049416250506657084, 0.032633694156273034, 0.0004364834628560198, -0.003499264197705824, 0.0004114666483934599, 0.00022768220265605786], [0.0, -0.029219852029771228, -0.36562663276101887, 0.0, 0.1003588166762618, -0.0002738021460555228, 0.00022323342351569206, 0.0721522931605123, -0.002923250665169114, 0.011589000498106563, 0.002220362687570782, -0.00011219957303303766], [0.0, 0.005407180026288976, -0.0024975978550598535, 0.0, 0.002530428507053269, 0.0019421737321682273, 0.011446057725962622, -0.00023956462514524107, 0.010715502653126973, 0.0055361116997694765, 9.429701258249351e-05, 0.0024335114064995738], [0.0, 0.007505301305377239, -0.00815598665316494, 0.0, -0.011945740323102215, 0.00016695638928718705, 0.0016451515208472422, -0.002891184069629858, 0.0007833744167822079, 0.017896864518605157, 0.0010119559442190872, 0.0006552310330481673], [0.0, 0.009519114356396192, 0.022488149179480048, 0.0, -0.020456445986824816, 0.0031479791366357196, -0.007828843634290216, -0.00877180150224319, 0.02827764740356504, 0.000807074141816548, -0.002582430043488541, 0.015923812828064397], [0.0, 0.030386321945952872, 0.22326947592483037, 0.0, -0.1991284929905596, -0.24344381014898436, 0.14349196249471186, -0.038990389292097055, -0.023989883229253026, 0.07074528822115805, -0.0018916585109329258, 0.03608490250890602], [0.0, -0.10795372593203423, -0.08371053097622404, 0.0, 0.6282371913124023, -0.20531834764795925, -0.03374465929256458, 0.20598825836127105, -0.003471655155824728, -0.41696023670234855, -0.03635528497559072, -0.012087349144343243]])"
   ]
  },
  {
   "cell_type": "code",
   "execution_count": 150,
   "metadata": {},
   "outputs": [
    {
     "data": {
      "text/plain": [
       "2.220446049250313e-16"
      ]
     },
     "execution_count": 150,
     "metadata": {},
     "output_type": "execute_result"
    }
   ],
   "source": [
    "np.abs(Vjacobr - Njacob).max()"
   ]
  },
  {
   "cell_type": "code",
   "execution_count": 148,
   "metadata": {},
   "outputs": [
    {
     "name": "stdout",
     "output_type": "stream",
     "text": [
      "[[-1.00000000e-16 -7.22444244e-17  1.10223025e-17 -1.00000000e-16\n",
      "  -1.00000000e-16 -9.30611061e-17 -1.13877788e-16 -1.55511151e-16\n",
      "  -1.00433681e-16 -1.10408341e-16 -9.98915798e-17 -9.98373697e-17]\n",
      " [-1.00000000e-16 -9.80755411e-17 -1.00000000e-16 -1.00000000e-16\n",
      "  -9.30611061e-17 -1.00000000e-16 -1.00000000e-16 -9.95663191e-17\n",
      "  -9.82652765e-17 -9.98644747e-17 -1.00013553e-16 -1.00162630e-16]\n",
      " [-1.00000000e-16 -9.82652765e-17 -9.91326383e-17 -1.00000000e-16\n",
      "  -9.65305530e-17 -1.00108420e-16 -1.00000000e-16 -9.93494787e-17\n",
      "  -9.92410585e-17 -9.97831596e-17 -1.00015247e-16 -9.99186848e-17]\n",
      " [-1.00000000e-16 -1.13877788e-16 -1.13877788e-16 -1.00000000e-16\n",
      "  -1.00000000e-16 -9.91326383e-17 -1.00650521e-16 -1.06938894e-16\n",
      "  -1.00054210e-16 -1.01517883e-16 -9.99728949e-17 -9.99830593e-17]\n",
      " [-1.00000000e-16 -1.00000000e-16 -1.00216840e-16 -1.00000000e-16\n",
      "  -1.00189735e-16 -9.93494787e-17 -9.96747393e-17 -1.00027105e-16\n",
      "  -9.96747393e-17 -9.97831596e-17 -1.00003388e-16 -9.98915798e-17]\n",
      " [-1.00000000e-16 -1.24286129e-16 -7.22444244e-17 -1.00000000e-16\n",
      "  -1.13877788e-16 -1.01314595e-16 -1.01734723e-16 -1.00000000e-16\n",
      "  -9.98915798e-17 -1.02602085e-16 -1.00379471e-16 -1.00054210e-16]\n",
      " [-1.00000000e-16 -8.26527652e-17  1.22044605e-16 -1.00000000e-16\n",
      "  -1.13877788e-16 -7.26781053e-17 -9.96205292e-17 -1.13877788e-16\n",
      "  -1.01734723e-16 -1.03469447e-16 -9.91326383e-17 -9.98373697e-17]\n",
      " [-1.00000000e-16 -1.14745150e-16 -1.20383001e-16 -1.00000000e-16\n",
      "  -1.07372575e-16  4.41988889e-17 -8.95916591e-17 -1.02927346e-16\n",
      "  -1.01734723e-16 -1.00867362e-16 -9.99051323e-17 -1.01301043e-16]\n",
      " [-1.00000000e-16 -1.02602085e-16 -1.01734723e-16 -1.00000000e-16\n",
      "  -1.05204170e-16 -9.91597433e-17 -1.00000000e-16 -9.91326383e-17\n",
      "  -1.00433681e-16 -1.00000000e-16 -1.00867362e-16 -1.00000000e-16]\n",
      " [-1.00000000e-16 -1.00000000e-16 -1.13877788e-16 -1.00000000e-16\n",
      "  -1.00000000e-16 -1.27321895e-16 -1.03469447e-16 -9.82652765e-17\n",
      "  -9.65305530e-17 -1.00325261e-16 -1.00000000e-16 -1.03469447e-16]\n",
      " [-1.00000000e-16 -1.00000000e-16 -1.27755576e-16 -1.00000000e-16\n",
      "  -1.55511151e-16 -1.00000000e-16 -7.22444244e-17 -1.00000000e-16\n",
      "  -9.30611061e-17 -7.22444244e-17 -1.00867362e-16 -1.00000000e-16]\n",
      " [-1.00000000e-16 -7.22444244e-17 -1.55511151e-16 -1.00000000e-16\n",
      "  -3.22044605e-16 -1.00000000e-16 -1.06938894e-16 -2.11022302e-16\n",
      "  -1.00000000e-16  6.65334537e-17 -8.61222122e-17 -1.00000000e-16]]\n"
     ]
    }
   ],
   "source": [
    "print((Vjacobr-Njacob)-1e-16)"
   ]
  },
  {
   "cell_type": "code",
   "execution_count": 88,
   "metadata": {},
   "outputs": [],
   "source": [
    "gk = cov_metric_tensor(r, theta, a, M)  #! g_{ij}\n",
    "gkinv = cot_metric_tensor(r, theta, a, M)\n",
    "cs = kerr_christoffel(r, theta, a, M)  #! G^i_{jk}\n",
    "\n",
    "Riemann = kerr_riemann_tensor(r, theta, a, M, \"ulll\")  #! R^a_{bcd}\n",
    "\n",
    "# Riemann_cov = np.einsum(\"ul,lvps->uvps\", gk, Riemann)  #! R_{abcd}\n",
    "# Riemann_uull = np.einsum(\"ap,upgd->uagd\", gkinv, Riemann)  #! R^{ua}_{gd}\n",
    "\n",
    "levi = levi_civita_tensor(gk)  #! e^{abcd}\n",
    "# levi_mixed = np.einsum(\"psxy,xu,yv->psuv\", levi, gk, gk)  #! e^{ps}_{uv}\n",
    "levi_mixed = np.einsum(\"px,sy,xyuv->psuv\", gk, gk, levi)  #! e_{ps}^{uv}\n",
    "\n",
    "dRuluu = 0.5 * np.einsum(\"abps,psuv->abuv\", Riemann, levi) #!R*^a_{buv}\n",
    "dRlluu = np.einsum(\"ia,abuv->ibuv\", gk, dRuluu)  #!R*^_{ab}^{uv}\n",
    "\n",
    "ddRuuuu = 0.5 * np.einsum(\"bi,aips,psuv->abuv\", gkinv, dRuluu, levi_mixed) #! *R*^{abuv}\n"
   ]
  },
  {
   "cell_type": "code",
   "execution_count": 89,
   "metadata": {},
   "outputs": [],
   "source": [
    "DdRuluu= np.zeros((4,4,4,4,4),object)\n",
    "VDdRuluu= np.zeros((4,4,4,4,4))"
   ]
  },
  {
   "cell_type": "code",
   "execution_count": 90,
   "metadata": {},
   "outputs": [],
   "source": [
    "vari=[t,r,theta,phi]"
   ]
  },
  {
   "cell_type": "code",
   "execution_count": 109,
   "metadata": {},
   "outputs": [],
   "source": [
    "Vy0 = [\n",
    "    161.52164841145472,\n",
    "    6.087951858542188,\n",
    "    1.1298042147358822,\n",
    "    9.282392215837014,\n",
    "    -0.9344438982449085,\n",
    "    -0.02439080056116108,\n",
    "    -0.5953280361905549,\n",
    "    2.6946583071136145,\n",
    "    0.07919493360681484,\n",
    "    -1.0656437568406378,\n",
    "    -2.252369195025744,\n",
    "    -1.6755780805836944,\n",
    "]"
   ]
  },
  {
   "cell_type": "code",
   "execution_count": 112,
   "metadata": {},
   "outputs": [],
   "source": [
    "Vp=[2.3,1.0,1.0]"
   ]
  },
  {
   "cell_type": "code",
   "execution_count": 113,
   "metadata": {},
   "outputs": [],
   "source": [
    "for x_ in range(4):\n",
    "    for i in range(4):\n",
    "        for j in range(4):\n",
    "            for k in range(4):\n",
    "                for l in range(4):\n",
    "                    if dRuluu[i,j,k,l]!=0:\n",
    "                        DdRuluu[i,j,k,l,x_]= dRuluu[i,j,k,l].diff(vari[x_])\n",
    "                        VDdRuluu[i,j,k,l,x_]= DdRuluu[i,j,k,l,x_].subs(\n",
    "                                                {\n",
    "                                                    t: Vy0[0],\n",
    "                                                    r: Vy0[1],\n",
    "                                                    theta: Vy0[2],\n",
    "                                                    phi: Vy0[3],\n",
    "                                                    pt: Vy0[4],\n",
    "                                                    pr: Vy0[5],\n",
    "                                                    ptheta: Vy0[6],\n",
    "                                                    pphi: Vy0[7],\n",
    "                                                    st: Vy0[8],\n",
    "                                                    sr: Vy0[9],\n",
    "                                                    stheta: Vy0[10],\n",
    "                                                    sphi: Vy0[11],\n",
    "                                                    a: Vp[0],\n",
    "                                                    M: Vp[2],\n",
    "                                                }\n",
    "                                            ) "
   ]
  },
  {
   "cell_type": "code",
   "execution_count": 114,
   "metadata": {},
   "outputs": [
    {
     "data": {
      "text/plain": [
       "1.3877787807814457e-17"
      ]
     },
     "execution_count": 114,
     "metadata": {},
     "output_type": "execute_result"
    }
   ],
   "source": [
    "(VDdRuluu-np.array([[[[[0.0, 0.0, 0.0, 0.0], [0.0, 0.0, 0.0, 0.0], [0.0, 0.0, 0.0, 0.0], [0.0, 5.389811557453544e-05, 7.933751014322442e-05, 0.0]], [[0.0, 0.0, 0.0, 0.0], [0.0, 0.0, 0.0, 0.0], [0.0, -6.07005303971133e-05, 9.060748040809436e-05, 0.0], [0.0, 0.0, 0.0, 0.0]], [[0.0, 0.0, 0.0, 0.0], [0.0, 6.07005303971133e-05, -9.060748040809436e-05, 0.0], [0.0, 0.0, 0.0, 0.0], [0.0, 0.0, 0.0, 0.0]], [[0.0, -5.389811557453544e-05, -7.933751014322442e-05, 0.0], [0.0, 0.0, 0.0, 0.0], [0.0, 0.0, 0.0, 0.0], [0.0, 0.0, 0.0, 0.0]]], [[[0.0, 0.0, 0.0, 0.0], [0.0, 0.004590497397524643, 0.010322203582491071, 0.0], [0.0, 0.0007056558415110554, -0.0010978955967828425, 0.0], [0.0, 0.0, 0.0, 0.0]], [[0.0, -0.004590497397524643, -0.010322203582491071, 0.0], [0.0, 0.0, 0.0, 0.0], [0.0, 0.0, 0.0, 0.0], [0.0, -0.0004467920003181481, -0.0007485749390263579, 0.0]], [[0.0, -0.0007056558415110554, 0.0010978955967828425, 0.0], [0.0, 0.0, 0.0, 0.0], [0.0, 0.0, 0.0, 0.0], [0.0, -0.00026741208183677896, 0.00011749205475456229, 0.0]], [[0.0, 0.0, 0.0, 0.0], [0.0, 0.0004467920003181481, 0.0007485749390263579, 0.0], [0.0, 0.00026741208183677896, -0.00011749205475456229, 0.0], [0.0, 0.0, 0.0, 0.0]]], [[[0.0, 0.0, 0.0, 0.0], [0.0, 0.012428749797049691, -0.03313147441568294, 0.0], [0.0, -0.0026140680597889323, -0.005398882542940062, 0.0], [0.0, 0.0, 0.0, 0.0]], [[0.0, -0.012428749797049691, 0.03313147441568294, 0.0], [0.0, 0.0, 0.0, 0.0], [0.0, 0.0, 0.0, 0.0], [0.0, -0.0029261679766275843, 0.002672400756743029, 0.0]], [[0.0, 0.0026140680597889323, 0.005398882542940062, 0.0], [0.0, 0.0, 0.0, 0.0], [0.0, 0.0, 0.0, 0.0], [0.0, 0.00039289388474361274, 0.0006692374288831335, 0.0]], [[0.0, 0.0, 0.0, 0.0], [0.0, 0.0029261679766275843, -0.002672400756743029, 0.0], [0.0, -0.00039289388474361274, -0.0006692374288831335, 0.0], [0.0, 0.0, 0.0, 0.0]]], [[[0.0, 0.0, 0.0, 0.0], [0.0, 0.0, 0.0, 0.0], [0.0, 0.0, 0.0, 0.0], [0.0, -0.0019764293377357114, -0.004923321039551012, 0.0]], [[0.0, 0.0, 0.0, 0.0], [0.0, 0.0, 0.0, 0.0], [0.0, 0.0019154435782326841, -0.00508974006483269, 0.0], [0.0, 0.0, 0.0, 0.0]], [[0.0, 0.0, 0.0, 0.0], [0.0, -0.0019154435782326841, 0.00508974006483269, 0.0], [0.0, 0.0, 0.0, 0.0], [0.0, 0.0, 0.0, 0.0]], [[0.0, 0.0019764293377357114, 0.004923321039551012, 0.0], [0.0, 0.0, 0.0, 0.0], [0.0, 0.0, 0.0, 0.0], [0.0, 0.0, 0.0, 0.0]]]], [[[[0.0, 0.0, 0.0, 0.0], [0.0, 0.0024089550237554364, 0.00548002539976934, 0.0], [0.0, 0.00042682710898192126, -0.0007643032547457699, 0.0], [0.0, 0.0, 0.0, 0.0]], [[0.0, -0.0024089550237554364, -0.00548002539976934, 0.0], [0.0, 0.0, 0.0, 0.0], [0.0, 0.0, 0.0, 0.0], [0.0, -0.000264197935874919, -0.00043769845316094555, 0.0]], [[0.0, -0.00042682710898192126, 0.0007643032547457699, 0.0], [0.0, 0.0, 0.0, 0.0], [0.0, 0.0, 0.0, 0.0], [0.0, -0.00014328765092592075, 9.106426292381932e-05, 0.0]], [[0.0, 0.0, 0.0, 0.0], [0.0, 0.000264197935874919, 0.00043769845316094555, 0.0], [0.0, 0.00014328765092592075, -9.106426292381932e-05, 0.0], [0.0, 0.0, 0.0, 0.0]]], [[[0.0, 0.0, 0.0, 0.0], [0.0, 0.0, 0.0, 0.0], [0.0, 0.0, 0.0, 0.0], [0.0, 0.0, 0.0, 0.0]], [[0.0, 0.0, 0.0, 0.0], [0.0, 0.0, 0.0, 0.0], [0.0, 0.0, 0.0, 0.0], [0.0, 0.0, 0.0, 0.0]], [[0.0, 0.0, 0.0, 0.0], [0.0, 0.0, 0.0, 0.0], [0.0, 0.0, 0.0, 0.0], [0.0, 0.0, 0.0, 0.0]], [[0.0, 0.0, 0.0, 0.0], [0.0, 0.0, 0.0, 0.0], [0.0, 0.0, 0.0, 0.0], [0.0, 0.0, 0.0, 0.0]]], [[[0.0, 0.0, 0.0, 0.0], [0.0, 0.0, 0.0, 0.0], [0.0, 0.0, 0.0, 0.0], [0.0, 0.001840741086560821, -0.0008731868360604324, 0.0]], [[0.0, 0.0, 0.0, 0.0], [0.0, 0.0, 0.0, 0.0], [0.0, 0.0009560041539161922, 0.002579936195672379, 0.0], [0.0, 0.0, 0.0, 0.0]], [[0.0, 0.0, 0.0, 0.0], [0.0, -0.0009560041539161922, -0.002579936195672379, 0.0], [0.0, 0.0, 0.0, 0.0], [0.0, 0.0, 0.0, 0.0]], [[0.0, -0.001840741086560821, 0.0008731868360604324, 0.0], [0.0, 0.0, 0.0, 0.0], [0.0, 0.0, 0.0, 0.0], [0.0, 0.0, 0.0, 0.0]]], [[[0.0, 0.0, 0.0, 0.0], [0.0, -0.006329365924155957, -0.005895430824422893, 0.0], [0.0, -0.0026041143668114543, 0.007231686051490218, 0.0], [0.0, 0.0, 0.0, 0.0]], [[0.0, 0.006329365924155957, 0.005895430824422893, 0.0], [0.0, 0.0, 0.0, 0.0], [0.0, 0.0, 0.0, 0.0], [0.0, 0.001452950869839245, 0.0029000892040969605, 0.0]], [[0.0, 0.0026041143668114543, -0.007231686051490218, 0.0], [0.0, 0.0, 0.0, 0.0], [0.0, 0.0, 0.0, 0.0], [0.0, 0.0004268271089819213, -0.0007643032547457699, 0.0]], [[0.0, 0.0, 0.0, 0.0], [0.0, -0.001452950869839245, -0.0029000892040969605, 0.0], [0.0, -0.0004268271089819213, 0.0007643032547457699, 0.0], [0.0, 0.0, 0.0, 0.0]]]], [[[[0.0, 0.0, 0.0, 0.0], [0.0, 0.0004875276393790347, -0.0008549107351538644, 0.0], [0.0, -7.155319013552367e-05, -9.610182533706838e-05, 0.0], [0.0, 0.0, 0.0, 0.0]], [[0.0, -0.0004875276393790347, 0.0008549107351538644, 0.0], [0.0, 0.0, 0.0, 0.0], [0.0, 0.0, 0.0, 0.0], [0.0, -9.19268954298736e-05, 7.120544612267795e-05, 0.0]], [[0.0, 7.155319013552367e-05, 9.610182533706838e-05, 0.0], [0.0, 0.0, 0.0, 0.0], [0.0, 0.0, 0.0, 0.0], [0.0, 1.1921213055008794e-05, 1.4504250502555179e-05, 0.0]], [[0.0, 0.0, 0.0, 0.0], [0.0, 9.19268954298736e-05, -7.120544612267795e-05, 0.0], [0.0, -1.1921213055008794e-05, -1.4504250502555179e-05, 0.0], [0.0, 0.0, 0.0, 0.0]]], [[[0.0, 0.0, 0.0, 0.0], [0.0, 0.0, 0.0, 0.0], [0.0, 0.0, 0.0, 0.0], [0.0, -0.00010774447075057532, 2.8935264710878678e-05, 0.0]], [[0.0, 0.0, 0.0, 0.0], [0.0, 0.0, 0.0, 0.0], [0.0, -4.912982161870688e-05, -8.549274184636364e-05, 0.0], [0.0, 0.0, 0.0, 0.0]], [[0.0, 0.0, 0.0, 0.0], [0.0, 4.912982161870688e-05, 8.549274184636364e-05, 0.0], [0.0, 0.0, 0.0, 0.0], [0.0, 0.0, 0.0, 0.0]], [[0.0, 0.00010774447075057532, -2.8935264710878678e-05, 0.0], [0.0, 0.0, 0.0, 0.0], [0.0, 0.0, 0.0, 0.0], [0.0, 0.0, 0.0, 0.0]]], [[[0.0, 0.0, 0.0, 0.0], [0.0, 0.0, 0.0, 0.0], [0.0, 0.0, 0.0, 0.0], [0.0, 0.0, 0.0, 0.0]], [[0.0, 0.0, 0.0, 0.0], [0.0, 0.0, 0.0, 0.0], [0.0, 0.0, 0.0, 0.0], [0.0, 0.0, 0.0, 0.0]], [[0.0, 0.0, 0.0, 0.0], [0.0, 0.0, 0.0, 0.0], [0.0, 0.0, 0.0, 0.0], [0.0, 0.0, 0.0, 0.0]], [[0.0, 0.0, 0.0, 0.0], [0.0, 0.0, 0.0, 0.0], [0.0, 0.0, 0.0, 0.0], [0.0, 0.0, 0.0, 0.0]]], [[[0.0, 0.0, 0.0, 0.0], [0.0, -0.00451955794504414, 0.012321426116322904, 0.0], [0.0, 0.0003194117682517481, 0.0001953600815364835, 0.0], [0.0, 0.0, 0.0, 0.0]], [[0.0, 0.00451955794504414, -0.012321426116322904, 0.0], [0.0, 0.0, 0.0, 0.0], [0.0, 0.0, 0.0, 0.0], [0.0, 0.0004875276393790347, -0.0008549107351538644, 0.0]], [[0.0, -0.0003194117682517481, -0.0001953600815364835, 0.0], [0.0, 0.0, 0.0, 0.0], [0.0, 0.0, 0.0, 0.0], [0.0, -0.00012068301175423053, -0.00018159456718343207, 0.0]], [[0.0, 0.0, 0.0, 0.0], [0.0, -0.0004875276393790347, 0.0008549107351538644, 0.0], [0.0, 0.00012068301175423053, 0.00018159456718343207, 0.0], [0.0, 0.0, 0.0, 0.0]]]], [[[[0.0, 0.0, 0.0, 0.0], [0.0, 0.0, 0.0, 0.0], [0.0, 0.0, 0.0, 0.0], [0.0, -4.8403522855625505e-05, -0.00014928571817829117, 0.0]], [[0.0, 0.0, 0.0, 0.0], [0.0, 0.0, 0.0, 0.0], [0.0, 5.136075549604711e-05, -1.985881680114134e-05, 0.0], [0.0, 0.0, 0.0, 0.0]], [[0.0, 0.0, 0.0, 0.0], [0.0, -5.136075549604711e-05, 1.985881680114134e-05, 0.0], [0.0, 0.0, 0.0, 0.0], [0.0, 0.0, 0.0, 0.0]], [[0.0, 4.8403522855625505e-05, 0.00014928571817829117, 0.0], [0.0, 0.0, 0.0, 0.0], [0.0, 0.0, 0.0, 0.0], [0.0, 0.0, 0.0, 0.0]]], [[[0.0, 0.0, 0.0, 0.0], [0.0, 0.0004467920003181481, 0.0007485749390263579, 0.0], [0.0, 0.00015966761108620367, -8.855679004368356e-05, 0.0], [0.0, 0.0, 0.0, 0.0]], [[0.0, -0.0004467920003181481, -0.0007485749390263579, 0.0], [0.0, 0.0, 0.0, 0.0], [0.0, 0.0, 0.0, 0.0], [0.0, -8.341747256219e-05, -0.00019424573368992298, 0.0]], [[0.0, -0.00015966761108620367, 8.855679004368356e-05, 0.0], [0.0, 0.0, 0.0, 0.0], [0.0, 0.0, 0.0, 0.0], [0.0, -2.7604542018828537e-05, 7.951776254960512e-06, 0.0]], [[0.0, 0.0, 0.0, 0.0], [0.0, 8.341747256219e-05, 0.00019424573368992298, 0.0], [0.0, 2.7604542018828537e-05, -7.951776254960512e-06, 0.0], [0.0, 0.0, 0.0, 0.0]]], [[[0.0, 0.0, 0.0, 0.0], [0.0, 0.004766909063188406, -0.003545587592803463, 0.0], [0.0, -0.00039289388474361274, -0.0006692374288831335, 0.0], [0.0, 0.0, 0.0, 0.0]], [[0.0, -0.004766909063188406, 0.003545587592803463, 0.0], [0.0, 0.0, 0.0, 0.0], [0.0, 0.0, 0.0, 0.0], [0.0, -0.0005770589375283738, 0.0002399627727103172, 0.0]], [[0.0, 0.00039289388474361274, 0.0006692374288831335, 0.0], [0.0, 0.0, 0.0, 0.0], [0.0, 0.0, 0.0, 0.0], [0.0, 0.0001318209954178155, 0.0003435314518682142, 0.0]], [[0.0, 0.0, 0.0, 0.0], [0.0, 0.0005770589375283738, -0.0002399627727103172, 0.0], [0.0, -0.0001318209954178155, -0.0003435314518682142, 0.0], [0.0, 0.0, 0.0, 0.0]]], [[[0.0, 0.0, 0.0, 0.0], [0.0, 0.0, 0.0, 0.0], [0.0, 0.0, 0.0, 0.0], [0.0, -5.389811557453544e-05, -7.933751014322442e-05, 0.0]], [[0.0, 0.0, 0.0, 0.0], [0.0, 0.0, 0.0, 0.0], [0.0, 6.07005303971133e-05, -9.060748040809436e-05, 0.0], [0.0, 0.0, 0.0, 0.0]], [[0.0, 0.0, 0.0, 0.0], [0.0, -6.07005303971133e-05, 9.060748040809436e-05, 0.0], [0.0, 0.0, 0.0, 0.0], [0.0, 0.0, 0.0, 0.0]], [[0.0, 5.389811557453544e-05, 7.933751014322442e-05, 0.0], [0.0, 0.0, 0.0, 0.0], [0.0, 0.0, 0.0, 0.0], [0.0, 0.0, 0.0, 0.0]]]]])).max()"
   ]
  },
  {
   "cell_type": "code",
   "execution_count": null,
   "metadata": {},
   "outputs": [],
   "source": [
    "!jupytext --output MPDJacobian.py MPDJacobian.ipynb"
   ]
  },
  {
   "cell_type": "code",
   "execution_count": 87,
   "metadata": {},
   "outputs": [
    {
     "data": {
      "text/plain": [
       "1.0"
      ]
     },
     "execution_count": 87,
     "metadata": {},
     "output_type": "execute_result"
    }
   ],
   "source": [
    "1.0 + (-8.88178420e-20)"
   ]
  }
 ],
 "metadata": {
  "kernelspec": {
   "display_name": "base",
   "language": "python",
   "name": "python3"
  },
  "language_info": {
   "codemirror_mode": {
    "name": "ipython",
    "version": 3
   },
   "file_extension": ".py",
   "mimetype": "text/x-python",
   "name": "python",
   "nbconvert_exporter": "python",
   "pygments_lexer": "ipython3",
   "version": "3.11.6"
  }
 },
 "nbformat": 4,
 "nbformat_minor": 2
}
