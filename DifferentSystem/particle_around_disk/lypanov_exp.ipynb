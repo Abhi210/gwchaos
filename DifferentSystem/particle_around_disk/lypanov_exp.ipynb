{
 "cells": [
  {
   "cell_type": "markdown",
   "metadata": {},
   "source": [
    "## Initial Version of the code\n",
    "\n",
    "#### Todo:\n",
    "    - Give some more values of Initial Values -> Done\n",
    "    - Play With the Value of Alpha -> Done\n"
   ]
  },
  {
   "cell_type": "code",
   "execution_count": 1,
   "metadata": {},
   "outputs": [],
   "source": [
    "#* Imports\n",
    "\n",
    "import numpy as np \n",
    "import matplotlib.pyplot as plt #* For Plotting\n",
    "import scipy as sp\n",
    "from scipy import integrate #* For Solving Differential Equations\n",
    "import snoop  #* For Debugging Purpose\n",
    "\n",
    "from scipy.optimize import brentq \n",
    "from numbalsoda import lsoda_sig, lsoda,dop853 #Faster Method\n",
    "import numba as nb #For Speeding Up\n",
    "import scipy.integrate as integrate\n",
    "from scipy.interpolate import CubicSpline"
   ]
  },
  {
   "cell_type": "code",
   "execution_count": 2,
   "metadata": {},
   "outputs": [],
   "source": [
    "#Parameters\n",
    "\n",
    "mu=1.0 #! This Value was not given in paper. I solved it \n",
    "        #! using the constraint on the total energy\n",
    "M=1.\n",
    "L=1.\n",
    "z0=0.5\n",
    "alpha=0.01  #TODO Important Parameter. "
   ]
  },
  {
   "cell_type": "markdown",
   "metadata": {},
   "source": [
    "The Hamiltonian is : <br> <br>\n",
    "$\\mu*(pw^2/2\\mu + pz^2/2\\mu + L^2/(2 \\mu^2 w^2) - M/\\sqrt{w^2 + z^2} + \\alpha z_0 \\log(\\cosh(z/z_0)))$\n",
    "\n",
    "$L= p_{\\phi} \\;\\;\\;\\;\\;!$"
   ]
  },
  {
   "cell_type": "code",
   "execution_count": 53,
   "metadata": {},
   "outputs": [],
   "source": [
    "@nb.njit\n",
    "def logcosh(x):\n",
    "    # s always has real part >= 0\n",
    "    s = np.sign(x) * x\n",
    "    p = np.exp(-2 * s)\n",
    "    return s + np.log1p(p) - np.log(2)\n",
    "@nb.njit\n",
    "# @snoop\n",
    "def H(mu: np.float64,ics: np.ndarray,alpha: np.int32) -> np.ndarray:\n",
    "    \"\"\"\n",
    "\n",
    "    Args:\n",
    "        mu (float): Mass of the Test Particle\n",
    "        ics (np.ndarray): The Phase Space Coordinates of the particle\n",
    "                        Shape(n,4)\n",
    "\n",
    "    Returns:\n",
    "        Energy of the particel (np.ndarray): Shape (n,)\n",
    "    \"\"\"\n",
    "    if ics.ndim==1:\n",
    "        w,z,phi,pw,pz,pphi=ics[0],ics[1],ics[2],ics[3],ics[4],ics[5]\n",
    "    else:\n",
    "        w,z,phi,pw,pz,pphi=ics[:,0],ics[:,1],ics[:,2],ics[:,3],ics[:,4],ics[:,5]\n",
    "    L= pphi\n",
    "\n",
    "    return mu*(pw**2/(2*mu) + pz**2/(2*mu) + L**2/(2* mu**2*w**2) - M/np.sqrt(w**2 + z**2) + alpha*z0*logcosh(z/z0))"
   ]
  },
  {
   "cell_type": "code",
   "execution_count": null,
   "metadata": {},
   "outputs": [],
   "source": [
    "ics=np.array([1.2,0.0,0.0,0.0,0.76,L]) #* Initial conditions w,z,phi, pw,pz,pphi from paper"
   ]
  },
  {
   "cell_type": "code",
   "execution_count": null,
   "metadata": {},
   "outputs": [],
   "source": [
    "t=np.arange(0.,100000.,1) #Time Steps for evolution"
   ]
  },
  {
   "cell_type": "code",
   "execution_count": null,
   "metadata": {},
   "outputs": [],
   "source": [
    "t.shape"
   ]
  },
  {
   "cell_type": "code",
   "execution_count": null,
   "metadata": {},
   "outputs": [],
   "source": [
    "def evolve(t: float,x: np.ndarray,alpha: int)-> np.ndarray:\n",
    "    \"\"\"\n",
    "    Function for solving Differential Equation\n",
    "    Args:\n",
    "        t (float): Time Step\n",
    "        x (np.ndarray): Shape (n,)\n",
    "\n",
    "    Returns:\n",
    "        Output (np.ndarray): Shape (n,) \n",
    "    \"\"\"\n",
    "    w,z,phi,pw,pz,pphi=x\n",
    "    dw= pw\n",
    "    dz= pz\n",
    "    dphi= L/(mu*w**2)\n",
    "    \n",
    "    dpw= -mu*(-L**2 /(mu**2 * w**3) + M*w/((w**2+z**2)**(3/2)))\n",
    "    dpz=-mu*(M*z/((w**2+z**2)**(3/2))+ alpha*np.tanh(z/z0))\n",
    "    dpphi=0.0\n",
    "\n",
    "    return np.array((dw,dz,dphi,dpw,dpz,dpphi))\n"
   ]
  },
  {
   "cell_type": "code",
   "execution_count": null,
   "metadata": {},
   "outputs": [],
   "source": [
    "# @nb.cfunc('')\n",
    "def poincare(t: float,y: np.ndarray,args:np.int32)-> float:\n",
    "    \"\"\"Creating Poincare Section \n",
    "\n",
    "    Args:\n",
    "        t (float): time Step\n",
    "        y (np.ndarray): Shape (n,4)\n",
    "        args (np.int32) : Not needed. But used for compatibility for\n",
    "                            below methods\n",
    "\n",
    "    Returns:\n",
    "        float: The value where the function gets zero (z value in this case)\n",
    "    \"\"\"\n",
    "    return y[1]\n"
   ]
  },
  {
   "cell_type": "code",
   "execution_count": null,
   "metadata": {},
   "outputs": [],
   "source": [
    "sol=integrate.solve_ivp(evolve,(0.,t[-1]),ics,'LSODA',t_eval=t,events=poincare,dense_output=True,args=(alpha,),atol=1e-11,rtol=1e-11)"
   ]
  },
  {
   "cell_type": "code",
   "execution_count": null,
   "metadata": {},
   "outputs": [],
   "source": [
    "cs= CubicSpline(sol.t,sol.y.T)"
   ]
  },
  {
   "cell_type": "code",
   "execution_count": null,
   "metadata": {},
   "outputs": [],
   "source": [
    "mask=sol.y_events[0][:,4]>0  #* Get those values where v_z is greater than zero"
   ]
  },
  {
   "cell_type": "code",
   "execution_count": null,
   "metadata": {},
   "outputs": [],
   "source": [
    "\n",
    "#* Poincare Plot\n",
    " \n",
    "plt.scatter(sol.y_events[0][mask,0],sol.y_events[0][mask,3],s=0.2);\n",
    "plt.title(r\"Poincare Plot for z=0\");\n",
    "plt.xlabel(r\"w\");\n",
    "plt.ylabel(r\"$p_w$\");"
   ]
  },
  {
   "cell_type": "code",
   "execution_count": null,
   "metadata": {},
   "outputs": [],
   "source": [
    "# plt.plot(sol.y[1])"
   ]
  },
  {
   "cell_type": "code",
   "execution_count": null,
   "metadata": {},
   "outputs": [],
   "source": [
    "energy=H(mu,sol.y.T) #Get the energy of given solutions"
   ]
  },
  {
   "cell_type": "code",
   "execution_count": null,
   "metadata": {},
   "outputs": [],
   "source": [
    "plt.plot(H(mu,sol.y.T)) \n",
    "plt.title(\"Energy vs time\")\n",
    "plt.xlabel(\"Time\")\n",
    "plt.ylabel(\"Energy\")\n",
    "\n",
    "#* The value of energy is within -0.2 (+/- 39e^(-8))"
   ]
  },
  {
   "cell_type": "code",
   "execution_count": null,
   "metadata": {},
   "outputs": [],
   "source": [
    "np.isclose(np.diff(H(mu,sol.y.T)),0).all()\n",
    "#! All the values of energy are within 1e^(-8)"
   ]
  },
  {
   "cell_type": "code",
   "execution_count": null,
   "metadata": {},
   "outputs": [],
   "source": [
    "\n",
    "#! Faster Methods -----------------------------------"
   ]
  },
  {
   "cell_type": "markdown",
   "metadata": {},
   "source": [
    "- <span style=\"color:red\"> The following method generate the solutions very fast\n",
    " But it is very slow if you want to generate the Poincare\n",
    " Sections. We do not need this now. But I had put it for future reference </span>"
   ]
  },
  {
   "cell_type": "markdown",
   "metadata": {},
   "source": [
    "##  <span style= \"color:orange\">Using LSODA wrapper </span>"
   ]
  },
  {
   "cell_type": "code",
   "execution_count": null,
   "metadata": {},
   "outputs": [],
   "source": [
    "#Faster Version of evolve method above\n",
    "@nb.cfunc(lsoda_sig)\n",
    "def faster_evolve(t,u, du,p):\n",
    "    \"\"\"\n",
    "    Function for solving Differential Equation\n",
    "    Args:\n",
    "        t (float): Time Step\n",
    "        x (np.ndarray): Shape (n,)\n",
    "\n",
    "    Returns:\n",
    "        Output (np.ndarray): Shape (n,) \n",
    "    \"\"\"\n",
    "    # w,z, phi,pw,pz,pphi=x\n",
    "    du[0]= u[3]\n",
    "    du[1]= u[4]\n",
    "    du[2]= L/(mu*u[0]**2)\n",
    "\n",
    "    du[3]= -mu*(-L**2 /(mu**2 * u[0]**3) + M*u[0]/((u[0]**2+u[1]**2)**(3/2)))\n",
    "    du[4]=-mu*(M*u[1]/((u[0]**2+u[1]**2)**(3/2))+ alpha*np.tanh(u[1]/z0))\n",
    "    du[5]=0.0\n",
    "\n",
    "    # return np.array((dw,dz,dphi,dpw,dpz,dpphi))\n"
   ]
  },
  {
   "cell_type": "code",
   "execution_count": null,
   "metadata": {},
   "outputs": [],
   "source": [
    "funcptr=faster_evolve.address"
   ]
  },
  {
   "cell_type": "code",
   "execution_count": null,
   "metadata": {},
   "outputs": [],
   "source": [
    "u0=np.array([1.2,0.0,0.0,0.0,0.76,L]) #Initial conditions"
   ]
  },
  {
   "cell_type": "code",
   "execution_count": null,
   "metadata": {},
   "outputs": [],
   "source": [
    "t=np.arange(0.,100000.,1) #Time Steps for evolution"
   ]
  },
  {
   "cell_type": "code",
   "execution_count": null,
   "metadata": {},
   "outputs": [],
   "source": [
    "n_events=6000\n",
    "\n",
    "@nb.cfunc(lsoda_sig)\n",
    "def poincare_event(t,u,out,p):\n",
    "    for i in nb.prange(n_events):\n",
    "        out[i]=u[1]\n",
    "\n",
    "# jitted_events = nb.njit(poincare_event)\n",
    "event_fcn=poincare_event.address"
   ]
  },
  {
   "cell_type": "code",
   "execution_count": null,
   "metadata": {},
   "outputs": [],
   "source": [
    "t_span=np.array([min(t),max(t)])"
   ]
  },
  {
   "cell_type": "code",
   "execution_count": null,
   "metadata": {},
   "outputs": [],
   "source": [
    "t_eval=np.arange(0,10000,1)"
   ]
  },
  {
   "cell_type": "code",
   "execution_count": null,
   "metadata": {},
   "outputs": [],
   "source": [
    "usol, success = lsoda(funcptr, u0, t,atol=1e-12,rtol=1e-12)"
   ]
  },
  {
   "cell_type": "code",
   "execution_count": null,
   "metadata": {},
   "outputs": [],
   "source": [
    "H(1.00,usol)"
   ]
  },
  {
   "cell_type": "code",
   "execution_count": null,
   "metadata": {},
   "outputs": [],
   "source": [
    "#Now, to make the poincare plot\n",
    "\n",
    "#---------------Work in Progress------------------\n"
   ]
  },
  {
   "cell_type": "code",
   "execution_count": null,
   "metadata": {},
   "outputs": [],
   "source": [
    "idx2 = np.where(np.sign(usol[:,1][:-1]) != np.sign(usol[:,1][1:]))[0] + 1\n",
    "idx1=idx2-1"
   ]
  },
  {
   "cell_type": "code",
   "execution_count": null,
   "metadata": {},
   "outputs": [],
   "source": [
    "# f=lambda t: lsoda(funcptr,u0 , np.array([0,t]), mxstep=5000000,atol=1e-10, rtol=1e-10)[0][-1,1];\n",
    "# t_eval=np.zeros_like(idx1)\n",
    "\n",
    "# for i in range(1,len(idx2)):\n",
    "#     t_eval[i]=brentq(f,t[idx1[i]],t[idx2[i]])\n",
    "\n",
    "# # t_eval=np.array(t_eval)"
   ]
  },
  {
   "cell_type": "code",
   "execution_count": null,
   "metadata": {},
   "outputs": [],
   "source": [
    "# plt.plot(t,H(mu,usol))"
   ]
  },
  {
   "cell_type": "markdown",
   "metadata": {},
   "source": [
    "## <span style=\"color: magenta\">Lyponov Exponents</span>"
   ]
  },
  {
   "cell_type": "markdown",
   "metadata": {},
   "source": [
    "## What will we try\n",
    "\n",
    "- The first step is to try the things as was done for Lorenz System\n",
    "- We will copy the code with minor changes\n",
    "\n",
    "- In the next step, we will use the same thing as above, only difference will be that it will be faster than above"
   ]
  },
  {
   "cell_type": "code",
   "execution_count": null,
   "metadata": {},
   "outputs": [],
   "source": [
    "#Step 1"
   ]
  },
  {
   "cell_type": "code",
   "execution_count": null,
   "metadata": {},
   "outputs": [],
   "source": [
    "def chaotic_lyp(t,Y,alpha=alpha):\n",
    "    \"\"\"\n",
    "    Function for solving the system of equation simultaneously with\n",
    "    the Jacobian\n",
    "\n",
    "    \"\"\"\n",
    "\n",
    "    #First system of equations\n",
    "    \n",
    "    w,z,phi,pw,pz,pphi=Y[:6]\n",
    "    dw= pw\n",
    "    dz= pz\n",
    "    dphi= L/(mu*w**2)\n",
    "    \n",
    "    dpw= -mu*(-L**2 /((mu**2) * w**3) + M*w/((w**2+z**2)**(3/2)))\n",
    "    dpz=-mu*(M*z/((w**2+z**2)**(3/2))+ alpha*np.tanh(z/z0))\n",
    "    dpphi=0.0  \n",
    "\n",
    "    dhdwdw=-mu*(3*L**2/((mu**2)*w**4)-3*M*w**2/((w**2+z**2)**(5/2))+M/((w**2+z**2)**(3/2)))\n",
    "    dhdwdz= 3*M*mu*w*z/((w**2+z**2)**(5/2))\n",
    "    dhdzdz=-mu*(-3*M*z**2/((w**2+z**2)**(5/2))+M/((w**2+z**2)**(3/2))+alpha*(1/(np.cosh(z/z0))**2)/z0)\n",
    "\n",
    "    #Now calculate the jacobian\n",
    "    J=np.array([\n",
    "\n",
    "        [0., 0.,0.,1.,0.,0.],\n",
    "        [0.,0.,0.,0.,1.,0.],\n",
    "        [-2*L/(mu*w**3), 0.,0.,0.,0.,1/(mu*w**2)],\n",
    "        [dhdwdw,dhdwdz,0.,0.,0.,2*L/(mu*w**3)],\n",
    "        [dhdwdz,dhdzdz,0.,0.,0.,0.],\n",
    "        [0.,0.,0.,0.,0.,0.]\n",
    "    ])\n",
    "\n",
    "    dY=Y[6:].reshape((6,6))\n",
    "    dY_dt=np.dot(J,dY)\n",
    "\n",
    "    return np.concatenate(([dw,dz,dphi,dpw,dpz,dpphi],dY_dt.flatten()))"
   ]
  },
  {
   "cell_type": "code",
   "execution_count": 4,
   "metadata": {},
   "outputs": [],
   "source": [
    "#Using the method given in the paper"
   ]
  },
  {
   "cell_type": "code",
   "execution_count": 5,
   "metadata": {},
   "outputs": [],
   "source": [
    "def chaotic_lyp_paper(t,Y,alpha=alpha):\n",
    "    \"\"\"\n",
    "    Function for solving the system of equation simultaneously with\n",
    "    the Jacobian\n",
    "\n",
    "    \"\"\"\n",
    "\n",
    "    #First system of equations\n",
    "    \n",
    "    w,z,phi,pw,pz,pphi=Y[:6]\n",
    "    dw= pw\n",
    "    dz= pz\n",
    "    dphi= L/(mu*w**2)\n",
    "    \n",
    "    dpw= -mu*(-L**2 /((mu**2) * w**3) + M*w/((w**2+z**2)**(3/2)))\n",
    "    dpz=-mu*(M*z/((w**2+z**2)**(3/2))+ alpha*np.tanh(z/z0))\n",
    "    dpphi=0.0  \n",
    "\n",
    "    dhdwdw=-mu*(3*L**2/((mu**2)*(w**4))-3*M*w**2/((w**2+z**2)**(5/2))+M/((w**2+z**2)**(3/2)))\n",
    "    dhdwdz= 3*M*mu*w*z/((w**2+z**2)**(5/2))\n",
    "    dhdzdz=-mu*(-3*M*z**2/((w**2+z**2)**(5/2))+M/((w**2+z**2)**(3/2))+alpha*(1/(np.cosh(z/z0))**2)/z0)\n",
    "\n",
    "    #Now calculate the jacobian\n",
    "    J=np.array([\n",
    "\n",
    "        [0., 0.,0.,1.,0.,0.],\n",
    "        [0.,0.,0.,0.,1.,0.],\n",
    "        [-2*L/(mu*w**3), 0.,0.,0.,0.,1/(mu*w**2)],\n",
    "        [dhdwdw,dhdwdz,0.,0.,0.,2*L/(mu*w**3)],\n",
    "        [dhdwdz,dhdzdz,0.,0.,0.,0.],\n",
    "        [0.,0.,0.,0.,0.,0.]\n",
    "    ])\n",
    "\n",
    "    dY=Y[6:].reshape((6,1))\n",
    "    dY_dt=np.dot(J,dY)\n",
    "\n",
    "    return np.concatenate(([dw,dz,dphi,dpw,dpz,dpphi],dY_dt.flatten()))"
   ]
  },
  {
   "cell_type": "code",
   "execution_count": 6,
   "metadata": {},
   "outputs": [],
   "source": [
    "\n",
    "#! Faster implementaton of above function\n",
    "@nb.cfunc(lsoda_sig)\n",
    "def faster_chaotic_system_paper(t,u,du,p):\n",
    "    \"\"\"\n",
    "    The same system as above but faster than above method. This uses Numba\n",
    "    and Numbalsoda for faster evaluations\n",
    "    \"\"\"\n",
    "    u_=nb.carray(u,(12,))\n",
    "    p_=nb.carray(p,(1,))\n",
    "    alpha=p_[0]\n",
    "    w,z,phi,pw,pz,pphi=u_[:6]\n",
    "    dw= pw\n",
    "    dz= pz\n",
    "    dphi= L/(mu*w**2)\n",
    "    \n",
    "    dpw= -mu*(-L**2 /((mu**2) * w**3) + M*w/((w**2+z**2)**(3/2)))\n",
    "    dpz=-mu*(M*z/((w**2+z**2)**(3/2))+ alpha*np.tanh(z/z0))\n",
    "    dpphi=0.0  \n",
    "\n",
    "    dhdwdw=-mu*(3*L**2/((mu**2)*w**4)-3*M*w**2/((w**2+z**2)**(5/2))+M/((w**2+z**2)**(3/2)))\n",
    "    dhdwdz= 3*M*mu*w*z/((w**2+z**2)**(5/2))\n",
    "    dhdzdz=-mu*(-3*M*z**2/((w**2+z**2)**(5/2))+M/((w**2+z**2)**(3/2))+alpha*(1/(np.cosh(z/z0))**2)/z0)\n",
    "\n",
    "    #Now calculate the jacobian\n",
    "\n",
    "    J=np.array([\n",
    "        [0., 0.,0.,1.,0.,0.],\n",
    "        [0.,0.,0.,0.,1.,0.],\n",
    "        [-2*L/(mu*w**3), 0.,0.,0.,0.,1/(mu*w**2)],\n",
    "        [dhdwdw,dhdwdz,0.,0.,0.,2*L/(mu*w**3)],\n",
    "        [dhdwdz,dhdzdz,0.,0.,0.,0.],\n",
    "        [0.,0.,0.,0.,0.,0.]\n",
    "    ])\n",
    "\n",
    "    dY=u_[6:].reshape((6,1))\n",
    "    dY_dt=np.dot(J,dY)\n",
    "    dydtf=dY_dt.flatten()\n",
    "    du_=np.zeros((12,),dtype=nb.float64)\n",
    "    du_[:6]=np.array([dw,dz,dphi,dpw,dpz,dpphi])\n",
    "    du_[6:]=dydtf\n",
    "\n",
    "    for i in range(len(du_)):\n",
    "        du[i]=du_[i]\n",
    "\n"
   ]
  },
  {
   "cell_type": "code",
   "execution_count": 7,
   "metadata": {},
   "outputs": [],
   "source": [
    "pfunctptr=faster_chaotic_system_paper.address"
   ]
  },
  {
   "cell_type": "code",
   "execution_count": 8,
   "metadata": {},
   "outputs": [],
   "source": [
    "u0=np.array([1.2,0.0,0.0,0.0,0.76,L]) #Initial condition for x(0)\n",
    "w0=np.random.normal(0.,1.,(6))\n",
    "w0=w0/np.linalg.norm(w0) #Initial unitary deviation vector w(0)"
   ]
  },
  {
   "cell_type": "code",
   "execution_count": 9,
   "metadata": {},
   "outputs": [],
   "source": [
    "ics0=np.array((u0,w0)).flatten() #Combined Initial vector"
   ]
  },
  {
   "cell_type": "code",
   "execution_count": 10,
   "metadata": {},
   "outputs": [],
   "source": [
    "tau=1000  #Renormalization time\n",
    "tf=1000000. #Final time"
   ]
  },
  {
   "cell_type": "code",
   "execution_count": 43,
   "metadata": {},
   "outputs": [],
   "source": [
    "# @snoop\n",
    "# @nb.njit\n",
    "def evolve_lyap(ics0,tau,tf,alpha):\n",
    "    k=1\n",
    "    ti=0\n",
    "    timestep=np.arange(ti,tf,tau)\n",
    "    size=timestep.shape[0]\n",
    "    # print(size)\n",
    "    X1t=np.zeros((size-1))\n",
    "    sum=0.0\n",
    "    ics=ics0.copy()\n",
    "    h=np.zeros(size-1)\n",
    "    for i in range(0,size-1):\n",
    "        timeint=np.linspace(timestep[i],timestep[i+1],10000)\n",
    "        usol,_=lsoda(pfunctptr,ics,t_eval=timeint,data=np.array((alpha)),rtol=1e-12,atol=1e-12,mxstep=100000)\n",
    "        # usol,_=dop853(pfunctptr,ics,t_eval=timeint,data=np.array((alpha)),mxstep=1000000,atol=1e-12,rtol=1e-12)\n",
    "        # print(usol,timeint,timeint.shape)\n",
    "        # usol=integrate.solve_ivp(chaotic_lyp_paper,[0.,tf],ics0,'LSODA',t_eval=timeint,atol=1e-10,rtol=1e-10).y[:,-1]\n",
    "        usol=usol[-1]\n",
    "        xk=usol[:6]\n",
    "        wk=usol[6:]\n",
    "        alphak=np.linalg.norm(wk)\n",
    "        sum=sum+np.log(alphak)\n",
    "        X1t[i]=sum/timestep[i+1]\n",
    "        wk0=wk/alphak\n",
    "        ics[:6]=xk\n",
    "        ics[6:]=wk0\n",
    "        k=k+1\n",
    "        h[i]=H(1.00,ics,alpha)\n",
    "        # print(i)\n",
    "\n",
    "    return X1t,h\n"
   ]
  },
  {
   "cell_type": "code",
   "execution_count": 34,
   "metadata": {},
   "outputs": [],
   "source": [
    "alpha=0.1"
   ]
  },
  {
   "cell_type": "code",
   "execution_count": 35,
   "metadata": {},
   "outputs": [],
   "source": [
    "_,energy_=evolve_lyap(ics0,tau,5000.,alpha)"
   ]
  },
  {
   "cell_type": "code",
   "execution_count": 37,
   "metadata": {},
   "outputs": [
    {
     "name": "stderr",
     "output_type": "stream",
     "text": [
      "lsoda -- warning..internal t = 492700 and h_ = 2.64211e-11 are\n",
      "         such that in the machine, t + h_ = t on the next step\n",
      "         solver will continue anyway.\n",
      "lsoda -- warning..internal t = 492700 and h_ = 2.64211e-11 are\n",
      "         such that in the machine, t + h_ = t on the next step\n",
      "         solver will continue anyway.\n",
      "lsoda -- warning..internal t = 492700 and h_ = 2.64211e-11 are\n",
      "         such that in the machine, t + h_ = t on the next step\n",
      "         solver will continue anyway.\n",
      "lsoda -- warning..internal t = 492700 and h_ = 2.64211e-11 are\n",
      "         such that in the machine, t + h_ = t on the next step\n",
      "         solver will continue anyway.\n",
      "lsoda -- warning..internal t = 588551 and h_ = 4.67591e-11 are\n",
      "         such that in the machine, t + h_ = t on the next step\n",
      "         solver will continue anyway.\n",
      "lsoda -- warning..internal t = 588551 and h_ = 4.67591e-11 are\n",
      "         such that in the machine, t + h_ = t on the next step\n",
      "         solver will continue anyway.\n",
      "lsoda -- warning..internal t = 588551 and h_ = 4.67591e-11 are\n",
      "         such that in the machine, t + h_ = t on the next step\n",
      "         solver will continue anyway.\n",
      "lsoda -- warning..internal t = 588551 and h_ = 4.67591e-11 are\n",
      "         such that in the machine, t + h_ = t on the next step\n",
      "         solver will continue anyway.\n",
      "lsoda -- warning..internal t = 592919 and h_ = 5.0111e-11 are\n",
      "         such that in the machine, t + h_ = t on the next step\n",
      "         solver will continue anyway.\n",
      "lsoda -- warning..internal t = 592919 and h_ = 5.0111e-11 are\n",
      "         such that in the machine, t + h_ = t on the next step\n",
      "         solver will continue anyway.\n",
      "lsoda -- warning..internal t = 592919 and h_ = 5.0111e-11 are\n",
      "         such that in the machine, t + h_ = t on the next step\n",
      "         solver will continue anyway.\n",
      "lsoda -- warning..internal t = 592919 and h_ = 5.0111e-11 are\n",
      "         such that in the machine, t + h_ = t on the next step\n",
      "         solver will continue anyway.\n",
      "lsoda -- warning..internal t = 600744 and h_ = 4.97891e-11 are\n",
      "         such that in the machine, t + h_ = t on the next step\n",
      "         solver will continue anyway.\n",
      "lsoda -- warning..internal t = 600744 and h_ = 4.97891e-11 are\n",
      "         such that in the machine, t + h_ = t on the next step\n",
      "         solver will continue anyway.\n",
      "lsoda -- warning..internal t = 600744 and h_ = 4.97891e-11 are\n",
      "         such that in the machine, t + h_ = t on the next step\n",
      "         solver will continue anyway.\n",
      "lsoda -- warning..internal t = 600744 and h_ = 4.97891e-11 are\n",
      "         such that in the machine, t + h_ = t on the next step\n",
      "         solver will continue anyway.\n",
      "lsoda -- warning..internal t = 683955 and h_ = 5.20161e-11 are\n",
      "         such that in the machine, t + h_ = t on the next step\n",
      "         solver will continue anyway.\n",
      "lsoda -- warning..internal t = 683955 and h_ = 5.20161e-11 are\n",
      "         such that in the machine, t + h_ = t on the next step\n",
      "         solver will continue anyway.\n",
      "lsoda -- warning..internal t = 683955 and h_ = 5.20161e-11 are\n",
      "         such that in the machine, t + h_ = t on the next step\n",
      "         solver will continue anyway.\n",
      "lsoda -- warning..internal t = 683955 and h_ = 5.20161e-11 are\n",
      "         such that in the machine, t + h_ = t on the next step\n",
      "         solver will continue anyway.\n",
      "lsoda -- warning..internal t = 689842 and h_ = 3.08312e-11 are\n",
      "         such that in the machine, t + h_ = t on the next step\n",
      "         solver will continue anyway.\n",
      "lsoda -- warning..internal t = 689842 and h_ = 3.08312e-11 are\n",
      "         such that in the machine, t + h_ = t on the next step\n",
      "         solver will continue anyway.\n",
      "lsoda -- warning..internal t = 689842 and h_ = 3.08312e-11 are\n",
      "         such that in the machine, t + h_ = t on the next step\n",
      "         solver will continue anyway.\n",
      "lsoda -- warning..internal t = 689842 and h_ = 3.08312e-11 are\n",
      "         such that in the machine, t + h_ = t on the next step\n",
      "         solver will continue anyway.\n",
      "lsoda -- warning..internal t = 697694 and h_ = 4.2053e-11 are\n",
      "         such that in the machine, t + h_ = t on the next step\n",
      "         solver will continue anyway.\n",
      "lsoda -- warning..internal t = 697694 and h_ = 4.2053e-11 are\n",
      "         such that in the machine, t + h_ = t on the next step\n",
      "         solver will continue anyway.\n",
      "lsoda -- warning..internal t = 697694 and h_ = 4.2053e-11 are\n",
      "         such that in the machine, t + h_ = t on the next step\n",
      "         solver will continue anyway.\n",
      "lsoda -- warning..internal t = 697694 and h_ = 4.2053e-11 are\n",
      "         such that in the machine, t + h_ = t on the next step\n",
      "         solver will continue anyway.\n",
      "lsoda -- warning..internal t = 786945 and h_ = 4.62999e-11 are\n",
      "         such that in the machine, t + h_ = t on the next step\n",
      "         solver will continue anyway.\n",
      "lsoda -- warning..internal t = 786945 and h_ = 4.62999e-11 are\n",
      "         such that in the machine, t + h_ = t on the next step\n",
      "         solver will continue anyway.\n",
      "lsoda -- warning..internal t = 806975 and h_ = 5.72483e-11 are\n",
      "         such that in the machine, t + h_ = t on the next step\n",
      "         solver will continue anyway.\n",
      "lsoda -- warning..internal t = 806975 and h_ = 5.72483e-11 are\n",
      "         such that in the machine, t + h_ = t on the next step\n",
      "         solver will continue anyway.\n",
      "lsoda -- warning..internal t = 806975 and h_ = 5.72483e-11 are\n",
      "         such that in the machine, t + h_ = t on the next step\n",
      "         solver will continue anyway.\n",
      "lsoda -- warning..internal t = 806975 and h_ = 5.72483e-11 are\n",
      "         such that in the machine, t + h_ = t on the next step\n",
      "         solver will continue anyway.\n",
      "lsoda -- warning..internal t = 820989 and h_ = 2.78308e-11 are\n",
      "         such that in the machine, t + h_ = t on the next step\n",
      "         solver will continue anyway.\n",
      "lsoda -- warning..internal t = 820989 and h_ = 2.78308e-11 are\n",
      "         such that in the machine, t + h_ = t on the next step\n",
      "         solver will continue anyway.\n",
      "lsoda -- warning..internal t = 820989 and h_ = 2.78308e-11 are\n",
      "         such that in the machine, t + h_ = t on the next step\n",
      "         solver will continue anyway.\n",
      "lsoda -- warning..internal t = 820989 and h_ = 2.78308e-11 are\n",
      "         such that in the machine, t + h_ = t on the next step\n",
      "         solver will continue anyway.\n",
      "lsoda -- warning..internal t = 820989 and h_ = 5.56615e-11 are\n",
      "         such that in the machine, t + h_ = t on the next step\n",
      "         solver will continue anyway.\n",
      "lsoda -- warning..internal t = 820989 and h_ = 5.56615e-11 are\n",
      "         such that in the machine, t + h_ = t on the next step\n",
      "         solver will continue anyway.\n",
      "lsoda -- warning..internal t = 820989 and h_ = 5.56615e-11 are\n",
      "         such that in the machine, t + h_ = t on the next step\n",
      "         solver will continue anyway.\n",
      "lsoda -- warning..internal t = 848817 and h_ = 4.94323e-11 are\n",
      "         such that in the machine, t + h_ = t on the next step\n",
      "         solver will continue anyway.\n",
      "lsoda -- warning..internal t = 848817 and h_ = 4.94323e-11 are\n",
      "         such that in the machine, t + h_ = t on the next step\n",
      "         solver will continue anyway.\n",
      "lsoda -- warning..internal t = 848817 and h_ = 4.94323e-11 are\n",
      "         such that in the machine, t + h_ = t on the next step\n",
      "         solver will continue anyway.\n",
      "lsoda -- warning..internal t = 848817 and h_ = 4.94323e-11 are\n",
      "         such that in the machine, t + h_ = t on the next step\n",
      "         solver will continue anyway.\n",
      "lsoda -- warning..internal t = 879672 and h_ = 2.94561e-11 are\n",
      "         such that in the machine, t + h_ = t on the next step\n",
      "         solver will continue anyway.\n",
      "lsoda -- warning..internal t = 879672 and h_ = 2.94561e-11 are\n",
      "         such that in the machine, t + h_ = t on the next step\n",
      "         solver will continue anyway.\n",
      "lsoda -- warning..internal t = 879672 and h_ = 2.94561e-11 are\n",
      "         such that in the machine, t + h_ = t on the next step\n",
      "         solver will continue anyway.\n",
      "lsoda -- warning..internal t = 879672 and h_ = 2.94561e-11 are\n",
      "         such that in the machine, t + h_ = t on the next step\n",
      "         solver will continue anyway.\n"
     ]
    }
   ],
   "source": [
    "lyaps1=evolve_lyap(ics0,tau,tf,alpha)"
   ]
  },
  {
   "cell_type": "code",
   "execution_count": 38,
   "metadata": {},
   "outputs": [
    {
     "data": {
      "text/plain": [
       "[<matplotlib.lines.Line2D at 0x7ff078e00e50>]"
      ]
     },
     "execution_count": 38,
     "metadata": {},
     "output_type": "execute_result"
    },
    {
     "data": {
      "image/png": "[encoded data removed]",
      "text/plain": [
       "<Figure size 640x480 with 1 Axes>"
      ]
     },
     "metadata": {},
     "output_type": "display_data"
    }
   ],
   "source": [
    "plt.plot(lyaps1[1])"
   ]
  },
  {
   "cell_type": "code",
   "execution_count": 39,
   "metadata": {},
   "outputs": [
    {
     "data": {
      "image/png": "[encoded data removed]",
      "text/plain": [
       "<Figure size 640x480 with 1 Axes>"
      ]
     },
     "metadata": {},
     "output_type": "display_data"
    }
   ],
   "source": [
    "plt.figure()\n",
    "plt.plot(np.arange(0.,tf,1000)[:-2],lyaps1[0][:-1],label='Maximum Lyapunov Exponents', linewidth=2, linestyle='--')\n",
    "ax=plt.gca()\n",
    "ax.set_xscale(\"log\", base=10)\n",
    "ax.set_yscale(\"log\", base=10)\n",
    "plt.xlabel('Time')\n",
    "plt.ylabel('Lyapunov Exponent')\n",
    "plt.legend()\n",
    "# plt.xlim(1e4,1e6)\n",
    "plt.grid(True)\n",
    "plt.title('Time Evolution of Lyapunov Exponents (Using Numbalsoda)')\n",
    "plt.show()"
   ]
  },
  {
   "cell_type": "code",
   "execution_count": 44,
   "metadata": {},
   "outputs": [],
   "source": [
    "alpha=0.01"
   ]
  },
  {
   "cell_type": "code",
   "execution_count": 46,
   "metadata": {},
   "outputs": [],
   "source": [
    "lyaps2=evolve_lyap(ics0,tau,tf,alpha)"
   ]
  },
  {
   "cell_type": "code",
   "execution_count": 47,
   "metadata": {},
   "outputs": [
    {
     "data": {
      "text/plain": [
       "[<matplotlib.lines.Line2D at 0x7ff078065390>]"
      ]
     },
     "execution_count": 47,
     "metadata": {},
     "output_type": "execute_result"
    },
    {
     "data": {
      "image/png": "[encoded data removed]",
      "text/plain": [
       "<Figure size 640x480 with 1 Axes>"
      ]
     },
     "metadata": {},
     "output_type": "display_data"
    }
   ],
   "source": [
    "plt.plot(lyaps2[1])"
   ]
  },
  {
   "cell_type": "code",
   "execution_count": 48,
   "metadata": {},
   "outputs": [
    {
     "data": {
      "image/png": "[encoded data removed]",
      "text/plain": [
       "<Figure size 640x480 with 1 Axes>"
      ]
     },
     "metadata": {},
     "output_type": "display_data"
    }
   ],
   "source": [
    "plt.figure()\n",
    "plt.plot(np.arange(0.,tf,1000)[:-2],lyaps2[0][:-1],label='Maximum Lyapunov Exponents', linewidth=2, linestyle='--')\n",
    "ax=plt.gca()\n",
    "ax.set_xscale(\"log\", base=10)\n",
    "ax.set_yscale(\"log\", base=10)\n",
    "plt.xlabel('Time')\n",
    "plt.ylabel('Lyapunov Exponent')\n",
    "plt.legend()\n",
    "# plt.xlim(1e4,1e6)\n",
    "plt.grid(True)\n",
    "plt.title('Time Evolution of Lyapunov Exponents (Using Numbalsoda)')\n",
    "plt.show()"
   ]
  },
  {
   "cell_type": "code",
   "execution_count": 49,
   "metadata": {},
   "outputs": [],
   "source": [
    "alpha=10."
   ]
  },
  {
   "cell_type": "code",
   "execution_count": 50,
   "metadata": {},
   "outputs": [],
   "source": [
    "lyaps3=evolve_lyap(ics0,tau,tf,alpha)"
   ]
  },
  {
   "cell_type": "code",
   "execution_count": 51,
   "metadata": {},
   "outputs": [
    {
     "data": {
      "text/plain": [
       "[<matplotlib.lines.Line2D at 0x7ff075aada50>]"
      ]
     },
     "execution_count": 51,
     "metadata": {},
     "output_type": "execute_result"
    },
    {
     "data": {
      "image/png": "[encoded data removed]",
      "text/plain": [
       "<Figure size 640x480 with 1 Axes>"
      ]
     },
     "metadata": {},
     "output_type": "display_data"
    }
   ],
   "source": [
    "plt.plot(lyaps3[1])"
   ]
  },
  {
   "cell_type": "code",
   "execution_count": 52,
   "metadata": {},
   "outputs": [
    {
     "data": {
      "image/png": "[encoded data removed]",
      "text/plain": [
       "<Figure size 640x480 with 1 Axes>"
      ]
     },
     "metadata": {},
     "output_type": "display_data"
    }
   ],
   "source": [
    "plt.figure()\n",
    "plt.plot(np.arange(0.,tf,1000)[:-2],lyaps3[0][:-1],label='Maximum Lyapunov Exponents', linewidth=2, linestyle='--')\n",
    "ax=plt.gca()\n",
    "ax.set_xscale(\"log\", base=10)\n",
    "ax.set_yscale(\"log\", base=10)\n",
    "plt.xlabel('Time')\n",
    "plt.ylabel('Lyapunov Exponent')\n",
    "plt.legend()\n",
    "# plt.xlim(1e4,1e6)\n",
    "plt.grid(True)\n",
    "plt.title('Time Evolution of Lyapunov Exponents (Using Numbalsoda)')\n",
    "plt.show()"
   ]
  },
  {
   "cell_type": "code",
   "execution_count": null,
   "metadata": {},
   "outputs": [],
   "source": [
    "\n",
    "#! Faster implementaton of above function\n",
    "@nb.cfunc(lsoda_sig)\n",
    "def faster_chaotic_system_qr_paper(t,u,du,p):\n",
    "    \"\"\"\n",
    "    The same system as above but faster than above method. This uses Numba\n",
    "    and Numbalsoda for faster evaluations\n",
    "    \"\"\"\n",
    "    u_=nb.carray(u,(42,))\n",
    "    p_=nb.carray(p,(1,))\n",
    "    alpha=p_[0]\n",
    "    w,z,phi,pw,pz,pphi=u_[:6]\n",
    "    dw= pw\n",
    "    dz= pz\n",
    "    dphi= L/(mu*w**2)\n",
    "    \n",
    "    dpw= -mu*(-L**2 /((mu**2) * w**3) + M*w/((w**2+z**2)**(3/2)))\n",
    "    dpz=-mu*(M*z/((w**2+z**2)**(3/2))+ alpha*np.tanh(z/z0))\n",
    "    dpphi=0.0  \n",
    "\n",
    "    dhdwdw=-mu*(3*L**2/((mu**2)*w**4)-3*M*w**2/((w**2+z**2)**(5/2))+M/((w**2+z**2)**(3/2)))\n",
    "    dhdwdz= 3*M*mu*w*z/((w**2+z**2)**(5/2))\n",
    "    dhdzdz=-mu*(-3*M*z**2/((w**2+z**2)**(5/2))+M/((w**2+z**2)**(3/2))+alpha*(1/(np.cosh(z/z0))**2)/z0)\n",
    "\n",
    "    #Now calculate the jacobian\n",
    "\n",
    "    J=np.array([\n",
    "        [0., 0.,0.,1.,0.,0.],\n",
    "        [0.,0.,0.,0.,1.,0.],\n",
    "        [-2*L/(mu*w**3), 0.,0.,0.,0.,1/(mu*w**2)],\n",
    "        [dhdwdw,dhdwdz,0.,0.,0.,2*L/(mu*w**3)],\n",
    "        [dhdwdz,dhdzdz,0.,0.,0.,0.],\n",
    "        [0.,0.,0.,0.,0.,0.]\n",
    "    ])\n",
    "\n",
    "    dY=u_[6:].reshape((6,6))\n",
    "    dY_dt=np.dot(J,dY)\n",
    "    dydtf=dY_dt.flatten()\n",
    "    du_=np.zeros((42,),dtype=nb.float64)\n",
    "    du_[:6]=np.array([dw,dz,dphi,dpw,dpz,dpphi])\n",
    "    du_[6:]=dydtf\n",
    "\n",
    "    for i in range(len(du_)):\n",
    "        du[i]=du_[i]\n",
    "\n"
   ]
  },
  {
   "cell_type": "code",
   "execution_count": null,
   "metadata": {},
   "outputs": [],
   "source": [
    "qrfunctptr=faster_chaotic_system_qr_paper.address"
   ]
  },
  {
   "cell_type": "code",
   "execution_count": null,
   "metadata": {},
   "outputs": [],
   "source": [
    "alpha=0.01"
   ]
  },
  {
   "cell_type": "code",
   "execution_count": null,
   "metadata": {},
   "outputs": [],
   "source": [
    "ics0=np.zeros(42)"
   ]
  },
  {
   "cell_type": "code",
   "execution_count": null,
   "metadata": {},
   "outputs": [],
   "source": [
    "u0=np.array([1.2,0.0,0.0,0.0,0.76,L])\n",
    "w0=np.eye(6).flatten()"
   ]
  },
  {
   "cell_type": "code",
   "execution_count": null,
   "metadata": {},
   "outputs": [],
   "source": [
    "ics0[:6]=u0\n",
    "ics0[6:]=w0"
   ]
  },
  {
   "cell_type": "code",
   "execution_count": null,
   "metadata": {},
   "outputs": [],
   "source": [
    "tau=0.5\n",
    "tf=1000000."
   ]
  },
  {
   "cell_type": "code",
   "execution_count": null,
   "metadata": {},
   "outputs": [],
   "source": [
    "@nb.njit\n",
    "def evolve_lyap(ics0,tau,tf,alpha):\n",
    "    # sf=0\n",
    "    k=1\n",
    "    ti=0\n",
    "    timestep=np.arange(ti,tf,tau)\n",
    "    size=timestep.shape[0]\n",
    "    # print(size)\n",
    "    X1t=np.zeros((size-1,6))\n",
    "    R1t=np.zeros((size-1,6))\n",
    "    sum=0.0\n",
    "    ics=ics0.copy()\n",
    "    # print(ics)\n",
    "    for i in nb.prange(0,size-1):\n",
    "\n",
    "        timeint=np.array((timestep[i],timestep[i+1]))\n",
    "        # print(timeint)\n",
    "        ics,_=lsoda(qrfunctptr,ics,t_eval=timeint,data=np.array((alpha)))\n",
    "        # ics=integrate.solve_ivp(chaotic_lyp,[0.,tf],ics,t_eval=timeint).y[:,1]\n",
    "        ics=ics[1]\n",
    "\n",
    "        xk=ics[:6]\n",
    "        wk=ics[6:].reshape((6,6))\n",
    "        Q_,R_=np.linalg.qr(wk)\n",
    "        sign=np.diag(np.sign(np.diag(R_)))\n",
    "        Q=np.dot(Q_,sign)\n",
    "        R=sign@R_\n",
    "        R1t[i,:]=np.log(np.diag(R))\n",
    "        ics[:6]=xk\n",
    "        ics[6:]=Q.flatten()\n",
    "        k=k+1\n",
    "\n",
    "    for i in nb.prange(0,size-1):\n",
    "        to_sum=R1t[:i+1,:]\n",
    "        X1t[i,:]=np.sum(to_sum,axis=0)/timestep[i+1]\n",
    "\n",
    "    \n",
    "\n",
    "    return X1t\n"
   ]
  },
  {
   "cell_type": "code",
   "execution_count": null,
   "metadata": {},
   "outputs": [],
   "source": [
    "evolve_lyap(ics0,0.5,1.,alpha)"
   ]
  },
  {
   "cell_type": "code",
   "execution_count": null,
   "metadata": {},
   "outputs": [],
   "source": [
    "lyaps1=evolve_lyap(ics0,tau,tf,alpha)"
   ]
  },
  {
   "cell_type": "code",
   "execution_count": null,
   "metadata": {},
   "outputs": [],
   "source": [
    "lyaps1"
   ]
  },
  {
   "cell_type": "code",
   "execution_count": null,
   "metadata": {},
   "outputs": [],
   "source": [
    "plt.figure()\n",
    "plt.plot(np.arange(0.,tf,tau)[:-2],lyaps1[:-1],label='Maximum Lyapunov Exponents', linewidth=2, linestyle='--')\n",
    "ax=plt.gca()\n",
    "ax.set_xscale(\"log\", base=10)\n",
    "ax.set_yscale(\"log\", base=10)\n",
    "plt.xlabel('Time')\n",
    "plt.ylabel('Lyapunov Exponent')\n",
    "plt.legend()\n",
    "# plt.xlim(1e4,1e6)\n",
    "plt.grid(True)\n",
    "plt.title('Time Evolution of Lyapunov Exponents (Using Numbalsoda)')\n",
    "plt.show()"
   ]
  },
  {
   "cell_type": "code",
   "execution_count": null,
   "metadata": {},
   "outputs": [],
   "source": [
    "np.array([[1,2,3]]).ndim"
   ]
  }
 ],
 "metadata": {
  "kernelspec": {
   "display_name": "base",
   "language": "python",
   "name": "python3"
  },
  "language_info": {
   "codemirror_mode": {
    "name": "ipython",
    "version": 3
   },
   "file_extension": ".py",
   "mimetype": "text/x-python",
   "name": "python",
   "nbconvert_exporter": "python",
   "pygments_lexer": "ipython3",
   "version": "3.10.8"
  },
  "orig_nbformat": 4
 },
 "nbformat": 4,
 "nbformat_minor": 2
}
