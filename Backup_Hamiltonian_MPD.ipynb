{
 "cells": [
  {
   "cell_type": "code",
   "execution_count": 2,
   "metadata": {},
   "outputs": [],
   "source": [
    "# Basic Libraries\n",
    "\n",
    "import numpy as np\n",
    "import scipy as sp\n",
    "import sympy as smp\n",
    "from scipy.integrate import solve_ivp, odeint\n",
    "import itertools\n",
    "import mpmath\n",
    "import opt_einsum as oe\n",
    "import numba as nb\n",
    "import symengine as sme\n",
    "from scipy.spatial import KDTree\n",
    "from scipy.spatial import ConvexHull\n",
    "from scipy.spatial.distance import pdist\n",
    "\n",
    "# For Plotting\n",
    "import matplotlib.pyplot as plt\n",
    "import plotly.graph_objects as go\n",
    "import plotly.express as px\n",
    "from plotly.subplots import make_subplots\n",
    "\n",
    "# For Debugging and Profiling\n",
    "import snoop\n",
    "from cProfile import Profile\n",
    "from pstats import SortKey, Stats\n",
    "import pyperclip"
   ]
  },
  {
   "cell_type": "code",
   "execution_count": 3,
   "metadata": {},
   "outputs": [],
   "source": [
    "def get_norm(T, g):\n",
    "    \"\"\"\n",
    "    T should have confuguration either 'u' or 'uu\n",
    "    Returned Configuration: Scalar\n",
    "    \"\"\"\n",
    "    if T.ndim == 2:\n",
    "        return np.einsum(\"ua,vb,ab,uv->\", g, g, T, T)\n",
    "\n",
    "    else:\n",
    "        return np.einsum(\"ab,a,b->\", g, T, T)"
   ]
  },
  {
   "cell_type": "code",
   "execution_count": 4,
   "metadata": {},
   "outputs": [],
   "source": [
    "def levi_civita_symbol(dim=4):\n",
    "    \"\"\"\n",
    "    Define Levi Cevita Tensor\n",
    "    Config: uuuu\n",
    "    \"\"\"\n",
    "\n",
    "    arr = np.zeros(tuple([dim for _ in range(dim)]))\n",
    "    for x in itertools.permutations(tuple(range(dim))):\n",
    "        mat = np.zeros((dim, dim), dtype=np.int32)\n",
    "        for i, j in zip(range(dim), x):\n",
    "            mat[i, j] = 1\n",
    "        arr[x] = int(np.linalg.det(mat))\n",
    "    return arr"
   ]
  },
  {
   "cell_type": "code",
   "execution_count": 27,
   "metadata": {},
   "outputs": [],
   "source": [
    "# @snoop\n",
    "def levi_civita_tensor(gk):\n",
    "    #! uuuu\n",
    "    epsu = levi_civita_symbol()\n",
    "    det_g = smp.det(smp.Matrix(gk))\n",
    "    return epsu / sme.sqrt(-(det_g))"
   ]
  },
  {
   "cell_type": "code",
   "execution_count": 6,
   "metadata": {},
   "outputs": [],
   "source": [
    "def cov_metric_tensor(r, theta, a, M=1.0):\n",
    "    \"\"\"\n",
    "    Define the metric tensor function.\n",
    "\n",
    "    Parameters:\n",
    "        a (float): Parameter 'a' in the metric.\n",
    "        r (float): Parameter 'r' in the metric.\n",
    "        theta (float): Parameter 'theta' in the metric.\n",
    "\n",
    "    Returns:\n",
    "        np.ndarray: The metric tensor at the given values of a, r, and theta.\n",
    "        Configuration: ll\n",
    "    \"\"\"\n",
    "    #! Correction Added Mass term in the symbols\n",
    "    g = np.zeros((4, 4), dtype=type(r))\n",
    "\n",
    "    Delta = a**2 - 2 * M * r + r**2\n",
    "    Sigma = r**2 + a**2 * sme.cos(theta) ** 2\n",
    "\n",
    "    g[0, 0] = -(1.0 - 2.0 * M * r / Sigma)\n",
    "    g[1, 1] = Sigma / Delta\n",
    "    g[2, 2] = Sigma\n",
    "    g[3, 3] = (\n",
    "        sme.sin(theta) ** 2\n",
    "        * ((r**2 + a**2) ** 2 - Delta * a**2 * sme.sin(theta) ** 2)\n",
    "        / Sigma\n",
    "    )\n",
    "    g[0, 3] = -2.0 * a * M * r * sme.sin(theta) ** 2 / Sigma\n",
    "    g[3, 0] = g[0, 3]\n",
    "\n",
    "    # return g.astype(float)\n",
    "    return g"
   ]
  },
  {
   "cell_type": "code",
   "execution_count": 7,
   "metadata": {},
   "outputs": [],
   "source": [
    "def cot_metric_tensor(r, theta, a, M=1.0):\n",
    "    \"\"\"\n",
    "    Define the metric tensor function.\n",
    "\n",
    "    Parameters:\n",
    "        a (float): Parameter 'a' in the metric.\n",
    "        r (float): Parameter 'r' in the metric.\n",
    "        theta (float): Parameter 'theta' in the metric.\n",
    "\n",
    "    Returns:\n",
    "        np.ndarray: The metric tensor at the given values of a, r, and theta.\n",
    "        Configuration: uu\n",
    "    \"\"\"\n",
    "    Delta = a**2 - 2 * M * r + r**2\n",
    "    Sigma = r**2 + a**2 * sme.cos(theta) ** 2\n",
    "\n",
    "    denom = Delta * sme.sin(theta) ** 2\n",
    "\n",
    "    g = np.zeros((4, 4), dtype=type(r))\n",
    "    g[0, 0] = (\n",
    "        -(\n",
    "            sme.sin(theta) ** 2\n",
    "            * ((r**2 + a**2) ** 2 - Delta * a**2 * sme.sin(theta) ** 2)\n",
    "            / Sigma\n",
    "        )\n",
    "        / denom\n",
    "    )\n",
    "\n",
    "    g[1, 1] = Delta / Sigma\n",
    "\n",
    "    g[2, 2] = 1.0 / Sigma\n",
    "\n",
    "    # g[3, 3] = -(-(1.0 - 2.0 * r / Sigma)) / denom\n",
    "    #! Corrected the g[3,3] term below\n",
    "    g[3, 3] = (Delta - a**2 * sme.sin(theta) ** 2) / (denom * Sigma)\n",
    "\n",
    "    g[0, 3] = (-2.0 * a * M * r * sme.sin(theta) ** 2 / Sigma) / denom\n",
    "\n",
    "    g[3, 0] = g[0, 3]\n",
    "\n",
    "    return g\n",
    "    # return g"
   ]
  },
  {
   "cell_type": "code",
   "execution_count": 8,
   "metadata": {},
   "outputs": [],
   "source": [
    "def kerr_christoffel(r, theta, a, M=1.0):\n",
    "    \"\"\"\n",
    "    Function to give the christoffel symbols for kerr metric.\n",
    "    The christoffel symbols are given as \\Gamma ^i _{jk}\n",
    "\n",
    "    From Reference Paper, Appendix\n",
    "    Config: ull\n",
    "    \"\"\"\n",
    "\n",
    "    cs = np.zeros((4, 4, 4), dtype=type(r))\n",
    "\n",
    "    # Definitions\n",
    "    Delta = a**2 - 2 * M * r + r**2\n",
    "    Sigma = r**2 + a**2 * sme.cos(theta) ** 2\n",
    "\n",
    "    cs[3, 0, 1] = M * (2 * r**2 - Sigma) / (Delta * Sigma**2) * a\n",
    "    cs[0, 0, 1] = (\n",
    "        M * (r**2 + a**2) * (r**2 - a**2 * sme.cos(theta) ** 2) / (Sigma**2 * Delta)\n",
    "    )\n",
    "\n",
    "    cs[3, 0, 2] = -2 * M * a * r * (sme.cos(theta) /sme.sin(theta)) / (Sigma**2)\n",
    "    cs[0, 0, 2] = -2 * M * a**2 * r *sme.sin(theta) * sme.cos(theta) / Sigma**2\n",
    "\n",
    "    cs[0, 1, 3] = (\n",
    "        -M\n",
    "        * a\n",
    "        * (2 * r**2 * (r**2 + a**2) + Sigma * (r**2 - a**2))\n",
    "        *sme.sin(theta) ** 2\n",
    "        / (Delta * Sigma**2)\n",
    "    )\n",
    "\n",
    "    cs[3, 1, 3] = (\n",
    "        r * Sigma * (Sigma - 2 * M * r)\n",
    "        - M * a**2 * (2 * r**2 - Sigma) *sme.sin(theta) ** 2\n",
    "    ) / (Delta * Sigma**2)\n",
    "\n",
    "    cs[0, 2, 3] = M * a**3 * r *sme.sin(theta) ** 2 *sme.sin(2 * theta) / Sigma**2\n",
    "\n",
    "    cs[3, 2, 3] = (\n",
    "        (sme.cos(theta) /sme.sin(theta))\n",
    "        * (Sigma**2 + 2 * M * a**2 * r *sme.sin(theta) ** 2)\n",
    "        / Sigma**2\n",
    "    )\n",
    "\n",
    "    cs[1, 0, 0] = M * Delta * (2 * r**2 - Sigma) / Sigma**3\n",
    "\n",
    "    cs[1, 0, 3] = -cs[1, 0, 0] * a *sme.sin(theta) ** 2\n",
    "\n",
    "    cs[2, 0, 0] = -M * a * r *sme.sin(2 * theta) / Sigma**3 * a\n",
    "    cs[2, 0, 3] = (\n",
    "        2.0 * M * r * a * (r**2 + a**2) *sme.sin(theta) * sme.cos(theta) / Sigma**3\n",
    "    )\n",
    "\n",
    "    cs[1, 1, 1] = r / Sigma + (M - r) / Delta\n",
    "\n",
    "    cs[1, 2, 2] = -r * Delta / Sigma\n",
    "    cs[2, 1, 2] = -cs[1, 2, 2] / Delta\n",
    "\n",
    "    cs[1, 1, 2] = cs[2, 2, 2] = -(a**2) *sme.sin(2 * theta) / (2 * Sigma)\n",
    "    cs[2, 1, 1] = -cs[1, 1, 2] / Delta\n",
    "\n",
    "    cs[1, 3, 3] = (\n",
    "        -Delta\n",
    "        * (r * Sigma**2 - M * a**2 * (2 * r**2 - Sigma) *sme.sin(theta) ** 2)\n",
    "        *sme.sin(theta) ** 2\n",
    "        / Sigma**3\n",
    "    )\n",
    "\n",
    "    cs[2, 3, 3] = (\n",
    "        -(Delta * Sigma**2 + 2 * M * r * (r**2 + a**2) ** 2)\n",
    "        *sme.sin(2 * theta)\n",
    "        / (2 * Sigma**3)\n",
    "    )\n",
    "\n",
    "    cs[0, 1, 0] = cs[0, 0, 1]\n",
    "    cs[0, 2, 0] = cs[0, 0, 2]\n",
    "    cs[0, 3, 1] = cs[0, 1, 3]\n",
    "    cs[0, 3, 2] = cs[0, 2, 3]\n",
    "\n",
    "    cs[1, 3, 0] = cs[1, 0, 3]\n",
    "    cs[1, 2, 1] = cs[1, 1, 2]\n",
    "\n",
    "    cs[2, 3, 0] = cs[2, 0, 3]\n",
    "    cs[2, 2, 1] = cs[2, 1, 2]\n",
    "\n",
    "    cs[3, 1, 0] = cs[3, 0, 1]\n",
    "    cs[3, 2, 0] = cs[3, 0, 2]\n",
    "    cs[3, 3, 1] = cs[3, 1, 3]\n",
    "    cs[3, 3, 2] = cs[3, 2, 3]\n",
    "\n",
    "    # return symmetrize(arr=cs)+np.zeros((4,4,4))\n",
    "    return cs + np.zeros((4, 4, 4))\n",
    "    # return cs"
   ]
  },
  {
   "cell_type": "code",
   "execution_count": 9,
   "metadata": {},
   "outputs": [],
   "source": [
    "def kerr_riemann_tensor(r, theta, a, M=1.0, config=\"ulll\"):\n",
    "    \"\"\"\n",
    "    Define variables\n",
    "\n",
    "    Components of the Riemann tensor for Kerr Metric\n",
    "    From Reference Paper, Appendix\n",
    "    The Configuration is ulll\n",
    "    \"\"\"\n",
    "\n",
    "    rijkl = np.zeros((4, 4, 4, 4), dtype=type(r))\n",
    "\n",
    "    # Definitions\n",
    "    Delta = a**2 - 2.0 * M * r + r**2\n",
    "    Sigma = r**2 + a**2 * sme.cos(theta) ** 2\n",
    "\n",
    "    rijkl[0, 0, 0, 3] = (\n",
    "        2.0\n",
    "        * M**2\n",
    "        * sme.sin(theta) ** 2\n",
    "        * a\n",
    "        * r**2\n",
    "        * (r**2 - 3.0 * a**2 * sme.cos(theta) ** 2)\n",
    "        / Sigma**4\n",
    "    )\n",
    "\n",
    "    rijkl[0, 0, 1, 2] = (\n",
    "        -2.0\n",
    "        * M**2\n",
    "        * (3.0 * r**2 - a**2 * sme.cos(theta) ** 2)\n",
    "        * r\n",
    "        * sme.cos(theta)\n",
    "        * a**2\n",
    "        * sme.sin(theta)\n",
    "        / (Sigma**3 * Delta)\n",
    "    )\n",
    "\n",
    "    rijkl[0, 1, 0, 1] = (\n",
    "        M\n",
    "        * r\n",
    "        * (2.0 * (r**2 + a**2) + a**2 * sme.sin(theta) ** 2)\n",
    "        * (r**2 - 3.0 * a**2 * sme.cos(theta) ** 2)\n",
    "        / (Sigma**3 * Delta)\n",
    "    )\n",
    "\n",
    "    rijkl[0, 1, 0, 2] = (\n",
    "        -M\n",
    "        * (3.0 * r**2 - a**2 * sme.cos(theta) ** 2)\n",
    "        * (3.0 * (r**2 + a**2) - 2 * M * r)\n",
    "        * a**2\n",
    "        * sme.sin(theta)\n",
    "        * sme.cos(theta)\n",
    "        / (Sigma**3 * Delta)\n",
    "    )\n",
    "\n",
    "    rijkl[0, 1, 1, 3] = (\n",
    "        3.0\n",
    "        * M\n",
    "        * sme.sin(theta) ** 2\n",
    "        * a\n",
    "        * r\n",
    "        * (r**2 + a**2)\n",
    "        * (r**2 - 3.0 * a**2 * sme.cos(theta) ** 2)\n",
    "        / (Sigma**3 * Delta)\n",
    "    )\n",
    "\n",
    "    rijkl[0, 1, 2, 3] = (\n",
    "        -M\n",
    "        * sme.cos(theta)\n",
    "        * sme.sin(theta)\n",
    "        * a\n",
    "        * (3.0 * r**2 - a**2 * sme.cos(theta) ** 2)\n",
    "        * (2.0 * (r**2 + a**2) ** 2 + a**2 * sme.sin(theta) ** 2 * Delta)\n",
    "        / (Sigma**3 * Delta)\n",
    "    )\n",
    "\n",
    "    # Antisymmetric under exchange of last two indices.\n",
    "    rijkl[0, 0, 3, 0] = -rijkl[0, 0, 0, 3]\n",
    "    rijkl[0, 0, 2, 1] = -rijkl[0, 0, 1, 2]\n",
    "    rijkl[0, 1, 1, 0] = -rijkl[0, 1, 0, 1]\n",
    "    rijkl[0, 1, 2, 0] = -rijkl[0, 1, 0, 2]\n",
    "    rijkl[0, 1, 3, 1] = -rijkl[0, 1, 1, 3]\n",
    "    rijkl[0, 1, 3, 2] = -rijkl[0, 1, 2, 3]\n",
    "\n",
    "    #! -------------------------------------------------------------------------------------#\n",
    "\n",
    "    rijkl[0, 2, 0, 1] = (\n",
    "        -M\n",
    "        * (3.0 * r**2 - a**2 * sme.cos(theta) ** 2)\n",
    "        * (3.0 * (r**2 + a**2) - 4 * M * r)\n",
    "        * a**2\n",
    "        * sme.sin(theta)\n",
    "        * sme.cos(theta)\n",
    "        / (Sigma**3 * Delta)\n",
    "    )\n",
    "    rijkl[0, 2, 0, 2] = (\n",
    "        -M\n",
    "        * r\n",
    "        * (r**2 - 3.0 * a**2 * sme.cos(theta) ** 2)\n",
    "        * (r**2 + a**2 + 2 * a**2 * sme.sin(theta) ** 2)\n",
    "        / Sigma**3\n",
    "    )\n",
    "    rijkl[0, 2, 1, 3] = (\n",
    "        -M\n",
    "        * (3.0 * r**2 - a**2 * sme.cos(theta) ** 2)\n",
    "        * ((a**2 + r**2) ** 2 + 2.0 * a**2 * sme.sin(theta) ** 2 * Delta)\n",
    "        * a\n",
    "        * sme.sin(theta)\n",
    "        * sme.cos(theta)\n",
    "        / (Sigma**3 * Delta)\n",
    "    )\n",
    "    rijkl[0, 2, 2, 3] = (\n",
    "        -3.0\n",
    "        * M\n",
    "        * sme.sin(theta) ** 2\n",
    "        * r\n",
    "        * a\n",
    "        * (a**2 + r**2)\n",
    "        * (r**2 - 3.0 * a**2 * sme.cos(theta) ** 2)\n",
    "        / Sigma**3\n",
    "    )\n",
    "    rijkl[0, 3, 0, 3] = (\n",
    "        -sme.sin(theta) ** 2\n",
    "        * M\n",
    "        * r\n",
    "        * (r**2 + 3 * a**2 * sme.sin(theta) ** 2 - 3 * a**2)\n",
    "        * ((a**2 + r**2) ** 2 - a**2 * sme.sin(theta) ** 2 * Delta)\n",
    "        / Sigma**4\n",
    "    )\n",
    "    rijkl[0, 3, 1, 2] = (\n",
    "        (3.0 * r**2 - a**2 * sme.cos(theta) ** 2)\n",
    "        * M\n",
    "        * ((a**2 + r**2) ** 2 - a**2 * sme.sin(theta) ** 2 * Delta)\n",
    "        * a\n",
    "        * sme.sin(theta)\n",
    "        * sme.cos(theta)\n",
    "        / (Sigma**3 * Delta)\n",
    "    )\n",
    "\n",
    "    # Symmetries\n",
    "    rijkl[0, 2, 1, 0] = -rijkl[0, 2, 0, 1]\n",
    "    rijkl[0, 2, 2, 0] = -rijkl[0, 2, 0, 2]\n",
    "    rijkl[0, 2, 3, 1] = -rijkl[0, 2, 1, 3]\n",
    "    rijkl[0, 2, 3, 2] = -rijkl[0, 2, 2, 3]\n",
    "    rijkl[0, 3, 3, 0] = -rijkl[0, 3, 0, 3]\n",
    "    rijkl[0, 3, 2, 1] = -rijkl[0, 3, 1, 2]\n",
    "\n",
    "    #! ------------------------------------------------------------------------------#\n",
    "\n",
    "    rijkl[1, 0, 0, 1] = (\n",
    "        r\n",
    "        * M\n",
    "        * (r**2 - 3.0 * a**2 * sme.cos(theta) ** 2)\n",
    "        * (a**2 * sme.sin(theta) ** 2 + 2.0 * Delta)\n",
    "        / Sigma**4\n",
    "    )\n",
    "    rijkl[1, 0, 0, 2] = (\n",
    "        -3.0\n",
    "        * M\n",
    "        * Delta\n",
    "        * a**2\n",
    "        * (3.0 * r**2 - a**2 * sme.cos(theta) ** 2)\n",
    "        * sme.sin(theta)\n",
    "        * sme.cos(theta)\n",
    "        / Sigma**4\n",
    "    )\n",
    "    rijkl[1, 0, 1, 3] = (\n",
    "        r\n",
    "        * M\n",
    "        * a\n",
    "        * (3.0 * (r**2 + a**2) - 4.0 * M * r)\n",
    "        * (r**2 - 3.0 * a**2 * sme.cos(theta) ** 2)\n",
    "        * sme.sin(theta) ** 2\n",
    "        / Sigma**4\n",
    "    )\n",
    "    rijkl[1, 0, 2, 3] = (\n",
    "        -a\n",
    "        * M\n",
    "        * (2.0 * (r**2 + a**2) + a**2 * sme.sin(theta) ** 2)\n",
    "        * (3.0 * r**2 - a**2 * sme.cos(theta) ** 2)\n",
    "        * Delta\n",
    "        * sme.cos(theta)\n",
    "        * sme.sin(theta)\n",
    "        / Sigma**4\n",
    "    )\n",
    "    rijkl[1, 2, 0, 3] = (\n",
    "        -sme.cos(theta)\n",
    "        * M\n",
    "        * sme.sin(theta)\n",
    "        * a\n",
    "        * (3.0 * r**2 - a**2 * sme.cos(theta) ** 2)\n",
    "        * Delta\n",
    "        / Sigma**3\n",
    "    )\n",
    "    rijkl[1, 2, 1, 2] = -M * r * (r**2 - 3.0 * a**2 * sme.cos(theta) ** 2) / Sigma**2\n",
    "    rijkl[1, 3, 0, 1] = (\n",
    "        -sme.sin(theta) ** 2\n",
    "        * M\n",
    "        * r\n",
    "        * a\n",
    "        * (r**2 - 3.0 * a**2 * sme.cos(theta) ** 2)\n",
    "        * (3.0 * (r**2 + a**2) - 4.0 * M * r)\n",
    "        / Sigma**4\n",
    "    )\n",
    "    rijkl[1, 3, 0, 2] = (\n",
    "        a\n",
    "        * M\n",
    "        * (3.0 * r**2 - a**2 * sme.cos(theta) ** 2)\n",
    "        * (r**2 + a**2 + 2.0 * a**2 * sme.sin(theta) ** 2)\n",
    "        * Delta\n",
    "        * sme.cos(theta)\n",
    "        * sme.sin(theta)\n",
    "        / Sigma**4\n",
    "    )\n",
    "    rijkl[1, 3, 1, 3] = (\n",
    "        -sme.sin(theta) ** 2\n",
    "        * M\n",
    "        * r\n",
    "        * (r**2 - 3.0 * a**2 * sme.cos(theta) ** 2)\n",
    "        * ((r**2 + a**2) ** 2 + 2.0 * a**2 * Delta * sme.sin(theta) ** 2)\n",
    "        / Sigma**4\n",
    "    )\n",
    "    rijkl[1, 3, 2, 3] = (\n",
    "        3.0\n",
    "        * M\n",
    "        * a**2\n",
    "        * (r**2 + a**2)\n",
    "        * (3.0 * r**2 - a**2 * sme.cos(theta) ** 2)\n",
    "        * Delta\n",
    "        * sme.cos(theta)\n",
    "        * sme.sin(theta) ** 3\n",
    "        / Sigma**4\n",
    "    )\n",
    "\n",
    "    # Symmetries\n",
    "    rijkl[1, 0, 1, 0] = -rijkl[1, 0, 0, 1]\n",
    "    rijkl[1, 0, 2, 0] = -rijkl[1, 0, 0, 2]\n",
    "    rijkl[1, 0, 3, 1] = -rijkl[1, 0, 1, 3]\n",
    "    rijkl[1, 0, 3, 2] = -rijkl[1, 0, 2, 3]\n",
    "    rijkl[1, 2, 3, 0] = -rijkl[1, 2, 0, 3]\n",
    "    rijkl[1, 2, 2, 1] = -rijkl[1, 2, 1, 2]\n",
    "    rijkl[1, 3, 1, 0] = -rijkl[1, 3, 0, 1]\n",
    "    rijkl[1, 3, 2, 0] = -rijkl[1, 3, 0, 2]\n",
    "    rijkl[1, 3, 3, 1] = -rijkl[1, 3, 1, 3]\n",
    "    rijkl[1, 3, 3, 2] = -rijkl[1, 3, 2, 3]\n",
    "\n",
    "    #! -------------------------------------------------------------------------------------#\n",
    "\n",
    "    rijkl[2, 0, 0, 1] = (\n",
    "        -3.0\n",
    "        * M\n",
    "        * a**2\n",
    "        * (3.0 * r**2 - a**2 * sme.cos(theta) ** 2)\n",
    "        * sme.sin(theta)\n",
    "        * sme.cos(theta)\n",
    "        / Sigma**4\n",
    "    )\n",
    "    rijkl[2, 0, 0, 2] = (\n",
    "        -M\n",
    "        * r\n",
    "        * (r**2 - 3.0 * a**2 * sme.cos(theta) ** 2)\n",
    "        * (2.0 * a**2 * sme.sin(theta) ** 2 + Delta)\n",
    "        / Sigma**4\n",
    "    )\n",
    "    rijkl[2, 0, 1, 3] = (\n",
    "        -a\n",
    "        * M\n",
    "        * (3.0 * r**2 - a**2 * sme.cos(theta) ** 2)\n",
    "        * (r**2 + a**2 + 2.0 * a**2 * sme.sin(theta) ** 2)\n",
    "        * sme.cos(theta)\n",
    "        * sme.sin(theta)\n",
    "        / Sigma**4\n",
    "    )\n",
    "    rijkl[2, 0, 2, 3] = (\n",
    "        -M\n",
    "        * r\n",
    "        * a\n",
    "        * (r**2 - 3.0 * a**2 * sme.cos(theta) ** 2)\n",
    "        * (3.0 * (r**2 + a**2) - 2.0 * M * r)\n",
    "        * sme.sin(theta) ** 2\n",
    "        / Sigma**4\n",
    "    )\n",
    "    rijkl[2, 1, 0, 3] = (\n",
    "        M\n",
    "        * a\n",
    "        * (3.0 * r**2 - a**2 * sme.cos(theta) ** 2)\n",
    "        * sme.cos(theta)\n",
    "        * sme.sin(theta)\n",
    "        / Sigma**3\n",
    "    )\n",
    "    rijkl[2, 1, 1, 2] = (\n",
    "        M * r * (r**2 - 3.0 * a**2 * sme.cos(theta) ** 2) / (Delta * Sigma**2)\n",
    "    )\n",
    "    rijkl[2, 3, 0, 1] = (\n",
    "        M\n",
    "        * a\n",
    "        * (2.0 * (r**2 + a**2) + a**2 * sme.sin(theta) ** 2)\n",
    "        * (3.0 * r**2 - a**2 * sme.cos(theta) ** 2)\n",
    "        * sme.cos(theta)\n",
    "        * sme.sin(theta)\n",
    "        / Sigma**4\n",
    "    )\n",
    "    rijkl[2, 3, 0, 2] = (\n",
    "        M\n",
    "        * r\n",
    "        * a\n",
    "        * (r**2 - 3.0 * a**2 * sme.cos(theta) ** 2)\n",
    "        * (3.0 * (r**2 + a**2) - 2.0 * M * r)\n",
    "        * sme.sin(theta) ** 2\n",
    "        / Sigma**4\n",
    "    )\n",
    "    rijkl[2, 3, 1, 3] = (\n",
    "        3.0\n",
    "        * M\n",
    "        * a**2\n",
    "        * (r**2 + a**2)\n",
    "        * (3.0 * r**2 - a**2 * sme.cos(theta) ** 2)\n",
    "        * sme.cos(theta)\n",
    "        * sme.sin(theta) ** 3\n",
    "        / Sigma**4\n",
    "    )\n",
    "    rijkl[2, 3, 2, 3] = (\n",
    "        M\n",
    "        * r\n",
    "        * (r**2 - 3.0 * a**2 * sme.cos(theta) ** 2)\n",
    "        * (2.0 * (r**2 + a**2) ** 2 + a**2 * Delta * sme.sin(theta) ** 2)\n",
    "        * sme.sin(theta) ** 2\n",
    "        / Sigma**4\n",
    "    )\n",
    "\n",
    "    # Symmetries\n",
    "    rijkl[2, 0, 1, 0] = -rijkl[2, 0, 0, 1]\n",
    "    rijkl[2, 0, 2, 0] = -rijkl[2, 0, 0, 2]\n",
    "    rijkl[2, 0, 3, 1] = -rijkl[2, 0, 1, 3]\n",
    "    rijkl[2, 0, 3, 2] = -rijkl[2, 0, 2, 3]\n",
    "    rijkl[2, 1, 3, 0] = -rijkl[2, 1, 0, 3]\n",
    "    rijkl[2, 1, 2, 1] = -rijkl[2, 1, 1, 2]\n",
    "    rijkl[2, 3, 1, 0] = -rijkl[2, 3, 0, 1]\n",
    "    rijkl[2, 3, 2, 0] = -rijkl[2, 3, 0, 2]\n",
    "    # rijkl[2, 3, 2, 1] = -rijkl[2, 3, 1, 2]\n",
    "    rijkl[2, 3, 3, 1] = -rijkl[2, 3, 1, 3]\n",
    "    rijkl[2, 3, 3, 2] = -rijkl[2, 3, 2, 3]\n",
    "\n",
    "    #! --------------------------------------------------------------------------#\n",
    "\n",
    "    rijkl[3, 0, 1, 2] = (\n",
    "        -M\n",
    "        * (3.0 * r**2 - a**2 * sme.cos(theta) ** 2)\n",
    "        * (a**2 * sme.sin(theta) ** 2 - Delta)\n",
    "        * a\n",
    "        * (sme.cos(theta) / sme.sin(theta))\n",
    "        / (Delta * Sigma**3)\n",
    "    )\n",
    "    rijkl[3, 1, 0, 1] = (\n",
    "        3.0 * M * r * a * (r**2 - 3.0 * a**2 * sme.cos(theta) ** 2) / (Delta * Sigma**3)\n",
    "    )\n",
    "    rijkl[3, 1, 0, 2] = (\n",
    "        -M\n",
    "        * a\n",
    "        * (3.0 * r**2 - a**2 * sme.cos(theta) ** 2)\n",
    "        * (2.0 * a**2 * sme.sin(theta) ** 2 + Delta)\n",
    "        * (sme.cos(theta) / sme.sin(theta))\n",
    "        / (Delta * Sigma**3)\n",
    "    )\n",
    "    rijkl[3, 1, 1, 3] = (\n",
    "        M\n",
    "        * r\n",
    "        * (r**2 - 3.0 * a**2 * sme.cos(theta) ** 2)\n",
    "        * (r**2 + a**2 + 2.0 * a**2 * sme.sin(theta) ** 2)\n",
    "        / (Delta * Sigma**3)\n",
    "    )\n",
    "    rijkl[3, 1, 2, 3] = (\n",
    "        -M\n",
    "        * (3.0 * r**2 - a**2 * sme.cos(theta) ** 2)\n",
    "        * (3.0 * (r**2 + a**2) - 2.0 * M * r)\n",
    "        * a**2\n",
    "        * sme.sin(theta)\n",
    "        * sme.cos(theta)\n",
    "        / (Delta * Sigma**3)\n",
    "    )\n",
    "    rijkl[3, 2, 0, 1] = (\n",
    "        -M\n",
    "        * (3.0 * r**2 - a**2 * sme.cos(theta) ** 2)\n",
    "        * (a**2 * sme.sin(theta) ** 2 + 2.0 * Delta)\n",
    "        * a\n",
    "        * (sme.cos(theta) / sme.sin(theta))\n",
    "        / (Delta * Sigma**3)\n",
    "    )\n",
    "    rijkl[3, 2, 0, 2] = (\n",
    "        -M * 3.0 * r * a * (r**2 - 3.0 * a**2 * sme.cos(theta) ** 2) / Sigma**3\n",
    "    )\n",
    "    rijkl[3, 2, 1, 3] = (\n",
    "        -M\n",
    "        * a**2\n",
    "        * (3 * r**2 - a**2 * sme.cos(theta) ** 2)\n",
    "        * (3.0 * (r**2 + a**2) - 4.0 * M * r)\n",
    "        * sme.sin(theta)\n",
    "        * sme.cos(theta)\n",
    "        / (Delta * Sigma**3)\n",
    "    )\n",
    "    rijkl[3, 2, 2, 3] = (\n",
    "        -M\n",
    "        * r\n",
    "        * (2.0 * (r**2 + a**2) + a**2 * sme.sin(theta) ** 2)\n",
    "        * (r**2 - 3.0 * a**2 * sme.cos(theta) ** 2)\n",
    "        / Sigma**3\n",
    "    )\n",
    "    rijkl[3, 3, 0, 3] = (\n",
    "        -2.0\n",
    "        * M**2\n",
    "        * a\n",
    "        * r**2\n",
    "        * (r**2 - 3.0 * a**2 * sme.cos(theta) ** 2)\n",
    "        * sme.sin(theta) ** 2\n",
    "        / Sigma**4\n",
    "    )\n",
    "    rijkl[3, 3, 1, 2] = (\n",
    "        2.0\n",
    "        * M**2\n",
    "        * r\n",
    "        * a**2\n",
    "        * (3.0 * r**2 - a**2 * sme.cos(theta) ** 2)\n",
    "        * sme.cos(theta)\n",
    "        * sme.sin(theta)\n",
    "        / (Delta * Sigma**3)\n",
    "    )\n",
    "\n",
    "    # Symmetries\n",
    "    rijkl[3, 0, 2, 1] = -rijkl[3, 0, 1, 2]\n",
    "    rijkl[3, 1, 1, 0] = -rijkl[3, 1, 0, 1]\n",
    "    rijkl[3, 1, 2, 0] = -rijkl[3, 1, 0, 2]\n",
    "    rijkl[3, 1, 3, 1] = -rijkl[3, 1, 1, 3]\n",
    "    rijkl[3, 1, 3, 2] = -rijkl[3, 1, 2, 3]\n",
    "    rijkl[3, 2, 1, 0] = -rijkl[3, 2, 0, 1]\n",
    "    rijkl[3, 2, 2, 0] = -rijkl[3, 2, 0, 2]\n",
    "    rijkl[3, 2, 3, 1] = -rijkl[3, 2, 1, 3]\n",
    "    rijkl[3, 2, 3, 2] = -rijkl[3, 2, 2, 3]\n",
    "    rijkl[3, 3, 3, 0] = -rijkl[3, 3, 0, 3]\n",
    "    rijkl[3, 3, 2, 1] = -rijkl[3, 3, 1, 2]\n",
    "\n",
    "    #!---------------------------------------------------------------------#\n",
    "\n",
    "    part1 = a**2 + 2 * r * (-2 * M + r) + a**2 * sme.cos(2 * theta)\n",
    "    part2 = 3 * a**2 - 2 * r**2 + 3 * a**2 * sme.cos(2 * theta)\n",
    "    part3 = (a**2 + 2 * r**2 + a**2 * sme.cos(2 * theta)) ** 4\n",
    "    # Calculating Rtensor elements\n",
    "\n",
    "    # rijkl[3, 0, 0, 3] =  (part1 + part2 + part3 + part4) / (Sigma**5)\n",
    "    rijkl[3, 0, 0, 3] = 4 * M * r * part1 * part2 / part3\n",
    "    rijkl[3, 0, 3, 0] = -rijkl[3, 0, 0, 3]\n",
    "\n",
    "    # return rijkl\n",
    "    if config == \"ulll\":\n",
    "        return rijkl + np.zeros((4, 4, 4, 4))\n",
    "\n",
    "    elif config == \"llll\":\n",
    "        gk = cov_metric_tensor(r=r, theta=theta, a=a, M=M)\n",
    "        return np.einsum(\"ij,jklm->iklm\", gk, rijkl) + np.zeros((4, 4, 4, 4))\n",
    "\n",
    "    # elif config==\"lluu\":\n",
    "    #     #!Config: lluu\n",
    "    #     gkinv = cot_metric_tensor(r=r, theta=theta, a=a, M=M)\n",
    "    #     gk = cov_metric_tensor(r=r, theta=theta, a=a, M=M)\n",
    "    #     rllll = np.einsum(\"ij,jklm->iklm\", gk, rijkl)\n",
    "\n",
    "    #     return np.einsum(\"kjlm,la,mb->kjab\", rllll, gkinv, gkinv)\n",
    "\n",
    "    else:\n",
    "        return \"Invalid String\""
   ]
  },
  {
   "cell_type": "code",
   "execution_count": 10,
   "metadata": {},
   "outputs": [],
   "source": [
    "def spintensor(levi, pvector, svector, m):\n",
    "\n",
    "    # p_vectorl = np.einsum(\"ij,j->i\", gk, pvector)  #! Lower the pvector\n",
    "    # s_vectorl = np.einsum(\"ij,j->i\", gk, svector)  #! Lower the svector\n",
    "\n",
    "    #! Using above definition\n",
    "    return -np.einsum(\"uvab,a,b->uv\", levi, svector, pvector) / m"
   ]
  },
  {
   "cell_type": "code",
   "execution_count": 11,
   "metadata": {},
   "outputs": [],
   "source": [
    "def metric_D(r, theta, a, M=1.0):\n",
    "    dgkt = np.zeros((4, 4), dtype=type(r))\n",
    "    dgkp = np.zeros((4, 4), dtype=type(r))\n",
    "\n",
    "    denom = (r**2 + a**2 * sme.cos(theta) ** 2) ** 2\n",
    "\n",
    "    dgkt[1, 0] = M * (a**2 - 2 * r**2 + a**2 * sme.cos(2 * theta)) / denom\n",
    "    dgkt[1, 3] = (\n",
    "        -(2 * a * M * (-(r**2) + a**2 * sme.cos(theta) ** 2) * sme.sin(theta) ** 2)\n",
    "        / denom\n",
    "    )\n",
    "    dgkt[2, 0] = 2 * a**2 * M * r * sme.sin(2 * theta) / denom\n",
    "    dgkt[2, 3] = -2 * a * M * r * (r**2 + a**2) * sme.sin(2 * theta) / denom\n",
    "\n",
    "    dgkp[1, 0] = (\n",
    "        -2 * a * M * (-(r**2) + a**2 * sme.cos(theta) ** 2) * sme.sin(theta) ** 2 / denom\n",
    "    )\n",
    "\n",
    "    dgkp[1, 3] = (\n",
    "        2\n",
    "        * sme.sin(theta) ** 2\n",
    "        * (\n",
    "            sme.cos(theta) ** 2\n",
    "            * (2 * a**2 * r * (a**2 + r**2) + a**4 * (M - r) * sme.sin(theta) ** 2)\n",
    "            + r * (-(a**4) + r**4 + a**2 * (a**2 - M * r) * sme.sin(theta) ** 2)\n",
    "        )\n",
    "        / denom\n",
    "    )\n",
    "\n",
    "    dgkp[2, 0] = -2 * a * M * r * (a**2 + r**2) * sme.sin(2 * theta) / denom\n",
    "    dgkp[2, 3] = (\n",
    "        (\n",
    "            3 * a**6\n",
    "            + 10 * a**4 * M * r\n",
    "            + 11 * a**4 * r**2\n",
    "            + 16 * a**2 * M * r**3\n",
    "            + 16 * a**2 * r**4\n",
    "            + 8 * r**6\n",
    "            + 4\n",
    "            * a**2\n",
    "            * (a**2 + 2 * r**2)\n",
    "            * (a**2 + r * (-2 * M + r))\n",
    "            * sme.cos(2 * theta)\n",
    "            + a**4 * (a**2 - 2 * M * r + r**2) * sme.cos(4 * theta)\n",
    "        )\n",
    "        * sme.sin(2 * theta)\n",
    "        / (8 * denom)\n",
    "    )\n",
    "\n",
    "    return dgkt.T + np.zeros((4, 4)), dgkp.T + np.zeros((4, 4))"
   ]
  },
  {
   "cell_type": "code",
   "execution_count": 12,
   "metadata": {},
   "outputs": [],
   "source": [
    "# @snoop\n",
    "def energy(pvector, Stensor, dgkt):\n",
    "    #! Changed Here\n",
    "    # pvecl = np.einsum(\"ij,j->i\", gk, pvector)\n",
    "    term2 = np.einsum(\"uv,uv->\", dgkt, Stensor) / 2.0\n",
    "    return -pvector[0] + term2"
   ]
  },
  {
   "cell_type": "code",
   "execution_count": 13,
   "metadata": {},
   "outputs": [],
   "source": [
    "def angular_momentum(pvector, Stensor, dgkp):\n",
    "    #! Changed Here\n",
    "    # pvecl = np.einsum(\"ij,j->i\", gk, pvector)\n",
    "    term2 = np.einsum(\"uv,uv->\", dgkp, Stensor) / 2.0\n",
    "    return pvector[3] - term2"
   ]
  },
  {
   "cell_type": "code",
   "execution_count": 14,
   "metadata": {},
   "outputs": [],
   "source": [
    "def spin_matrix(sa, pb, epsilon, m):\n",
    "    \"\"\"\n",
    "    Resultant Config: aa\n",
    "    Input Config: u,u,uu,uuuu\n",
    "    In Tetrad Basis or Coordinate basis\n",
    "    Output Config: uu\n",
    "    Gives same output as above\n",
    "    \"\"\"\n",
    "    #! Changed Sign\n",
    "    #! Removed Metric Tensor\n",
    "    # gkinv = sp.linalg.inv(gk)\n",
    "    #! Changed here\n",
    "    # return np.einsum(\"ab,cd,bdkl,k,l->ac\",gkinv,gkinv,epsilon,sa,pb)/m\n",
    "    return -np.einsum(\"bdkl,k,l->bd\", epsilon ,sa ,pb) / m"
   ]
  },
  {
   "cell_type": "code",
   "execution_count": 15,
   "metadata": {},
   "outputs": [],
   "source": [
    "def to_cartesian(rsol):\n",
    "    r, t, p = rsol[:, 1], rsol[:, 2], rsol[:, 3]\n",
    "\n",
    "    x = r * np.sin(t) * np.cos(p)\n",
    "    y = r * np.sin(t) * np.sin(p)\n",
    "    z = r * np.cos(t)\n",
    "\n",
    "    return np.concatenate((x[:, None], y[:, None], z[:, None]), axis=1)"
   ]
  },
  {
   "cell_type": "code",
   "execution_count": 16,
   "metadata": {},
   "outputs": [],
   "source": [
    "# @snoop\n",
    "def calculate_four_velocity(gk,gkinv,pvector,svector, ddRuuuu):\n",
    "    # scalar_divisor = np.einsum(\"uvps,uv,ps->\", Riemann_cov, Stensor, Stensor) / 4.0\n",
    "\n",
    "\n",
    "    # correction = np.einsum(\n",
    "    #     \"ab,bguv,g,uv->a\", Stensor, Riemann_cov, pvector, Stensor\n",
    "    # ) / (2.0 * (m**2 + scalar_divisor))\n",
    "    correction= -np.einsum(\"uabg,a,b,g->u\",ddRuuuu,svector,pvector,svector)\n",
    "    pvecu= np.einsum(\"ij,j->i\",gkinv,pvector)\n",
    "\n",
    "    dx = (pvecu + correction)\n",
    "    Vsq = np.einsum(\"uv,u,v->\",gk,dx,dx)\n",
    "\n",
    "    Pv= -sme.sqrt(-1/Vsq)\n",
    "    # Pv = 1.0\n",
    "    dx = dx * Pv\n",
    "\n",
    "    return dx"
   ]
  },
  {
   "cell_type": "code",
   "execution_count": 17,
   "metadata": {},
   "outputs": [],
   "source": [
    "def calculate_four_spin(pvector, uvector, svector, cs,dRuluu):\n",
    "\n",
    "    # correction= -np.einsum(\"u,abps,psgd,a,b,g,d->u\",pvector,Riemann,svector,uvector,pvector,svector,optimize=True)/2.0\n",
    "    correction= -np.einsum(\"u,abgd,a,b,g,d->u\",pvector,dRuluu,svector,uvector,pvector,svector,optimize=True)\n",
    "\n",
    "    ds = correction + np.einsum(\"auv,a,u->v\", cs, svector, uvector)\n",
    "\n",
    "    return ds"
   ]
  },
  {
   "cell_type": "code",
   "execution_count": 18,
   "metadata": {},
   "outputs": [],
   "source": [
    "def calculate_four_momentum(pvector, uvector, svector, cs, dRlluu):\n",
    "    # correction = np.einsum(\n",
    "    #     \"abps,psuv,b,u,v->a\", Riemann, levi_mixed, uvector, svector, pvector\n",
    "    # ) / (2.0 * m)\n",
    "    correction= -np.einsum(\"uvab,v,a,b->u\",dRlluu,uvector,pvector,svector,optimize=True)\n",
    "    dp = correction + np.einsum(\"auv,a,u->v\", cs, pvector, uvector)\n",
    "\n",
    "    return dp"
   ]
  },
  {
   "cell_type": "code",
   "execution_count": 19,
   "metadata": {},
   "outputs": [],
   "source": [
    "def MPD(t, y, p):\n",
    "    t, r, theta, phi, pt, pr, ptheta, pphi, st, sr, stheta, sphi = y\n",
    "\n",
    "    a, m, M = p\n",
    "\n",
    "    # xvector=y[:4]\n",
    "    pvector = y[4:8]  #! p_u\n",
    "    svector = y[8:]  #! s_u\n",
    "\n",
    "    gk = cov_metric_tensor(r, theta, a, M)  #! g_{ij}\n",
    "    gkinv = cot_metric_tensor(r, theta, a, M)\n",
    "    cs = kerr_christoffel(r, theta, a, M)  #! G^i_{jk}\n",
    "\n",
    "    Riemann = kerr_riemann_tensor(r, theta, a, M, \"ulll\")  #! R^a_{bcd}\n",
    "\n",
    "    # Riemann_cov = np.einsum(\"ul,lvps->uvps\", gk, Riemann)  #! R_{abcd}\n",
    "    # Riemann_uull = np.einsum(\"ap,upgd->uagd\", gkinv, Riemann)  #! R^{ua}_{gd}\n",
    "\n",
    "    levi = levi_civita_tensor(gk)  #! e^{abcd}\n",
    "    # levi_mixed = np.einsum(\"psxy,xu,yv->psuv\", levi, gk, gk)  #! e^{ps}_{uv}\n",
    "    levi_mixed= np.einsum(\"px,sy,xyuv->psuv\",gk,gk,levi)\n",
    "\n",
    "    dRuluu= 0.5*np.einsum(\"abps,psuv->abuv\",Riemann,levi)\n",
    "    dRlluu= np.einsum(\"ia,abuv->ibuv\",gk,dRuluu)\n",
    "\n",
    "    ddRuuuu= 0.5*np.einsum(\"bi,aips,psuv->abuv\",gkinv,dRuluu,levi_mixed)\n",
    "\n",
    "    # stensor = spintensor(levi, pvector=pvector, svector=svector, gk=gk, m=m)  #! S^{uv}\n",
    "\n",
    "    uvector = calculate_four_velocity(gk=gk,gkinv=gkinv,\n",
    "        pvector=pvector, svector=svector,ddRuuuu=ddRuuuu)  #!dx_mu\n",
    "\n",
    "    dp = calculate_four_momentum(\n",
    "        pvector=pvector,\n",
    "        uvector=uvector,\n",
    "        svector=svector,\n",
    "        cs=cs,\n",
    "        dRlluu=dRlluu\n",
    "    )\n",
    "    #!dp_{mu}\n",
    "\n",
    "    ds = calculate_four_spin(\n",
    "        pvector=pvector,\n",
    "        uvector=uvector,\n",
    "        svector=svector,\n",
    "        cs=cs,\n",
    "        dRuluu=dRuluu\n",
    "    )\n",
    "    #!ds^{mu}\n",
    "\n",
    "    dy = np.zeros_like(y)\n",
    "\n",
    "    dy[0:4] = uvector\n",
    "    dy[4:8] = dp\n",
    "    dy[8:] = ds\n",
    "\n",
    "    return dy"
   ]
  },
  {
   "cell_type": "code",
   "execution_count": 20,
   "metadata": {},
   "outputs": [],
   "source": [
    "# @snoop\n",
    "def get_constants(rsol, gk,gkinv, a,m, M=1.0):\n",
    "    _, r, theta, _ = rsol[:4]\n",
    "    pmul = rsol[4:8]\n",
    "    smul = rsol[8:]\n",
    "\n",
    "    dgkt, dgkp = metric_D(r, theta=theta, a=a, M=M)\n",
    "\n",
    "    levi = levi_civita_tensor(gk=gk)  #!'uuuu'\n",
    "    # Sab=spin_matrix(sa=si,pb=pi,gk=eta,epsilon=epsilon)\n",
    "    Suv = spintensor(levi, pmul, smul, m)\n",
    "\n",
    "    E = energy(pmul, Suv, dgkt)\n",
    "    Jz = angular_momentum(pmul, Suv, dgkp)\n",
    "\n",
    "    mu = get_norm(T=pmul, g=gkinv)\n",
    "    Smag = get_norm(T=smul, g=gkinv)\n",
    "\n",
    "    ps = np.einsum(\"ij,j,i->\", gkinv, pmul, smul)\n",
    "\n",
    "    return E, Jz, mu, Smag, ps"
   ]
  },
  {
   "cell_type": "code",
   "execution_count": 21,
   "metadata": {},
   "outputs": [],
   "source": [
    "t, r, theta, phi = smp.symbols(\"t r theta phi\")\n",
    "pt, pr, ptheta, pphi = sme.symbols(\"pt pr ptheta pphi\")\n",
    "st, sr, stheta, sphi = sme.symbols(\"st sr stheta sphi\")\n",
    "a, m, M = sme.symbols(\"a m M\")"
   ]
  },
  {
   "cell_type": "code",
   "execution_count": 22,
   "metadata": {},
   "outputs": [],
   "source": [
    "p=[a,m,M]"
   ]
  },
  {
   "cell_type": "code",
   "execution_count": 23,
   "metadata": {},
   "outputs": [],
   "source": [
    "y0=np.array([t,r,theta,phi,pt,pr,ptheta,pphi,st,sr,stheta,sphi])"
   ]
  },
  {
   "cell_type": "code",
   "execution_count": 28,
   "metadata": {},
   "outputs": [],
   "source": [
    "f=MPD(0.,y0,p)"
   ]
  },
  {
   "cell_type": "code",
   "execution_count": 29,
   "metadata": {},
   "outputs": [],
   "source": [
    "Vy0 = [\n",
    "    0.0,\n",
    "    6.0,\n",
    "    1.5707963267948966,\n",
    "    0.0,\n",
    "    -0.930946947662005,\n",
    "    0.01,\n",
    "    -1.374960485380533,\n",
    "    2.651574532312764,\n",
    "    0.39585430222598117,\n",
    "    1e-06,\n",
    "    1e-06,\n",
    "    -6.597950372340081,\n",
    "]"
   ]
  },
  {
   "cell_type": "code",
   "execution_count": 30,
   "metadata": {},
   "outputs": [],
   "source": [
    "Vp=[0.8,1.0,1.0]"
   ]
  },
  {
   "cell_type": "code",
   "execution_count": 31,
   "metadata": {},
   "outputs": [],
   "source": [
    "Vf = [\n",
    "    f[i].subs(\n",
    "        {\n",
    "            t: Vy0[0],\n",
    "            r: Vy0[1],\n",
    "            theta: Vy0[2],\n",
    "            phi: Vy0[3],\n",
    "            pt: Vy0[4],\n",
    "            pr: Vy0[5],\n",
    "            ptheta: Vy0[6],\n",
    "            pphi: Vy0[7],\n",
    "            st: Vy0[8],\n",
    "            sr: Vy0[9],\n",
    "            stheta: Vy0[10],\n",
    "            sphi: Vy0[11],\n",
    "            a: Vp[0],\n",
    "            M: Vp[2],\n",
    "        }\n",
    "    )\n",
    "    for i in range(len(f))\n",
    "]"
   ]
  },
  {
   "cell_type": "code",
   "execution_count": 32,
   "metadata": {},
   "outputs": [
    {
     "data": {
      "text/plain": [
       "[-1.36479838292298,\n",
       " -0.00684081462861727,\n",
       " 0.0388088270750185,\n",
       " -0.0818831984320458,\n",
       " -2.21514381913117e-05,\n",
       " 0.00211716525838047,\n",
       " -9.43717016094741e-05,\n",
       " -2.72485030288557e-05,\n",
       " -8.72011677701141e-05,\n",
       " 0.076296320877887,\n",
       " -2.38329558163825e-05,\n",
       " 0.00760593654722135]"
      ]
     },
     "execution_count": 32,
     "metadata": {},
     "output_type": "execute_result"
    }
   ],
   "source": [
    "Vf"
   ]
  },
  {
   "cell_type": "code",
   "execution_count": 20,
   "metadata": {},
   "outputs": [],
   "source": [
    "M = 1e0\n",
    "m = 1e0\n",
    "\n",
    "S = 1e0*m*M #1e0 * m * M\n",
    "E = 0.9328 * m\n",
    "Jz = 2.8 * m * M\n",
    "\n",
    "r0 = 6.0 * M\n",
    "theta0 = np.pi / 2.0\n",
    "phi0 = 0.0\n",
    "a0 = 0.8 * M"
   ]
  },
  {
   "cell_type": "code",
   "execution_count": 21,
   "metadata": {},
   "outputs": [],
   "source": [
    "v_ = np.sqrt(M / r0)\n",
    "abar = a0 / M\n",
    "\n",
    "Epro = (1 - 2 * v_**2 + abar * v_**3) / (np.sqrt(1 - 3 * v_**2 + 2 * abar * v_**3))\n",
    "Eret = (1 - 2 * v_**2 - abar * v_**3) / (np.sqrt(1 - 3 * v_**2 - 2 * abar * v_**3))\n",
    "\n",
    "ideg = np.pi / 30\n",
    "ecc = 0.01\n",
    "alpha_ip = 1 + np.cos(ideg)\n",
    "alpha_im = 1 - np.cos(ideg)\n",
    "\n",
    "E = 0.5 * (alpha_ip * Epro + alpha_im * Eret)\n",
    "Jz = np.cos(ideg) * np.sqrt((1 - ecc**2) / (2 * (1 - E)))"
   ]
  },
  {
   "cell_type": "code",
   "execution_count": 22,
   "metadata": {},
   "outputs": [
    {
     "data": {
      "text/plain": [
       "(0.9242829878465502, 2.5555295156967808)"
      ]
     },
     "execution_count": 22,
     "metadata": {},
     "output_type": "execute_result"
    }
   ],
   "source": [
    "E,Jz"
   ]
  },
  {
   "cell_type": "code",
   "execution_count": 23,
   "metadata": {},
   "outputs": [],
   "source": [
    "gk = cov_metric_tensor(r=r0, theta=theta0, a=a0, M=M)\n",
    "gkinv = cot_metric_tensor(r=r0, theta=theta0, a=a0, M=M)"
   ]
  },
  {
   "cell_type": "code",
   "execution_count": 24,
   "metadata": {},
   "outputs": [],
   "source": [
    "cs = kerr_christoffel(r=r0, theta=theta0, a=a0, M=M)"
   ]
  },
  {
   "cell_type": "code",
   "execution_count": 25,
   "metadata": {},
   "outputs": [],
   "source": [
    "# rllll = kerr_riemann_tensor(r=r0, theta=theta0, a=a0, M=M, config=\"llll\")\n",
    "rulll = kerr_riemann_tensor(r=r0, theta=theta0, a=a0, M=M, config=\"ulll\")\n",
    "# ruull=np.einsum(\"ij,ujps->uips\",gkinv,rulll)"
   ]
  },
  {
   "cell_type": "code",
   "execution_count": 26,
   "metadata": {},
   "outputs": [],
   "source": [
    "levi = levi_civita_tensor(gk)\n",
    "#!epsilon^{uuuu}"
   ]
  },
  {
   "cell_type": "code",
   "execution_count": 27,
   "metadata": {},
   "outputs": [],
   "source": [
    "levi_mixed = np.einsum(\"px,sy,xyuv->psuv\", gk, gk, levi)"
   ]
  },
  {
   "cell_type": "code",
   "execution_count": 28,
   "metadata": {},
   "outputs": [],
   "source": [
    "dgkt, dgkp = metric_D(r0, theta0, a0, M)"
   ]
  },
  {
   "cell_type": "code",
   "execution_count": 29,
   "metadata": {},
   "outputs": [],
   "source": [
    "P1 = 1e-2 * m"
   ]
  },
  {
   "cell_type": "code",
   "execution_count": 30,
   "metadata": {},
   "outputs": [],
   "source": [
    "S1 = 1e-6 * m\n",
    "S2 = 1e-6 * m"
   ]
  },
  {
   "cell_type": "code",
   "execution_count": 31,
   "metadata": {},
   "outputs": [],
   "source": [
    "p0, p2, p3 = sme.symbols(\"p0 p2 p3\", real=True)\n",
    "#!Coordinate Components, 'l'"
   ]
  },
  {
   "cell_type": "code",
   "execution_count": 32,
   "metadata": {},
   "outputs": [],
   "source": [
    "s0, s3 = sme.symbols(\"s0 s3\", real=True)\n",
    "#!Coordinate Components, 'l'"
   ]
  },
  {
   "cell_type": "code",
   "execution_count": 33,
   "metadata": {},
   "outputs": [],
   "source": [
    "gpcoordu = np.array([p0, P1, p2, p3])\n",
    "gscoordu = np.array([s0, S1, S2, s3])\n",
    "\n",
    "#!Config='l'"
   ]
  },
  {
   "cell_type": "code",
   "execution_count": 34,
   "metadata": {},
   "outputs": [],
   "source": [
    "# Definitions\n",
    "Delta = a0**2 - 2 * M * r0 + r0**2\n",
    "Sigma = r0**2 + a0**2 * sme.cos(theta0) ** 2"
   ]
  },
  {
   "cell_type": "code",
   "execution_count": 35,
   "metadata": {},
   "outputs": [],
   "source": [
    "# Sab = spi(sa=gsi, pb=gpi, gk=eta, epsilon=epsl)\n",
    "Suv = spintensor(levi=levi, pvector=gpcoordu, svector=gscoordu, m=m)\n",
    "#!Config: uu, In Coordinate Basis"
   ]
  },
  {
   "cell_type": "code",
   "execution_count": 36,
   "metadata": {},
   "outputs": [
    {
     "data": {
      "text/latex": [
       "$\\displaystyle \\left[\\begin{matrix}0 & 0.0277777777777778 p_{2} s_{3} - 2.77777777777778 \\cdot 10^{-8} p_{3} & 2.77777777777778 \\cdot 10^{-8} p_{3} - 0.000277777777777778 s_{3} & 2.77777777777778 \\cdot 10^{-10} - 2.77777777777778 \\cdot 10^{-8} p_{2}\\\\- 0.0277777777777778 p_{2} s_{3} + 2.77777777777778 \\cdot 10^{-8} p_{3} & 0 & 0.0277777777777778 p_{0} s_{3} - 0.0277777777777778 p_{3} s_{0} & - 2.77777777777778 \\cdot 10^{-8} p_{0} + 0.0277777777777778 p_{2} s_{0}\\\\- 2.77777777777778 \\cdot 10^{-8} p_{3} + 0.000277777777777778 s_{3} & - 0.0277777777777778 p_{0} s_{3} + 0.0277777777777778 p_{3} s_{0} & 0 & 2.77777777777778 \\cdot 10^{-8} p_{0} - 0.000277777777777778 s_{0}\\\\2.77777777777778 \\cdot 10^{-8} p_{2} - 2.77777777777778 \\cdot 10^{-10} & 2.77777777777778 \\cdot 10^{-8} p_{0} - 0.0277777777777778 p_{2} s_{0} & - 2.77777777777778 \\cdot 10^{-8} p_{0} + 0.000277777777777778 s_{0} & 0\\end{matrix}\\right]$"
      ],
      "text/plain": [
       "Matrix([\n",
       "[                                                 0,    0.0277777777777778*p2*s3 - 2.77777777777778e-8*p3,    2.77777777777778e-8*p3 - 0.000277777777777778*s3,      2.77777777777778e-10 - 2.77777777777778e-8*p2],\n",
       "[-0.0277777777777778*p2*s3 + 2.77777777777778e-8*p3,                                                    0, 0.0277777777777778*p0*s3 - 0.0277777777777778*p3*s0, -2.77777777777778e-8*p0 + 0.0277777777777778*p2*s0],\n",
       "[ -2.77777777777778e-8*p3 + 0.000277777777777778*s3, -0.0277777777777778*p0*s3 + 0.0277777777777778*p3*s0,                                                   0,   2.77777777777778e-8*p0 - 0.000277777777777778*s0],\n",
       "[     2.77777777777778e-8*p2 - 2.77777777777778e-10,    2.77777777777778e-8*p0 - 0.0277777777777778*p2*s0,   -2.77777777777778e-8*p0 + 0.000277777777777778*s0,                                                  0]])"
      ]
     },
     "execution_count": 36,
     "metadata": {},
     "output_type": "execute_result"
    }
   ],
   "source": [
    "smp.Matrix(Suv).expand()"
   ]
  },
  {
   "cell_type": "code",
   "execution_count": 37,
   "metadata": {},
   "outputs": [],
   "source": [
    "eq210a = energy(gpcoordu, Suv, dgkt) - E"
   ]
  },
  {
   "cell_type": "code",
   "execution_count": 38,
   "metadata": {},
   "outputs": [
    {
     "data": {
      "text/plain": [
       "-0.92428298784655 - 0.999999999382716*p0 + 7.71604938271605e-10*p3 - 4.61636406592171e-21*s0 - 1.00793975238465e-22*s3 - 0.000617283950617284*p2*s0 - 0.000771604938271605*p2*s3"
      ]
     },
     "execution_count": 38,
     "metadata": {},
     "output_type": "execute_result"
    }
   ],
   "source": [
    "eq210a.expand()"
   ]
  },
  {
   "cell_type": "code",
   "execution_count": 39,
   "metadata": {},
   "outputs": [],
   "source": [
    "eq210b = angular_momentum( gpcoordu, Suv, dgkp) - Jz"
   ]
  },
  {
   "cell_type": "code",
   "execution_count": 40,
   "metadata": {},
   "outputs": [
    {
     "data": {
      "text/plain": [
       "-2.55552951569678 - 1.66172839506173e-07*p0 + 1.00000000061728*p3 - 6.30530823260753e-19*s0 - 4.61636406592171e-21*s3 + 0.166172839506173*p2*s0 - 0.000617283950617284*p2*s3"
      ]
     },
     "execution_count": 40,
     "metadata": {},
     "output_type": "execute_result"
    }
   ],
   "source": [
    "eq210b.expand()"
   ]
  },
  {
   "cell_type": "code",
   "execution_count": 41,
   "metadata": {},
   "outputs": [
    {
     "data": {
      "text/plain": [
       "array([p0, 0.01, p2, p3], dtype=object)"
      ]
     },
     "execution_count": 41,
     "metadata": {},
     "output_type": "execute_result"
    }
   ],
   "source": [
    "gpcoordu"
   ]
  },
  {
   "cell_type": "code",
   "execution_count": 42,
   "metadata": {},
   "outputs": [],
   "source": [
    "eq533 = get_norm(T=gpcoordu, g=gkinv) + m**2"
   ]
  },
  {
   "cell_type": "code",
   "execution_count": 43,
   "metadata": {},
   "outputs": [],
   "source": [
    "eq229 = np.einsum(\"ij,j,i->\", gkinv, gpcoordu, gscoordu) - 0.0"
   ]
  },
  {
   "cell_type": "code",
   "execution_count": 44,
   "metadata": {},
   "outputs": [],
   "source": [
    "eq228 = np.einsum(\"ij,j,i->\", gkinv, gscoordu, gscoordu) - S**2"
   ]
  },
  {
   "cell_type": "code",
   "execution_count": 45,
   "metadata": {},
   "outputs": [
    {
     "data": {
      "text/plain": [
       "1.00006844444444 - 0.0216450216450216*p0*p3 - 1.495670995671*p0**2 + 0.0277777777777778*p2**2 + 0.0270562770562771*p3**2"
      ]
     },
     "execution_count": 45,
     "metadata": {},
     "output_type": "execute_result"
    }
   ],
   "source": [
    "sme.sympify(eq533)"
   ]
  },
  {
   "cell_type": "code",
   "execution_count": 46,
   "metadata": {},
   "outputs": [
    {
     "data": {
      "text/plain": [
       "-0.92428298784655 - 0.999999999382716*p0 + 7.71604938271605e-10*p3 - 4.61636406592171e-21*s0 - 1.00793975238465e-22*s3 - 0.000617283950617284*p2*s0 - 0.000771604938271605*p2*s3"
      ]
     },
     "execution_count": 46,
     "metadata": {},
     "output_type": "execute_result"
    }
   ],
   "source": [
    "eq210a.expand()"
   ]
  },
  {
   "cell_type": "code",
   "execution_count": 47,
   "metadata": {},
   "outputs": [
    {
     "data": {
      "text/plain": [
       "-0.999999999999288 - 0.0216450216450216*s0*s3 - 1.495670995671*s0**2 + 0.0270562770562771*s3**2"
      ]
     },
     "execution_count": 47,
     "metadata": {},
     "output_type": "execute_result"
    }
   ],
   "source": [
    "eq228.expand()"
   ]
  },
  {
   "cell_type": "code",
   "execution_count": 48,
   "metadata": {},
   "outputs": [
    {
     "data": {
      "text/plain": [
       "6.84444444444444e-09 + 2.77777777777778e-08*p2 - 1.495670995671*p0*s0 - 0.0108225108225108*p0*s3 - 0.0108225108225108*p3*s0 + 0.0270562770562771*p3*s3"
      ]
     },
     "execution_count": 48,
     "metadata": {},
     "output_type": "execute_result"
    }
   ],
   "source": [
    "eq229.expand()"
   ]
  },
  {
   "cell_type": "code",
   "execution_count": 49,
   "metadata": {},
   "outputs": [
    {
     "data": {
      "text/plain": [
       "-2.55552951569678 - 1.66172839506173e-07*p0 + 1.00000000061728*p3 - 6.30530823260753e-19*s0 - 4.61636406592171e-21*s3 + 0.166172839506173*p2*s0 - 0.000617283950617284*p2*s3"
      ]
     },
     "execution_count": 49,
     "metadata": {},
     "output_type": "execute_result"
    }
   ],
   "source": [
    "eq210b.expand()"
   ]
  },
  {
   "cell_type": "code",
   "execution_count": 50,
   "metadata": {},
   "outputs": [],
   "source": [
    "# @snoop(depth=1,watch='x')\n",
    "def solve_eq(p_0, p_2, p_3, s_0, s_3):\n",
    "    f = smp.lambdify([p0, p2, p3, s0, s3], [eq210a, eq210b, eq533, eq228, eq229])\n",
    "    return f(p_0, p_2, p_3, s_0, s_3)\n",
    "\n",
    "\n",
    "# f = smp.lambdify([p0, p2, p3, s0, s3], [eq210a, eq210b, eq533, eq228, eq229])"
   ]
  },
  {
   "cell_type": "code",
   "execution_count": 51,
   "metadata": {},
   "outputs": [],
   "source": [
    "# @snoop(depth=1,watch='x')\n",
    "def solve_eq_sp(p):\n",
    "    f = sme.lambdify([p0, p2, p3, s0, s3], [eq210a, eq210b, eq533, eq228, eq229])\n",
    "    return np.array(f(p[0], p[1], p[2], p[3], p[4]))\n",
    "\n",
    "\n",
    "# f = smp.lambdify([p0, p2, p3, s0, s3], [eq210a, eq210b, eq533, eq228, eq229])"
   ]
  },
  {
   "cell_type": "code",
   "execution_count": 52,
   "metadata": {},
   "outputs": [],
   "source": [
    "def jac_nl_symb():\n",
    "    X = smp.Matrix([eq210a, eq210b, eq533, eq228, eq229])\n",
    "    Y = smp.Matrix([p0, p2, p3, s0, s3])\n",
    "\n",
    "    return X.jacobian(Y)"
   ]
  },
  {
   "cell_type": "code",
   "execution_count": 53,
   "metadata": {},
   "outputs": [],
   "source": [
    "jac = jac_nl_symb()"
   ]
  },
  {
   "cell_type": "code",
   "execution_count": 54,
   "metadata": {},
   "outputs": [],
   "source": [
    "def jac_nl(p_0, p_2, p_3, s_0, s_3):\n",
    "    f = smp.lambdify([p0, p2, p3, s0, s3], jac)\n",
    "\n",
    "    return f(p_0, p_2, p_3, s_0, s_3)"
   ]
  },
  {
   "cell_type": "code",
   "execution_count": 55,
   "metadata": {},
   "outputs": [],
   "source": [
    "def jac_nl_sp(p):\n",
    "    f = sme.lambdify([p0, p2, p3, s0, s3], jac)\n",
    "\n",
    "    return f(p[0], p[1], p[2], p[3], p[4])"
   ]
  },
  {
   "cell_type": "code",
   "execution_count": 56,
   "metadata": {},
   "outputs": [
    {
     "data": {
      "text/plain": [
       "[3.708812040814635e-07,\n",
       " 1.6103025708424923e-06,\n",
       " -9.986994939925609e-07,\n",
       " -0.9999999901272496,\n",
       " 1.3622010642796498e-08]"
      ]
     },
     "execution_count": 56,
     "metadata": {},
     "output_type": "execute_result"
    }
   ],
   "source": [
    "solve_eq(-0.924284, -1.33974, 2.55554, 0.0000381344, -0.000652199)"
   ]
  },
  {
   "cell_type": "code",
   "execution_count": 57,
   "metadata": {},
   "outputs": [],
   "source": [
    "roots = mpmath.findroot(\n",
    "    solve_eq,\n",
    "    (-0.92,-1.33,2.55,0.0000038,-0.00065),\n",
    "    solver=\"mdnewton\",\n",
    "    tol=1e-19,\n",
    "    J=jac_nl,\n",
    "    verify=True,\n",
    ")"
   ]
  },
  {
   "cell_type": "code",
   "execution_count": 58,
   "metadata": {},
   "outputs": [],
   "source": [
    "roots = np.array(roots.tolist(), dtype=np.float64)[:, 0]"
   ]
  },
  {
   "cell_type": "code",
   "execution_count": 59,
   "metadata": {},
   "outputs": [
    {
     "data": {
      "text/plain": [
       "[0.0,\n",
       " 0.0,\n",
       " -4.440892098500626e-16,\n",
       " 1.1102230246251565e-16,\n",
       " 4.4310786593238686e-17]"
      ]
     },
     "execution_count": 59,
     "metadata": {},
     "output_type": "execute_result"
    }
   ],
   "source": [
    "solve_eq(*roots)"
   ]
  },
  {
   "cell_type": "code",
   "execution_count": 60,
   "metadata": {},
   "outputs": [
    {
     "data": {
      "text/plain": [
       "array([-0.93094695, -1.37496049,  2.65157453,  0.3958543 , -6.59795037])"
      ]
     },
     "execution_count": 60,
     "metadata": {},
     "output_type": "execute_result"
    }
   ],
   "source": [
    "roots"
   ]
  },
  {
   "cell_type": "code",
   "execution_count": 61,
   "metadata": {},
   "outputs": [],
   "source": [
    "np0, np2, np3, ns0, ns3 = roots"
   ]
  },
  {
   "cell_type": "code",
   "execution_count": 62,
   "metadata": {},
   "outputs": [],
   "source": [
    "ngpcoordu = np.array([np0, P1, np2, np3]).astype(np.float64)\n",
    "ngscoordu = np.array([ns0, S1, S2, ns3]).astype(np.float64)"
   ]
  },
  {
   "cell_type": "code",
   "execution_count": 63,
   "metadata": {},
   "outputs": [
    {
     "data": {
      "text/plain": [
       "(array([-0.93094695,  0.01      , -1.37496049,  2.65157453]),\n",
       " array([ 3.95854302e-01,  1.00000000e-06,  1.00000000e-06, -6.59795037e+00]))"
      ]
     },
     "execution_count": 63,
     "metadata": {},
     "output_type": "execute_result"
    }
   ],
   "source": [
    "ngpcoordu, ngscoordu"
   ]
  },
  {
   "cell_type": "code",
   "execution_count": 64,
   "metadata": {},
   "outputs": [],
   "source": [
    "Suv = spintensor(levi, ngpcoordu, ngscoordu, m)"
   ]
  },
  {
   "cell_type": "code",
   "execution_count": 65,
   "metadata": {},
   "outputs": [
    {
     "data": {
      "text/plain": [
       "array([[-0.00000000e+00,  2.51997733e-01,  1.83283765e-03,\n",
       "         3.84711246e-08],\n",
       "       [-2.51997733e-01, -0.00000000e+00,  1.41464016e-01,\n",
       "        -1.51189748e-02],\n",
       "       [-1.83283765e-03, -1.41464016e-01, -0.00000000e+00,\n",
       "        -1.09985388e-04],\n",
       "       [-3.84711246e-08,  1.51189748e-02,  1.09985388e-04,\n",
       "        -0.00000000e+00]])"
      ]
     },
     "execution_count": 65,
     "metadata": {},
     "output_type": "execute_result"
    }
   ],
   "source": [
    "Suv"
   ]
  },
  {
   "cell_type": "code",
   "execution_count": 66,
   "metadata": {},
   "outputs": [
    {
     "data": {
      "text/plain": [
       "-0.9999999999999925"
      ]
     },
     "execution_count": 66,
     "metadata": {},
     "output_type": "execute_result"
    }
   ],
   "source": [
    "get_norm(ngpcoordu, gkinv)"
   ]
  },
  {
   "cell_type": "code",
   "execution_count": 67,
   "metadata": {},
   "outputs": [
    {
     "data": {
      "text/plain": [
       "0.9999999999999992"
      ]
     },
     "execution_count": 67,
     "metadata": {},
     "output_type": "execute_result"
    }
   ],
   "source": [
    "get_norm(ngscoordu, gkinv)"
   ]
  },
  {
   "cell_type": "code",
   "execution_count": 68,
   "metadata": {},
   "outputs": [],
   "source": [
    "dRuluu= 0.5*np.einsum(\"abps,psuv->abuv\",rulll,levi)\n",
    "ddRuuuu= 0.5*np.einsum(\"bi,aips,psuv->abuv\",gkinv,dRuluu,levi_mixed)"
   ]
  },
  {
   "cell_type": "code",
   "execution_count": 69,
   "metadata": {},
   "outputs": [],
   "source": [
    "dRlluu = np.einsum(\"ia,abuv->ibuv\", gk, dRuluu)"
   ]
  },
  {
   "cell_type": "code",
   "execution_count": 70,
   "metadata": {},
   "outputs": [],
   "source": [
    "vmu0= calculate_four_velocity(gk=gk,gkinv=gkinv,pvector=ngpcoordu,svector=ngscoordu,ddRuuuu=ddRuuuu)"
   ]
  },
  {
   "cell_type": "code",
   "execution_count": 71,
   "metadata": {},
   "outputs": [
    {
     "data": {
      "text/plain": [
       "array([-1.36479838, -0.00684081,  0.03880883, -0.0818832 ])"
      ]
     },
     "execution_count": 71,
     "metadata": {},
     "output_type": "execute_result"
    }
   ],
   "source": [
    "vmu0"
   ]
  },
  {
   "cell_type": "code",
   "execution_count": 72,
   "metadata": {},
   "outputs": [
    {
     "data": {
      "text/plain": [
       "array([-2.21514382e-05,  2.11716526e-03, -9.43717016e-05, -2.72485030e-05])"
      ]
     },
     "execution_count": 72,
     "metadata": {},
     "output_type": "execute_result"
    }
   ],
   "source": [
    "calculate_four_momentum(ngpcoordu,vmu0,ngscoordu,cs,dRlluu)"
   ]
  },
  {
   "cell_type": "code",
   "execution_count": 73,
   "metadata": {},
   "outputs": [
    {
     "data": {
      "text/plain": [
       "array([-8.72011678e-05,  7.62963209e-02, -2.38329558e-05,  7.60593655e-03])"
      ]
     },
     "execution_count": 73,
     "metadata": {},
     "output_type": "execute_result"
    }
   ],
   "source": [
    "calculate_four_spin(ngpcoordu,vmu0,ngscoordu,cs,dRuluu)"
   ]
  },
  {
   "cell_type": "code",
   "execution_count": 74,
   "metadata": {},
   "outputs": [],
   "source": [
    "#!The initial conditions\n",
    "#!We pass r0^mu,p^mu and S^mu\n",
    "y0 = np.array(\n",
    "    [\n",
    "        0.0,\n",
    "        r0,\n",
    "        theta0,\n",
    "        phi0,\n",
    "        ngpcoordu[0],\n",
    "        ngpcoordu[1],\n",
    "        ngpcoordu[2],\n",
    "        ngpcoordu[3],\n",
    "        ngscoordu[0],\n",
    "        ngscoordu[1],\n",
    "        ngscoordu[2],\n",
    "        ngscoordu[3],\n",
    "    ]\n",
    ").astype(np.float64)"
   ]
  },
  {
   "cell_type": "code",
   "execution_count": 79,
   "metadata": {},
   "outputs": [
    {
     "data": {
      "text/plain": [
       "[0.0,\n",
       " 6.0,\n",
       " 1.5707963267948966,\n",
       " 0.0,\n",
       " -0.930946947662005,\n",
       " 0.01,\n",
       " -1.374960485380533,\n",
       " 2.651574532312764,\n",
       " 0.39585430222598117,\n",
       " 1e-06,\n",
       " 1e-06,\n",
       " -6.597950372340081]"
      ]
     },
     "execution_count": 79,
     "metadata": {},
     "output_type": "execute_result"
    }
   ],
   "source": [
    "y0.tolist()"
   ]
  },
  {
   "cell_type": "code",
   "execution_count": 76,
   "metadata": {},
   "outputs": [],
   "source": [
    "p = [a0, m, M]"
   ]
  },
  {
   "cell_type": "code",
   "execution_count": 77,
   "metadata": {},
   "outputs": [
    {
     "data": {
      "text/plain": [
       "[0.8, 1.0, 1.0]"
      ]
     },
     "execution_count": 77,
     "metadata": {},
     "output_type": "execute_result"
    }
   ],
   "source": [
    "p"
   ]
  },
  {
   "cell_type": "code",
   "execution_count": 78,
   "metadata": {},
   "outputs": [
    {
     "data": {
      "text/plain": [
       "array([-1.36479838e+00, -6.84081463e-03,  3.88088271e-02, -8.18831984e-02,\n",
       "       -2.21514382e-05,  2.11716526e-03, -9.43717016e-05, -2.72485030e-05,\n",
       "       -8.72011678e-05,  7.62963209e-02, -2.38329558e-05,  7.60593655e-03])"
      ]
     },
     "execution_count": 78,
     "metadata": {},
     "output_type": "execute_result"
    }
   ],
   "source": [
    "MPD(0.0, y0, p)"
   ]
  },
  {
   "cell_type": "code",
   "execution_count": null,
   "metadata": {},
   "outputs": [],
   "source": []
  },
  {
   "cell_type": "code",
   "execution_count": null,
   "metadata": {},
   "outputs": [],
   "source": [
    "get_constants(y0, gk,gkinv, a0, m, M)"
   ]
  },
  {
   "cell_type": "code",
   "execution_count": null,
   "metadata": {},
   "outputs": [],
   "source": [
    "def poincare(t, y, *args):\n",
    "    # return y[3]%np.pi -1.\n",
    "    if (y[2] - (np.pi / 2)) > 0:\n",
    "        return 1\n",
    "        # return y[1]\n",
    "        # return rhs27(y[:4],y[4:8]/m,y[8:],metric_tensor(y[1],y[2],a0,M),epsl,a0,m,\"u\",M)[2]-np.pi/2\n",
    "    else:\n",
    "        return -1  # Impossible Conditions"
   ]
  },
  {
   "cell_type": "code",
   "execution_count": null,
   "metadata": {},
   "outputs": [],
   "source": [
    "np.arange(0.,100.0,1e-6).shape"
   ]
  },
  {
   "cell_type": "code",
   "execution_count": null,
   "metadata": {},
   "outputs": [],
   "source": [
    "# poincare.direction =0"
   ]
  },
  {
   "cell_type": "code",
   "execution_count": null,
   "metadata": {},
   "outputs": [],
   "source": [
    "sol = solve_ivp(\n",
    "    fun=MPD,\n",
    "    t_span=[0.0, 50000.0],\n",
    "    y0=y0,\n",
    "    method=\"LSODA\",\n",
    "    t_eval=np.arange(0.0, 50000.0 + 1, 1),\n",
    "    events=poincare,\n",
    "    args=(p,),\n",
    "    rtol=1e-12,\n",
    "    atol=1e-12,\n",
    ")"
   ]
  },
  {
   "cell_type": "code",
   "execution_count": null,
   "metadata": {},
   "outputs": [],
   "source": [
    "rsol = sol.y.T"
   ]
  },
  {
   "cell_type": "code",
   "execution_count": null,
   "metadata": {},
   "outputs": [],
   "source": [
    "i = -1\n",
    "gki = cov_metric_tensor(rsol[i][1], rsol[i][2], a0, M)\n",
    "gkinvi = cot_metric_tensor(rsol[i][1], rsol[i][2], a0, M)\n",
    "(\n",
    "    get_constants(rsol=rsol[i], gk=gki,gkinv=gkinvi, a=a0, m=m, M=M)[0] - E,\n",
    "    get_constants(rsol=rsol[i], gk=gki,gkinv=gkinvi, a=a0, m=m, M=M)[1] - Jz,\n",
    "    get_constants(rsol=rsol[i], gk=gki,gkinv=gkinvi, a=a0, m=m, M=M)[2] + m**2,\n",
    "    get_constants(rsol=rsol[i], gk=gki,gkinv=gkinvi, a=a0, m=m, M=M)[3] - S**2,\n",
    ")"
   ]
  },
  {
   "cell_type": "code",
   "execution_count": null,
   "metadata": {},
   "outputs": [],
   "source": [
    "motconst = np.array(\n",
    "    [\n",
    "        get_constants(\n",
    "            rsol[i],\n",
    "            cov_metric_tensor(rsol[i][1], rsol[i][2], a0, M),\n",
    "            cot_metric_tensor(rsol[i][1], rsol[i][2], a0, M),\n",
    "            a0,\n",
    "            m,\n",
    "            M,\n",
    "        )\n",
    "        - np.array([E, Jz, -(m**2), S**2, 0.0])\n",
    "        for i in range(len(rsol))\n",
    "    ]\n",
    ")"
   ]
  },
  {
   "cell_type": "code",
   "execution_count": null,
   "metadata": {},
   "outputs": [],
   "source": [
    "f, ax = plt.subplots(3, 2, figsize=(12, 15))\n",
    "ax[0, 0].plot(sol.t, motconst[:, 0], label=\"Energy\", color=\"blue\")\n",
    "ax[0, 1].plot(sol.t, motconst[:, 1], label=\"Jz\", color=\"green\")\n",
    "ax[1, 0].plot(sol.t, motconst[:, 2], label=\"m^2\", color=\"red\")\n",
    "ax[1, 1].plot(sol.t, motconst[:, 3], label=\"S^2\", color=\"purple\")\n",
    "ax[2, 0].plot(sol.t, motconst[:, 4], label=r\"$p_v S^v$\", color=\"orange\")\n",
    "ax[0, 0].legend(loc=\"upper right\")\n",
    "ax[0, 1].legend(loc=\"upper right\")\n",
    "ax[1, 0].legend(loc=\"upper right\")\n",
    "ax[1, 1].legend(loc=\"upper right\")\n",
    "ax[2, 0].legend(loc=\"upper right\")\n",
    "f.delaxes(ax[2, 1])"
   ]
  },
  {
   "cell_type": "code",
   "execution_count": null,
   "metadata": {},
   "outputs": [],
   "source": [
    "crsol = to_cartesian(rsol=rsol)"
   ]
  },
  {
   "cell_type": "code",
   "execution_count": null,
   "metadata": {},
   "outputs": [],
   "source": [
    "crsol"
   ]
  },
  {
   "cell_type": "code",
   "execution_count": null,
   "metadata": {},
   "outputs": [],
   "source": [
    "# fig = go.Figure(\n",
    "#     data=go.Scatter3d(\n",
    "#         x=crsol[::2, 0],\n",
    "#         y=crsol[::2, 1],\n",
    "#         z=crsol[::2, 2],\n",
    "#         marker=dict(\n",
    "#             size=4,\n",
    "#             color=crsol[::2, 2],\n",
    "#             colorscale=\"Viridis\",\n",
    "#         ),\n",
    "#         line=dict(color=\"darkblue\", width=2),\n",
    "#     )\n",
    "# )\n",
    "\n",
    "# fig.update_layout(\n",
    "#     title=f\"Particle motion with the initial conditions E={E:.3E}, Jz={Jz:.3E} and S={S:.3E}\",\n",
    "#     width=800,\n",
    "#     height=700,\n",
    "#     autosize=False,\n",
    "#     scene=dict(\n",
    "#         camera=dict(\n",
    "#             up=dict(x=0, y=0, z=1),\n",
    "#             eye=dict(\n",
    "#                 x=0,\n",
    "#                 y=1.0707,\n",
    "#                 z=1,\n",
    "#             ),\n",
    "#         ),\n",
    "#         aspectratio=dict(x=1, y=1, z=0.7),\n",
    "#         aspectmode=\"manual\",\n",
    "#     ),\n",
    "# )\n",
    "\n",
    "# # fig.update_traces(line_colorbar_exponentformat=\"E\", selector=dict(type='parcoords'))\n",
    "\n",
    "# fig.show()"
   ]
  },
  {
   "cell_type": "code",
   "execution_count": null,
   "metadata": {},
   "outputs": [],
   "source": [
    "poi_points = sol.y_events[0]"
   ]
  },
  {
   "cell_type": "code",
   "execution_count": null,
   "metadata": {},
   "outputs": [],
   "source": [
    "poi_points.shape"
   ]
  },
  {
   "cell_type": "code",
   "execution_count": null,
   "metadata": {},
   "outputs": [],
   "source": [
    "vr = np.zeros(poi_points[:, 5].shape[0])"
   ]
  },
  {
   "cell_type": "code",
   "execution_count": null,
   "metadata": {},
   "outputs": [],
   "source": [
    "vr = np.zeros(poi_points[:, 5].shape[0])\n",
    "for i in range(len(vr)):\n",
    "    gkp = cov_metric_tensor(poi_points[i, 1], poi_points[i, 2], a0, M)\n",
    "    gkinvp = cot_metric_tensor(poi_points[i, 1], poi_points[i, 2], a0, M)\n",
    "    levip = levi_civita_tensor(gkp)\n",
    "    levi_mixedp = np.einsum(\"px,sy,xyuv->psuv\", gkp, gkp, levip)\n",
    "    # levi_mixedp = np.einsum(\"psxy,xu,yv->psuv\", levip, gkp, gkp)\n",
    "    # Stensorp = spintensor(levip, poi_points[i][4:8], poi_points[i][8:], gkp, m)\n",
    "    rulllp = kerr_riemann_tensor(poi_points[i][1], poi_points[i][2], a0, M, \"ulll\")\n",
    "    dRuluup = 0.5 * np.einsum(\"abps,psuv->abuv\", rulllp, levip)\n",
    "    ddRuuuup = 0.5 * np.einsum(\"bi,aips,psuv->abuv\", gkinvp, dRuluup, levi_mixedp)\n",
    "    vr[i] = calculate_four_velocity(\n",
    "        gk=gkp,\n",
    "        gkinv=gkinvp,\n",
    "        pvector=poi_points[i][4:8],\n",
    "        svector=poi_points[i][8:],\n",
    "        ddRuuuu=ddRuuuup,\n",
    "    )[1]"
   ]
  },
  {
   "cell_type": "code",
   "execution_count": null,
   "metadata": {},
   "outputs": [],
   "source": [
    "plt.figure(dpi=1200)\n",
    "plt.scatter(poi_points[:, 1], vr, s=0.5, c=\"black\")\n",
    "plt.title(r\"Poincare plot in $\\theta = \\pi/2$ plane\")\n",
    "plt.xlabel(\"r\")\n",
    "plt.ylabel(r\"$V_r$\")\n",
    "# plt.savefig(\"Poincareplot_python.png\")\n",
    "# plt.xlim(9,10)\n",
    "# plt.ylim(-4,-3)"
   ]
  },
  {
   "cell_type": "code",
   "execution_count": null,
   "metadata": {},
   "outputs": [],
   "source": [
    "def Correlation_dimension(data, r=0.01):\n",
    "    new_t = KDTree(data)\n",
    "\n",
    "    sum = len(new_t.query_pairs(r, output_type=\"ndarray\"))\n",
    "    Corr_dimension = sum / len(data) ** 2\n",
    "\n",
    "    return Corr_dimension"
   ]
  },
  {
   "cell_type": "code",
   "execution_count": null,
   "metadata": {},
   "outputs": [],
   "source": [
    "r = np.arange(0.0001, 1, 0.01)"
   ]
  },
  {
   "cell_type": "code",
   "execution_count": null,
   "metadata": {},
   "outputs": [],
   "source": [
    "cd001 = []\n",
    "for i in range(len(r)):\n",
    "    cd001.append(Correlation_dimension(crsol, r[i]))"
   ]
  },
  {
   "cell_type": "code",
   "execution_count": null,
   "metadata": {},
   "outputs": [],
   "source": [
    "plt.plot(np.log10(r), np.log10(cd001))"
   ]
  },
  {
   "cell_type": "code",
   "execution_count": null,
   "metadata": {},
   "outputs": [],
   "source": [
    "intcept, Codim = (\n",
    "    np.polynomial.polynomial.Polynomial.fit(np.log10(r[8:]), np.log10(cd001[8:]), 1)\n",
    "    .convert()\n",
    "    .coef\n",
    ")"
   ]
  },
  {
   "cell_type": "code",
   "execution_count": null,
   "metadata": {},
   "outputs": [],
   "source": [
    "Codim"
   ]
  },
  {
   "cell_type": "markdown",
   "metadata": {},
   "source": [
    "## Create a Deviation Vector satisfying Constrains"
   ]
  },
  {
   "cell_type": "code",
   "execution_count": null,
   "metadata": {},
   "outputs": [],
   "source": [
    "dp0, dp3, ds0 = smp.symbols(\"dp0 dp3 ds0\")\n",
    "# ds0=0.0"
   ]
  },
  {
   "cell_type": "code",
   "execution_count": null,
   "metadata": {},
   "outputs": [],
   "source": [
    "EPS=1e-13"
   ]
  },
  {
   "cell_type": "code",
   "execution_count": null,
   "metadata": {},
   "outputs": [],
   "source": [
    "rany0 = (\n",
    "    np.random.uniform(\n",
    "        0.0,\n",
    "        1.0,\n",
    "        (12,),\n",
    "    ).astype(object)\n",
    "    * EPS\n",
    ")\n",
    "rany0[[0, 4, 7, 8]] = [0.0, dp0, dp3, ds0]"
   ]
  },
  {
   "cell_type": "code",
   "execution_count": null,
   "metadata": {},
   "outputs": [],
   "source": [
    "rany0"
   ]
  },
  {
   "cell_type": "code",
   "execution_count": null,
   "metadata": {},
   "outputs": [],
   "source": [
    "ry0 = y0 + rany0"
   ]
  },
  {
   "cell_type": "code",
   "execution_count": null,
   "metadata": {},
   "outputs": [],
   "source": [
    "rgkinv= cot_metric_tensor(ry0[1],ry0[2],a0,M)"
   ]
  },
  {
   "cell_type": "code",
   "execution_count": null,
   "metadata": {},
   "outputs": [],
   "source": [
    "eqC1 = get_norm(ry0[4:8], rgkinv) + m**2"
   ]
  },
  {
   "cell_type": "code",
   "execution_count": null,
   "metadata": {},
   "outputs": [],
   "source": [
    "eqC1"
   ]
  },
  {
   "cell_type": "code",
   "execution_count": null,
   "metadata": {},
   "outputs": [],
   "source": [
    "eqC2 = get_norm(ry0[8:], rgkinv) - S**2"
   ]
  },
  {
   "cell_type": "code",
   "execution_count": null,
   "metadata": {},
   "outputs": [],
   "source": [
    "eqC3 = np.einsum(\"ij,j,i->\", rgkinv, ry0[4:8], ry0[8:])"
   ]
  },
  {
   "cell_type": "code",
   "execution_count": null,
   "metadata": {},
   "outputs": [],
   "source": [
    "eqC3"
   ]
  },
  {
   "cell_type": "code",
   "execution_count": null,
   "metadata": {},
   "outputs": [],
   "source": [
    "eqC2.simplify()"
   ]
  },
  {
   "cell_type": "code",
   "execution_count": null,
   "metadata": {},
   "outputs": [],
   "source": [
    "Croots = smp.solve([eqC1, eqC2, eqC3], [dp0, dp3, ds0])\n",
    "# Croots = smp.solve([eqC1, eqC3], [dp0, dp3])\n",
    "display(Croots)"
   ]
  },
  {
   "cell_type": "code",
   "execution_count": null,
   "metadata": {},
   "outputs": [],
   "source": [
    "ndp0, ndp3, nds0 = Croots[0]"
   ]
  },
  {
   "cell_type": "code",
   "execution_count": null,
   "metadata": {},
   "outputs": [],
   "source": [
    "rany0[[4, 7, 8]] = [ndp0, ndp3, nds0]"
   ]
  },
  {
   "cell_type": "code",
   "execution_count": null,
   "metadata": {},
   "outputs": [],
   "source": [
    "ry0 = (y0 + rany0).astype(float)"
   ]
  },
  {
   "cell_type": "code",
   "execution_count": null,
   "metadata": {},
   "outputs": [],
   "source": [
    "ry0"
   ]
  },
  {
   "cell_type": "code",
   "execution_count": null,
   "metadata": {},
   "outputs": [],
   "source": [
    "dy0=ry0-y0"
   ]
  },
  {
   "cell_type": "code",
   "execution_count": null,
   "metadata": {},
   "outputs": [],
   "source": [
    "dy0"
   ]
  },
  {
   "cell_type": "code",
   "execution_count": null,
   "metadata": {},
   "outputs": [],
   "source": [
    "np.linalg.norm(dy0)"
   ]
  },
  {
   "cell_type": "markdown",
   "metadata": {},
   "source": [
    "### Using Approximate Jacobian"
   ]
  },
  {
   "cell_type": "code",
   "execution_count": null,
   "metadata": {},
   "outputs": [],
   "source": [
    "EPS = np.finfo(float).eps\n",
    "H = np.diag(np.ones_like(y0) * EPS * 1j)"
   ]
  },
  {
   "cell_type": "code",
   "execution_count": null,
   "metadata": {},
   "outputs": [],
   "source": [
    "def fjac(t, x, p):\n",
    "    x = x.astype(np.complex128)\n",
    "    # fx = mpd(0, x, p)\n",
    "    n = 12\n",
    "    J = np.zeros((n, n))\n",
    "\n",
    "    for i in range(n):\n",
    "        J[:, i] = MPD(0, x + H[i], p).imag / H[i, i].imag\n",
    "\n",
    "    return J.T"
   ]
  },
  {
   "cell_type": "code",
   "execution_count": null,
   "metadata": {},
   "outputs": [],
   "source": [
    "def solve_combined(t, y, p):\n",
    "    mpdarr = MPD(t, y[:12], p)\n",
    "    jac = fjac(t, y[:12], p)\n",
    "\n",
    "    dY = y[12:]\n",
    "\n",
    "    dY_dt = np.einsum(\"ij,j->i\", jac, dY)\n",
    "\n",
    "    dydtf = dY_dt.flatten()\n",
    "\n",
    "    du_ = np.zeros((24,))\n",
    "\n",
    "    du_[:12] = mpdarr\n",
    "    du_[12:] = dydtf\n",
    "\n",
    "    return du_"
   ]
  },
  {
   "cell_type": "code",
   "execution_count": null,
   "metadata": {},
   "outputs": [],
   "source": [
    "w0 = dy0\n",
    "\n",
    "Delta = a0**2 - 2 * M * r0 + r0**2\n",
    "Sigma = r0**2 + a0**2 * np.cos(theta0) ** 2\n",
    "scA= (r0**2+a0**2)**2-Delta*a0**2*np.sin(theta0)**2\n",
    "Wk= 2*M*a0*r0/scA\n",
    "\n",
    "Umu= np.array([1,0,0,Wk])/np.sqrt(Delta*Sigma/scA)\n",
    "\n",
    "Puv= np.eye(4)+np.einsum(\"u,v->uv\",Umu,Umu)\n",
    "\n",
    "xi= np.einsum(\"iu,u->i\",Puv,y0[:4])[1:]\n",
    "pi= np.einsum(\"ui,i->u\",Puv,y0[4:8])[1:]\n",
    "si = np.einsum(\"ui,i->u\", Puv, y0[8:])[1:]\n",
    "\n",
    "alphak= np.linalg.norm(np.array([xi,pi,si]).flatten())\n",
    "# w0 = w0 / np.linalg.norm(w0)\n",
    "w0= w0/alphak"
   ]
  },
  {
   "cell_type": "code",
   "execution_count": null,
   "metadata": {},
   "outputs": [],
   "source": [
    "w0"
   ]
  },
  {
   "cell_type": "code",
   "execution_count": null,
   "metadata": {},
   "outputs": [],
   "source": [
    "ics0 = np.array((y0, w0)).flatten()"
   ]
  },
  {
   "cell_type": "code",
   "execution_count": null,
   "metadata": {},
   "outputs": [],
   "source": [
    "(solve_combined(0.0, ics0, p))"
   ]
  },
  {
   "cell_type": "code",
   "execution_count": null,
   "metadata": {},
   "outputs": [],
   "source": [
    "tau = 100 * M  # Renormalization time\n",
    "tf = 10000.0  # Final time\n",
    "steps = 100"
   ]
  },
  {
   "cell_type": "code",
   "execution_count": null,
   "metadata": {},
   "outputs": [],
   "source": [
    "# @nb.njit\n",
    "# @snoop\n",
    "def evolve_lyap(ics0, tau, tf, steps, p):\n",
    "\n",
    "    ti = 0.0  # * Initial Time\n",
    "    timestep = np.arange(ti, tf + tau, tau)  # * Time interval\n",
    "    size = timestep.shape[0]\n",
    "\n",
    "    X1t = np.zeros((size - 1))  # *Lyapunaov Exponents\n",
    "    r1t = np.zeros((size - 1))\n",
    "    sum = 0.0\n",
    "    ics = ics0.copy()  # *We do not want to change our initial conditions\n",
    "    # h = np.zeros(size - 1)  # *Check for energy\n",
    "    # sol = np.zeros((size, 12))\n",
    "    # sol[0, :] = ics[:12]\n",
    "    # traj=np.zeros((steps,6),dtype=np.float64)\n",
    "\n",
    "    for i in range(0, size-1): #size-1\n",
    "        timeint = np.linspace(\n",
    "            timestep[i], timestep[i + 1], steps\n",
    "        )  #!Our time interval with 10000 points between them\n",
    "\n",
    "        # Uncomment following line to use scipy solver and comment above two lines\n",
    "        usol = solve_ivp(\n",
    "            solve_combined,\n",
    "            [timeint[0], timeint[-1]],\n",
    "            ics,\n",
    "            \"LSODA\",\n",
    "            t_eval=timeint,\n",
    "            args=(p,),\n",
    "            atol=1e-12,\n",
    "            rtol=1e-12,\n",
    "        ).y[:, -1]\n",
    "\n",
    "        xk = usol[:12]  # Orbit at t= tau\n",
    "        wk = usol[12:]  # Deviations at t=tau\n",
    "\n",
    "        # *---------------------The following algorithm is from the paper\n",
    "\n",
    "        # alphak = np.linalg.norm(wk)\n",
    "        #! Change Norm\n",
    "        r,theta= xk[1],xk[2]\n",
    "\n",
    "        Delta = a0**2 - 2 * M * r + r**2\n",
    "        Sigma = r**2 + a0**2 * np.cos(theta) ** 2\n",
    "        scA= (r**2+a0**2)**2-Delta*a0**2*np.sin(theta)**2\n",
    "        Wk= 2*M*a0*r/scA\n",
    "\n",
    "        Umu= np.array([1,0,0,Wk])/np.sqrt(Delta*Sigma/scA)\n",
    "\n",
    "        Puv= np.eye(4)+np.einsum(\"u,v->uv\",Umu,Umu)\n",
    "\n",
    "        xi= np.einsum(\"iu,u->i\",Puv,xk[:4])[1:]\n",
    "        pi= np.einsum(\"ui,i->u\",Puv,xk[4:8])[1:]\n",
    "        si = np.einsum(\"ui,i->u\", Puv, xk[8:])[1:]\n",
    "\n",
    "        alphak= np.linalg.norm(np.array([xi,pi,si]).flatten())\n",
    "\n",
    "        sum = sum + np.log(alphak)\n",
    "        # X1t[i] = sum / timestep[i + 1]\n",
    "        r1t[i]= sum\n",
    "        wk0 = wk / alphak\n",
    "\n",
    "        # *----------------------Lyapunaov Exponents calculated above\n",
    "        #! Now for another time step. Set the current solution as the initial conditions for next time steps\n",
    "        ics[:12] = xk\n",
    "        ics[12:] = wk0\n",
    "\n",
    "        #! ------------------------Sanity Check--------------------------\n",
    "        # if sanity_check!=0:\n",
    "        # h[i] = H(1.00, ics, alpha)  #! Current Energy\n",
    "        # sol[i + 1, :] = ics[:12]\n",
    "        #! Comment above line if you do not want to perform the sanity check\n",
    "\n",
    "    # if sanity_check!=0:\n",
    "    #     return X1t,h,sol, traj\n",
    "\n",
    "    return r1t #X1t  # , h, sol"
   ]
  },
  {
   "cell_type": "code",
   "execution_count": null,
   "metadata": {},
   "outputs": [],
   "source": [
    "ritau = evolve_lyap(ics0, tau, tf, steps, p)"
   ]
  },
  {
   "cell_type": "code",
   "execution_count": null,
   "metadata": {},
   "outputs": [],
   "source": [
    "ritau"
   ]
  },
  {
   "cell_type": "code",
   "execution_count": null,
   "metadata": {},
   "outputs": [],
   "source": [
    "plt.plot(np.arange(0.0, tf, tau), ritau)"
   ]
  },
  {
   "cell_type": "code",
   "execution_count": null,
   "metadata": {},
   "outputs": [],
   "source": [
    "intcept, Lyaps = (\n",
    "    np.polynomial.polynomial.Polynomial.fit(\n",
    "        np.arange(0.0, tf, tau), ritau, 1\n",
    "    )\n",
    "    .convert()\n",
    "    .coef\n",
    ")"
   ]
  },
  {
   "cell_type": "code",
   "execution_count": null,
   "metadata": {},
   "outputs": [],
   "source": [
    "Lyaps"
   ]
  },
  {
   "cell_type": "markdown",
   "metadata": {},
   "source": [
    "# Constraint Deviation Vectors"
   ]
  },
  {
   "cell_type": "code",
   "execution_count": null,
   "metadata": {},
   "outputs": [],
   "source": [
    "dp0, dp3, ds0 = smp.symbols(\"dp0 dp3 ds0\")\n",
    "# ds0=0.0"
   ]
  },
  {
   "cell_type": "code",
   "execution_count": null,
   "metadata": {},
   "outputs": [],
   "source": [
    "EPS = 1e-7"
   ]
  },
  {
   "cell_type": "code",
   "execution_count": null,
   "metadata": {},
   "outputs": [],
   "source": [
    "rany0 = (\n",
    "    np.random.uniform(\n",
    "        0.0,\n",
    "        1.0,\n",
    "        (12,),\n",
    "    ).astype(object)\n",
    "    * EPS\n",
    ")\n",
    "rany0[[0, 4, 7, 8]] = [0.0, dp0, dp3, ds0]"
   ]
  },
  {
   "cell_type": "code",
   "execution_count": null,
   "metadata": {},
   "outputs": [],
   "source": [
    "rany0"
   ]
  },
  {
   "cell_type": "code",
   "execution_count": null,
   "metadata": {},
   "outputs": [],
   "source": [
    "ry0 = y0 + rany0"
   ]
  },
  {
   "cell_type": "code",
   "execution_count": null,
   "metadata": {},
   "outputs": [],
   "source": [
    "ry0"
   ]
  },
  {
   "cell_type": "code",
   "execution_count": null,
   "metadata": {},
   "outputs": [],
   "source": [
    "rgkinv = cot_metric_tensor(ry0[1], ry0[2], a0, M)"
   ]
  },
  {
   "cell_type": "code",
   "execution_count": null,
   "metadata": {},
   "outputs": [],
   "source": [
    "eqC1 = get_norm(ry0[4:8], rgkinv) + m**2"
   ]
  },
  {
   "cell_type": "code",
   "execution_count": null,
   "metadata": {},
   "outputs": [],
   "source": [
    "eqC2 = get_norm(ry0[8:], rgkinv) - S**2"
   ]
  },
  {
   "cell_type": "code",
   "execution_count": null,
   "metadata": {},
   "outputs": [],
   "source": [
    "str(eqC2.simplify())"
   ]
  },
  {
   "cell_type": "code",
   "execution_count": null,
   "metadata": {},
   "outputs": [],
   "source": [
    "eqC3 = np.einsum(\"ij,j,i->\", rgkinv, ry0[4:8], ry0[8:])"
   ]
  },
  {
   "cell_type": "code",
   "execution_count": null,
   "metadata": {},
   "outputs": [],
   "source": [
    "str(eqC3.simplify())"
   ]
  },
  {
   "cell_type": "code",
   "execution_count": null,
   "metadata": {},
   "outputs": [],
   "source": [
    "const_roots = smp.solve([eqC1, eqC2, eqC3], [dp0, dp3, ds0])"
   ]
  },
  {
   "cell_type": "code",
   "execution_count": null,
   "metadata": {},
   "outputs": [],
   "source": [
    "const_roots"
   ]
  },
  {
   "cell_type": "code",
   "execution_count": null,
   "metadata": {},
   "outputs": [],
   "source": [
    "eqC1.subs(\n",
    "    [(dp0, const_roots[0][0]), (dp3, const_roots[0][1]), (ds0, const_roots[0][2])]\n",
    "), \\\n",
    "eqC2.subs(\n",
    "    [(dp0, const_roots[0][0]), (dp3, const_roots[0][1]), (ds0, const_roots[0][2])]\n",
    "), \\\n",
    "eqC3.subs(\n",
    "    [(dp0, const_roots[0][0]), (dp3, const_roots[0][1]), (ds0, const_roots[0][2])]\n",
    ")"
   ]
  },
  {
   "cell_type": "code",
   "execution_count": null,
   "metadata": {},
   "outputs": [],
   "source": [
    "y0"
   ]
  },
  {
   "cell_type": "code",
   "execution_count": null,
   "metadata": {},
   "outputs": [],
   "source": [
    "ndp0, ndp3, nds0 = const_roots[0]"
   ]
  },
  {
   "cell_type": "code",
   "execution_count": null,
   "metadata": {},
   "outputs": [],
   "source": [
    "# ry0[[4,6,8]]=dp0,dp2,ds0\n",
    "rany0[[4, 7, 8]] = ndp0, ndp3, nds0"
   ]
  },
  {
   "cell_type": "code",
   "execution_count": null,
   "metadata": {},
   "outputs": [],
   "source": [
    "ry0 = (y0 + rany0).astype(float)"
   ]
  },
  {
   "cell_type": "code",
   "execution_count": null,
   "metadata": {},
   "outputs": [],
   "source": [
    "dy0 = ry0 - y0"
   ]
  },
  {
   "cell_type": "code",
   "execution_count": null,
   "metadata": {},
   "outputs": [],
   "source": [
    "inorm= np.linalg.norm(dy0)"
   ]
  },
  {
   "cell_type": "code",
   "execution_count": null,
   "metadata": {},
   "outputs": [],
   "source": [
    "inorm"
   ]
  },
  {
   "cell_type": "code",
   "execution_count": null,
   "metadata": {},
   "outputs": [],
   "source": [
    "cinorm=np.linalg.norm(dy0[[True, True, True, True, False, True, True, False, False, True, True, True]])"
   ]
  },
  {
   "cell_type": "code",
   "execution_count": null,
   "metadata": {},
   "outputs": [],
   "source": [
    "dy0,cinorm"
   ]
  },
  {
   "cell_type": "code",
   "execution_count": null,
   "metadata": {},
   "outputs": [],
   "source": [
    "tau = 100 * M\n",
    "tf = 20000"
   ]
  },
  {
   "cell_type": "code",
   "execution_count": null,
   "metadata": {},
   "outputs": [],
   "source": [
    "def func_build(delyr,y0): \n",
    "    # y0=pam[\"y\"]\n",
    "    def mp_solve_const(x_0,x_1,x_2):\n",
    "\n",
    "        delyr[[4, 7, 8]] = [x_0,x_1,x_2]\n",
    "\n",
    "        ry0 = y0 + delyr\n",
    "        rgkinv = cot_metric_tensor(ry0[1], ry0[2], a0, M)\n",
    "        eqC1 = get_norm(ry0[4:8], rgkinv) + m**2\n",
    "        eqC2 = get_norm(ry0[8:], rgkinv) - S**2\n",
    "        eqC3 = np.einsum(\"ij,j,i->\", rgkinv, ry0[4:8], ry0[8:])\n",
    "\n",
    "        return [eqC1,eqC2,eqC3]\n",
    "    \n",
    "    return mp_solve_const\n",
    "    "
   ]
  },
  {
   "cell_type": "code",
   "execution_count": null,
   "metadata": {},
   "outputs": [],
   "source": [
    "# @snoop\n",
    "def evolve_lyap2(y0, y1, p):\n",
    "    ti = 0.0\n",
    "    timestep = np.arange(ti, tf + tau, tau)\n",
    "\n",
    "    re= np.zeros((len(timestep)))\n",
    "    mask = np.array(\n",
    "        [True, True, True, True, False, True, True, False, False, True, True, True]\n",
    "    )\n",
    "\n",
    "    cinorm= np.linalg.norm((y1-y0)[mask])\n",
    "\n",
    "    for i in range(len(timestep)-1):\n",
    "        t_span= [0.,tau]\n",
    "        soly0 = solve_ivp(\n",
    "            fun=MPD,\n",
    "            t_span=t_span,\n",
    "            y0=y0,\n",
    "            method=\"LSODA\",\n",
    "            t_eval=[tau],\n",
    "            args=(p,),\n",
    "            rtol=1e-12,\n",
    "            atol=1e-12,\n",
    "        ).y[:,-1]\n",
    "\n",
    "        soly1 = solve_ivp(\n",
    "            fun=MPD,\n",
    "            t_span=t_span,\n",
    "            y0=y1,\n",
    "            method=\"LSODA\",\n",
    "            t_eval=[tau],\n",
    "            args=(p,),\n",
    "            rtol=1e-12,\n",
    "            atol=1e-12,\n",
    "        ).y[:,-1]\n",
    "\n",
    "        re[i+1]=np.log(np.linalg.norm((soly1-soly0)[mask])/cinorm)\n",
    "\n",
    "        delyr = ((soly1 - soly0))/np.linalg.norm((soly0 - soly1)[mask])\n",
    "        delyr[~mask]=0.0\n",
    "        delyr=delyr*cinorm\n",
    "        # print(np.where()[0])\n",
    "        # delyr=np.insert(delyr,np.where(mask)[0],0.)\n",
    "\n",
    "        sign= np.sign(soly1[~mask])\n",
    "        iv= (np.array([EPS,EPS,EPS])*sign).tolist()\n",
    "\n",
    "        f= func_build(delyr,soly0)\n",
    "        root_ = mpmath.findroot(\n",
    "            f, iv, solver=\"mdnewton\", tol=1e-24)\n",
    "        root = np.array(root_.tolist(), dtype=float)[:, 0]\n",
    "\n",
    "        delyr[[4,7,8]]= root[0],root[1],root[2]\n",
    "        y1= soly0+ delyr\n",
    "        y0=soly0\n",
    "\n",
    "        dum2_=np.linalg.norm((y1-y0)[mask])\n",
    "\n",
    "    return re"
   ]
  },
  {
   "cell_type": "code",
   "execution_count": null,
   "metadata": {},
   "outputs": [],
   "source": [
    "lis = evolve_lyap2(y0, ry0, p)"
   ]
  },
  {
   "cell_type": "code",
   "execution_count": null,
   "metadata": {},
   "outputs": [],
   "source": [
    "lis"
   ]
  },
  {
   "cell_type": "code",
   "execution_count": null,
   "metadata": {},
   "outputs": [],
   "source": [
    "# cre= np.cumsum(np.log(lis))"
   ]
  },
  {
   "cell_type": "code",
   "execution_count": null,
   "metadata": {},
   "outputs": [],
   "source": [
    "timestep= np.arange(0,tf+tau,int(tau))"
   ]
  },
  {
   "cell_type": "code",
   "execution_count": null,
   "metadata": {},
   "outputs": [],
   "source": [
    "timestep.shape,lis.shape"
   ]
  },
  {
   "cell_type": "code",
   "execution_count": null,
   "metadata": {},
   "outputs": [],
   "source": [
    "plt.scatter(timestep, np.cumsum(lis), s=0.5)\n",
    "# plt.scatter(timestep, lis, s=0.5)"
   ]
  },
  {
   "cell_type": "code",
   "execution_count": null,
   "metadata": {},
   "outputs": [],
   "source": [
    "timestep[10:26]"
   ]
  },
  {
   "cell_type": "code",
   "execution_count": null,
   "metadata": {},
   "outputs": [],
   "source": [
    "intcept, lyap = np.polynomial.polynomial.Polynomial.fit(timestep[10:], lis[10:], 1).convert().coef"
   ]
  },
  {
   "cell_type": "code",
   "execution_count": null,
   "metadata": {},
   "outputs": [],
   "source": [
    "lyap"
   ]
  },
  {
   "cell_type": "markdown",
   "metadata": {},
   "source": [
    "### Get the Derivatives of Dynamical Variables"
   ]
  },
  {
   "cell_type": "code",
   "execution_count": null,
   "metadata": {},
   "outputs": [],
   "source": [
    "def Dcov_metric_tensor(r, theta, a, M=1.0):\n",
    "    \"\"\"\n",
    "    Define the metric tensor function.\n",
    "\n",
    "    Parameters:\n",
    "        a (float): Parameter 'a' in the metric.\n",
    "        r (float): Parameter 'r' in the metric.\n",
    "        theta (float): Parameter 'theta' in the metric.\n",
    "\n",
    "    Returns:\n",
    "        np.ndarray: The metric tensor at the given values of a, r, and theta.\n",
    "        Configuration: ll\n",
    "    \"\"\"\n",
    "    #! Correction Added Mass term in the symbols\n",
    "    dg = np.zeros((4, 4, 4), dtype=type(r))\n",
    "\n",
    "    # Definitions\n",
    "    Delta = a**2 - 2 * M * r + r**2\n",
    "    Sigma = r**2 + a**2 * np.cos(theta) ** 2\n",
    "    dSt = -(a**2) * np.sin(2 * theta)\n",
    "    dSr = 2 * r\n",
    "    dD = 2 * (r - M)\n",
    "\n",
    "    dg[0, 0, [[1, 2]]] = [\n",
    "        2.0 * M * (-r * dSr + Sigma) / Sigma**2,\n",
    "        -2.0 * M * r * dSt / Sigma**2,\n",
    "    ]\n",
    "\n",
    "    dg[1, 1, [[1, 2]]] = [(Delta * dSr - Sigma * dD) / Delta**2, dSt / Delta]\n",
    "\n",
    "    dg[2, 2, [[1, 2]]] = [dSr, dSt]\n",
    "\n",
    "    dg[3, 3, [[1, 2]]] = [\n",
    "        (\n",
    "            (a**2 * Delta * np.sin(theta) ** 2 - (a**2 + r**2) ** 2) * dSr\n",
    "            + (-(a**2) * dD * np.sin(theta) ** 2 + 4 * r * (a**2 + r**2)) * Sigma\n",
    "        )\n",
    "        * np.sin(theta) ** 2\n",
    "        / Sigma**2,\n",
    "        (\n",
    "            2\n",
    "            * (-2 * a**2 * Delta * np.sin(theta) ** 2 + (a**2 + r**2) ** 2)\n",
    "            * Sigma\n",
    "            * np.cos(theta)\n",
    "            + (a**2 * Delta * np.sin(theta) ** 2 - (a**2 + r**2) ** 2)\n",
    "            * dSt\n",
    "            * np.sin(theta)\n",
    "        )\n",
    "        * np.sin(theta)\n",
    "        / Sigma**2,\n",
    "    ]\n",
    "\n",
    "    dg[0, 3, [[1, 2]]] = [\n",
    "        2.0 * M * a * (r * dSr - Sigma) * np.sin(theta) ** 2 / Sigma**2,\n",
    "        M\n",
    "        * a\n",
    "        * r\n",
    "        * (-2.0 * Sigma * np.sin(2 * theta) - 1.0 * dSt * np.cos(2 * theta) + 1.0 * dSt)\n",
    "        / Sigma**2,\n",
    "    ]\n",
    "\n",
    "    dg[3, 0, [[1, 2]]] = dg[0, 3, [[1, 2]]]\n",
    "\n",
    "    # return dg.asty, [[1,2]]pe(float)\n",
    "    return dg"
   ]
  },
  {
   "cell_type": "code",
   "execution_count": null,
   "metadata": {},
   "outputs": [],
   "source": [
    "def Dcot_metric_tensor(r, theta, a, M=1.0):\n",
    "    \"\"\"\n",
    "    Define the metric tensor function.\n",
    "\n",
    "    Parameters:\n",
    "        a (float): Parameter 'a' in the metric.\n",
    "        r (float): Parameter 'r' in the metric.\n",
    "        theta (float): Parameter 'theta' in the metric.\n",
    "\n",
    "    Returns:\n",
    "        np.ndarray: The metric tensor at the given values of a, r, and theta.\n",
    "        Configuration: uu\n",
    "    \"\"\"\n",
    "    # Definitions\n",
    "    Delta = a**2 - 2 * M * r + r**2\n",
    "    Sigma = r**2 + a**2 * np.cos(theta) ** 2\n",
    "    dSt = -(a**2) * np.sin(2 * theta)\n",
    "    dSr = 2 * r\n",
    "    dD = 2 * (r - M)\n",
    "\n",
    "    denom = Delta * np.sin(theta) ** 2\n",
    "    ddmr = dD * np.sin(theta) ** 2\n",
    "    ddmt = Delta * np.sin(2 * theta)\n",
    "\n",
    "    dg = np.zeros((4, 4, 4), dtype=type(r))\n",
    "\n",
    "    dg[0, 0, [[1, 2]]] = [\n",
    "        (\n",
    "            -(a**2 * Delta * np.sin(theta) ** 2 - (a**2 + r**2) ** 2) * Sigma * ddmr\n",
    "            - (a**2 * Delta * np.sin(theta) ** 2 - (a**2 + r**2) ** 2) * dSr * denom\n",
    "            + (a**2 * dD * np.sin(theta) ** 2 - 4 * r * (a**2 + r**2)) * Sigma * denom\n",
    "        )\n",
    "        * np.sin(theta) ** 2\n",
    "        / (Sigma**2 * denom**2),\n",
    "        (\n",
    "            -(a**2 * Delta * np.sin(theta) ** 2 - (a**2 + r**2) ** 2)\n",
    "            * Sigma\n",
    "            * ddmt\n",
    "            * np.sin(theta)\n",
    "            - (a**2 * Delta * np.sin(theta) ** 2 - (a**2 + r**2) ** 2)\n",
    "            * dSt\n",
    "            * denom\n",
    "            * np.sin(theta)\n",
    "            + 2\n",
    "            * (2 * a**2 * Delta * np.sin(theta) ** 2 - (a**2 + r**2) ** 2)\n",
    "            * Sigma\n",
    "            * denom\n",
    "            * np.cos(theta)\n",
    "        )\n",
    "        * np.sin(theta)\n",
    "        / (Sigma**2 * denom**2),\n",
    "    ]\n",
    "\n",
    "    dg[1, 1, [[1, 2]]] = [\n",
    "        (-Delta * dSr + Sigma * dD) / Sigma**2,\n",
    "        -Delta * dSt / Sigma**2,\n",
    "    ]\n",
    "\n",
    "    dg[2, 2, [[1, 2]]] = [-1.0 * dSr / Sigma**2, -1.0 * dSt / Sigma**2]\n",
    "\n",
    "    dg[3, 3, [[1, 2]]] = [\n",
    "        (\n",
    "            (a**2 * np.sin(theta) ** 2 - Delta) * Sigma * ddmr\n",
    "            + (a**2 * np.sin(theta) ** 2 - Delta) * dSr * denom\n",
    "            + Sigma * dD * denom\n",
    "        )\n",
    "        / (Sigma**2 * denom**2),\n",
    "        (\n",
    "            -(a**2) * Sigma * denom * np.sin(2 * theta)\n",
    "            + (a**2 * np.sin(theta) ** 2 - Delta) * Sigma * ddmt\n",
    "            + (a**2 * np.sin(theta) ** 2 - Delta) * dSt * denom\n",
    "        )\n",
    "        / (Sigma**2 * denom**2),\n",
    "    ]\n",
    "\n",
    "    dg[0, 3, [[1, 2]]] = [\n",
    "        2.0\n",
    "        * M\n",
    "        * a\n",
    "        * (r * Sigma * ddmr + r * dSr * denom - Sigma * denom)\n",
    "        * np.sin(theta) ** 2\n",
    "        / (Sigma**2 * denom**2),\n",
    "        M\n",
    "        * a\n",
    "        * r\n",
    "        * (\n",
    "            -1.0 * Sigma * ddmt * np.cos(2 * theta)\n",
    "            + 1.0 * Sigma * ddmt\n",
    "            - 2.0 * Sigma * denom * np.sin(2 * theta)\n",
    "            - 1.0 * dSt * denom * np.cos(2 * theta)\n",
    "            + 1.0 * dSt * denom\n",
    "        )\n",
    "        / (Sigma**2 * denom**2),\n",
    "    ]\n",
    "\n",
    "    dg[3, 0, [[1, 2]]] = dg[0, 3, [[1, 2]]]\n",
    "\n",
    "    return dg  # return dg, [[1,2]]"
   ]
  },
  {
   "cell_type": "code",
   "execution_count": null,
   "metadata": {},
   "outputs": [],
   "source": [
    "def Dkerr_christoffel(r, theta, a, M=1.0):\n",
    "    \"\"\"\n",
    "    Function to give the christoffel symbols for kerr metric.\n",
    "    The christoffel symbols are given as \\Gamma ^i _{jk}\n",
    "\n",
    "    From Reference Paper, Appendix\n",
    "    Config: ull\n",
    "    \"\"\"\n",
    "\n",
    "    dcs = np.zeros((4, 4, 4, 4), dtype=type(r))\n",
    "\n",
    "    # Definitions\n",
    "    Delta = a**2 - 2 * M * r + r**2\n",
    "    Sigma = r**2 + a**2 * np.cos(theta) ** 2\n",
    "    dSt = -(a**2) * np.sin(2 * theta)\n",
    "    dSr = 2 * r\n",
    "    dD = 2 * (r - M)\n",
    "\n",
    "    dcs[3, 0, 1, [[1, 2]]] = [\n",
    "        M\n",
    "        * a\n",
    "        * (\n",
    "            (4 * r - dSr) * Delta * Sigma\n",
    "            - 2 * (2 * r**2 - Sigma) * Delta * dSr\n",
    "            - (2 * r**2 - Sigma) * Sigma * dD\n",
    "        )\n",
    "        / (Delta**2 * Sigma**3),\n",
    "        M * a * (-4 * r**2 + Sigma) * dSt / (Delta * Sigma**3),\n",
    "    ]\n",
    "\n",
    "    dcs[0, 0, 1, [[1, 2]]] = [\n",
    "        M\n",
    "        * (\n",
    "            2 * r * (a**2 * np.sin(theta) ** 2 + 2 * r**2) * Delta * Sigma\n",
    "            + 2 * (a**2 + r**2) * (a**2 * np.cos(theta) ** 2 - r**2) * Delta * dSr\n",
    "            + (a**2 + r**2) * (a**2 * np.cos(theta) ** 2 - r**2) * Sigma * dD\n",
    "        )\n",
    "        / (Delta**2 * Sigma**3),\n",
    "        2\n",
    "        * M\n",
    "        * (a**2 + r**2)\n",
    "        * (\n",
    "            (1 / 2) * a**2 * Sigma * np.sin(2 * theta)\n",
    "            + (a**2 * np.cos(theta) ** 2 - r**2) * dSt\n",
    "        )\n",
    "        / (Delta * Sigma**3),\n",
    "    ]\n",
    "\n",
    "    dcs[3, 0, 2, [[1, 2]]] = [\n",
    "        2 * M * a * (2 * r * dSr - Sigma) / (Sigma**3 * np.tan(theta)),\n",
    "        2\n",
    "        * M\n",
    "        * a\n",
    "        * r\n",
    "        * (Sigma + dSt * np.sin(2 * theta))\n",
    "        / (Sigma**3 * np.sin(theta) ** 2),\n",
    "    ]\n",
    "\n",
    "    dcs[0, 0, 2, [[1, 2]]] = [\n",
    "        M * a**2 * (2 * r * dSr - Sigma) * np.sin(2 * theta) / Sigma**3,\n",
    "        2\n",
    "        * M\n",
    "        * a**2\n",
    "        * r\n",
    "        * (-Sigma * np.cos(2 * theta) + dSt * np.sin(2 * theta))\n",
    "        / Sigma**3,\n",
    "    ]\n",
    "\n",
    "    dcs[0, 1, 3, [[1, 2]]] = [\n",
    "        M\n",
    "        * a\n",
    "        * (\n",
    "            2 * (2 * r**2 * (a**2 + r**2) - (a**2 - r**2) * Sigma) * Delta * dSr\n",
    "            + (2 * r**2 * (a**2 + r**2) - (a**2 - r**2) * Sigma) * Sigma * dD\n",
    "            - (4 * r**3 + 4 * r * (a**2 + r**2) + 2 * r * Sigma - (a**2 - r**2) * dSr)\n",
    "            * Delta\n",
    "            * Sigma\n",
    "        )\n",
    "        * np.sin(theta) ** 2\n",
    "        / (Delta**2 * Sigma**3),\n",
    "        M\n",
    "        * a\n",
    "        * (\n",
    "            2 * (2 * r**2 * (a**2 + r**2) - (a**2 - r**2) * Sigma) * dSt * np.sin(theta)\n",
    "            + (\n",
    "                (a**2 - r**2) * dSt * np.sin(theta)\n",
    "                + (-4 * r**2 * (a**2 + r**2) + 2 * (a**2 - r**2) * Sigma)\n",
    "                * np.cos(theta)\n",
    "            )\n",
    "            * Sigma\n",
    "        )\n",
    "        * np.sin(theta)\n",
    "        / (Delta * Sigma**3),\n",
    "    ]\n",
    "\n",
    "    dcs[3, 1, 3, [[1, 2]]] = [\n",
    "        (\n",
    "            2\n",
    "            * (\n",
    "                M * a**2 * (2 * r**2 - Sigma) * np.sin(theta) ** 2\n",
    "                + r * (2 * M * r - Sigma) * Sigma\n",
    "            )\n",
    "            * Delta\n",
    "            * dSr\n",
    "            + (\n",
    "                M * a**2 * (2 * r**2 - Sigma) * np.sin(theta) ** 2\n",
    "                + r * (2 * M * r - Sigma) * Sigma\n",
    "            )\n",
    "            * Sigma\n",
    "            * dD\n",
    "            - (\n",
    "                M * a**2 * (4 * r - dSr) * np.sin(theta) ** 2\n",
    "                + r * (2 * M - dSr) * Sigma\n",
    "                + r * (2 * M * r - Sigma) * dSr\n",
    "                + (2 * M * r - Sigma) * Sigma\n",
    "            )\n",
    "            * Delta\n",
    "            * Sigma\n",
    "        )\n",
    "        / (Delta**2 * Sigma**3),\n",
    "        M\n",
    "        * (\n",
    "            -2 * a**2 * r**2 * Sigma * np.sin(2 * theta)\n",
    "            + 4 * a**2 * r**2 * dSt * np.sin(theta) ** 2\n",
    "            + a**2 * Sigma**2 * np.sin(2 * theta)\n",
    "            - a**2 * Sigma * dSt * np.sin(theta) ** 2\n",
    "            + 2 * r**2 * Sigma * dSt\n",
    "        )\n",
    "        / (Delta * Sigma**3),\n",
    "    ]\n",
    "\n",
    "    dcs[0, 2, 3, [[1, 2]]] = [\n",
    "        2\n",
    "        * M\n",
    "        * a**3\n",
    "        * (-2 * r * dSr + Sigma)\n",
    "        * np.sin(theta) ** 3\n",
    "        * np.cos(theta)\n",
    "        / Sigma**3,\n",
    "        2\n",
    "        * M\n",
    "        * a**3\n",
    "        * r\n",
    "        * (Sigma * np.sin(3 * theta) - dSt * np.sin(theta) * np.sin(2 * theta))\n",
    "        * np.sin(theta)\n",
    "        / Sigma**3,\n",
    "    ]\n",
    "\n",
    "    dcs[3, 2, 3, [[1, 2]]] = [\n",
    "        M * a**2 * (-2 * r * dSr + Sigma) * np.sin(2 * theta) / Sigma**3,\n",
    "        2 * M * a**2 * r * np.cos(2 * theta) / Sigma**2\n",
    "        - 2 * M * a**2 * r * dSt * np.sin(2 * theta) / Sigma**3\n",
    "        + 2 / (np.cos(2 * theta) - 1),\n",
    "    ]\n",
    "\n",
    "    dcs[1, 0, 0, [[1, 2]]] = [\n",
    "        M\n",
    "        * (\n",
    "            -3 * (2 * r**2 - Sigma) * Delta * dSr\n",
    "            + ((4 * r - dSr) * Delta + (2 * r**2 - Sigma) * dD) * Sigma\n",
    "        )\n",
    "        / Sigma**4,\n",
    "        2 * M * (-3 * r**2 + Sigma) * Delta * dSt / Sigma**4,\n",
    "    ]\n",
    "\n",
    "    dcs[1, 0, 3, [[1, 2]]] = [\n",
    "        M\n",
    "        * a\n",
    "        * (\n",
    "            3 * (2 * r**2 - Sigma) * Delta * dSr\n",
    "            - ((4 * r - dSr) * Delta + (2 * r**2 - Sigma) * dD) * Sigma\n",
    "        )\n",
    "        * np.sin(theta) ** 2\n",
    "        / Sigma**4,\n",
    "        M\n",
    "        * a\n",
    "        * (\n",
    "            3 * (2 * r**2 - Sigma) * dSt * np.sin(theta)\n",
    "            + ((-4 * r**2 + 2 * Sigma) * np.cos(theta) + dSt * np.sin(theta)) * Sigma\n",
    "        )\n",
    "        * Delta\n",
    "        * np.sin(theta)\n",
    "        / Sigma**4,\n",
    "    ]\n",
    "\n",
    "    dcs[2, 0, 0, [[1, 2]]] = [\n",
    "        M * a**2 * (3 * r * dSr - Sigma) * np.sin(2 * theta) / Sigma**4,\n",
    "        M\n",
    "        * a**2\n",
    "        * r\n",
    "        * (-2 * Sigma * np.cos(2 * theta) + 3 * dSt * np.sin(2 * theta))\n",
    "        / Sigma**4,\n",
    "    ]\n",
    "\n",
    "    dcs[2, 0, 3, [[1, 2]]] = [\n",
    "        (1 / 2)\n",
    "        * M\n",
    "        * a\n",
    "        * (-6.0 * r * (a**2 + r**2) * dSr + (2.0 * a**2 + 6.0 * r**2) * Sigma)\n",
    "        * np.sin(2 * theta)\n",
    "        / Sigma**4,\n",
    "        M\n",
    "        * a\n",
    "        * r\n",
    "        * (a**2 + r**2)\n",
    "        * (2.0 * Sigma * np.cos(2 * theta) - 3.0 * dSt * np.sin(2 * theta))\n",
    "        / Sigma**4,\n",
    "    ]\n",
    "\n",
    "    dcs[1, 1, 1, [[1, 2]]] = [\n",
    "        -M * dD / Delta**2\n",
    "        - r * dSr / Sigma**2\n",
    "        + r * dD / Delta**2\n",
    "        + 1 / Sigma\n",
    "        - 1 / Delta,\n",
    "        -r * dSt / Sigma**2,\n",
    "    ]\n",
    "\n",
    "    dcs[1, 2, 2, [[1, 2]]] = [\n",
    "        (r * Delta * dSr - (r * dD + Delta) * Sigma) / Sigma**2,\n",
    "        r * Delta * dSt / Sigma**2,\n",
    "    ]\n",
    "\n",
    "    dcs[2, 1, 2, [[1, 2]]] = [(-r * dSr + Sigma) / Sigma**2, -r * dSt / Sigma**2]\n",
    "\n",
    "    dcs[1, 1, 2, [[1, 2]]] = dcs[2, 2, 2, [[1, 2]]] = [\n",
    "        (1 / 2) * a**2 * dSr * np.sin(2 * theta) / Sigma**2,\n",
    "        a**2\n",
    "        * (-Sigma * np.cos(2 * theta) + (1 / 2) * dSt * np.sin(2 * theta))\n",
    "        / Sigma**2,\n",
    "    ]\n",
    "\n",
    "    dcs[2, 1, 1, [[1, 2]]] = [\n",
    "        (1 / 2)\n",
    "        * a**2\n",
    "        * (-Delta * dSr - Sigma * dD)\n",
    "        * np.sin(2 * theta)\n",
    "        / (Delta**2 * Sigma**2),\n",
    "        a**2\n",
    "        * (Sigma * np.cos(2 * theta) - 1 / 2 * dSt * np.sin(2 * theta))\n",
    "        / (Delta * Sigma**2),\n",
    "    ]\n",
    "\n",
    "    dcs[1, 3, 3, [[1, 2]]] = [\n",
    "        (\n",
    "            (\n",
    "                (M * a**2 * (2 * r**2 - Sigma) * np.sin(theta) ** 2 - r * Sigma**2) * dD\n",
    "                - (\n",
    "                    -M * a**2 * (4 * r - dSr) * np.sin(theta) ** 2\n",
    "                    + 2 * r * Sigma * dSr\n",
    "                    + Sigma**2\n",
    "                )\n",
    "                * Delta\n",
    "            )\n",
    "            * Sigma\n",
    "            - 3\n",
    "            * (M * a**2 * (2 * r**2 - Sigma) * np.sin(theta) ** 2 - r * Sigma**2)\n",
    "            * Delta\n",
    "            * dSr\n",
    "        )\n",
    "        * np.sin(theta) ** 2\n",
    "        / Sigma**4,\n",
    "        (\n",
    "            -3 / 2 * M * a**2 * r**2 * (1 - np.cos(2 * theta)) ** 2 * dSt\n",
    "            + 2 * M * a**2 * r**2 * Sigma * np.sin(2 * theta)\n",
    "            - M * a**2 * r**2 * Sigma * np.sin(4 * theta)\n",
    "            + (1 / 2) * M * a**2 * (1 - np.cos(2 * theta)) ** 2 * Sigma * dSt\n",
    "            - M * a**2 * Sigma**2 * np.sin(2 * theta)\n",
    "            + (1 / 2) * M * a**2 * Sigma**2 * np.sin(4 * theta)\n",
    "            - r * Sigma**3 * np.sin(2 * theta)\n",
    "            - 1 / 2 * r * Sigma**2 * dSt * np.cos(2 * theta)\n",
    "            + (1 / 2) * r * Sigma**2 * dSt\n",
    "        )\n",
    "        * Delta\n",
    "        / Sigma**4,\n",
    "    ]\n",
    "\n",
    "    dcs[2, 3, 3, [[1, 2]]] = [\n",
    "        (1 / 2)\n",
    "        * (\n",
    "            3 * (2 * M * r * (a**2 + r**2) ** 2 + Delta * Sigma**2) * dSr\n",
    "            - (\n",
    "                8 * M * r**2 * (a**2 + r**2)\n",
    "                + 2 * M * (a**2 + r**2) ** 2\n",
    "                + 2 * Delta * Sigma * dSr\n",
    "                + Sigma**2 * dD\n",
    "            )\n",
    "            * Sigma\n",
    "        )\n",
    "        * np.sin(2 * theta)\n",
    "        / Sigma**4,\n",
    "        -2 * M * r * (a**2 + r**2) ** 2 * np.cos(2 * theta) / Sigma**3\n",
    "        + 3 * M * r * (a**2 + r**2) ** 2 * dSt * np.sin(2 * theta) / Sigma**4\n",
    "        - Delta * np.cos(2 * theta) / Sigma\n",
    "        + (1 / 2) * Delta * dSt * np.sin(2 * theta) / Sigma**2,\n",
    "    ]\n",
    "\n",
    "    dcs[0, 1, 0, [[1, 2]]] = dcs[0, 0, 1, [[1, 2]]]\n",
    "    dcs[0, 2, 0, [[1, 2]]] = dcs[0, 0, 2, [[1, 2]]]\n",
    "    dcs[0, 3, 1, [[1, 2]]] = dcs[0, 1, 3, [[1, 2]]]\n",
    "    dcs[0, 3, 2, [[1, 2]]] = dcs[0, 2, 3, [[1, 2]]]\n",
    "\n",
    "    dcs[1, 3, 0, [[1, 2]]] = dcs[1, 0, 3, [[1, 2]]]\n",
    "    dcs[1, 2, 1, [[1, 2]]] = dcs[1, 1, 2, [[1, 2]]]\n",
    "\n",
    "    dcs[2, 3, 0, [[1, 2]]] = dcs[2, 0, 3, [[1, 2]]]\n",
    "    dcs[2, 2, 1, [[1, 2]]] = dcs[2, 1, 2, [[1, 2]]]\n",
    "\n",
    "    dcs[3, 1, 0, [[1, 2]]] = dcs[3, 0, 1, [[1, 2]]]\n",
    "    dcs[3, 2, 0, [[1, 2]]] = dcs[3, 0, 2, [[1, 2]]]\n",
    "    dcs[3, 3, 1, [[1, 2]]] = dcs[3, 1, 3, [[1, 2]]]\n",
    "    dcs[3, 3, 2, [[1, 2]]] = dcs[3, 2, 3, [[1, 2]]]\n",
    "\n",
    "    # return symmetrize(arr=dcs)+np.zer, [[1,2]]os((4,4,4))\n",
    "    return dcs + np.zeros((4, 4, 4, 4))\n",
    "    # return dcs, [[1,2]]"
   ]
  },
  {
   "cell_type": "code",
   "execution_count": null,
   "metadata": {},
   "outputs": [],
   "source": [
    "def DRijkl(r,theta,a, M=1.0, config=\"ullll\"):\n",
    "\n",
    "    drijkl= np.zeros((4,4,4,4,4),dtype=type(r))\n",
    "\n",
    "    Delta=  a**2 - 2 * M * r + r**2\n",
    "    Sigma =  r**2 + a**2 * np.cos(theta) ** 2\n",
    "    dSt= -a**2*np.sin(2*theta)\n",
    "    dSr=  2*r\n",
    "    dD=  2*(r-M)\n",
    "\n",
    "    drijkl[0, 0, 0, 3, :] = [0, M**2*a*r*(8.0*r*(3.0*a**2*np.cos(theta)**2 - r**2)*dSr + 4.0*(-3.0*a**2*np.cos(theta)**2 + 2.0*r**2)*Sigma)*np.sin(theta)**2/Sigma**5, M**2*a*r**2*(-3.0*a**2*Sigma*np.sin(4*theta) - 3.0*a**2*dSt*np.cos(4*theta) + 3.0*a**2*dSt + 2.0*r**2*Sigma*np.sin(2*theta) + 4.0*r**2*dSt*np.cos(2*theta) - 4.0*r**2*dSt)/Sigma**5, 0.]\n",
    "\n",
    "    drijkl[0, 0, 1, 2, :] = [0, M**2*a**2*(-6.0*r*(a**2*np.cos(theta)**2 - 3.0*r**2)*Delta*dSr - 2.0*r*(a**2*np.cos(theta)**2 - 3.0*r**2)*Sigma*dD + (2.0*a**2*np.cos(theta)**2 - 18.0*r**2)*Delta*Sigma)*np.sin(theta)*np.cos(theta)/(Delta**2*Sigma**4), M**2*a**2*r*(-6.0*(a**2*np.cos(theta)**2 - 3.0*r**2)*dSt*np.sin(theta)*np.cos(theta) + (8.0*a**2*np.sin(theta)**4 - 10.0*a**2*np.sin(theta)**2 + 2.0*a**2 + 12.0*r**2*np.sin(theta)**2 - 6.0*r**2)*Sigma)/(Delta*Sigma**4), 0.]\n",
    "\n",
    "    drijkl[0, 1, 0, 1, :] = [0, M*(3*r*(3.0*a**2*np.cos(theta)**2 - r**2)*(a**2*np.sin(theta)**2 + 2.0*a**2 + 2.0*r**2)*Delta*dSr + r*(3.0*a**2*np.cos(theta)**2 - r**2)*(a**2*np.sin(theta)**2 + 2.0*a**2 + 2.0*r**2)*Sigma*dD + (3.0*a**4*np.sin(theta)**4 + 3.0*a**4*np.sin(theta)**2 - 6.0*a**4 + 21.0*a**2*r**2*np.sin(theta)**2 - 12.0*a**2*r**2 + 10.0*r**4)*Delta*Sigma)/(Delta**2*Sigma**4), M*r*(a**2*(12.0*a**2*np.sin(theta)**2 + 6.0*a**2 + 14.0*r**2)*Sigma*np.sin(theta)*np.cos(theta) + 3*(3.0*a**2*np.cos(theta)**2 - r**2)*(a**2*np.sin(theta)**2 + 2.0*a**2 + 2.0*r**2)*dSt)/(Delta*Sigma**4), 0.]\n",
    "\n",
    "    drijkl[0, 1, 0, 2, :] = [0, M*a**2*(-3*(a**2*np.cos(theta)**2 - 3.0*r**2)*(-2*M*r + 3.0*a**2 + 3.0*r**2)*Delta*dSr - (a**2*np.cos(theta)**2 - 3.0*r**2)*(-2*M*r + 3.0*a**2 + 3.0*r**2)*Sigma*dD + (-6.0*r*(-2*M*r + 3.0*a**2 + 3.0*r**2) + (-2*M + 6.0*r)*(a**2*np.cos(theta)**2 - 3.0*r**2))*Delta*Sigma)*np.sin(theta)*np.cos(theta)/(Delta**2*Sigma**4), M*a**2*(-3*(a**2*np.cos(theta)**2 - 3.0*r**2)*dSt*np.sin(theta)*np.cos(theta) + (4.0*a**2*np.sin(theta)**4 - 5.0*a**2*np.sin(theta)**2 + 1.0*a**2 + 6.0*r**2*np.sin(theta)**2 - 3.0*r**2)*Sigma)*(-2*M*r + 3.0*a**2 + 3.0*r**2)/(Delta*Sigma**4), 0.]\n",
    "\n",
    "    drijkl[0, 1, 1, 3, :] = [0, M*a*(9.0*r*(a**2 + r**2)*(3.0*a**2*np.cos(theta)**2 - r**2)*Delta*dSr + 3.0*r*(a**2 + r**2)*(3.0*a**2*np.cos(theta)**2 - r**2)*Sigma*dD + (-9.0*a**4*np.cos(theta)**2 - 27.0*a**2*r**2*np.cos(theta)**2 + 9.0*a**2*r**2 + 15.0*r**4)*Delta*Sigma)*np.sin(theta)**2/(Delta**2*Sigma**4), M*a*r*(a**2 + r**2)*(-4.5*a**2*Sigma*np.sin(4*theta) - 3.375*a**2*dSt*np.cos(4*theta) + 3.375*a**2*dSt + 3.0*r**2*Sigma*np.sin(2*theta) + 4.5*r**2*dSt*np.cos(2*theta) - 4.5*r**2*dSt)/(Delta*Sigma**4), 0.]\n",
    "\n",
    "    drijkl[0, 1, 2, 3, :] = [0., M*a*(-3*(a**2*np.cos(theta)**2 - 3.0*r**2)*(a**2*Delta*np.sin(theta)**2 + 2.0*(a**2 + r**2)**2)*Delta*dSr - (a**2*np.cos(theta)**2 - 3.0*r**2)*(a**2*Delta*np.sin(theta)**2 + 2.0*(a**2 + r**2)**2)*Sigma*dD + (-6.0*r*(a**2*Delta*np.sin(theta)**2 + 2.0*(a**2 + r**2)**2) + (a**2*np.cos(theta)**2 - 3.0*r**2)*(a**2*dD*np.sin(theta)**2 + 8.0*r*(a**2 + r**2)))*Delta*Sigma)*np.sin(theta)*np.cos(theta)/(Delta**2*Sigma**4), M*a*(2*a**2*(a**2*np.cos(theta)**2 - 3.0*r**2)*Delta*Sigma*np.sin(theta)**2*np.cos(theta)**2 - 3*(a**2*np.cos(theta)**2 - 3.0*r**2)*(a**2*Delta*np.sin(theta)**2 + 2.0*(a**2 + r**2)**2)*dSt*np.sin(theta)*np.cos(theta) + (a**2*Delta*np.sin(theta)**2 + 2.0*(a**2 + r**2)**2)*(4.0*a**2*np.sin(theta)**4 - 5.0*a**2*np.sin(theta)**2 + 1.0*a**2 + 6.0*r**2*np.sin(theta)**2 - 3.0*r**2)*Sigma)/(Delta*Sigma**4), 0.]\n",
    "\n",
    "    # Antisymmetric under exchange of last two indices.\n",
    "    drijkl[0, 0, 3, 0, :] = -drijkl[0, 0, 0, 3, :]\n",
    "    drijkl[0, 0, 2, 1, :] = -drijkl[0, 0, 1, 2, :]\n",
    "    drijkl[0, 1, 1, 0, :] = -drijkl[0, 1, 0, 1, :]\n",
    "    drijkl[0, 1, 2, 0, :] = -drijkl[0, 1, 0, 2, :]\n",
    "    drijkl[0, 1, 3, 1, :] = -drijkl[0, 1, 1, 3, :]\n",
    "    drijkl[0, 1, 3, 2, :] = -drijkl[0, 1, 2, 3, :]\n",
    "\n",
    "    #! -------------------------------------------------------------------------------------#\n",
    "\n",
    "    drijkl[0, 2, 0, 1, :] = [0., M*a**2*(-3*(a**2*np.cos(theta)**2 - 3.0*r**2)*(-4*M*r + 3.0*a**2 + 3.0*r**2)*Delta*dSr - (a**2*np.cos(theta)**2 - 3.0*r**2)*(-4*M*r + 3.0*a**2 + 3.0*r**2)*Sigma*dD + (-6.0*r*(-4*M*r + 3.0*a**2 + 3.0*r**2) + (-4*M + 6.0*r)*(a**2*np.cos(theta)**2 - 3.0*r**2))*Delta*Sigma)*np.sin(theta)*np.cos(theta)/(Delta**2*Sigma**4), M*a**2*(-3*(a**2*np.cos(theta)**2 - 3.0*r**2)*dSt*np.sin(theta)*np.cos(theta) + (4.0*a**2*np.sin(theta)**4 - 5.0*a**2*np.sin(theta)**2 + 1.0*a**2 + 6.0*r**2*np.sin(theta)**2 - 3.0*r**2)*Sigma)*(-4*M*r + 3.0*a**2 + 3.0*r**2)/(Delta*Sigma**4), 0.]\n",
    "\n",
    "    drijkl[0, 2, 0, 2, :] = [0., M*(-3*r*(3.0*a**2*np.cos(theta)**2 - r**2)*(2*a**2*np.sin(theta)**2 + a**2 + r**2)*dSr + (-6.0*a**4*np.sin(theta)**4 + 3.0*a**4*np.sin(theta)**2 + 3.0*a**4 - 15.0*a**2*r**2*np.sin(theta)**2 + 6.0*a**2*r**2 - 5.0*r**4)*Sigma)/Sigma**4, M*r*(a**2*(-24.0*a**2*np.sin(theta)**2 + 6.0*a**2 - 10.0*r**2)*Sigma*np.sin(theta)*np.cos(theta) - 3*(3.0*a**2*np.cos(theta)**2 - r**2)*(2*a**2*np.sin(theta)**2 + a**2 + r**2)*dSt)/Sigma**4, 0.]\n",
    "\n",
    "    drijkl[0, 2, 1, 3, :] = [0., M*a*(-3*(a**2*np.cos(theta)**2 - 3.0*r**2)*(2.0*a**2*Delta*np.sin(theta)**2 + (a**2 + r**2)**2)*Delta*dSr - (a**2*np.cos(theta)**2 - 3.0*r**2)*(2.0*a**2*Delta*np.sin(theta)**2 + (a**2 + r**2)**2)*Sigma*dD + (-6.0*r*(2.0*a**2*Delta*np.sin(theta)**2 + (a**2 + r**2)**2) + (a**2*np.cos(theta)**2 - 3.0*r**2)*(2.0*a**2*dD*np.sin(theta)**2 + 4*r*(a**2 + r**2)))*Delta*Sigma)*np.sin(theta)*np.cos(theta)/(Delta**2*Sigma**4), M*a*(4.0*a**2*(a**2*np.cos(theta)**2 - 3.0*r**2)*Delta*Sigma*np.sin(theta)**2*np.cos(theta)**2 - 3*(a**2*np.cos(theta)**2 - 3.0*r**2)*(2.0*a**2*Delta*np.sin(theta)**2 + (a**2 + r**2)**2)*dSt*np.sin(theta)*np.cos(theta) + (2.0*a**2*Delta*np.sin(theta)**2 + (a**2 + r**2)**2)*(4.0*a**2*np.sin(theta)**4 - 5.0*a**2*np.sin(theta)**2 + 1.0*a**2 + 6.0*r**2*np.sin(theta)**2 - 3.0*r**2)*Sigma)/(Delta*Sigma**4), 0.]\n",
    "\n",
    "    drijkl[0, 2, 2, 3, :] = [0., M*a*(-9.0*r*(a**2 + r**2)*(3.0*a**2*np.cos(theta)**2 - r**2)*dSr + (9.0*a**4*np.cos(theta)**2 + 27.0*a**2*r**2*np.cos(theta)**2 - 9.0*a**2*r**2 - 15.0*r**4)*Sigma)*np.sin(theta)**2/Sigma**4, M*a*r*(a**2 + r**2)*(4.5*a**2*Sigma*np.sin(4*theta) + 3.375*a**2*dSt*np.cos(4*theta) - 3.375*a**2*dSt - 3.0*r**2*Sigma*np.sin(2*theta) - 4.5*r**2*dSt*np.cos(2*theta) + 4.5*r**2*dSt)/Sigma**4, 0.]\n",
    "\n",
    "    drijkl[0, 3, 0, 3, :] = [0., M*(-4*r*(-3*a**2*np.cos(theta)**2 + r**2)*(a**2*Delta*np.sin(theta)**2 - (a**2 + r**2)**2)*dSr + (2*r**2*(a**2*Delta*np.sin(theta)**2 - (a**2 + r**2)**2) + r*(-3*a**2*np.cos(theta)**2 + r**2)*(a**2*dD*np.sin(theta)**2 - 4*r*(a**2 + r**2)) + (-3*a**2*np.cos(theta)**2 + r**2)*(a**2*Delta*np.sin(theta)**2 - (a**2 + r**2)**2))*Sigma)*np.sin(theta)**2/Sigma**5, 2*M*r*(-2*(-3*a**2*np.cos(theta)**2 + r**2)*(a**2*Delta*np.sin(theta)**2 - (a**2 + r**2)**2)*dSt*np.sin(theta) + (a**2*(-3*a**2*np.cos(theta)**2 + r**2)*Delta*np.sin(theta)**2 + 3*a**2*(a**2*Delta*np.sin(theta)**2 - (a**2 + r**2)**2)*np.sin(theta)**2 + (-3*a**2*np.cos(theta)**2 + r**2)*(a**2*Delta*np.sin(theta)**2 - (a**2 + r**2)**2))*Sigma*np.cos(theta))*np.sin(theta)/Sigma**5, 0.]\n",
    "\n",
    "    drijkl[0, 3, 1, 2, :] = [0., M*a*(-3*(a**2*np.cos(theta)**2 - 3.0*r**2)*(a**2*Delta*np.sin(theta)**2 - (a**2 + r**2)**2)*Delta*dSr - (a**2*np.cos(theta)**2 - 3.0*r**2)*(a**2*Delta*np.sin(theta)**2 - (a**2 + r**2)**2)*Sigma*dD + (-6.0*r*(a**2*Delta*np.sin(theta)**2 - (a**2 + r**2)**2) + (a**2*np.cos(theta)**2 - 3.0*r**2)*(a**2*dD*np.sin(theta)**2 - 4*r*(a**2 + r**2)))*Delta*Sigma)*np.sin(theta)*np.cos(theta)/(Delta**2*Sigma**4), M*a*(2*a**2*(a**2*np.cos(theta)**2 - 3.0*r**2)*Delta*Sigma*np.sin(theta)**2*np.cos(theta)**2 - 3*(a**2*np.cos(theta)**2 - 3.0*r**2)*(a**2*Delta*np.sin(theta)**2 - (a**2 + r**2)**2)*dSt*np.sin(theta)*np.cos(theta) + (a**2*Delta*np.sin(theta)**2 - (a**2 + r**2)**2)*(4.0*a**2*np.sin(theta)**4 - 5.0*a**2*np.sin(theta)**2 + 1.0*a**2 + 6.0*r**2*np.sin(theta)**2 - 3.0*r**2)*Sigma)/(Delta*Sigma**4), 0.]\n",
    "\n",
    "    # Symmetries\n",
    "    drijkl[0, 2, 1, 0, :] = -drijkl[0, 2, 0, 1, :]\n",
    "    drijkl[0, 2, 2, 0, :] = -drijkl[0, 2, 0, 2, :]\n",
    "    drijkl[0, 2, 3, 1, :] = -drijkl[0, 2, 1, 3, :]\n",
    "    drijkl[0, 2, 3, 2, :] = -drijkl[0, 2, 2, 3, :]\n",
    "    drijkl[0, 3, 3, 0, :] = -drijkl[0, 3, 0, 3, :]\n",
    "    drijkl[0, 3, 2, 1, :] = -drijkl[0, 3, 1, 2, :]\n",
    "\n",
    "    #! ------------------------------------------------------------------------------#\n",
    "\n",
    "    drijkl[1, 0, 0, 1, :] = [0., M*(4*r*(a**2*np.sin(theta)**2 + 2.0*Delta)*(3.0*a**2*np.cos(theta)**2 - r**2)*dSr + (2*r**2*(a**2*np.sin(theta)**2 + 2.0*Delta) - 2.0*r*(3.0*a**2*np.cos(theta)**2 - r**2)*dD - (a**2*np.sin(theta)**2 + 2.0*Delta)*(3.0*a**2*np.cos(theta)**2 - r**2))*Sigma)/Sigma**5, M*r*(a**2*(12.0*a**2*np.sin(theta)**2 - 6.0*a**2 + 2.0*r**2 + 12.0*Delta)*Sigma*np.sin(theta)*np.cos(theta) + 4*(a**2*np.sin(theta)**2 + 2.0*Delta)*(3.0*a**2*np.cos(theta)**2 - r**2)*dSt)/Sigma**5, 0.]\n",
    "\n",
    "    drijkl[1, 0, 0, 2, :] = [0., M*a**2*(-12.0*(a**2*np.cos(theta)**2 - 3.0*r**2)*Delta*dSr + (-18.0*r*Delta + 3.0*(a**2*np.cos(theta)**2 - 3.0*r**2)*dD)*Sigma)*np.sin(theta)*np.cos(theta)/Sigma**5, M*a**2*(-12.0*(a**2*np.cos(theta)**2 - 3.0*r**2)*dSt*np.sin(theta)*np.cos(theta) + (12.0*a**2*np.sin(theta)**4 - 15.0*a**2*np.sin(theta)**2 + 3.0*a**2 + 18.0*r**2*np.sin(theta)**2 - 9.0*r**2)*Sigma)*Delta/Sigma**5, 0.]\n",
    "\n",
    "    drijkl[1, 0, 1, 3, :] = [0., M*a*(4*r*(3.0*a**2*np.cos(theta)**2 - r**2)*(-4.0*M*r + 3.0*a**2 + 3.0*r**2)*dSr + (r**2*(-8.0*M*r + 6.0*a**2 + 6.0*r**2) + r*(4.0*M - 6.0*r)*(3.0*a**2*np.cos(theta)**2 - r**2) + (3.0*a**2*np.cos(theta)**2 - r**2)*(4.0*M*r - 3.0*a**2 - 3.0*r**2))*Sigma)*np.sin(theta)**2/Sigma**5, M*a*r*(-4.0*M*r + 3.0*a**2 + 3.0*r**2)*(-1.5*a**2*Sigma*np.sin(4*theta) - 1.5*a**2*dSt*np.cos(4*theta) + 1.5*a**2*dSt + r**2*Sigma*np.sin(2*theta) + 2.0*r**2*dSt*np.cos(2*theta) - 2.0*r**2*dSt)/Sigma**5, 0.]\n",
    "\n",
    "    drijkl[1, 0, 2, 3, :] = [0., M*a*(-4*(a**2*np.cos(theta)**2 - 3.0*r**2)*(a**2*np.sin(theta)**2 + 2.0*a**2 + 2.0*r**2)*Delta*dSr + (4.0*r*(a**2*np.cos(theta)**2 - 3.0*r**2)*Delta - 6.0*r*(a**2*np.sin(theta)**2 + 2.0*a**2 + 2.0*r**2)*Delta + (a**2*np.cos(theta)**2 - 3.0*r**2)*(a**2*np.sin(theta)**2 + 2.0*a**2 + 2.0*r**2)*dD)*Sigma)*np.sin(theta)*np.cos(theta)/Sigma**5, M*a*(-4*(a**2*np.cos(theta)**2 - 3.0*r**2)*(a**2*np.sin(theta)**2 + 2.0*a**2 + 2.0*r**2)*dSt*np.sin(theta)*np.cos(theta) + (6.0*a**4*np.sin(theta)**6 - 1.0*a**4*np.sin(theta)**4 - 7.0*a**4*np.sin(theta)**2 + 2.0*a**4 + 20.0*a**2*r**2*np.sin(theta)**4 - 7.0*a**2*r**2*np.sin(theta)**2 - 4.0*a**2*r**2 + 12.0*r**4*np.sin(theta)**2 - 6.0*r**4)*Sigma)*Delta/Sigma**5, 0.]\n",
    "\n",
    "    drijkl[1, 2, 0, 3, :] = [0., M*a*(-3*(a**2*np.cos(theta)**2 - 3.0*r**2)*Delta*dSr + (-6.0*r*Delta + (a**2*np.cos(theta)**2 - 3.0*r**2)*dD)*Sigma)*np.sin(theta)*np.cos(theta)/Sigma**4, M*a*(-3*(a**2*np.cos(theta)**2 - 3.0*r**2)*dSt*np.sin(theta)*np.cos(theta) + (4.0*a**2*np.sin(theta)**4 - 5.0*a**2*np.sin(theta)**2 + 1.0*a**2 + 6.0*r**2*np.sin(theta)**2 - 3.0*r**2)*Sigma)*Delta/Sigma**4, 0.]\n",
    "\n",
    "    drijkl[1, 2, 1, 2, :] = [0., M*(-2*r*(3.0*a**2*np.cos(theta)**2 - r**2)*dSr + 3.0*(a**2*np.cos(theta)**2 - r**2)*Sigma)/Sigma**3, M*r*(-3.0*a**2*Sigma*np.sin(2*theta) - 2*(3.0*a**2*np.cos(theta)**2 - r**2)*dSt)/Sigma**3, 0.]\n",
    "\n",
    "    drijkl[1, 3, 0, 1, :] = [0., M*a*(-4*r*(3.0*a**2*np.cos(theta)**2 - r**2)*(-4.0*M*r + 3.0*a**2 + 3.0*r**2)*dSr + (r**2*(8.0*M*r - 6.0*a**2 - 6.0*r**2) - r*(4.0*M - 6.0*r)*(3.0*a**2*np.cos(theta)**2 - r**2) + (3.0*a**2*np.cos(theta)**2 - r**2)*(-4.0*M*r + 3.0*a**2 + 3.0*r**2))*Sigma)*np.sin(theta)**2/Sigma**5, M*a*r*(-4.0*M*r + 3.0*a**2 + 3.0*r**2)*(1.5*a**2*Sigma*np.sin(4*theta) + 1.5*a**2*dSt*np.cos(4*theta) - 1.5*a**2*dSt - 1.0*r**2*Sigma*np.sin(2*theta) - 2.0*r**2*dSt*np.cos(2*theta) + 2.0*r**2*dSt)/Sigma**5, 0.]\n",
    "\n",
    "    drijkl[1, 3, 0, 2, :] = [0., M*a*(4*(a**2*np.cos(theta)**2 - 3.0*r**2)*(2.0*a**2*np.sin(theta)**2 + a**2 + r**2)*Delta*dSr + (-2*r*(a**2*np.cos(theta)**2 - 3.0*r**2)*Delta + 6.0*r*(2.0*a**2*np.sin(theta)**2 + a**2 + r**2)*Delta - (a**2*np.cos(theta)**2 - 3.0*r**2)*(2.0*a**2*np.sin(theta)**2 + a**2 + r**2)*dD)*Sigma)*np.sin(theta)*np.cos(theta)/Sigma**5, M*a*(4*(a**2*np.cos(theta)**2 - 3.0*r**2)*(2.0*a**2*np.sin(theta)**2 + a**2 + r**2)*dSt*np.sin(theta)*np.cos(theta) + (-12.0*a**4*np.sin(theta)**6 + 14.0*a**4*np.sin(theta)**4 - 1.0*a**4*np.sin(theta)**2 - 1.0*a**4 - 28.0*a**2*r**2*np.sin(theta)**4 + 17.0*a**2*r**2*np.sin(theta)**2 + 2.0*a**2*r**2 - 6.0*r**4*np.sin(theta)**2 + 3.0*r**4)*Sigma)*Delta/Sigma**5, 0.]\n",
    "\n",
    "    drijkl[1, 3, 1, 3, :] = [0., M*(-4*r*(3.0*a**2*np.cos(theta)**2 - r**2)*(2.0*a**2*Delta*np.sin(theta)**2 + (a**2 + r**2)**2)*dSr + (-2*r**2*(2.0*a**2*Delta*np.sin(theta)**2 + (a**2 + r**2)**2) + r*(3.0*a**2*np.cos(theta)**2 - r**2)*(2.0*a**2*dD*np.sin(theta)**2 + 4*r*(a**2 + r**2)) + (3.0*a**2*np.cos(theta)**2 - r**2)*(2.0*a**2*Delta*np.sin(theta)**2 + (a**2 + r**2)**2))*Sigma)*np.sin(theta)**2/Sigma**5, M*r*(-4*(3.0*a**2*np.cos(theta)**2 - r**2)*(2.0*a**2*Delta*np.sin(theta)**2 + (a**2 + r**2)**2)*dSt*np.sin(theta) + (4.0*a**2*(3.0*a**2*np.cos(theta)**2 - r**2)*Delta*np.sin(theta)**2 - 6.0*a**2*(2.0*a**2*Delta*np.sin(theta)**2 + (a**2 + r**2)**2)*np.sin(theta)**2 + 2*(3.0*a**2*np.cos(theta)**2 - r**2)*(2.0*a**2*Delta*np.sin(theta)**2 + (a**2 + r**2)**2))*Sigma*np.cos(theta))*np.sin(theta)/Sigma**5, 0.]\n",
    "\n",
    "    drijkl[1, 3, 2, 3, :] = [0., M*a**2*(12.0*(a**2 + r**2)*(a**2*np.cos(theta)**2 - 3.0*r**2)*Delta*dSr + (18.0*r*(a**2 + r**2)*Delta - 6.0*r*(a**2*np.cos(theta)**2 - 3.0*r**2)*Delta - 3.0*(a**2 + r**2)*(a**2*np.cos(theta)**2 - 3.0*r**2)*dD)*Sigma)*np.sin(theta)**3*np.cos(theta)/Sigma**5, M*a**2*(a**2 + r**2)*(12.0*(a**2*np.cos(theta)**2 - 3.0*r**2)*dSt*np.sin(theta)*np.cos(theta) + (-18.0*a**2*np.sin(theta)**4 + 27.0*a**2*np.sin(theta)**2 - 9.0*a**2 - 36.0*r**2*np.sin(theta)**2 + 27.0*r**2)*Sigma)*Delta*np.sin(theta)**2/Sigma**5, 0.]\n",
    "\n",
    "    # Symmetries\n",
    "    drijkl[1, 0, 1, 0, :] = -drijkl[1, 0, 0, 1, :]\n",
    "    drijkl[1, 0, 2, 0, :] = -drijkl[1, 0, 0, 2, :]\n",
    "    drijkl[1, 0, 3, 1, :] = -drijkl[1, 0, 1, 3, :]\n",
    "    drijkl[1, 0, 3, 2, :] = -drijkl[1, 0, 2, 3, :]\n",
    "    drijkl[1, 2, 3, 0, :] = -drijkl[1, 2, 0, 3, :]\n",
    "    drijkl[1, 2, 2, 1, :] = -drijkl[1, 2, 1, 2, :]\n",
    "    drijkl[1, 3, 1, 0, :] = -drijkl[1, 3, 0, 1, :]\n",
    "    drijkl[1, 3, 2, 0, :] = -drijkl[1, 3, 0, 2, :]\n",
    "    drijkl[1, 3, 3, 1, :] = -drijkl[1, 3, 1, 3, :]\n",
    "    drijkl[1, 3, 3, 2, :] = -drijkl[1, 3, 2, 3, :]\n",
    "\n",
    "    #! -------------------------------------------------------------------------------------#\n",
    "\n",
    "    drijkl[2, 0, 0, 1, :] = [0., M*a**2*(-18.0*r*Sigma - 12.0*(a**2*np.cos(theta)**2 - 3.0*r**2)*dSr)*np.sin(theta)*np.cos(theta)/Sigma**5, M*a**2*(-12.0*(a**2*np.cos(theta)**2 - 3.0*r**2)*dSt*np.sin(theta)*np.cos(theta) + (12.0*a**2*np.sin(theta)**4 - 15.0*a**2*np.sin(theta)**2 + 3.0*a**2 + 18.0*r**2*np.sin(theta)**2 - 9.0*r**2)*Sigma)/Sigma**5, 0.] \n",
    "\n",
    "    drijkl[2, 0, 0, 2, :] = [0., M*(-4*r*(2.0*a**2*np.sin(theta)**2 + Delta)*(3.0*a**2*np.cos(theta)**2 - r**2)*dSr + (-2*r**2*(2.0*a**2*np.sin(theta)**2 + Delta) + r*(3.0*a**2*np.cos(theta)**2 - r**2)*dD + (2.0*a**2*np.sin(theta)**2 + Delta)*(3.0*a**2*np.cos(theta)**2 - r**2))*Sigma)/Sigma**5, M*r*(a**2*(-24.0*a**2*np.sin(theta)**2 + 12.0*a**2 - 4.0*r**2 - 6.0*Delta)*Sigma*np.sin(theta)*np.cos(theta) - 4*(2.0*a**2*np.sin(theta)**2 + Delta)*(3.0*a**2*np.cos(theta)**2 - r**2)*dSt)/Sigma**5, 0.]\n",
    "\n",
    "    drijkl[2, 0, 1, 3, :] = [0., M*a*(r*(14.0*a**2*np.cos(theta)**2 - 18.0*a**2 - 12.0*r**2)*Sigma - 4*(a**2*np.cos(theta)**2 - 3.0*r**2)*(2.0*a**2*np.sin(theta)**2 + a**2 + r**2)*dSr)*np.sin(theta)*np.cos(theta)/Sigma**5, M*a*(-4*(a**2*np.cos(theta)**2 - 3.0*r**2)*(2.0*a**2*np.sin(theta)**2 + a**2 + r**2)*dSt*np.sin(theta)*np.cos(theta) + (12.0*a**4*np.sin(theta)**6 - 14.0*a**4*np.sin(theta)**4 + 1.0*a**4*np.sin(theta)**2 + 1.0*a**4 + 28.0*a**2*r**2*np.sin(theta)**4 - 17.0*a**2*r**2*np.sin(theta)**2 - 2.0*a**2*r**2 + 6.0*r**4*np.sin(theta)**2 - 3.0*r**4)*Sigma)/Sigma**5, 0.]\n",
    "\n",
    "    drijkl[2, 0, 2, 3, :] = [0., M*a*(-4*r*(3.0*a**2*np.cos(theta)**2 - r**2)*(-2.0*M*r + 3.0*a**2 + 3.0*r**2)*dSr + (r**2*(4.0*M*r - 6.0*a**2 - 6.0*r**2) - r*(2.0*M - 6.0*r)*(3.0*a**2*np.cos(theta)**2 - r**2) + (3.0*a**2*np.cos(theta)**2 - r**2)*(-2.0*M*r + 3.0*a**2 + 3.0*r**2))*Sigma)*np.sin(theta)**2/Sigma**5, M*a*r*(-2.0*M*r + 3.0*a**2 + 3.0*r**2)*(1.5*a**2*Sigma*np.sin(4*theta) + 1.5*a**2*dSt*np.cos(4*theta) - 1.5*a**2*dSt - 1.0*r**2*Sigma*np.sin(2*theta) - 2.0*r**2*dSt*np.cos(2*theta) + 2.0*r**2*dSt)/Sigma**5, 0.]\n",
    "\n",
    "    drijkl[2, 1, 0, 3, :] = [0., M*a*(6.0*r*Sigma + 3*(a**2*np.cos(theta)**2 - 3.0*r**2)*dSr)*np.sin(theta)*np.cos(theta)/Sigma**4, M*a*(3*(a**2*np.cos(theta)**2 - 3.0*r**2)*dSt*np.sin(theta)*np.cos(theta) + (-4.0*a**2*np.sin(theta)**4 + 5.0*a**2*np.sin(theta)**2 - 1.0*a**2 - 6.0*r**2*np.sin(theta)**2 + 3.0*r**2)*Sigma)/Sigma**4, 0.]\n",
    "\n",
    "    drijkl[2, 1, 1, 2, :] = [0., M*(2*r*(3.0*a**2*np.cos(theta)**2 - r**2)*Delta*dSr + r*(3.0*a**2*np.cos(theta)**2 - r**2)*Sigma*dD + 3.0*(-a**2*np.cos(theta)**2 + r**2)*Delta*Sigma)/(Delta**2*Sigma**3), M*r*(3.0*a**2*Sigma*np.sin(2*theta) + 2*(3.0*a**2*np.cos(theta)**2 - r**2)*dSt)/(Delta*Sigma**3), 0.]\n",
    "\n",
    "    drijkl[2, 3, 0, 1, :] = [0., M*a*(r*(10.0*a**2*np.sin(theta)**2 + 8.0*a**2 + 24.0*r**2)*Sigma + 4*(a**2*np.cos(theta)**2 - 3.0*r**2)*(a**2*np.sin(theta)**2 + 2.0*a**2 + 2.0*r**2)*dSr)*np.sin(theta)*np.cos(theta)/Sigma**5, M*a*(4*(a**2*np.cos(theta)**2 - 3.0*r**2)*(a**2*np.sin(theta)**2 + 2.0*a**2 + 2.0*r**2)*dSt*np.sin(theta)*np.cos(theta) + (-6.0*a**4*np.sin(theta)**6 + 1.0*a**4*np.sin(theta)**4 + 7.0*a**4*np.sin(theta)**2 - 2.0*a**4 - 20.0*a**2*r**2*np.sin(theta)**4 + 7.0*a**2*r**2*np.sin(theta)**2 + 4.0*a**2*r**2 - 12.0*r**4*np.sin(theta)**2 + 6.0*r**4)*Sigma)/Sigma**5, 0.]\n",
    "\n",
    "    drijkl[2, 3, 0, 2, :] = [0., M*a*(4*r*(3.0*a**2*np.cos(theta)**2 - r**2)*(-2.0*M*r + 3.0*a**2 + 3.0*r**2)*dSr + (r**2*(-4.0*M*r + 6.0*a**2 + 6.0*r**2) + r*(2.0*M - 6.0*r)*(3.0*a**2*np.cos(theta)**2 - r**2) + (3.0*a**2*np.cos(theta)**2 - r**2)*(2.0*M*r - 3.0*a**2 - 3.0*r**2))*Sigma)*np.sin(theta)**2/Sigma**5, M*a*r*(-2.0*M*r + 3.0*a**2 + 3.0*r**2)*(-1.5*a**2*Sigma*np.sin(4*theta) - 1.5*a**2*dSt*np.cos(4*theta) + 1.5*a**2*dSt + r**2*Sigma*np.sin(2*theta) + 2.0*r**2*dSt*np.cos(2*theta) - 2.0*r**2*dSt)/Sigma**5, 0.]\n",
    "\n",
    "    drijkl[2, 3, 1, 3, :] = [0., M*a**2*(r*(-6.0*a**2*np.cos(theta)**2 + 18.0*a**2 + 36.0*r**2)*Sigma + 12.0*(a**2 + r**2)*(a**2*np.cos(theta)**2 - 3.0*r**2)*dSr)*np.sin(theta)**3*np.cos(theta)/Sigma**5, M*a**2*(a**2 + r**2)*(12.0*(a**2*np.cos(theta)**2 - 3.0*r**2)*dSt*np.sin(theta)*np.cos(theta) + (-18.0*a**2*np.sin(theta)**4 + 27.0*a**2*np.sin(theta)**2 - 9.0*a**2 - 36.0*r**2*np.sin(theta)**2 + 27.0*r**2)*Sigma)*np.sin(theta)**2/Sigma**5, 0.]\n",
    "\n",
    "    drijkl[2, 3, 2, 3, :] = [0., M*(4*r*(3.0*a**2*np.cos(theta)**2 - r**2)*(a**2*Delta*np.sin(theta)**2 + 2.0*(a**2 + r**2)**2)*dSr + (2*r**2*(a**2*Delta*np.sin(theta)**2 + 2.0*(a**2 + r**2)**2) - r*(3.0*a**2*np.cos(theta)**2 - r**2)*(a**2*dD*np.sin(theta)**2 + 8.0*r*(a**2 + r**2)) - (3.0*a**2*np.cos(theta)**2 - r**2)*(a**2*Delta*np.sin(theta)**2 + 2.0*(a**2 + r**2)**2))*Sigma)*np.sin(theta)**2/Sigma**5, M*r*(4*(3.0*a**2*np.cos(theta)**2 - r**2)*(a**2*Delta*np.sin(theta)**2 + 2.0*(a**2 + r**2)**2)*dSt*np.sin(theta) + (-2*a**2*(3.0*a**2*np.cos(theta)**2 - r**2)*Delta*np.sin(theta)**2 + 6.0*a**2*(a**2*Delta*np.sin(theta)**2 + 2.0*(a**2 + r**2)**2)*np.sin(theta)**2 - 2*(3.0*a**2*np.cos(theta)**2 - r**2)*(a**2*Delta*np.sin(theta)**2 + 2.0*(a**2 + r**2)**2))*Sigma*np.cos(theta))*np.sin(theta)/Sigma**5, 0.]\n",
    "\n",
    "    # Symmetries\n",
    "    drijkl[2, 0, 1, 0, :] = -drijkl[2, 0, 0, 1, :]\n",
    "    drijkl[2, 0, 2, 0, :] = -drijkl[2, 0, 0, 2, :]\n",
    "    drijkl[2, 0, 3, 1, :] = -drijkl[2, 0, 1, 3, :]\n",
    "    drijkl[2, 0, 3, 2, :] = -drijkl[2, 0, 2, 3, :]\n",
    "    drijkl[2, 1, 3, 0, :] = -drijkl[2, 1, 0, 3, :]\n",
    "    drijkl[2, 1, 2, 1, :] = -drijkl[2, 1, 1, 2, :]\n",
    "    drijkl[2, 3, 1, 0, :] = -drijkl[2, 3, 0, 1, :]\n",
    "    drijkl[2, 3, 2, 0, :] = -drijkl[2, 3, 0, 2, :]\n",
    "    drijkl[2, 3, 3, 1, :] = -drijkl[2, 3, 1, 3, :]\n",
    "    drijkl[2, 3, 3, 2, :] = -drijkl[2, 3, 2, 3, :]\n",
    "\n",
    "    #! --------------------------------------------------------------------------#\n",
    "\n",
    "    drijkl[3, 0, 1, 2, :] = [0., M*a*(-3*(a**2*np.sin(theta)**2 - Delta)*(a**2*np.cos(theta)**2 - 3.0*r**2)*Delta*dSr - (a**2*np.sin(theta)**2 - Delta)*(a**2*np.cos(theta)**2 - 3.0*r**2)*Sigma*dD + (-6.0*r*(a**2*np.sin(theta)**2 - Delta) - (a**2*np.cos(theta)**2 - 3.0*r**2)*dD)*Delta*Sigma)/(Delta**2*Sigma**4*np.tan(theta)), M*a*(1.0*a**4*(1 - np.cos(2*theta))**2*Sigma + 2.5*a**4*Sigma*np.cos(2*theta) - 1.5*a**4*Sigma - 0.75*a**4*dSt*np.sin(2*theta) - 0.375*a**4*dSt*np.sin(4*theta) - 3.0*a**2*r**2*Sigma*np.cos(2*theta) + 4.5*a**2*r**2*dSt*np.sin(2*theta) + 1.0*a**2*Delta*Sigma*np.cos(2*theta) - 1.5*a**2*Delta*dSt*np.sin(2*theta) + 3.0*a**2*Delta*dSt/np.tan(theta) + 2.0*a**2*Delta*Sigma/(1 - np.cos(2*theta)) - 3.0*r**2*Delta*Sigma/np.sin(theta)**2 - 9.0*r**2*Delta*dSt/np.tan(theta))/(Delta*Sigma**4), 0.]\n",
    "\n",
    "    drijkl[3, 1, 0, 1, :] = [0., M*a*(9.0*r*(3.0*a**2*np.cos(theta)**2 - r**2)*Delta*dSr + 3.0*r*(3.0*a**2*np.cos(theta)**2 - r**2)*Sigma*dD + 9.0*(-a**2*np.cos(theta)**2 + r**2)*Delta*Sigma)/(Delta**2*Sigma**4), 9.0*M*a*r*(a**2*Sigma*np.sin(2*theta) + (3.0*a**2*np.cos(theta)**2 - r**2)*dSt)/(Delta*Sigma**4), 0.]\n",
    "\n",
    "    drijkl[3, 1, 0, 2, :] = [0., M*a*(-3*(2.0*a**2*np.sin(theta)**2 + Delta)*(a**2*np.cos(theta)**2 - 3.0*r**2)*Delta*dSr - (2.0*a**2*np.sin(theta)**2 + Delta)*(a**2*np.cos(theta)**2 - 3.0*r**2)*Sigma*dD + (-6.0*r*(2.0*a**2*np.sin(theta)**2 + Delta) + (a**2*np.cos(theta)**2 - 3.0*r**2)*dD)*Delta*Sigma)/(Delta**2*Sigma**4*np.tan(theta)), M*a*(2.0*a**4*(1 - np.cos(2*theta))**2*Sigma + 5.0*a**4*Sigma*np.cos(2*theta) - 3.0*a**4*Sigma - 1.5*a**4*dSt*np.sin(2*theta) - 0.75*a**4*dSt*np.sin(4*theta) - 6.0*a**2*r**2*Sigma*np.cos(2*theta) + 9.0*a**2*r**2*dSt*np.sin(2*theta) - 1.0*a**2*Delta*Sigma*np.cos(2*theta) + 1.5*a**2*Delta*dSt*np.sin(2*theta) - 3.0*a**2*Delta*dSt/np.tan(theta) - 2.0*a**2*Delta*Sigma/(1 - np.cos(2*theta)) + 3.0*r**2*Delta*Sigma/np.sin(theta)**2 + 9.0*r**2*Delta*dSt/np.tan(theta))/(Delta*Sigma**4), 0.]\n",
    "\n",
    "    drijkl[3, 1, 1, 3, :] = [0., M*(3*r*(3.0*a**2*np.cos(theta)**2 - r**2)*(2.0*a**2*np.sin(theta)**2 + a**2 + r**2)*Delta*dSr + r*(3.0*a**2*np.cos(theta)**2 - r**2)*(2.0*a**2*np.sin(theta)**2 + a**2 + r**2)*Sigma*dD + (6.0*a**4*np.sin(theta)**4 - 3.0*a**4*np.sin(theta)**2 - 3.0*a**4 + 15.0*a**2*r**2*np.sin(theta)**2 - 6.0*a**2*r**2 + 5.0*r**4)*Delta*Sigma)/(Delta**2*Sigma**4), M*r*(a**2*(24.0*a**2*np.sin(theta)**2 - 6.0*a**2 + 10.0*r**2)*Sigma*np.sin(theta)*np.cos(theta) + 3*(3.0*a**2*np.cos(theta)**2 - r**2)*(2.0*a**2*np.sin(theta)**2 + a**2 + r**2)*dSt)/(Delta*Sigma**4), 0.]\n",
    "\n",
    "    drijkl[3, 1, 2, 3, :] = [0., M*a**2*(-3*(a**2*np.cos(theta)**2 - 3.0*r**2)*(-2.0*M*r + 3.0*a**2 + 3.0*r**2)*Delta*dSr - (a**2*np.cos(theta)**2 - 3.0*r**2)*(-2.0*M*r + 3.0*a**2 + 3.0*r**2)*Sigma*dD + (-6.0*r*(-2.0*M*r + 3.0*a**2 + 3.0*r**2) + (-2.0*M + 6.0*r)*(a**2*np.cos(theta)**2 - 3.0*r**2))*Delta*Sigma)*np.sin(theta)*np.cos(theta)/(Delta**2*Sigma**4), M*a**2*(-3*(a**2*np.cos(theta)**2 - 3.0*r**2)*dSt*np.sin(theta)*np.cos(theta) + (4.0*a**2*np.sin(theta)**4 - 5.0*a**2*np.sin(theta)**2 + 1.0*a**2 + 6.0*r**2*np.sin(theta)**2 - 3.0*r**2)*Sigma)*(-2.0*M*r + 3.0*a**2 + 3.0*r**2)/(Delta*Sigma**4), 0.]\n",
    "\n",
    "    drijkl[3, 2, 0, 1, :] = [0., M*a*(-3*(a**2*np.sin(theta)**2 + 2.0*Delta)*(a**2*np.cos(theta)**2 - 3.0*r**2)*Delta*dSr - (a**2*np.sin(theta)**2 + 2.0*Delta)*(a**2*np.cos(theta)**2 - 3.0*r**2)*Sigma*dD + (-6.0*r*(a**2*np.sin(theta)**2 + 2.0*Delta) + 2.0*(a**2*np.cos(theta)**2 - 3.0*r**2)*dD)*Delta*Sigma)/(Delta**2*Sigma**4*np.tan(theta)), M*a*(1.0*a**4*(1 - np.cos(2*theta))**2*Sigma + 2.5*a**4*Sigma*np.cos(2*theta) - 1.5*a**4*Sigma - 0.75*a**4*dSt*np.sin(2*theta) - 0.375*a**4*dSt*np.sin(4*theta) - 3.0*a**2*r**2*Sigma*np.cos(2*theta) + 4.5*a**2*r**2*dSt*np.sin(2*theta) - 2.0*a**2*Delta*Sigma*np.cos(2*theta) + 3.0*a**2*Delta*dSt*np.sin(2*theta) - 6.0*a**2*Delta*dSt/np.tan(theta) - 4.0*a**2*Delta*Sigma/(1 - np.cos(2*theta)) + 6.0*r**2*Delta*Sigma/np.sin(theta)**2 + 18.0*r**2*Delta*dSt/np.tan(theta))/(Delta*Sigma**4), 0.]\n",
    "\n",
    "    drijkl[3, 2, 0, 2, :] = [0., 9.0*M*a*(-r*(3.0*a**2*np.cos(theta)**2 - r**2)*dSr + (a**2*np.cos(theta)**2 - r**2)*Sigma)/Sigma**4, -9.0*M*a*r*(a**2*Sigma*np.sin(2*theta) + (3.0*a**2*np.cos(theta)**2 - r**2)*dSt)/Sigma**4, 0.]\n",
    "\n",
    "    drijkl[3, 2, 1, 3, :] = [0., M*a**2*(-3*(a**2*np.cos(theta)**2 - 3*r**2)*(-4.0*M*r + 3.0*a**2 + 3.0*r**2)*Delta*dSr - (a**2*np.cos(theta)**2 - 3*r**2)*(-4.0*M*r + 3.0*a**2 + 3.0*r**2)*Sigma*dD + (-6*r*(-4.0*M*r + 3.0*a**2 + 3.0*r**2) + (-4.0*M + 6.0*r)*(a**2*np.cos(theta)**2 - 3*r**2))*Delta*Sigma)*np.sin(theta)*np.cos(theta)/(Delta**2*Sigma**4), M*a**2*(-3*(a**2*np.cos(theta)**2 - 3*r**2)*dSt*np.sin(theta)*np.cos(theta) + (4*a**2*np.sin(theta)**4 - 5*a**2*np.sin(theta)**2 + a**2 + 6*r**2*np.sin(theta)**2 - 3*r**2)*Sigma)*(-4.0*M*r + 3.0*a**2 + 3.0*r**2)/(Delta*Sigma**4), 0.]\n",
    "\n",
    "    drijkl[3, 2, 2, 3, :] = [0., M*(-3*r*(3.0*a**2*np.cos(theta)**2 - r**2)*(a**2*np.sin(theta)**2 + 2.0*a**2 + 2.0*r**2)*dSr + (-3.0*a**4*np.sin(theta)**4 - 3.0*a**4*np.sin(theta)**2 + 6.0*a**4 - 21.0*a**2*r**2*np.sin(theta)**2 + 12.0*a**2*r**2 - 10.0*r**4)*Sigma)/Sigma**4, M*r*(a**2*(12.0*a**2*np.cos(theta)**2 - 18.0*a**2 - 14.0*r**2)*Sigma*np.sin(theta)*np.cos(theta) - 3*(3.0*a**2*np.cos(theta)**2 - r**2)*(a**2*np.sin(theta)**2 + 2.0*a**2 + 2.0*r**2)*dSt)/Sigma**4, 0.] \n",
    "\n",
    "    drijkl[3, 3, 0, 3, :] = [0., M**2*a*r*(-8.0*r*(3.0*a**2*np.cos(theta)**2 - r**2)*dSr + 4.0*(3.0*a**2*np.cos(theta)**2 - 2.0*r**2)*Sigma)*np.sin(theta)**2/Sigma**5, M**2*a*r**2*(3.0*a**2*Sigma*np.sin(4*theta) + 3.0*a**2*dSt*np.cos(4*theta) - 3.0*a**2*dSt - 2.0*r**2*Sigma*np.sin(2*theta) - 4.0*r**2*dSt*np.cos(2*theta) + 4.0*r**2*dSt)/Sigma**5, 0.]\n",
    "\n",
    "    drijkl[3, 3, 1, 2, :] = [0., M**2*a**2*(6.0*r*(a**2*np.cos(theta)**2 - 3.0*r**2)*Delta*dSr + 2.0*r*(a**2*np.cos(theta)**2 - 3.0*r**2)*Sigma*dD + (-2.0*a**2*np.cos(theta)**2 + 18.0*r**2)*Delta*Sigma)*np.sin(theta)*np.cos(theta)/(Delta**2*Sigma**4), M**2*a**2*r*(6.0*(a**2*np.cos(theta)**2 - 3.0*r**2)*dSt*np.sin(theta)*np.cos(theta) + (-8.0*a**2*np.sin(theta)**4 + 10.0*a**2*np.sin(theta)**2 - 2.0*a**2 - 12.0*r**2*np.sin(theta)**2 + 6.0*r**2)*Sigma)/(Delta*Sigma**4), 0.]\n",
    "\n",
    "    # Symmetries\n",
    "    drijkl[3, 0, 2, 1, :] = -drijkl[3, 0, 1, 2, :]\n",
    "    drijkl[3, 1, 1, 0, :] = -drijkl[3, 1, 0, 1, :]\n",
    "    drijkl[3, 1, 2, 0, :] = -drijkl[3, 1, 0, 2, :]\n",
    "    drijkl[3, 1, 3, 1, :] = -drijkl[3, 1, 1, 3, :]\n",
    "    drijkl[3, 1, 3, 2, :] = -drijkl[3, 1, 2, 3, :]\n",
    "    drijkl[3, 2, 1, 0, :] = -drijkl[3, 2, 0, 1, :]\n",
    "    drijkl[3, 2, 2, 0, :] = -drijkl[3, 2, 0, 2, :]\n",
    "    drijkl[3, 2, 3, 1, :] = -drijkl[3, 2, 1, 3, :]\n",
    "    drijkl[3, 2, 3, 2, :] = -drijkl[3, 2, 2, 3, :]\n",
    "    drijkl[3, 3, 3, 0, :] = -drijkl[3, 3, 0, 3, :]\n",
    "    drijkl[3, 3, 2, 1, :] = -drijkl[3, 3, 1, 2, :]\n",
    "\n",
    "    #!---------------------------------------------------------------------#\n",
    "\n",
    "    # part1 = a**2 + 2 * r * (-2 * M + r) + a**2 * sme.cos(2 * theta)\n",
    "    # part2 = 3 * a**2 - 2 * r**2 + 3 * a**2 * sme.cos(2 * theta)\n",
    "    # part3 = (a**2 + 2 * r**2 + a**2 * sme.cos(2 * theta)) ** 4\n",
    "    # Calculating Rtensor elements\n",
    "\n",
    "    drijkl[3, 0, 0, 3, :] = [0., M*(-8*r**2*(3*a**2*np.cos(theta)**2 - r**2)*(-2*M*r + a**2*np.cos(theta)**2 + r**2) + (a**2*np.cos(theta)**2 + r**2)*(-12*M*a**2*r*np.cos(theta)**2 + 8*M*r**3 + 3*a**4*(1 - np.cos(theta)**2)**2 + 6*a**4*np.cos(theta)**2 - 3*a**4 + 6*a**2*r**2*np.cos(theta)**2 - 5*r**4))/(a**2*np.cos(theta)**2 + r**2)**5, (1/2)*M*a**2*r*(-36*M*a**2*r*np.cos(theta)**2 + 28*M*r**3 + 12*a**4*(1 - np.cos(theta)**2)**2 + 24*a**4*np.cos(theta)**2 - 12*a**4 - 12*r**4)*np.sin(2*theta)/(a**2*np.cos(theta)**2 + r**2)**5, 0.]\n",
    "    drijkl[3, 0, 3, 0, :] = -drijkl[3, 0, 0, 3, :]\n",
    "\n",
    "    # return drijkl\n",
    "    if config == \"ullll\":\n",
    "        return drijkl + np.zeros((4, 4, 4, 4, 4))\n",
    "\n",
    "    elif config == \"lllll\":\n",
    "        gk = cov_metric_tensor(r=r, theta=theta, a=a, M=M)\n",
    "        return np.einsum(\"ij,jklmp->iklmp\", gk, drijkl) + np.zeros((4, 4, 4, 4, 4))\n",
    "\n",
    "    # elif config==\"lluu\":\n",
    "    #     #!Config: lluu\n",
    "    #     gkinv = cot_metric_tensor(r=r, theta=theta, a=a, M=M)\n",
    "    #     gk = cov_metric_tensor(r=r, theta=theta, a=a, M=M)\n",
    "    #     rllll = np.einsum(\"ij,jklm->iklm\", gk, drijkl)\n",
    "\n",
    "    #   , :  return np.einsum(\"kjlm,la,mb->kjab\", rllll, gkinv, gkinv)\n",
    "\n",
    "    return drijkl"
   ]
  },
  {
   "cell_type": "code",
   "execution_count": null,
   "metadata": {},
   "outputs": [],
   "source": [
    "def Dlevicevita(Dcov,guu, eps):\n",
    "    dg= np.einsum(\"gd,gda->a\",guu,Dcov)\n",
    "    # return -0.5*eps*dg\n",
    "    return -np.einsum(\"uvps,a->uvpsa\",eps,dg)*0.5"
   ]
  },
  {
   "cell_type": "code",
   "execution_count": null,
   "metadata": {},
   "outputs": [],
   "source": [
    "M, r, theta, a= 2.4, 43.49,np.pi/3.0, 3.2"
   ]
  },
  {
   "cell_type": "code",
   "execution_count": null,
   "metadata": {},
   "outputs": [],
   "source": [
    "Dcov = Dcov_metric_tensor(r,theta,a,M)\n",
    "guu= cot_metric_tensor(r, theta,a ,M)\n",
    "gll= cov_metric_tensor(r, theta,a ,M)\n",
    "eps= levi_civita_tensor(gll)"
   ]
  },
  {
   "cell_type": "code",
   "execution_count": null,
   "metadata": {},
   "outputs": [],
   "source": [
    "def JacobianMPD(t, y, p):\n",
    "\n",
    "    jacob= np.zeros((12,12),type(y[0]))\n",
    "\n",
    "    t, r, theta, phi, pt, pr, ptheta, pphi, st, sr, stheta, sphi = y\n",
    "\n",
    "    a, m, M = p\n",
    "\n",
    "    # xvector=y[:4]\n",
    "    pvector = y[4:8]  #! p_u\n",
    "    svector = y[8:]  #! s_u\n",
    "\n",
    "    gk = cov_metric_tensor(r, theta, a, M)  #! g_{ij}\n",
    "    gkinv = cot_metric_tensor(r, theta, a, M)\n",
    "    cs = kerr_christoffel(r, theta, a, M)  #! G^i_{jk}\n",
    "\n",
    "    Riemann = kerr_riemann_tensor(r, theta, a, M, \"ulll\")  #! R^a_{bcd}\n",
    "\n",
    "    # Riemann_cov = np.einsum(\"ul,lvps->uvps\", gk, Riemann)  #! R_{abcd}\n",
    "    # Riemann_uull = np.einsum(\"ap,upgd->uagd\", gkinv, Riemann)  #! R^{ua}_{gd}\n",
    "\n",
    "    levi = levi_civita_tensor(gk)  #! e^{abcd}\n",
    "    # levi_mixed = np.einsum(\"psxy,xu,yv->psuv\", levi, gk, gk)  #! e^{ps}_{uv}\n",
    "    levi_mixed = np.einsum(\"px,sy,xyuv->psuv\", gk, gk, levi)  #! e_{ps}^{uv}\n",
    "\n",
    "    dRuluu = 0.5 * np.einsum(\"abps,psuv->abuv\", Riemann, levi) #!R*^a_{buv}\n",
    "    dRlluu = np.einsum(\"ia,abuv->ibuv\", gk, dRuluu)  #!R*^_{ab}^{uv}\n",
    "\n",
    "    ddRuuuu = 0.5 * np.einsum(\"bi,aips,psuv->abuv\", gkinv, dRuluu, levi_mixed) #! *R*^{abuv}\n",
    "\n",
    "    dgk= Dcov_metric_tensor(r,theta,a,M) #! Dgk_{auv}\n",
    "    dgkinv= Dcot_metric_tensor(r, theta,a, M) #! Dgk^{uv}_a\n",
    "    dcs= Dkerr_christoffel(r, theta,a ,M) #! Dcs^a_(bcd)\n",
    "    dRiemann = DRijkl(r, theta, a, M, \"ullll\")  #! DR^a_{bcde}\n",
    "    dg= np.einsum(\"gd,gda->a\",gkinv,dgk) #! D(Det(g))\n",
    "    dlevi = -np.einsum(\"uvps,a->uvpsa\", levi, dg) * 0.5 #! Deps^{uvpsa}\n",
    "\n",
    "    DdRuluu = 0.5 * (\n",
    "        np.einsum(\"abpsk,psuv->abuvk\", dRiemann, levi)\n",
    "        + np.einsum(\"abps,psuvk->abuvk\", Riemann, dlevi)\n",
    "    )  #! DR*^a_{buv}\n",
    "\n",
    "    DdRlluu = np.einsum(\"ai,ibupk->abupk\", gk, DdRuluu)\n",
    "\n",
    "    DddRuuuu = 0.5 * (\n",
    "        np.einsum(\"bi,aipsk,psuv->abuvk\", gkinv, DdRuluu, levi_mixed, optimize=True)\n",
    "        + np.einsum(\n",
    "            \"bi,aips,pm,sn,mnuvz->abuvz\", gkinv, ddRuuuu, gk, gk, dlevi, optimize=True\n",
    "        )\n",
    "    )  #! D*R*^{abuv}\n",
    "\n",
    "    uvector = calculate_four_velocity(\n",
    "        gk=gk, gkinv=gkinv, pvector=pvector, svector=svector, ddRuuuu=ddRuuuu\n",
    "    )  #!dx_mu\n",
    "\n",
    "    dp = calculate_four_momentum(\n",
    "        pvector=pvector, uvector=uvector, svector=svector, cs=cs, dRlluu=dRlluu\n",
    "    )\n",
    "    #!dp_{mu}\n",
    "\n",
    "    ds = calculate_four_spin(\n",
    "        pvector=pvector, uvector=uvector, svector=svector, cs=cs, dRuluu=dRuluu\n",
    "    )#! ds_mu\n",
    "\n",
    "    wu= -np.einsum(\"uabg,a,b,g->u\",ddRuuuu,svector,pvector,svector,optimize=True) #!w^mu\n",
    "\n",
    "    N= 1/np.sqrt(1-2*np.einsum(\"u,u->\",wu,pvector)-np.einsum(\"u,uj,j->\",wu,gk,wu))\n",
    "\n",
    "    puv= np.einsum(\"a,auv->uv\",pvector,dgkinv) #! Dp^u_v\n",
    "\n",
    "    wuv= -np.einsum(\"uabgv,a,b,g->uv\",DddRuuuu,svector,pvector,svector,optimize=True) #! D w^m_v\n",
    "\n",
    "    DN= N**3*(np.einsum(\"a,av->v\",pvector,wuv)+ np.einsum(\"av,ag,g->v\",wuv,gk,wu) +0.5*np.einsum(\"a,b,abv->v\",wu,wu,dgk,optimize=True)) #! DN_v\n",
    "\n",
    "    dx_dx= N*(puv+wuv+ np.einsum(\"u,az,z,av->uv\",uvector,gk,uvector,wuv)+ np.einsum(\"u,a,b,abv->uv\",uvector,wu,wu,dgk)*N/2) #! D \\dot{x}/dx\n",
    "\n",
    "    Wuv= -np.einsum(\"uavb,a,b->uv\",ddRuuuu,svector,svector) #! W^{uv}\n",
    "\n",
    "    dx_dP = N * (gkinv + Wuv + N * np.outer(uvector, wu)) + N * np.einsum(\n",
    "        \"u,ag,g,av->uv\", uvector, gk, uvector, Wuv, optimize=True\n",
    "    )  #! D \\dot{x}/dp\n",
    "\n",
    "    Vuv= -(np.einsum(\"a,b,uabv->uv\",svector,pvector,ddRuuuu)- np.einsum(\"a,b,uvab->uv\",svector,pvector,ddRuuuu)) #! V^{uv}\n",
    "\n",
    "    dx_dS = N * Vuv + N * np.einsum(\n",
    "        \"u,az,z,av->uv\", uvector, gk, uvector, Vuv\n",
    "    )  #! D \\dot{x}/dS\n",
    "\n",
    "    term1= -np.einsum(\"a,b,ugabv,g->uv\",pvector,svector,DdRlluu,uvector,optimize=True)\n",
    "    term2 = -np.einsum(\n",
    "        \"a,b,ugab,gv->uv\", pvector, svector, dRlluu, dx_dx, optimize=True\n",
    "    )\n",
    "\n",
    "    term3= np.einsum(\"a,abuv,b->uv\",pvector,dcs,uvector)\n",
    "    term4= np.einsum(\"a,abu,bv->uv\",pvector,cs,dx_dx)\n",
    "\n",
    "    dP_dx = term1 + term2 + term3 + term4\n",
    "\n",
    "    term1= -np.einsum(\"b,ugvb,g->uv\",svector,dRlluu,uvector)\n",
    "    term2= -np.einsum(\"b,ugab,a,gv->uv\",svector,dRlluu,pvector,dx_dP,optimize=True)\n",
    "    term3= np.einsum(\"vbu,b->uv\",cs,uvector) + np.einsum(\"abu,a,bv->uv\",cs,pvector,dx_dP,optimize=True)\n",
    "\n",
    "    dP_dP= term1+ term2+ term3\n",
    "\n",
    "    term1= -np.einsum(\"ugav,g,a-> uv\",dRlluu,uvector,pvector, optimize=True)\n",
    "    term2= -np.einsum(\"ugab,gv,a,b->uv\",dRlluu,dx_dS,pvector,svector,optimize=True)\n",
    "    term3= np.einsum(\"abu,a,bv->uv\",cs,pvector,dx_dS)\n",
    "\n",
    "    dP_ds= term1+ term2+ term3\n",
    "\n",
    "    term1= -np.einsum(\"u,a,g,d,abgdv,b->uv\",pvector,svector,pvector,svector,DdRuluu,uvector,optimize=True)\n",
    "    term2= -np.einsum(\"u,a,g,d,abgd,bv->uv\",pvector,svector,pvector,svector,dRuluu,dx_dx,optimize=True)  \n",
    "    term3= np.einsum(\"a,abuv,b->uv\",svector,dcs,uvector) + np.einsum(\"a,abu,bv->uv\",svector,cs,dx_dx,optimize=True)\n",
    "\n",
    "    dS_dx= term1+ term2 + term3\n",
    "\n",
    "    term1= -np.einsum(\"a,d,b,uv,abgd,g->uv\",svector,svector,uvector,np.eye(4),dRuluu,pvector,optimize=True)\n",
    "    term2= -np.einsum(\"a,d,b,u,abvd->uv\",svector,svector,uvector,pvector,dRuluu,optimize=True)\n",
    "    term3= -np.einsum(\"u,abgd,a,bv,g,d->uv\",pvector,dRuluu,svector,dx_dP,pvector,svector,optimize=True)\n",
    "    term4= np.einsum(\"abu,bv,a->uv\",cs,dx_dP,svector)\n",
    "\n",
    "    dS_dp= term1 +term3 + term2 + term4\n",
    "\n",
    "    term1= -np.einsum(\"u,g,b,vbgd,d->uv\",pvector,pvector,uvector,dRuluu,svector,optimize=True)\n",
    "    term2= -np.einsum(\"u,g,b,abgv,a->uv\",pvector,pvector,uvector,dRuluu,svector,optimize=True)\n",
    "    term3= -np.einsum(\"u,abgd,a,bv,g,d->uv\",pvector,dRuluu,svector,dx_dS,pvector,svector,optimize=True)\n",
    "    term4= np.einsum(\"vbu,b->uv\",cs,uvector)\n",
    "    term5= np.einsum(\"abu,bv,a->uv\",cs,dx_dS,svector,optimize=True)\n",
    "\n",
    "    dS_dS= term1+ term2+ term3+ term4 + term5\n",
    "\n",
    "    jacob[0:4,0:4]= dx_dx\n",
    "    jacob[0:4,4:8]= dx_dP\n",
    "    jacob[0:4,8:]= dx_dS\n",
    "\n",
    "    jacob[4:8,0:4]= dP_dx\n",
    "    jacob[4:8,4:8]= dP_dP\n",
    "    jacob[4:8,8:]= dP_ds\n",
    "\n",
    "    jacob[8:,0:4]= dS_dx\n",
    "    jacob[8:,4:8]= dS_dp\n",
    "    jacob[8:,8:]= dS_dS\n",
    "\n",
    "    return jacob\n",
    "\n"
   ]
  },
  {
   "cell_type": "code",
   "execution_count": null,
   "metadata": {},
   "outputs": [],
   "source": [
    "p"
   ]
  },
  {
   "cell_type": "code",
   "execution_count": null,
   "metadata": {},
   "outputs": [],
   "source": [
    "y0.tolist()"
   ]
  },
  {
   "cell_type": "code",
   "execution_count": null,
   "metadata": {},
   "outputs": [],
   "source": [
    "%%timeit\n",
    "MPD(0.,y0,p)"
   ]
  },
  {
   "cell_type": "code",
   "execution_count": null,
   "metadata": {},
   "outputs": [],
   "source": [
    "%%timeit\n",
    "jacob= JacobianMPD(0.,y0,p)"
   ]
  },
  {
   "cell_type": "code",
   "execution_count": null,
   "metadata": {},
   "outputs": [],
   "source": [
    "jacob[:,4]"
   ]
  }
 ],
 "metadata": {
  "kernelspec": {
   "display_name": "base",
   "language": "python",
   "name": "python3"
  },
  "language_info": {
   "codemirror_mode": {
    "name": "ipython",
    "version": 3
   },
   "file_extension": ".py",
   "mimetype": "text/x-python",
   "name": "python",
   "nbconvert_exporter": "python",
   "pygments_lexer": "ipython3",
   "version": "3.10.12"
  }
 },
 "nbformat": 4,
 "nbformat_minor": 2
}
