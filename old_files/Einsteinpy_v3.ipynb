{
 "cells": [
  {
   "cell_type": "code",
   "execution_count": 1,
   "metadata": {},
   "outputs": [],
   "source": [
    "import numpy as np\n",
    "import scipy as sp\n",
    "import sympy as smp\n",
    "from scipy.integrate import solve_ivp\n",
    "import snoop\n",
    "from findiff import FinDiff\n",
    "\n",
    "import matplotlib.pyplot as plt\n",
    "import itertools"
   ]
  },
  {
   "cell_type": "code",
   "execution_count": 2,
   "metadata": {},
   "outputs": [
    {
     "data": {
      "text/plain": [
       "'\\nReference Paper:\\nhttps://doi.org/10.1046/j.1365-8711.1999.02754.x\\n'"
      ]
     },
     "execution_count": 2,
     "metadata": {},
     "output_type": "execute_result"
    }
   ],
   "source": [
    "\"\"\"\n",
    "Reference Paper:\n",
    "https://doi.org/10.1046/j.1365-8711.1999.02754.x\n",
    "\"\"\""
   ]
  },
  {
   "cell_type": "code",
   "execution_count": 3,
   "metadata": {},
   "outputs": [],
   "source": [
    "%load_ext snoop"
   ]
  },
  {
   "cell_type": "code",
   "execution_count": 13,
   "metadata": {},
   "outputs": [],
   "source": [
    "# Metric or Black Hole parameters - Mass, M and Spin Parameter, a\n",
    "M = 1"
   ]
  },
  {
   "cell_type": "code",
   "execution_count": 14,
   "metadata": {},
   "outputs": [],
   "source": [
    "Vin = 0.5  # Relative velocity in the units of c\n",
    "\n",
    "alpha_s = 0.0\n",
    "beta_s = np.pi / 2  # Angular Coordinates for spin Orientation\n",
    "\n",
    "alpha_v = 0.0\n",
    "beta_v = np.pi / 2  # Angular Coordinates for Velocity Orientation\n",
    "\n",
    "sin = 0.0  # Initial Magnitude of Spin\n",
    "\n",
    "a0 = 1 / np.sqrt(2)\n",
    "r0 = 10**6\n",
    "theta0 = np.pi / 2  # Parameters for Black Hole and the Particle Position\n",
    "m=1e-6 #Mass of Secondary\n"
   ]
  },
  {
   "cell_type": "code",
   "execution_count": 15,
   "metadata": {},
   "outputs": [],
   "source": [
    "# Definitions\n",
    "Delta = a0**2 - 2 * M * r0 + r0**2\n",
    "scA = (r0**2 + a0**2) ** 2 - Delta * a0**2 * np.sin(theta0) ** 2\n",
    "omega_k = 2 * M * a0 * r0 / scA\n",
    "Sigma = r0**2 + a0**2 * np.cos(theta0) ** 2"
   ]
  },
  {
   "cell_type": "code",
   "execution_count": 4,
   "metadata": {},
   "outputs": [],
   "source": [
    "\n",
    "\n",
    "#Define Levi Cevita Tensor\n",
    "def levi_cevita_tensor(dim):\n",
    "    arr = np.zeros(tuple([dim for _ in range(dim)]))\n",
    "    for x in itertools.permutations(tuple(range(dim))):\n",
    "        mat = np.zeros((dim, dim), dtype=np.int32)\n",
    "        for i, j in zip(range(dim), x):\n",
    "            mat[i, j] = 1\n",
    "        arr[x] = int(np.linalg.det(mat))\n",
    "    return arr"
   ]
  },
  {
   "cell_type": "code",
   "execution_count": 5,
   "metadata": {},
   "outputs": [],
   "source": [
    "def antisymmetrize(arr):\n",
    "    #* Function to antisymmetrize matrix\n",
    "    arr = np.swapaxes(arr, -2, -1)\n",
    "    anti_arr = arr - np.swapaxes(arr, -2, -1)\n",
    "    anti_tensor=np.swapaxes(anti_arr,-2,-1)\n",
    "    return anti_tensor"
   ]
  },
  {
   "cell_type": "code",
   "execution_count": 6,
   "metadata": {},
   "outputs": [],
   "source": [
    "def symmetrize(arr):\n",
    "    \"\"\"\n",
    "    Symmetrizes a 4-dimensional numpy array along last two axes.\n",
    "\n",
    "    Args:\n",
    "        arr (numpy.ndarray): The input array.\n",
    "\n",
    "    Returns:\n",
    "        numpy.ndarray: The symmetrized array.\n",
    "\n",
    "    Example:\n",
    "\n",
    "        arr = np.array([[[1, 2, 3, 4],\n",
    "                         [5, 6, 7, 8],\n",
    "                         [9, 10, 11, 12],\n",
    "                         [13, 14, 15, 16]]])\n",
    "\n",
    "        result = symmetrize(arr)\n",
    "        print(result)\n",
    "    \"\"\"\n",
    "\n",
    "    toput = np.diagonal(arr, 0, 1, 2)\n",
    "    de_ = np.zeros((4, 4, 4))\n",
    "\n",
    "\n",
    "    idx = np.arange(de_.shape[0])\n",
    "    de_[:, idx, idx] = toput\n",
    "\n",
    "    return arr+np.transpose(arr,(0,2,1))-de_"
   ]
  },
  {
   "cell_type": "code",
   "execution_count": 7,
   "metadata": {},
   "outputs": [],
   "source": [
    "def metric_tensor(r, theta,a,M=1):\n",
    "    \"\"\"\n",
    "    Define the metric tensor function.\n",
    "\n",
    "    Parameters:\n",
    "        a (float): Parameter 'a' in the metric.\n",
    "        r (float): Parameter 'r' in the metric.\n",
    "        theta (float): Parameter 'theta' in the metric.\n",
    "\n",
    "    Returns:\n",
    "        np.ndarray: The metric tensor at the given values of a, r, and theta.\n",
    "    \"\"\"\n",
    "    g = np.array(\n",
    "        [\n",
    "            [\n",
    "                (-(a**2) + 2 * M * r - r**2 + a**2 * np.sin(theta) ** 2)\n",
    "                / (r**2 + a**2 * np.cos(theta) ** 2),\n",
    "                0,\n",
    "                0,\n",
    "                -(\n",
    "                    (2 * a * M * r * np.sin(theta) ** 2)\n",
    "                    / (r**2 + a**2 * np.cos(theta) ** 2)\n",
    "                ),\n",
    "            ],\n",
    "            [\n",
    "                0,\n",
    "                (r**2 + a**2 * np.cos(theta) ** 2) / (a**2 - 2 * M * r + r**2),\n",
    "                0,\n",
    "                0,\n",
    "            ],\n",
    "            [0, 0, r**2 + a**2 * np.cos(theta) ** 2, 0],\n",
    "            [\n",
    "                -(\n",
    "                    (2 * a * M * r * np.sin(theta) ** 2)\n",
    "                    / (r**2 + a**2 * np.cos(theta) ** 2)\n",
    "                ),\n",
    "                0,\n",
    "                0,\n",
    "                (\n",
    "                    np.sin(theta) ** 2\n",
    "                    * (\n",
    "                        (a**2 + r**2) ** 2\n",
    "                        - a**2 * (a**2 - 2 * M * r + r**2) * np.sin(theta) ** 2\n",
    "                    )\n",
    "                )\n",
    "                / (r**2 + a**2 * np.cos(theta) ** 2),\n",
    "            ],\n",
    "        ]\n",
    "    )\n",
    "\n",
    "    return g"
   ]
  },
  {
   "cell_type": "code",
   "execution_count": 8,
   "metadata": {},
   "outputs": [],
   "source": [
    "def kerr_christoffel(r, theta, a, M=1):\n",
    "\n",
    "    \"\"\"\n",
    "    Function to give the christoffel symbols for kerr metric.\n",
    "    The christoffel symbols are given as \\Gamma ^i _{jk}\n",
    "\n",
    "    From Reference Paper, Appendix\n",
    "    \"\"\"\n",
    "    \n",
    "    cs = np.zeros((4, 4, 4))\n",
    "\n",
    "    # Definitions\n",
    "    Delta = a**2 - 2 * M * r + r**2\n",
    "    scA = (r**2 + a**2) ** 2 - Delta * a**2 * np.sin(theta) ** 2\n",
    "    omega_k = 2 * M * a * r / scA\n",
    "    Sigma = r**2 + a**2 * np.cos(theta) ** 2\n",
    "\n",
    "    cs[3, 0, 1] = M * (2 * r**2 - Sigma) / (Delta * Sigma**2) * a\n",
    "    cs[0, 0, 1] = cs[3, 0, 1] * (r**2 + a**2) / a\n",
    "\n",
    "    cs[3, 0, 2] = -2 * M * a * r / (np.tan(theta) * Sigma**2)\n",
    "    cs[0, 0, 2] = a * np.sin(theta) ** 2 * cs[3, 0, 2]\n",
    "\n",
    "    cs[0, 1, 3] = (\n",
    "        -M\n",
    "        * a\n",
    "        * (2 * r**2 * (r**2 + a**2) + Sigma * (r**2 - a**2))\n",
    "        * np.sin(theta) ** 2\n",
    "        / (Delta * Sigma**2)\n",
    "    )\n",
    "\n",
    "    cs[3, 1, 3] = (\n",
    "        r * Sigma * (Sigma - 2 * M * r)\n",
    "        - M * a**2 * (2 * r**2 - Sigma) * np.sin(theta) ** 2\n",
    "    ) / (Delta * Sigma**2)\n",
    "\n",
    "    cs[0, 2, 3] = M * a**3 * r * np.sin(theta) ** 2 * np.sin(2 * theta) / Sigma**2\n",
    "\n",
    "    cs[3, 2, 3] = (scA - Sigma * a**2 * np.sin(theta) ** 2) / (\n",
    "        np.tan(theta) * Sigma**2\n",
    "    )\n",
    "\n",
    "    cs[1, 0, 0] = M * Delta * (2 * r**2 - Sigma) / Sigma**3\n",
    "\n",
    "    cs[1, 0, 3] = -cs[1, 0, 0] * a * np.sin(theta) ** 2\n",
    "\n",
    "    cs[2, 0, 0] = -M * a * r * np.sin(2 * theta) / Sigma**3 * a\n",
    "    cs[2, 0, 3] = -cs[2, 0, 0] * (r**2 + a**2) / a\n",
    "\n",
    "    cs[1, 1, 1] = r / Sigma + (M - r) / Delta\n",
    "\n",
    "    cs[1, 2, 2] = -r * Delta / Sigma\n",
    "    cs[2, 1, 2] = -cs[1, 2, 2] / Delta\n",
    "\n",
    "    cs[1, 1, 2] = cs[2, 2, 2] = -(a**2) * np.sin(2 * theta) / (2 * Sigma)\n",
    "    cs[2, 1, 1] = -cs[1, 1, 2] / Delta\n",
    "\n",
    "    cs[1, 3, 3] = (\n",
    "        -Delta\n",
    "        * (r * Sigma**2 - M * a**2 * (2 * r**2 - Sigma) * np.sin(theta) ** 2)\n",
    "        * np.sin(theta) ** 2\n",
    "        / Sigma**3\n",
    "    )\n",
    "\n",
    "    cs[2, 3, 3] = (\n",
    "        -(Delta * Sigma**2 + 2 * M * r * (r**2 + a**2) ** 2)\n",
    "        * np.sin(2 * theta)\n",
    "        / (2 * Sigma**3)\n",
    "    )\n",
    "\n",
    "    return symmetrize(cs)\n",
    "    # return cs"
   ]
  },
  {
   "cell_type": "code",
   "execution_count": 9,
   "metadata": {},
   "outputs": [],
   "source": [
    "def dmetric(r,theta,a,c=0,M=1):\n",
    "    \"\"\"\n",
    "    Function to give the derivative of metric with respect to\n",
    "    some component of position vector\n",
    "\n",
    "    The function calculates the derivative with respect to all the \n",
    "    elements but only returns the component c\n",
    "    \"\"\"\n",
    "\n",
    "    g=metric_tensor(a,r,theta)\n",
    "    cs=kerr_christoffel(r,theta,a,M)\n",
    "\n",
    "    term1=np.einsum('mk,mil->kil',g,cs)\n",
    "    term2= np.einsum('im,mkl->ikl',g,cs)\n",
    "\n",
    "    dg=term1+term2\n",
    "\n",
    "    return dg[c]\n",
    "\n",
    "\n"
   ]
  },
  {
   "cell_type": "code",
   "execution_count": 10,
   "metadata": {},
   "outputs": [],
   "source": [
    "def kerr_riemann_tensor(r, theta, a, M=1, config=\"ulll\"):\n",
    "    # Define variables\n",
    "\n",
    "    # Components of the Riemann tensor for Kerr Metric\n",
    "    # From Reference Paper, Appendix\n",
    "    \n",
    "    rijkl = np.zeros((4, 4, 4, 4))\n",
    "\n",
    "    X = r**2 - 3 * a**2 * np.cos(theta) ** 2\n",
    "    Y = 3 * r**2 - a**2 * np.cos(theta) ** 2\n",
    "\n",
    "    # Definitions\n",
    "    Delta = a**2 - 2 * M * r + r**2\n",
    "    scA = (r**2 + a**2) ** 2 - Delta * a**2 * np.sin(theta) ** 2\n",
    "    omega_k = 2 * M * a * r / scA\n",
    "    Sigma = r**2 + a**2 * np.cos(theta) ** 2\n",
    "\n",
    "    rijkl[0, 0, 0, 3] = 2 * M**2 * a * r**2 * X * np.sin(theta) ** 2 / Sigma**4\n",
    "    rijkl[3, 3, 0, 3] = -rijkl[0, 0, 0, 3]\n",
    "    rijkl[0, 3, 0, 3] = -rijkl[0, 0, 0, 3] / omega_k\n",
    "    rijkl[3, 0, 0, 3] = -rijkl[0, 0, 0, 3] / (\n",
    "        2 * M * a * r / (Delta - a**2 * np.sin(theta) ** 2)\n",
    "    )\n",
    "\n",
    "    rijkl[0, 0, 1, 2] = -(\n",
    "        M**2 * a**2 * r * Y * np.sin(2 * theta) / (Delta * Sigma**3)\n",
    "    )\n",
    "    rijkl[3, 3, 1, 2] = -rijkl[0, 0, 1, 2]\n",
    "    rijkl[0, 3, 1, 2] = -rijkl[0, 0, 1, 2] / omega_k\n",
    "    rijkl[3, 0, 1, 2] = -rijkl[0, 0, 1, 2] / (\n",
    "        2 * M * a * r / (Delta - a**2 * np.sin(theta) ** 2)\n",
    "    )\n",
    "\n",
    "    rijkl[3, 2, 2, 3] = -(\n",
    "        M * r * X * (2 * (r**2 + a**2) + a**2 * np.sin(theta) ** 2) / Sigma**3\n",
    "    )\n",
    "\n",
    "    rijkl[0, 1, 0, 1] = -rijkl[3, 2, 2, 3] / Delta\n",
    "\n",
    "    rijkl[0, 2, 0, 2] = -(\n",
    "        M * r * X * ((r**2 + a**2) + 2 * a**2 * np.sin(theta) ** 2) / Sigma**3\n",
    "    )\n",
    "\n",
    "    rijkl[3, 1, 1, 3] = -rijkl[0, 2, 0, 2] / Delta\n",
    "\n",
    "    rijkl[0, 1, 0, 2] = rijkl[3, 2, 1, 3] = (\n",
    "        -M\n",
    "        * a**2\n",
    "        / (Delta * Sigma**3)\n",
    "        * Y\n",
    "        * (3 * (r**2 + a**2) - 2 * M * r)\n",
    "        * np.sin(theta)\n",
    "        * np.cos(theta)\n",
    "    )\n",
    "\n",
    "    rijkl[0, 2, 0, 1] = rijkl[3, 2, 1, 3] = (\n",
    "        -M\n",
    "        * a**2\n",
    "        / (Delta * Sigma**3)\n",
    "        * Y\n",
    "        * (3 * (r**2 + a**2) - 4 * M * r)\n",
    "        * np.sin(theta)\n",
    "        * np.cos(theta)\n",
    "    )\n",
    "\n",
    "    rijkl[3, 2, 0, 2] = -3 * M * a * r * X / Sigma**3\n",
    "    rijkl[3, 1, 0, 1] = -rijkl[3, 2, 0, 2] / Delta\n",
    "\n",
    "    rijkl[0, 2, 2, 3] = rijkl[3, 2, 0, 2] * np.sin(theta) ** 2 * (r**2 + a**2)\n",
    "    rijkl[0, 1, 1, 3] = -rijkl[0, 2, 2, 3] / Delta\n",
    "\n",
    "    rijkl[1, 0, 0, 2] = (\n",
    "        -3 * M * a**2 * Delta / Sigma**4 * Y * np.sin(theta) * np.cos(theta)\n",
    "    )\n",
    "    rijkl[2, 0, 0, 1] = rijkl[1, 0, 0, 2] / Delta\n",
    "\n",
    "    rijkl[1, 0, 1, 3] = (\n",
    "        M\n",
    "        * a\n",
    "        * r\n",
    "        / Sigma**4\n",
    "        * X\n",
    "        * np.sin(theta) ** 2\n",
    "        * (3 * (r**2 + a**2) - 4 * M * r)\n",
    "    )\n",
    "    rijkl[1, 3, 0, 1] = -rijkl[1, 0, 1, 3]\n",
    "\n",
    "    rijkl[2, 0, 2, 3] = -(\n",
    "        M\n",
    "        * a\n",
    "        * r\n",
    "        / Sigma**4\n",
    "        * X\n",
    "        * np.sin(theta) ** 2\n",
    "        * (3 * (r**2 + a**2) - 2 * M * r)\n",
    "    )\n",
    "\n",
    "    rijkl[2, 3, 0, 2] = -rijkl[2, 0, 2, 3]\n",
    "\n",
    "    rijkl[1, 0, 2, 3] = (\n",
    "        -M\n",
    "        * a\n",
    "        * Delta\n",
    "        / Sigma**4\n",
    "        * Y\n",
    "        * np.sin(theta)\n",
    "        * np.cos(theta)\n",
    "        * (2 * (r**2 + a**2) + a**2 * np.sin(theta) ** 2)\n",
    "    )\n",
    "    rijkl[2, 3, 0, 1] = -rijkl[1, 0, 2, 3] / Delta\n",
    "\n",
    "    rijkl[1, 3, 0, 2] = (\n",
    "        M\n",
    "        * a\n",
    "        * Delta\n",
    "        / Sigma**4\n",
    "        * Y\n",
    "        * np.sin(theta)\n",
    "        * np.cos(theta)\n",
    "        * ((r**2 + a**2) + 2 * a**2 * np.sin(theta) ** 2)\n",
    "    )\n",
    "\n",
    "    rijkl[2, 0, 1, 3] = -rijkl[1, 3, 0, 2] / Delta\n",
    "\n",
    "    rijkl[1, 2, 0, 3] = Delta**2 * rijkl[0, 0, 1, 2] / (2 * M * a * r)\n",
    "    rijkl[2, 1, 0, 3] = -rijkl[1, 2, 0, 3] / Delta\n",
    "\n",
    "    rijkl[1, 3, 2, 3] = -(r**2 + a**2) * np.sin(theta) ** 2 * rijkl[1, 0, 0, 2]\n",
    "    rijkl[2, 3, 1, 3] = rijkl[1, 3, 2, 3] / Delta\n",
    "\n",
    "    rijkl[1, 2, 1, 2] = -M * r * X / Sigma**2\n",
    "    rijkl[2, 1, 1, 2] = -rijkl[1, 2, 1, 2] / Delta\n",
    "\n",
    "    rijkl[0, 1, 2, 3] = (\n",
    "        -M\n",
    "        * a\n",
    "        * Y\n",
    "        * (2 * (r**2 + a**2) ** 2 + Delta * a**2 * np.sin(theta) ** 2)\n",
    "        * np.sin(theta)\n",
    "        * np.cos(theta)\n",
    "        / (Delta * Sigma**3)\n",
    "    )\n",
    "    rijkl[0, 2, 1, 3] = (\n",
    "        -M\n",
    "        * a\n",
    "        * Y\n",
    "        * ((r**2 + a**2) ** 2 + 2 * Delta * a**2 * np.sin(theta) ** 2)\n",
    "        * np.sin(theta)\n",
    "        * np.cos(theta)\n",
    "        / (Delta * Sigma**3)\n",
    "    )\n",
    "\n",
    "    rijkl[3, 1, 0, 2] = (\n",
    "        -M\n",
    "        * a\n",
    "        * Y\n",
    "        * (Delta + 2 * a**2 * np.sin(theta) ** 2)\n",
    "        / (np.tan(theta) * Delta * Sigma**3)\n",
    "    )\n",
    "    rijkl[3, 2, 0, 1] = (\n",
    "        -M\n",
    "        * a\n",
    "        * Y\n",
    "        * (2 * Delta + a**2 * np.sin(theta) ** 2)\n",
    "        / (np.tan(theta) * Delta * Sigma**3)\n",
    "    )\n",
    "\n",
    "    rijkl[1, 0, 0, 1] = (\n",
    "        M * r * X * (2 * Delta + a**2 * np.sin(theta) ** 2) / Sigma**4\n",
    "    )\n",
    "\n",
    "    rijkl[2, 0, 0, 2] = -(\n",
    "        M * r * X * (Delta + 2 * a**2 * np.sin(theta) ** 2) / Sigma**4\n",
    "    )\n",
    "\n",
    "    rijkl[1, 3, 1, 3] = (\n",
    "        -M\n",
    "        * r\n",
    "        * X\n",
    "        * ((r**2 + a**2) ** 2 + 2 * Delta * a**2 * np.sin(theta) ** 2)\n",
    "        * np.sin(theta) ** 2\n",
    "        / Sigma**4\n",
    "    )\n",
    "    rijkl[2, 3, 2, 3] = (\n",
    "        M\n",
    "        * r\n",
    "        * X\n",
    "        * (2 * (r**2 + a**2) ** 2 + Delta * a**2 * np.sin(theta) ** 2)\n",
    "        * np.sin(theta) ** 2\n",
    "        / Sigma**4\n",
    "    )\n",
    "\n",
    "    if config == \"ulll\":\n",
    "        return antisymmetrize(rijkl)\n",
    "    else:\n",
    "        return np.einsum(\"ij,jklm->iklm\", metric_tensor(a, r, theta), rijkl)"
   ]
  },
  {
   "cell_type": "code",
   "execution_count": 11,
   "metadata": {},
   "outputs": [],
   "source": [
    "def momentas(rsol):\n",
    "    \"\"\"\n",
    "    Function returns the momentas given the current 4-position vectors\n",
    "    \"\"\"\n",
    "    \n",
    "    guv=metric_tensor(rsol[1],rsol[2],a=a0)\n",
    "    p=rsol[4:8]\n",
    "    return np.einsum('ij,j->i',guv,p)"
   ]
  },
  {
   "cell_type": "code",
   "execution_count": 12,
   "metadata": {},
   "outputs": [],
   "source": [
    "def get_constants(rsol):\n",
    "\n",
    "    \"\"\"\n",
    "    Helper Function which outputs the Conserved Energy\n",
    "    and Conserved Angular Momentum. For Spin Case, these are only two\n",
    "    Constant of Motion\n",
    "    \"\"\"\n",
    "\n",
    "    E = np.zeros(len(rsol))\n",
    "    Phi = np.zeros(len(rsol))\n",
    "\n",
    "    for i in range(len(rsol)):\n",
    "        term1 = momentas(rsol[i])\n",
    "        dg = dmetric( rsol[i][1], rsol[i][2], a=a0,c=[0, 3])\n",
    "        suv = rsol[i][8:].reshape((4, 4))\n",
    "\n",
    "        term2 = np.einsum(\"jk,jk->\", dg[0], suv) * 0.5\n",
    "        term22 = np.einsum(\"jk,jk->\", dg[1], suv) * 0.5\n",
    "\n",
    "        E[i]=m * (term2 - term1[0])\n",
    "        Phi[i]=m * (term2-term1[3])\n",
    "\n",
    "    return E, Phi"
   ]
  },
  {
   "cell_type": "code",
   "execution_count": 16,
   "metadata": {},
   "outputs": [],
   "source": [
    "# Initial Velocity\n",
    "uhoo = np.sqrt(scA / (Delta * Sigma)) * np.array([1, 0, 0, omega_k])"
   ]
  },
  {
   "cell_type": "code",
   "execution_count": 17,
   "metadata": {},
   "outputs": [
    {
     "data": {
      "text/plain": [
       "array([1.00000100e+00, 0.00000000e+00, 0.00000000e+00, 1.41421498e-18])"
      ]
     },
     "execution_count": 17,
     "metadata": {},
     "output_type": "execute_result"
    }
   ],
   "source": [
    "uhoo"
   ]
  },
  {
   "cell_type": "code",
   "execution_count": 18,
   "metadata": {},
   "outputs": [],
   "source": [
    "gk=metric_tensor(r0,np.pi/2,a0)"
   ]
  },
  {
   "cell_type": "code",
   "execution_count": 19,
   "metadata": {},
   "outputs": [],
   "source": [
    "# Tensor components calculation\n",
    "\n",
    "v4,s4= smp.symbols('v4 s4')\n",
    "\n",
    "V_sigma = np.array(\n",
    "    [\n",
    "        v4,\n",
    "        Vin * np.cos(alpha_v),\n",
    "        Vin * np.sin(alpha_v) * np.cos(beta_v),\n",
    "        Vin * np.sin(alpha_v) * np.sin(beta_v),\n",
    "    ]\n",
    ")\n",
    "\n",
    "\n",
    "S_sigma = np.array(\n",
    "    [\n",
    "        s4,\n",
    "        sin * np.cos(alpha_s),\n",
    "        sin * np.sin(alpha_s) * np.cos(beta_s),\n",
    "        sin * np.sin(alpha_s) * np.sin(beta_s),\n",
    "    ]\n",
    ")"
   ]
  },
  {
   "cell_type": "code",
   "execution_count": 20,
   "metadata": {},
   "outputs": [],
   "source": [
    "dum_1=np.einsum('ij,j->i',gk,uhoo)"
   ]
  },
  {
   "cell_type": "code",
   "execution_count": 21,
   "metadata": {},
   "outputs": [],
   "source": [
    "v4=smp.solve(np.einsum(\"i,i\", dum_1, V_sigma), v4)[0]\n",
    "s4=smp.solve(np.einsum(\"i,i\", dum_1, S_sigma), s4)[0]"
   ]
  },
  {
   "cell_type": "code",
   "execution_count": 22,
   "metadata": {},
   "outputs": [],
   "source": [
    "# Tensor components calculation\n",
    "\n",
    "V_sigmain = np.array(\n",
    "    [\n",
    "        v4,\n",
    "        Vin * np.cos(alpha_v),\n",
    "        Vin * np.sin(alpha_v) * np.cos(beta_v),\n",
    "        Vin * np.sin(alpha_v) * np.sin(beta_v),\n",
    "    ]\n",
    ")\n",
    "\n",
    "\n",
    "S_sigmain = np.array(\n",
    "    [\n",
    "        s4,\n",
    "        sin * np.cos(alpha_s),\n",
    "        sin * np.sin(alpha_s) * np.cos(beta_s),\n",
    "        sin * np.sin(alpha_s) * np.sin(beta_s),\n",
    "    ]\n",
    ")"
   ]
  },
  {
   "cell_type": "code",
   "execution_count": 23,
   "metadata": {},
   "outputs": [],
   "source": [
    "#Sanity Check\n"
   ]
  },
  {
   "cell_type": "code",
   "execution_count": 24,
   "metadata": {},
   "outputs": [
    {
     "data": {
      "text/plain": [
       "(0, 0)"
      ]
     },
     "execution_count": 24,
     "metadata": {},
     "output_type": "execute_result"
    }
   ],
   "source": [
    "np.einsum(\"i,i\", np.einsum(\"ij,j\", gk, V_sigmain), uhoo), np.einsum(\n",
    "    \"i,i\", np.einsum(\"ij,j\", gk, S_sigmain), uhoo\n",
    ")"
   ]
  },
  {
   "cell_type": "code",
   "execution_count": 25,
   "metadata": {},
   "outputs": [],
   "source": [
    "Gamma=1/np.sqrt(1-Vin**2)"
   ]
  },
  {
   "cell_type": "code",
   "execution_count": 26,
   "metadata": {},
   "outputs": [],
   "source": [
    "Umu = (uhoo + V_sigmain) * Gamma"
   ]
  },
  {
   "cell_type": "code",
   "execution_count": 27,
   "metadata": {},
   "outputs": [],
   "source": [
    "dMult=np.einsum('i,jk,j,k->i',uhoo,gk,V_sigmain,S_sigmain)"
   ]
  },
  {
   "cell_type": "code",
   "execution_count": 28,
   "metadata": {},
   "outputs": [],
   "source": [
    "scS=Gamma*(dMult+S_sigmain)"
   ]
  },
  {
   "cell_type": "code",
   "execution_count": 29,
   "metadata": {},
   "outputs": [],
   "source": [
    "epsilon=levi_cevita_tensor(4)"
   ]
  },
  {
   "cell_type": "code",
   "execution_count": 30,
   "metadata": {},
   "outputs": [],
   "source": [
    "Sepsilon = np.einsum(\"mnjl,ij,kl->mnik\",epsilon, gk, gk)"
   ]
  },
  {
   "cell_type": "code",
   "execution_count": 31,
   "metadata": {},
   "outputs": [],
   "source": [
    "scM=1e-6"
   ]
  },
  {
   "cell_type": "code",
   "execution_count": 32,
   "metadata": {},
   "outputs": [],
   "source": [
    "SinM=scS/scM"
   ]
  },
  {
   "cell_type": "code",
   "execution_count": 33,
   "metadata": {},
   "outputs": [],
   "source": [
    "MSinM=sin/scM"
   ]
  },
  {
   "cell_type": "code",
   "execution_count": 34,
   "metadata": {},
   "outputs": [],
   "source": [
    "Suvin=np.einsum('ijkl,k,l->ij',Sepsilon,Umu,SinM)"
   ]
  },
  {
   "cell_type": "code",
   "execution_count": 41,
   "metadata": {},
   "outputs": [],
   "source": [
    "y0 = np.zeros(24)\n",
    "y0[:4] = [0.0, r0, theta0, 0.0]\n",
    "y0[4:8] = Umu.flatten()\n",
    "y0[8:] = Suvin.flatten()"
   ]
  },
  {
   "cell_type": "code",
   "execution_count": 35,
   "metadata": {},
   "outputs": [],
   "source": [
    "def Sbar(csu):\n",
    "\n",
    "    a,b,c,d,e,f= csu\n",
    "    # Create a 4x4 antisymmetric matrix\n",
    "\n",
    "    antisymmetric_matrix = np.array(\n",
    "    [[0, a, b, c], [-a, 0, d, e], [-b, -d, 0, f], [-c, -e, -f, 0]]\n",
    ")\n",
    "    \n",
    "    return antisymmetric_matrix"
   ]
  },
  {
   "cell_type": "code",
   "execution_count": 36,
   "metadata": {},
   "outputs": [],
   "source": [
    "# @snoop\n",
    "def rhs40(y,Umu,sbaruv):\n",
    "    \"\"\"\n",
    "    The RHS of Equation 40 in Paper\n",
    "    \"\"\"\n",
    "\n",
    "    t,r,theta,phi=y\n",
    "    rijkl=kerr_riemann_tensor(r=r,theta=theta,a=a0,config='llll')\n",
    "    guv= metric_tensor(r=r0,theta=theta,a=a0)\n",
    "\n",
    "    num = 2*np.einsum(\"ij,jklm,k,lm->i\",sbaruv,rijkl,Umu,sbaruv)\n",
    "    den = 4+ np.einsum(\"abcd,ab,cd-> \",rijkl,sbaruv,sbaruv)\n",
    "\n",
    "    umu=Umu+ num/den\n",
    "\n",
    "    norm_= np.einsum(\"ij,j->i\",guv,umu)\n",
    "    norm=np.einsum(\"i,i->\",norm_,umu)\n",
    "\n",
    "    umu=umu/np.sqrt(-norm)\n",
    "\n",
    "    return umu\n",
    "    "
   ]
  },
  {
   "cell_type": "code",
   "execution_count": 37,
   "metadata": {},
   "outputs": [],
   "source": [
    "def rhs41(y, Umu, sbaruv, umu):\n",
    "\n",
    "    \"\"\"\n",
    "    The RHS of Equation 41 in Paper\n",
    "    \"\"\"\n",
    "    \n",
    "    t, r, theta, phi = y\n",
    "    rijkl = kerr_riemann_tensor(r=r, theta=theta, a=a0)\n",
    "    cs = kerr_christoffel(r, theta, a=a0)\n",
    "\n",
    "    term1 = np.einsum(\"ijkl,kl->ij\", rijkl, sbaruv) * 0.5\n",
    "    term2 = np.einsum(\"ijk,k\", cs, Umu)\n",
    "\n",
    "    term = -(term1 + term2)\n",
    "\n",
    "    dUmu = np.einsum(\"ij,j->i\", term, umu)\n",
    "\n",
    "    return dUmu"
   ]
  },
  {
   "cell_type": "code",
   "execution_count": 38,
   "metadata": {},
   "outputs": [],
   "source": [
    "def rhs42(y, Umu, umu, sbaruv):\n",
    "    \"\"\"\n",
    "    The RHS of Equation 42 in Paper\n",
    "    \"\"\"\n",
    "\n",
    "    t, r, theta, phi = y\n",
    "    cs = kerr_christoffel(r, theta, a=a0)\n",
    "\n",
    "    term1 = np.einsum(\"i,j->ij\", Umu, umu)\n",
    "    term1 = (term1 - term1.T) / 2\n",
    "\n",
    "    term2 = np.einsum(\"ijk,lj,k->il\", cs, sbaruv, umu)\n",
    "    term2 = (term2 - term2.T) / 2\n",
    "\n",
    "    dSuv = 2 * (term1 + term2)\n",
    "\n",
    "    return dSuv"
   ]
  },
  {
   "cell_type": "code",
   "execution_count": 39,
   "metadata": {},
   "outputs": [],
   "source": [
    "def rhs43(umu):\n",
    "    return umu"
   ]
  },
  {
   "cell_type": "code",
   "execution_count": 40,
   "metadata": {},
   "outputs": [],
   "source": [
    "#The Initial Vector has following components:\n",
    "#y[:4]= t,r, theta, phi\n",
    "#y[4:8]= Inital 4-Velocity\n",
    "#y[8:]= Initial component of Spin"
   ]
  },
  {
   "cell_type": "code",
   "execution_count": 43,
   "metadata": {},
   "outputs": [],
   "source": [
    "def mpd(t,y):\n",
    "    \"\"\"\n",
    "    Solve the MPD Equations Given the Initial Conditions\n",
    "    \"\"\"\n",
    "\n",
    "    dy=np.zeros_like(y)\n",
    "\n",
    "    Umu=y[4:8]\n",
    "    sbaruv=y[8:].reshape((4,4))\n",
    "    \n",
    "    umu=rhs40(y[:4],Umu,sbaruv)\n",
    "    dy[4:8]=rhs41(y[:4],Umu,sbaruv,umu)\n",
    "    dy[8:]=rhs42(y[:4],Umu,umu,sbaruv).flatten()\n",
    "\n",
    "    dy[:4]=umu\n",
    "\n",
    "    return dy\n",
    "\n"
   ]
  },
  {
   "cell_type": "code",
   "execution_count": 44,
   "metadata": {},
   "outputs": [],
   "source": [
    "sol=solve_ivp(fun=mpd, t_span=[0.0, 20.0], y0=y0, method=\"LSODA\", t_eval=np.arange(0.0, 20.0,1e-3),rtol=1e-10,atol=1e-10)"
   ]
  },
  {
   "cell_type": "code",
   "execution_count": 45,
   "metadata": {},
   "outputs": [],
   "source": [
    "rsol=sol.y #*Solution"
   ]
  },
  {
   "cell_type": "code",
   "execution_count": 46,
   "metadata": {},
   "outputs": [],
   "source": [
    "E,Phi=get_constants(rsol.T) #*Energy and Angular Momentum"
   ]
  },
  {
   "cell_type": "code",
   "execution_count": 47,
   "metadata": {},
   "outputs": [
    {
     "data": {
      "text/plain": [
       "[<matplotlib.lines.Line2D at 0x7f99e34793f0>]"
      ]
     },
     "execution_count": 47,
     "metadata": {},
     "output_type": "execute_result"
    },
    {
     "data": {
      "image/png": "[encoded data removed]",
      "text/plain": [
       "<Figure size 640x480 with 1 Axes>"
      ]
     },
     "metadata": {},
     "output_type": "display_data"
    }
   ],
   "source": [
    "plt.plot(E) #Plot Energy"
   ]
  },
  {
   "cell_type": "code",
   "execution_count": 48,
   "metadata": {},
   "outputs": [
    {
     "data": {
      "text/plain": [
       "[<matplotlib.lines.Line2D at 0x7f99b6b2ef50>]"
      ]
     },
     "execution_count": 48,
     "metadata": {},
     "output_type": "execute_result"
    },
    {
     "data": {
      "image/png": "[encoded data removed]",
      "text/plain": [
       "<Figure size 640x480 with 1 Axes>"
      ]
     },
     "metadata": {},
     "output_type": "display_data"
    }
   ],
   "source": [
    "plt.plot(Phi) #Plot Angular Momentum"
   ]
  }
 ],
 "metadata": {
  "kernelspec": {
   "display_name": "base",
   "language": "python",
   "name": "python3"
  },
  "language_info": {
   "codemirror_mode": {
    "name": "ipython",
    "version": 3
   },
   "file_extension": ".py",
   "mimetype": "text/x-python",
   "name": "python",
   "nbconvert_exporter": "python",
   "pygments_lexer": "ipython3",
   "version": "3.10.12"
  }
 },
 "nbformat": 4,
 "nbformat_minor": 2
}
