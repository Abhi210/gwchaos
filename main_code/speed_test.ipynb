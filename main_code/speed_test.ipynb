{
 "cells": [
  {
   "cell_type": "code",
   "execution_count": 1,
   "metadata": {},
   "outputs": [],
   "source": [
    "import numpy as np\n",
    "import numba as nb"
   ]
  },
  {
   "cell_type": "code",
   "execution_count": 2,
   "metadata": {},
   "outputs": [],
   "source": [
    "levi= np.random.normal(size=(4,4,4,4))\n",
    "Riemann = np.random.normal(size=(4, 4, 4, 4))\n",
    "dRuluu = np.random.normal(size=(4, 4, 4, 4))\n",
    "# levi_mixed = np.random.normal(size=(4, 4, 4, 4))"
   ]
  },
  {
   "cell_type": "code",
   "execution_count": 3,
   "metadata": {},
   "outputs": [],
   "source": [
    "gk= np.random.normal(size=(4,4))\n",
    "gkinv= np.linalg.inv(gk)"
   ]
  },
  {
   "cell_type": "code",
   "execution_count": 4,
   "metadata": {},
   "outputs": [],
   "source": [
    "levi_mixed = np.einsum(\"px,sy,xyuv->psuv\", gk, gk, levi)"
   ]
  },
  {
   "cell_type": "code",
   "execution_count": 5,
   "metadata": {},
   "outputs": [],
   "source": [
    "dRuluu = 0.5 * np.einsum(\"abps,psuv->abuv\", Riemann, levi)  #!R*^a_{buv}\n",
    "dRlluu = np.einsum(\"ia,abuv->ibuv\", gk, dRuluu)"
   ]
  },
  {
   "cell_type": "code",
   "execution_count": 6,
   "metadata": {},
   "outputs": [
    {
     "name": "stdout",
     "output_type": "stream",
     "text": [
      "2.93 µs ± 153 ns per loop (mean ± std. dev. of 7 runs, 100,000 loops each)\n"
     ]
    }
   ],
   "source": [
    "%%timeit\n",
    "dRlluu = np.einsum(\"ia,abuv->ibuv\", gk, dRuluu)"
   ]
  },
  {
   "cell_type": "code",
   "execution_count": 7,
   "metadata": {},
   "outputs": [
    {
     "name": "stdout",
     "output_type": "stream",
     "text": [
      "1.11 µs ± 78.3 ns per loop (mean ± std. dev. of 7 runs, 1,000,000 loops each)\n"
     ]
    }
   ],
   "source": [
    "%%timeit\n",
    "dRlluu =gk.dot(dRuluu.reshape((4, -1))).reshape((4, 4, 4, 4))"
   ]
  },
  {
   "cell_type": "code",
   "execution_count": 8,
   "metadata": {},
   "outputs": [],
   "source": [
    "dgk= np.random.normal(size=(4,4,4))"
   ]
  },
  {
   "cell_type": "code",
   "execution_count": 9,
   "metadata": {},
   "outputs": [],
   "source": [
    "dg = np.einsum(\"gd,gda->a\", gkinv, dgk)  #! D(Det(g))"
   ]
  },
  {
   "cell_type": "code",
   "execution_count": 10,
   "metadata": {},
   "outputs": [
    {
     "name": "stdout",
     "output_type": "stream",
     "text": [
      "1.77 µs ± 129 ns per loop (mean ± std. dev. of 7 runs, 1,000,000 loops each)\n"
     ]
    }
   ],
   "source": [
    "%%timeit\n",
    "dg = np.einsum(\"gd,gda->a\", gkinv, dgk)  #! D(Det(g))"
   ]
  },
  {
   "cell_type": "code",
   "execution_count": 11,
   "metadata": {},
   "outputs": [
    {
     "data": {
      "text/plain": [
       "array([[[-4.79967125e+01, -1.36363659e+01,  1.57906350e+01,\n",
       "          2.25370766e+01],\n",
       "        [ 2.58684193e+01,  7.00758577e+00, -8.15886991e+00,\n",
       "         -1.13932053e+01],\n",
       "        [-4.25342095e+02, -1.07351106e+02,  1.51371781e+02,\n",
       "          1.84842002e+02],\n",
       "        [-8.50049564e+01, -2.12784304e+01,  3.11884487e+01,\n",
       "          3.63158052e+01]],\n",
       "\n",
       "       [[-2.46221660e+00,  3.26129442e-01,  1.34973789e+00,\n",
       "          1.20976384e-01],\n",
       "        [-1.96474604e+02, -4.91384398e+01,  7.06481289e+01,\n",
       "          8.58922508e+01],\n",
       "        [ 2.60235199e+02,  6.65358057e+01, -9.18951618e+01,\n",
       "         -1.14078656e+02],\n",
       "        [ 2.77769388e+02,  6.70937786e+01, -1.01814747e+02,\n",
       "         -1.18266572e+02]],\n",
       "\n",
       "       [[-1.63447885e+02, -4.06881713e+01,  5.89941880e+01,\n",
       "          7.14595772e+01],\n",
       "        [-8.51859620e+01, -2.34097719e+01,  2.75368113e+01,\n",
       "          3.79256745e+01],\n",
       "        [ 1.31577644e+02,  3.18198796e+01, -4.93597892e+01,\n",
       "         -5.57941068e+01],\n",
       "        [-5.26670550e+01, -1.22975561e+01,  1.94360882e+01,\n",
       "          2.17525656e+01]],\n",
       "\n",
       "       [[ 1.82488826e+02,  4.69007229e+01, -6.35011678e+01,\n",
       "         -7.99291195e+01],\n",
       "        [ 2.73802581e+01,  8.71748700e+00, -7.85858780e+00,\n",
       "         -1.24262595e+01],\n",
       "        [ 4.66236155e+01,  1.11996479e+01, -1.74445015e+01,\n",
       "         -1.96608041e+01],\n",
       "        [ 2.07681402e+02,  4.85802791e+01, -7.74602536e+01,\n",
       "         -8.68205352e+01]]])"
      ]
     },
     "execution_count": 11,
     "metadata": {},
     "output_type": "execute_result"
    }
   ],
   "source": [
    "dgk.transpose(2, 1, 0).dot(gkinv)"
   ]
  },
  {
   "cell_type": "code",
   "execution_count": 12,
   "metadata": {},
   "outputs": [
    {
     "data": {
      "text/plain": [
       "array([[[-4.79967125e+01, -1.36363659e+01,  1.57906350e+01,\n",
       "          2.25370766e+01],\n",
       "        [ 2.58684193e+01,  7.00758577e+00, -8.15886991e+00,\n",
       "         -1.13932053e+01],\n",
       "        [-4.25342095e+02, -1.07351106e+02,  1.51371781e+02,\n",
       "          1.84842002e+02],\n",
       "        [-8.50049564e+01, -2.12784304e+01,  3.11884487e+01,\n",
       "          3.63158052e+01]],\n",
       "\n",
       "       [[-2.46221660e+00,  3.26129442e-01,  1.34973789e+00,\n",
       "          1.20976384e-01],\n",
       "        [-1.96474604e+02, -4.91384398e+01,  7.06481289e+01,\n",
       "          8.58922508e+01],\n",
       "        [ 2.60235199e+02,  6.65358057e+01, -9.18951618e+01,\n",
       "         -1.14078656e+02],\n",
       "        [ 2.77769388e+02,  6.70937786e+01, -1.01814747e+02,\n",
       "         -1.18266572e+02]],\n",
       "\n",
       "       [[-1.63447885e+02, -4.06881713e+01,  5.89941880e+01,\n",
       "          7.14595772e+01],\n",
       "        [-8.51859620e+01, -2.34097719e+01,  2.75368113e+01,\n",
       "          3.79256745e+01],\n",
       "        [ 1.31577644e+02,  3.18198796e+01, -4.93597892e+01,\n",
       "         -5.57941068e+01],\n",
       "        [-5.26670550e+01, -1.22975561e+01,  1.94360882e+01,\n",
       "          2.17525656e+01]],\n",
       "\n",
       "       [[ 1.82488826e+02,  4.69007229e+01, -6.35011678e+01,\n",
       "         -7.99291195e+01],\n",
       "        [ 2.73802581e+01,  8.71748700e+00, -7.85858780e+00,\n",
       "         -1.24262595e+01],\n",
       "        [ 4.66236155e+01,  1.11996479e+01, -1.74445015e+01,\n",
       "         -1.96608041e+01],\n",
       "        [ 2.07681402e+02,  4.85802791e+01, -7.74602536e+01,\n",
       "         -8.68205352e+01]]])"
      ]
     },
     "execution_count": 12,
     "metadata": {},
     "output_type": "execute_result"
    }
   ],
   "source": [
    "dgk.transpose(2,1,0).dot(gkinv)"
   ]
  },
  {
   "cell_type": "code",
   "execution_count": 13,
   "metadata": {},
   "outputs": [
    {
     "data": {
      "text/plain": [
       "(array([0, 1, 2, 3]), array([0, 1, 2, 3]), array([0, 1, 2, 3]))"
      ]
     },
     "execution_count": 13,
     "metadata": {},
     "output_type": "execute_result"
    }
   ],
   "source": [
    "np.diag_indices_from(dgk)"
   ]
  },
  {
   "cell_type": "code",
   "execution_count": 14,
   "metadata": {},
   "outputs": [
    {
     "data": {
      "text/plain": [
       "array([-147.52482642,  260.27253761,  208.91867548,  -81.88832521])"
      ]
     },
     "execution_count": 14,
     "metadata": {},
     "output_type": "execute_result"
    }
   ],
   "source": [
    "np.matmul(gk,dgk.transpose(1,0,2)).diagonal(axis1=0,axis2=1).sum(axis=1) -dg"
   ]
  },
  {
   "cell_type": "code",
   "execution_count": 15,
   "metadata": {},
   "outputs": [
    {
     "data": {
      "text/plain": [
       "array([[-152.7562776 ,  258.43641671,  217.30005786,  -88.70333191]])"
      ]
     },
     "execution_count": 15,
     "metadata": {},
     "output_type": "execute_result"
    }
   ],
   "source": [
    "np.matmul(gk.reshape((1, -1)),(dgk.reshape((-1, 4)))) -dg"
   ]
  },
  {
   "cell_type": "code",
   "execution_count": 16,
   "metadata": {},
   "outputs": [],
   "source": [
    "dlevi = -np.einsum(\"uvps,a->uvpsa\", levi, dg) * 0.5"
   ]
  },
  {
   "cell_type": "code",
   "execution_count": 17,
   "metadata": {},
   "outputs": [
    {
     "name": "stdout",
     "output_type": "stream",
     "text": [
      "4.88 µs ± 21.9 ns per loop (mean ± std. dev. of 7 runs, 100,000 loops each)\n"
     ]
    }
   ],
   "source": [
    "%%timeit\n",
    "dlevi = -np.einsum(\"uvps,a->uvpsa\", levi, dg) * 0.5\n"
   ]
  },
  {
   "cell_type": "code",
   "execution_count": 18,
   "metadata": {},
   "outputs": [
    {
     "data": {
      "text/plain": [
       "0.0"
      ]
     },
     "execution_count": 18,
     "metadata": {},
     "output_type": "execute_result"
    }
   ],
   "source": [
    "(-(np.outer(levi, dg) * 0.5).reshape((4,4,4,4,4)) -dlevi).max()"
   ]
  },
  {
   "cell_type": "code",
   "execution_count": 48,
   "metadata": {},
   "outputs": [
    {
     "name": "stdout",
     "output_type": "stream",
     "text": [
      "7.4 µs ± 42.3 ns per loop (mean ± std. dev. of 7 runs, 100,000 loops each)\n"
     ]
    }
   ],
   "source": [
    "%%timeit\n",
    "dlevi = -(np.outer(levi, dg) * 0.5).reshape((4, 4, 4, 4, 4))"
   ]
  },
  {
   "cell_type": "code",
   "execution_count": 19,
   "metadata": {},
   "outputs": [],
   "source": [
    "dRiemann= np.random.normal(size=(4,4,4,4,4))"
   ]
  },
  {
   "cell_type": "code",
   "execution_count": 20,
   "metadata": {},
   "outputs": [],
   "source": [
    "DdRuluu = 0.5 * (\n",
    "    np.einsum(\"abpsk,psuv->abuvk\", dRiemann, levi)\n",
    "    + np.einsum(\"abps,psuvk->abuvk\", Riemann, dlevi)\n",
    ")  #! DR*^a_{buv}"
   ]
  },
  {
   "cell_type": "code",
   "execution_count": 21,
   "metadata": {},
   "outputs": [
    {
     "name": "stdout",
     "output_type": "stream",
     "text": [
      "3.05 µs ± 11 ns per loop (mean ± std. dev. of 7 runs, 100,000 loops each)\n"
     ]
    }
   ],
   "source": [
    "%%timeit\n",
    "np.einsum(\"ai,ibupk->abupk\", gk, DdRuluu)"
   ]
  },
  {
   "cell_type": "code",
   "execution_count": 22,
   "metadata": {},
   "outputs": [
    {
     "name": "stdout",
     "output_type": "stream",
     "text": [
      "8.63 µs ± 48.7 ns per loop (mean ± std. dev. of 7 runs, 100,000 loops each)\n"
     ]
    }
   ],
   "source": [
    "%%timeit\n",
    "gk.dot(DdRuluu)"
   ]
  },
  {
   "cell_type": "code",
   "execution_count": 23,
   "metadata": {},
   "outputs": [
    {
     "data": {
      "text/plain": [
       "2.2737367544323206e-13"
      ]
     },
     "execution_count": 23,
     "metadata": {},
     "output_type": "execute_result"
    }
   ],
   "source": [
    "(np.einsum(\"ai,ibupk->abupk\", gk, DdRuluu) - (gk.dot(DdRuluu.reshape((4,-1)))).reshape((4,4,4,4,4))).max()"
   ]
  },
  {
   "cell_type": "code",
   "execution_count": 24,
   "metadata": {},
   "outputs": [
    {
     "name": "stdout",
     "output_type": "stream",
     "text": [
      "1.61 µs ± 16 ns per loop (mean ± std. dev. of 7 runs, 1,000,000 loops each)\n"
     ]
    }
   ],
   "source": [
    "%%timeit\n",
    "gk.dot(DdRuluu.reshape((4,-1))).reshape((4,4,4,4,4))"
   ]
  },
  {
   "cell_type": "code",
   "execution_count": 25,
   "metadata": {},
   "outputs": [],
   "source": [
    "dgkinv= np.random.normal(size=(4,4,4))"
   ]
  },
  {
   "cell_type": "code",
   "execution_count": 26,
   "metadata": {},
   "outputs": [
    {
     "name": "stdout",
     "output_type": "stream",
     "text": [
      "657 µs ± 7.9 µs per loop (mean ± std. dev. of 7 runs, 1,000 loops each)\n"
     ]
    }
   ],
   "source": [
    "%%timeit\n",
    "DddRuuuu = 0.5 * (\n",
    "    np.einsum(\"bi,aipsk,psuv->abuvk\", gkinv, DdRuluu, levi_mixed, optimize=True)\n",
    "    + np.einsum(\"bik,aips,psuv->abuvk\", dgkinv, dRuluu, levi_mixed, optimize=True)\n",
    "    + np.einsum(\n",
    "        \"bi,aips,pm,sn,mnuvz->abuvz\", gkinv, dRuluu, gk, gk, dlevi, optimize=True\n",
    "    )\n",
    "    + np.einsum(\n",
    "        \"bi,aips,pmz,sn,mnuv->abuvz\", gkinv, dRuluu, dgk, gk, levi, optimize=True\n",
    "    )\n",
    "    + np.einsum(\n",
    "        \"bi,aips,pm,snz,mnuv->abuvz\", gkinv, dRuluu, gk, dgk, levi, optimize=True\n",
    "    )\n",
    ")  #! D*R*^{abuv}"
   ]
  },
  {
   "cell_type": "code",
   "execution_count": 27,
   "metadata": {},
   "outputs": [
    {
     "name": "stdout",
     "output_type": "stream",
     "text": [
      "19.1 ms ± 401 µs per loop (mean ± std. dev. of 7 runs, 100 loops each)\n"
     ]
    }
   ],
   "source": [
    "%%timeit\n",
    "DddRuuuu = 0.5 * (\n",
    "    np.einsum(\"bi,aipsk,psuv->abuvk\", gkinv, DdRuluu, levi_mixed)\n",
    "    + np.einsum(\"bik,aips,psuv->abuvk\", dgkinv, dRuluu, levi_mixed)\n",
    "    + np.einsum(\n",
    "        \"bi,aips,pm,sn,mnuvz->abuvz\", gkinv, dRuluu, gk, gk, dlevi,\n",
    "    )\n",
    "    + np.einsum(\n",
    "        \"bi,aips,pmz,sn,mnuv->abuvz\", gkinv, dRuluu, dgk, gk, levi,\n",
    "    )\n",
    "    + np.einsum(\n",
    "        \"bi,aips,pm,snz,mnuv->abuvz\", gkinv, dRuluu, gk, dgk, levi,\n",
    "    )\n",
    ")  #! D*R*^{abuv}"
   ]
  },
  {
   "cell_type": "code",
   "execution_count": 28,
   "metadata": {},
   "outputs": [],
   "source": [
    "ddRuuuu= np.random.normal(size=(4,4,4,4))\n",
    "pvector= np.random.normal(size=(4))\n",
    "svector = np.random.normal(size=(4))"
   ]
  },
  {
   "cell_type": "code",
   "execution_count": 29,
   "metadata": {},
   "outputs": [],
   "source": [
    "wu = -np.einsum(\"uabg,a,b,g->u\", ddRuuuu, svector, pvector, svector)  #!w^mu"
   ]
  },
  {
   "cell_type": "code",
   "execution_count": 30,
   "metadata": {},
   "outputs": [
    {
     "name": "stdout",
     "output_type": "stream",
     "text": [
      "4.82 µs ± 407 ns per loop (mean ± std. dev. of 7 runs, 100,000 loops each)\n"
     ]
    }
   ],
   "source": [
    "%%timeit\n",
    "wu = -np.einsum(\"uabg,a,b,g->u\", ddRuuuu, svector, pvector, svector)  #!w^mu"
   ]
  },
  {
   "cell_type": "code",
   "execution_count": 31,
   "metadata": {},
   "outputs": [
    {
     "name": "stdout",
     "output_type": "stream",
     "text": [
      "2.56 µs ± 134 ns per loop (mean ± std. dev. of 7 runs, 100,000 loops each)\n"
     ]
    }
   ],
   "source": [
    "%%timeit\n",
    "wu= -ddRuuuu.dot(svector).dot(pvector).dot(svector)"
   ]
  },
  {
   "cell_type": "code",
   "execution_count": 32,
   "metadata": {},
   "outputs": [
    {
     "data": {
      "text/plain": [
       "array([ 8.88178420e-16,  0.00000000e+00, -3.33066907e-16,  0.00000000e+00])"
      ]
     },
     "execution_count": 32,
     "metadata": {},
     "output_type": "execute_result"
    }
   ],
   "source": [
    "(-np.einsum(\"uabg,a,b,g->u\", ddRuuuu, svector, pvector, svector)) - (\n",
    "    -ddRuuuu.dot(svector).dot(pvector).dot(svector)\n",
    ")"
   ]
  },
  {
   "cell_type": "code",
   "execution_count": 33,
   "metadata": {},
   "outputs": [],
   "source": [
    "DddRuuuu= np.random.normal(size=(4,4,4,4,4))"
   ]
  },
  {
   "cell_type": "code",
   "execution_count": 34,
   "metadata": {},
   "outputs": [],
   "source": [
    "wuv = -np.einsum(\"uabgv,a,b,g->uv\", DddRuuuu, svector, pvector, svector)"
   ]
  },
  {
   "cell_type": "code",
   "execution_count": 35,
   "metadata": {},
   "outputs": [
    {
     "data": {
      "text/plain": [
       "array([[-4.97509537,  2.72647315,  2.4847986 , -1.20860172],\n",
       "       [ 2.92344023, -6.11625078, -0.0913571 ,  5.1735743 ],\n",
       "       [ 1.58374699,  4.04820965,  1.62312056,  1.04479312],\n",
       "       [-3.21127473,  0.86785244, -2.53032938,  1.03578971]])"
      ]
     },
     "execution_count": 35,
     "metadata": {},
     "output_type": "execute_result"
    }
   ],
   "source": [
    "wuv"
   ]
  },
  {
   "cell_type": "code",
   "execution_count": 36,
   "metadata": {},
   "outputs": [
    {
     "name": "stdout",
     "output_type": "stream",
     "text": [
      "11.6 µs ± 186 ns per loop (mean ± std. dev. of 7 runs, 100,000 loops each)\n"
     ]
    }
   ],
   "source": [
    "%%timeit\n",
    "wuv = -np.einsum(\"uabgv,a,b,g->uv\", DddRuuuu, svector, pvector, svector)"
   ]
  },
  {
   "cell_type": "code",
   "execution_count": 79,
   "metadata": {},
   "outputs": [
    {
     "name": "stdout",
     "output_type": "stream",
     "text": [
      "6.13 µs ± 377 ns per loop (mean ± std. dev. of 7 runs, 100,000 loops each)\n"
     ]
    }
   ],
   "source": [
    "%%timeit\n",
    "wuv= -DddRuuuu.transpose(0,4,1,2,3).dot(svector).dot(pvector).dot(svector)"
   ]
  },
  {
   "cell_type": "code",
   "execution_count": 80,
   "metadata": {},
   "outputs": [
    {
     "data": {
      "text/plain": [
       "array([[ 0.00000000e+00,  0.00000000e+00, -1.33226763e-15,\n",
       "        -4.44089210e-16],\n",
       "       [ 1.11022302e-15, -4.44089210e-16, -2.91433544e-16,\n",
       "         8.32667268e-17],\n",
       "       [ 4.44089210e-16,  4.44089210e-16, -4.44089210e-16,\n",
       "        -1.11022302e-16],\n",
       "       [ 1.90819582e-16, -4.44089210e-16, -1.11022302e-16,\n",
       "         2.22044605e-16]])"
      ]
     },
     "execution_count": 80,
     "metadata": {},
     "output_type": "execute_result"
    }
   ],
   "source": [
    "-DddRuuuu.transpose(0,4,1,2,3).dot(svector).dot(pvector).dot(svector) -wuv"
   ]
  },
  {
   "cell_type": "code",
   "execution_count": 81,
   "metadata": {},
   "outputs": [],
   "source": [
    "uvector= np.random.normal(size=4)"
   ]
  },
  {
   "cell_type": "code",
   "execution_count": 83,
   "metadata": {},
   "outputs": [
    {
     "name": "stdout",
     "output_type": "stream",
     "text": [
      "1.54 µs ± 15.1 ns per loop (mean ± std. dev. of 7 runs, 1,000,000 loops each)\n"
     ]
    }
   ],
   "source": [
    "%%timeit\n",
    "uvectorl= np.einsum(\"ai,i->a\",gk,uvector)"
   ]
  },
  {
   "cell_type": "code",
   "execution_count": 84,
   "metadata": {},
   "outputs": [
    {
     "name": "stdout",
     "output_type": "stream",
     "text": [
      "316 ns ± 8.68 ns per loop (mean ± std. dev. of 7 runs, 1,000,000 loops each)\n"
     ]
    }
   ],
   "source": [
    "%%timeit\n",
    "uvectorl= gk.dot(uvector)"
   ]
  },
  {
   "cell_type": "code",
   "execution_count": 86,
   "metadata": {},
   "outputs": [],
   "source": [
    "uvectorl= np.einsum(\"ai,i->a\", gk, uvector) "
   ]
  },
  {
   "cell_type": "code",
   "execution_count": 88,
   "metadata": {},
   "outputs": [
    {
     "name": "stdout",
     "output_type": "stream",
     "text": [
      "1.71 µs ± 28.2 ns per loop (mean ± std. dev. of 7 runs, 1,000,000 loops each)\n"
     ]
    }
   ],
   "source": [
    "%%timeit\n",
    "np.einsum(\"a,auv->uv\", pvector, dgkinv)"
   ]
  },
  {
   "cell_type": "code",
   "execution_count": 93,
   "metadata": {},
   "outputs": [
    {
     "name": "stdout",
     "output_type": "stream",
     "text": [
      "745 ns ± 6.76 ns per loop (mean ± std. dev. of 7 runs, 1,000,000 loops each)\n"
     ]
    }
   ],
   "source": [
    "%%timeit\n",
    "dgkinv.transpose(1,2,0).dot(pvector)"
   ]
  },
  {
   "cell_type": "code",
   "execution_count": 92,
   "metadata": {},
   "outputs": [
    {
     "data": {
      "text/plain": [
       "array([[ 5.55111512e-17,  5.55111512e-17, -2.22044605e-16,\n",
       "         0.00000000e+00],\n",
       "       [ 0.00000000e+00,  0.00000000e+00,  0.00000000e+00,\n",
       "         0.00000000e+00],\n",
       "       [ 0.00000000e+00,  0.00000000e+00,  0.00000000e+00,\n",
       "        -2.22044605e-16],\n",
       "       [ 0.00000000e+00,  0.00000000e+00,  2.77555756e-17,\n",
       "         4.44089210e-16]])"
      ]
     },
     "execution_count": 92,
     "metadata": {},
     "output_type": "execute_result"
    }
   ],
   "source": [
    "np.einsum(\"a,auv->uv\", pvector, dgkinv) - dgkinv.transpose(1,2,0).dot(pvector)"
   ]
  },
  {
   "cell_type": "code",
   "execution_count": 97,
   "metadata": {},
   "outputs": [
    {
     "name": "stdout",
     "output_type": "stream",
     "text": [
      "2.33 µs ± 50.5 ns per loop (mean ± std. dev. of 7 runs, 100,000 loops each)\n"
     ]
    }
   ],
   "source": [
    "%%timeit\n",
    "np.einsum(\"u,a,av->uv\", uvector, uvectorl, wuv)"
   ]
  },
  {
   "cell_type": "code",
   "execution_count": 98,
   "metadata": {},
   "outputs": [
    {
     "name": "stdout",
     "output_type": "stream",
     "text": [
      "2.77 µs ± 25.4 ns per loop (mean ± std. dev. of 7 runs, 100,000 loops each)\n"
     ]
    }
   ],
   "source": [
    "%%timeit\n",
    "np.matmul(np.outer(uvector,uvectorl),wuv)"
   ]
  },
  {
   "cell_type": "code",
   "execution_count": 106,
   "metadata": {},
   "outputs": [],
   "source": [
    "@nb.njit\n",
    "def outer_numba(a, b):\n",
    "    m = a.shape[0]\n",
    "    n = b.shape[0]\n",
    "    result = np.empty((m, n))\n",
    "    for i in range(m):\n",
    "        for j in range(n):\n",
    "            result[i, j] = a[i] * b[j]\n",
    "    return result"
   ]
  },
  {
   "cell_type": "code",
   "execution_count": 107,
   "metadata": {},
   "outputs": [
    {
     "data": {
      "text/plain": [
       "array([[ 0.51289035, -0.17992221, -0.33154933, -0.08855024],\n",
       "       [-6.28213996,  2.20377809,  4.06098353,  1.08460805],\n",
       "       [11.04393841, -3.87421956, -7.13916789, -1.90672997],\n",
       "       [-7.15871761,  2.51128201,  4.62763238,  1.23594871]])"
      ]
     },
     "execution_count": 107,
     "metadata": {},
     "output_type": "execute_result"
    }
   ],
   "source": [
    "outer_numba(uvector, uvectorl)"
   ]
  },
  {
   "cell_type": "code",
   "execution_count": 108,
   "metadata": {},
   "outputs": [
    {
     "data": {
      "text/plain": [
       "array([[ 0.00000000e+00, -2.22044605e-16,  0.00000000e+00,\n",
       "         0.00000000e+00],\n",
       "       [ 0.00000000e+00,  0.00000000e+00,  0.00000000e+00,\n",
       "         0.00000000e+00],\n",
       "       [ 0.00000000e+00,  0.00000000e+00,  0.00000000e+00,\n",
       "         0.00000000e+00],\n",
       "       [ 3.55271368e-15,  3.55271368e-15, -7.10542736e-15,\n",
       "         0.00000000e+00]])"
      ]
     },
     "execution_count": 108,
     "metadata": {},
     "output_type": "execute_result"
    }
   ],
   "source": [
    "np.einsum(\"u,a,av->uv\", uvector, uvectorl, wuv) - (\n",
    "    np.matmul(outer_numba(uvector, uvectorl), wuv)\n",
    ")"
   ]
  },
  {
   "cell_type": "code",
   "execution_count": 109,
   "metadata": {},
   "outputs": [
    {
     "name": "stdout",
     "output_type": "stream",
     "text": [
      "1.81 µs ± 15.4 ns per loop (mean ± std. dev. of 7 runs, 1,000,000 loops each)\n"
     ]
    }
   ],
   "source": [
    "%%timeit\n",
    "np.matmul(outer_numba(uvector,uvectorl),wuv)"
   ]
  },
  {
   "cell_type": "code",
   "execution_count": 110,
   "metadata": {},
   "outputs": [
    {
     "name": "stdout",
     "output_type": "stream",
     "text": [
      "4.88 µs ± 130 ns per loop (mean ± std. dev. of 7 runs, 100,000 loops each)\n"
     ]
    }
   ],
   "source": [
    "%%timeit\n",
    "np.einsum(\"u,a,b,abv->uv\", uvector, wu, wu, dgk)"
   ]
  },
  {
   "cell_type": "code",
   "execution_count": 116,
   "metadata": {},
   "outputs": [
    {
     "name": "stdout",
     "output_type": "stream",
     "text": [
      "4.09 µs ± 50 ns per loop (mean ± std. dev. of 7 runs, 100,000 loops each)\n"
     ]
    }
   ],
   "source": [
    "%%timeit\n",
    "np.matmul(\n",
    "    np.outer(uvector, outer_numba(wu, wu)).reshape((4, -1)), dgk.reshape((-1, 4))\n",
    ")"
   ]
  },
  {
   "cell_type": "code",
   "execution_count": 128,
   "metadata": {},
   "outputs": [
    {
     "name": "stdout",
     "output_type": "stream",
     "text": [
      "1.6 µs ± 30.3 ns per loop (mean ± std. dev. of 7 runs, 1,000,000 loops each)\n"
     ]
    }
   ],
   "source": [
    "%%timeit\n",
    "outer_numba(uvector,wu.dot(wu.dot(dgk)))"
   ]
  },
  {
   "cell_type": "code",
   "execution_count": 129,
   "metadata": {},
   "outputs": [
    {
     "data": {
      "text/plain": [
       "array([[-3.49113100e-17,  1.04083409e-16,  0.00000000e+00,\n",
       "        -7.63278329e-17],\n",
       "       [ 6.24500451e-17,  2.91433544e-16, -6.66133815e-16,\n",
       "         1.05471187e-15],\n",
       "       [ 9.92261828e-16,  3.60822483e-16,  3.10862447e-15,\n",
       "        -1.94289029e-15],\n",
       "       [ 4.51028104e-17,  1.05471187e-15,  2.22044605e-16,\n",
       "         1.41553436e-15]])"
      ]
     },
     "execution_count": 129,
     "metadata": {},
     "output_type": "execute_result"
    }
   ],
   "source": [
    "outer_numba(uvector, wu.dot(wu.dot(dgk))) - (\n",
    "    np.einsum(\"u,a,b,abv->uv\", uvector, wu, wu, dgk)\n",
    ")"
   ]
  },
  {
   "cell_type": "code",
   "execution_count": 115,
   "metadata": {},
   "outputs": [
    {
     "data": {
      "text/plain": [
       "array([[-1.40946282e-17,  7.45931095e-17,  0.00000000e+00,\n",
       "        -2.25514052e-17],\n",
       "       [ 3.81639165e-17, -6.93889390e-17, -1.33226763e-15,\n",
       "         1.66533454e-16],\n",
       "       [ 9.36750677e-16,  1.30451205e-15,  3.55271368e-15,\n",
       "        -1.33226763e-15],\n",
       "       [-3.46944695e-17,  8.32667268e-17, -2.22044605e-16,\n",
       "         8.32667268e-17]])"
      ]
     },
     "execution_count": 115,
     "metadata": {},
     "output_type": "execute_result"
    }
   ],
   "source": [
    "np.matmul(\n",
    "    np.outer(uvector, outer_numba(wu, wu)).reshape((4, -1)), dgk.reshape((-1, 4))\n",
    ") - (np.einsum(\"u,a,b,abv->uv\", uvector, wu, wu, dgk))"
   ]
  },
  {
   "cell_type": "code",
   "execution_count": 117,
   "metadata": {},
   "outputs": [],
   "source": [
    "N=1.045"
   ]
  },
  {
   "cell_type": "code",
   "execution_count": 134,
   "metadata": {},
   "outputs": [
    {
     "name": "stdout",
     "output_type": "stream",
     "text": [
      "7.55 µs ± 52.8 ns per loop (mean ± std. dev. of 7 runs, 100,000 loops each)\n"
     ]
    }
   ],
   "source": [
    "%%timeit\n",
    "dx_dx = N * (\n",
    "        dgkinv.transpose(1, 2, 0).dot(pvector)\n",
    "        + wuv\n",
    "        + np.matmul(outer_numba(uvector, uvectorl), wuv)\n",
    "        + N / 2 * outer_numba(uvector, wu.dot(wu.dot(dgk)))\n",
    "    )"
   ]
  },
  {
   "cell_type": "code",
   "execution_count": 131,
   "metadata": {},
   "outputs": [
    {
     "name": "stdout",
     "output_type": "stream",
     "text": [
      "12.4 µs ± 208 ns per loop (mean ± std. dev. of 7 runs, 100,000 loops each)\n"
     ]
    }
   ],
   "source": [
    "%%timeit\n",
    "dx_dx= N*(np.einsum(\"a,auv->uv\",pvector,dgkinv) + wuv + np.einsum(\"u,a,av->uv\",uvector,uvectorl,wuv) +N/2 *(np.einsum(\"u,a,b,abv->uv\",uvector,wu,wu,dgk)))"
   ]
  },
  {
   "cell_type": "code",
   "execution_count": 132,
   "metadata": {},
   "outputs": [
    {
     "data": {
      "text/plain": [
       "array([[ 0.00000000e+00,  0.00000000e+00,  0.00000000e+00,\n",
       "         0.00000000e+00],\n",
       "       [ 0.00000000e+00,  0.00000000e+00,  0.00000000e+00,\n",
       "         8.88178420e-16],\n",
       "       [ 0.00000000e+00,  0.00000000e+00,  7.10542736e-15,\n",
       "         0.00000000e+00],\n",
       "       [-3.55271368e-15, -7.10542736e-15,  7.10542736e-15,\n",
       "         0.00000000e+00]])"
      ]
     },
     "execution_count": 132,
     "metadata": {},
     "output_type": "execute_result"
    }
   ],
   "source": [
    "(\n",
    "    N\n",
    "    * (\n",
    "        dgkinv.transpose(1, 2, 0).dot(pvector)\n",
    "        + wuv\n",
    "        + np.matmul(np.outer(uvector, uvectorl), wuv)\n",
    "        + N / 2 * outer_numba(uvector, wu.dot(wu.dot(dgk)))\n",
    "    )\n",
    ") - (\n",
    "    N\n",
    "    * (\n",
    "        np.einsum(\"a,auv->uv\", pvector, dgkinv)\n",
    "        + wuv\n",
    "        + np.einsum(\"u,a,av->uv\", uvector, uvectorl, wuv)\n",
    "        + N / 2 * (np.einsum(\"u,a,b,abv->uv\", uvector, wu, wu, dgk))\n",
    "    )\n",
    ")"
   ]
  },
  {
   "cell_type": "code",
   "execution_count": 140,
   "metadata": {},
   "outputs": [],
   "source": [
    "Wuv = -np.einsum(\"uavb,a,b->uv\", ddRuuuu, svector, svector)"
   ]
  },
  {
   "cell_type": "code",
   "execution_count": 141,
   "metadata": {},
   "outputs": [
    {
     "name": "stdout",
     "output_type": "stream",
     "text": [
      "3.8 µs ± 79.7 ns per loop (mean ± std. dev. of 7 runs, 100,000 loops each)\n"
     ]
    }
   ],
   "source": [
    "%%timeit\n",
    "Wuv = -np.einsum(\"uavb,a,b->uv\", ddRuuuu, svector, svector) "
   ]
  },
  {
   "cell_type": "code",
   "execution_count": 142,
   "metadata": {},
   "outputs": [
    {
     "name": "stdout",
     "output_type": "stream",
     "text": [
      "2.24 µs ± 25.4 ns per loop (mean ± std. dev. of 7 runs, 100,000 loops each)\n"
     ]
    }
   ],
   "source": [
    "%%timeit\n",
    "Wuv= -ddRuuuu.transpose(0,2,1,3).dot(svector).dot(svector)"
   ]
  },
  {
   "cell_type": "code",
   "execution_count": 143,
   "metadata": {},
   "outputs": [
    {
     "data": {
      "text/plain": [
       "array([[ 0.00000000e+00, -1.11022302e-16,  5.55111512e-17,\n",
       "        -2.22044605e-16],\n",
       "       [ 0.00000000e+00, -1.11022302e-16,  1.11022302e-16,\n",
       "        -1.38777878e-17],\n",
       "       [ 0.00000000e+00,  1.11022302e-16, -1.11022302e-16,\n",
       "        -2.22044605e-16],\n",
       "       [ 0.00000000e+00,  0.00000000e+00,  0.00000000e+00,\n",
       "         0.00000000e+00]])"
      ]
     },
     "execution_count": 143,
     "metadata": {},
     "output_type": "execute_result"
    }
   ],
   "source": [
    "-ddRuuuu.transpose(0,2,1,3).dot(svector).dot(svector) -Wuv"
   ]
  },
  {
   "cell_type": "code",
   "execution_count": 144,
   "metadata": {},
   "outputs": [
    {
     "name": "stdout",
     "output_type": "stream",
     "text": [
      "2.29 µs ± 28.7 ns per loop (mean ± std. dev. of 7 runs, 100,000 loops each)\n"
     ]
    }
   ],
   "source": [
    "%%timeit\n",
    "np.einsum(\"u,a,av->uv\",uvector,uvectorl,Wuv)"
   ]
  },
  {
   "cell_type": "code",
   "execution_count": 145,
   "metadata": {},
   "outputs": [
    {
     "name": "stdout",
     "output_type": "stream",
     "text": [
      "1.02 µs ± 17.9 ns per loop (mean ± std. dev. of 7 runs, 1,000,000 loops each)\n"
     ]
    }
   ],
   "source": [
    "%%timeit\n",
    "outer_numba(uvector,uvectorl.dot(Wuv))"
   ]
  },
  {
   "cell_type": "code",
   "execution_count": 146,
   "metadata": {},
   "outputs": [
    {
     "data": {
      "text/plain": [
       "array([[ 6.07153217e-17,  0.00000000e+00,  4.16333634e-17,\n",
       "         5.55111512e-17],\n",
       "       [-3.33066907e-16, -8.88178420e-16, -1.11022302e-16,\n",
       "        -4.44089210e-16],\n",
       "       [ 4.16333634e-16,  0.00000000e+00,  0.00000000e+00,\n",
       "         6.66133815e-16],\n",
       "       [ 3.05311332e-16, -8.88178420e-16,  1.11022302e-16,\n",
       "        -4.44089210e-16]])"
      ]
     },
     "execution_count": 146,
     "metadata": {},
     "output_type": "execute_result"
    }
   ],
   "source": [
    "np.einsum(\"u,a,av->uv\", uvector, uvectorl, Wuv) - (\n",
    "    outer_numba(uvector, uvectorl.dot(Wuv))\n",
    ")"
   ]
  },
  {
   "cell_type": "code",
   "execution_count": 151,
   "metadata": {},
   "outputs": [
    {
     "name": "stdout",
     "output_type": "stream",
     "text": [
      "4.6 µs ± 149 ns per loop (mean ± std. dev. of 7 runs, 100,000 loops each)\n"
     ]
    }
   ],
   "source": [
    "%%timeit\n",
    "dx_dP = N * (\n",
    "        gkinv\n",
    "        + Wuv\n",
    "        + N * outer_numba(uvector, wu)\n",
    "        + outer_numba(uvector, uvectorl.dot(Wuv))\n",
    "    )\n"
   ]
  },
  {
   "cell_type": "code",
   "execution_count": 150,
   "metadata": {},
   "outputs": [
    {
     "name": "stdout",
     "output_type": "stream",
     "text": [
      "6.09 µs ± 63.5 ns per loop (mean ± std. dev. of 7 runs, 100,000 loops each)\n"
     ]
    }
   ],
   "source": [
    "%%timeit\n",
    "dx_dP= N*(gkinv + Wuv + N*outer_numba(uvector,wu) + np.einsum(\"u,a,av->uv\",uvector,uvectorl,Wuv))"
   ]
  },
  {
   "cell_type": "code",
   "execution_count": 149,
   "metadata": {},
   "outputs": [
    {
     "data": {
      "text/plain": [
       "array([[-5.55111512e-17,  0.00000000e+00, -5.55111512e-17,\n",
       "         0.00000000e+00],\n",
       "       [ 4.44089210e-16,  8.88178420e-16,  1.11022302e-16,\n",
       "         6.66133815e-16],\n",
       "       [-2.22044605e-16,  0.00000000e+00,  0.00000000e+00,\n",
       "        -8.88178420e-16],\n",
       "       [-4.44089210e-16,  8.88178420e-16, -4.44089210e-16,\n",
       "         4.44089210e-16]])"
      ]
     },
     "execution_count": 149,
     "metadata": {},
     "output_type": "execute_result"
    }
   ],
   "source": [
    "N * (\n",
    "    gkinv + Wuv + N * outer_numba(uvector, wu) + outer_numba(uvector, uvectorl.dot(Wuv))\n",
    ") - (\n",
    "    N\n",
    "    * (\n",
    "        gkinv\n",
    "        + Wuv\n",
    "        + N * outer_numba(uvector, wu)\n",
    "        + np.einsum(\"u,a,av->uv\", uvector, uvectorl, Wuv)\n",
    "    )\n",
    ")"
   ]
  },
  {
   "cell_type": "code",
   "execution_count": 152,
   "metadata": {},
   "outputs": [],
   "source": [
    "Vuv = -(\n",
    "    ((ddRuuuu.transpose(0, 1, 3, 2)).dot(pvector).transpose(0, 2, 1)).dot(svector)\n",
    "    - ddRuuuu.dot(pvector).dot(svector)\n",
    ")  #! V^{uv}"
   ]
  },
  {
   "cell_type": "code",
   "execution_count": 156,
   "metadata": {},
   "outputs": [
    {
     "name": "stdout",
     "output_type": "stream",
     "text": [
      "2.25 µs ± 6.16 ns per loop (mean ± std. dev. of 7 runs, 100,000 loops each)\n"
     ]
    }
   ],
   "source": [
    "%%timeit\n",
    "np.einsum(\"u,a,av->uv\", uvector, uvectorl, Vuv)"
   ]
  },
  {
   "cell_type": "code",
   "execution_count": 157,
   "metadata": {},
   "outputs": [
    {
     "name": "stdout",
     "output_type": "stream",
     "text": [
      "1.01 µs ± 7.34 ns per loop (mean ± std. dev. of 7 runs, 1,000,000 loops each)\n"
     ]
    }
   ],
   "source": [
    "%%timeit\n",
    "outer_numba(uvector, uvectorl.dot(Vuv)) "
   ]
  },
  {
   "cell_type": "code",
   "execution_count": 155,
   "metadata": {},
   "outputs": [
    {
     "data": {
      "text/plain": [
       "array([[ 0.00000000e+00,  0.00000000e+00,  0.00000000e+00,\n",
       "        -7.63278329e-17],\n",
       "       [ 0.00000000e+00,  8.88178420e-16,  0.00000000e+00,\n",
       "         2.27595720e-15],\n",
       "       [-3.55271368e-15,  1.77635684e-15, -7.10542736e-15,\n",
       "        -8.88178420e-16],\n",
       "       [-1.77635684e-15, -1.77635684e-15, -3.55271368e-15,\n",
       "        -8.88178420e-16]])"
      ]
     },
     "execution_count": 155,
     "metadata": {},
     "output_type": "execute_result"
    }
   ],
   "source": [
    "outer_numba(uvector, uvectorl.dot(Vuv)) - (\n",
    "    np.einsum(\"u,a,av->uv\", uvector, uvectorl, Vuv)\n",
    ")"
   ]
  },
  {
   "cell_type": "code",
   "execution_count": 158,
   "metadata": {},
   "outputs": [],
   "source": [
    "term1 = -np.einsum(\"b,ugvb,g->uv\", svector, dRlluu, uvector)"
   ]
  },
  {
   "cell_type": "code",
   "execution_count": 159,
   "metadata": {},
   "outputs": [
    {
     "name": "stdout",
     "output_type": "stream",
     "text": [
      "3.68 µs ± 27.7 ns per loop (mean ± std. dev. of 7 runs, 100,000 loops each)\n"
     ]
    }
   ],
   "source": [
    "%%timeit\n",
    "term1 = -np.einsum(\"b,ugvb,g->uv\", svector, dRlluu, uvector)"
   ]
  },
  {
   "cell_type": "code",
   "execution_count": 160,
   "metadata": {},
   "outputs": [
    {
     "name": "stdout",
     "output_type": "stream",
     "text": [
      "2.3 µs ± 52.6 ns per loop (mean ± std. dev. of 7 runs, 100,000 loops each)\n"
     ]
    }
   ],
   "source": [
    "%%timeit\n",
    "term1= -dRlluu.transpose(0,2,1,3).dot(svector).dot(uvector)"
   ]
  },
  {
   "cell_type": "code",
   "execution_count": 161,
   "metadata": {},
   "outputs": [
    {
     "data": {
      "text/plain": [
       "array([[ 1.77635684e-15, -2.22044605e-16, -8.88178420e-16,\n",
       "         8.88178420e-16],\n",
       "       [ 4.44089210e-16,  0.00000000e+00, -1.77635684e-15,\n",
       "         3.55271368e-15],\n",
       "       [ 1.77635684e-15, -2.22044605e-16, -8.88178420e-16,\n",
       "         0.00000000e+00],\n",
       "       [ 0.00000000e+00, -8.88178420e-16, -8.88178420e-16,\n",
       "         0.00000000e+00]])"
      ]
     },
     "execution_count": 161,
     "metadata": {},
     "output_type": "execute_result"
    }
   ],
   "source": [
    "(-np.einsum(\"b,ugvb,g->uv\", svector, dRlluu, uvector)) - (\n",
    "    -dRlluu.transpose(0, 2, 1, 3).dot(svector).dot(uvector)\n",
    ")"
   ]
  },
  {
   "cell_type": "code",
   "execution_count": 162,
   "metadata": {},
   "outputs": [],
   "source": [
    "term1 = -np.einsum(\"ugav,g,a-> uv\", dRlluu, uvector, pvector)"
   ]
  },
  {
   "cell_type": "code",
   "execution_count": 163,
   "metadata": {},
   "outputs": [
    {
     "name": "stdout",
     "output_type": "stream",
     "text": [
      "3.89 µs ± 21.4 ns per loop (mean ± std. dev. of 7 runs, 100,000 loops each)\n"
     ]
    }
   ],
   "source": [
    "%%timeit\n",
    "term1 = -np.einsum(\"ugav,g,a-> uv\", dRlluu, uvector, pvector)"
   ]
  },
  {
   "cell_type": "code",
   "execution_count": 165,
   "metadata": {},
   "outputs": [
    {
     "data": {
      "text/plain": [
       "array([[-1.77635684e-15, -1.77635684e-15,  3.55271368e-15,\n",
       "        -3.55271368e-15],\n",
       "       [ 0.00000000e+00, -1.77635684e-15, -3.55271368e-15,\n",
       "        -1.42108547e-14],\n",
       "       [-1.77635684e-15, -3.55271368e-15,  0.00000000e+00,\n",
       "         1.77635684e-15],\n",
       "       [ 3.55271368e-15,  3.55271368e-15,  3.55271368e-15,\n",
       "         0.00000000e+00]])"
      ]
     },
     "execution_count": 165,
     "metadata": {},
     "output_type": "execute_result"
    }
   ],
   "source": [
    "-dRlluu.transpose(0,3,1,2).dot(pvector).dot(uvector) -(term1)"
   ]
  },
  {
   "cell_type": "code",
   "execution_count": 166,
   "metadata": {},
   "outputs": [
    {
     "name": "stdout",
     "output_type": "stream",
     "text": [
      "2.33 µs ± 19.2 ns per loop (mean ± std. dev. of 7 runs, 100,000 loops each)\n"
     ]
    }
   ],
   "source": [
    "%%timeit\n",
    "term1= -dRlluu.transpose(0,3,1,2).dot(pvector).dot(uvector) "
   ]
  },
  {
   "cell_type": "code",
   "execution_count": 167,
   "metadata": {},
   "outputs": [],
   "source": [
    "dx_dx= np.random.normal(size=(4,4))"
   ]
  },
  {
   "cell_type": "code",
   "execution_count": 168,
   "metadata": {},
   "outputs": [],
   "source": [
    "term2 = -np.outer(\n",
    "    pvector,\n",
    "    dRuluu.transpose(1, 0, 2, 3).dot(svector).dot(pvector).dot(svector).dot(dx_dx),\n",
    ")"
   ]
  },
  {
   "cell_type": "code",
   "execution_count": 169,
   "metadata": {},
   "outputs": [
    {
     "name": "stdout",
     "output_type": "stream",
     "text": [
      "4.83 µs ± 89.4 ns per loop (mean ± std. dev. of 7 runs, 100,000 loops each)\n"
     ]
    }
   ],
   "source": [
    "%%timeit\n",
    "term2 = -np.outer(\n",
    "        pvector,\n",
    "        dRuluu.transpose(1, 0, 2, 3).dot(svector).dot(pvector).dot(svector).dot(dx_dx),\n",
    "    )"
   ]
  },
  {
   "cell_type": "code",
   "execution_count": 170,
   "metadata": {},
   "outputs": [
    {
     "name": "stdout",
     "output_type": "stream",
     "text": [
      "3.65 µs ± 27.5 ns per loop (mean ± std. dev. of 7 runs, 100,000 loops each)\n"
     ]
    }
   ],
   "source": [
    "%%timeit\n",
    "\n",
    "term2 = -outer_numba(\n",
    "        pvector,\n",
    "        dRuluu.transpose(1, 0, 2, 3).dot(svector).dot(pvector).dot(svector).dot(dx_dx),\n",
    "    )\n"
   ]
  },
  {
   "cell_type": "code",
   "execution_count": 171,
   "metadata": {},
   "outputs": [
    {
     "name": "stdout",
     "output_type": "stream",
     "text": [
      "4.59 µs ± 92.5 ns per loop (mean ± std. dev. of 7 runs, 100,000 loops each)\n"
     ]
    }
   ],
   "source": [
    "%%timeit\n",
    "term2 = -np.outer(\n",
    "        pvector, dRuluu.transpose(2, 0, 1, 3).dot(svector).dot(uvector).dot(svector)\n",
    "    )"
   ]
  },
  {
   "cell_type": "code",
   "execution_count": 172,
   "metadata": {},
   "outputs": [
    {
     "name": "stdout",
     "output_type": "stream",
     "text": [
      "3.53 µs ± 141 ns per loop (mean ± std. dev. of 7 runs, 100,000 loops each)\n"
     ]
    }
   ],
   "source": [
    "%%timeit\n",
    "term2 = -outer_numba(\n",
    "        pvector, dRuluu.transpose(2, 0, 1, 3).dot(svector).dot(uvector).dot(svector)\n",
    "    )"
   ]
  },
  {
   "cell_type": "code",
   "execution_count": 173,
   "metadata": {},
   "outputs": [
    {
     "data": {
      "text/plain": [
       "1.0073413112597858"
      ]
     },
     "execution_count": 173,
     "metadata": {},
     "output_type": "execute_result"
    }
   ],
   "source": [
    "np.einsum(\"ij,j,i->\", gkinv, pvector, svector)"
   ]
  },
  {
   "cell_type": "code",
   "execution_count": 175,
   "metadata": {},
   "outputs": [
    {
     "data": {
      "text/plain": [
       "-2.220446049250313e-16"
      ]
     },
     "execution_count": 175,
     "metadata": {},
     "output_type": "execute_result"
    }
   ],
   "source": [
    "gkinv.dot(pvector).dot(svector) - np.einsum(\"ij,j,i->\", gkinv, pvector, svector)"
   ]
  },
  {
   "cell_type": "code",
   "execution_count": 176,
   "metadata": {},
   "outputs": [],
   "source": [
    "Stensor= np.random.normal(size=(4,4))\n"
   ]
  },
  {
   "cell_type": "code",
   "execution_count": 178,
   "metadata": {},
   "outputs": [],
   "source": [
    "dgkt= np.random.normal(size=(4,4))"
   ]
  },
  {
   "cell_type": "code",
   "execution_count": 185,
   "metadata": {},
   "outputs": [
    {
     "name": "stdout",
     "output_type": "stream",
     "text": [
      "1.63 µs ± 61.5 ns per loop (mean ± std. dev. of 7 runs, 100,000 loops each)\n"
     ]
    }
   ],
   "source": [
    "%%timeit\n",
    "np.einsum(\"uv,uv->\", dgkt, Stensor)"
   ]
  },
  {
   "cell_type": "code",
   "execution_count": 184,
   "metadata": {},
   "outputs": [
    {
     "name": "stdout",
     "output_type": "stream",
     "text": [
      "1.63 µs ± 26.6 ns per loop (mean ± std. dev. of 7 runs, 1,000,000 loops each)\n"
     ]
    }
   ],
   "source": [
    "%%timeit\n",
    "dgkt.dot(Stensor.transpose()).diagonal().sum()"
   ]
  },
  {
   "cell_type": "code",
   "execution_count": 183,
   "metadata": {},
   "outputs": [
    {
     "data": {
      "text/plain": [
       "-1.5543122344752192e-15"
      ]
     },
     "execution_count": 183,
     "metadata": {},
     "output_type": "execute_result"
    }
   ],
   "source": [
    "dgkt.dot(Stensor.transpose()).diagonal().sum() - np.einsum(\"uv,uv->\", dgkt, Stensor)"
   ]
  },
  {
   "cell_type": "code",
   "execution_count": 37,
   "metadata": {},
   "outputs": [
    {
     "name": "stdout",
     "output_type": "stream",
     "text": [
      "4.55 µs ± 126 ns per loop (mean ± std. dev. of 7 runs, 100,000 loops each)\n"
     ]
    }
   ],
   "source": [
    "%%timeit\n",
    "dRuluu= 0.5*np.einsum(\"abps,psuv->abuv\",Riemann,levi)"
   ]
  },
  {
   "cell_type": "code",
   "execution_count": 38,
   "metadata": {},
   "outputs": [
    {
     "name": "stdout",
     "output_type": "stream",
     "text": [
      "2.85 µs ± 15.4 ns per loop (mean ± std. dev. of 7 runs, 100,000 loops each)\n"
     ]
    }
   ],
   "source": [
    "%%timeit\n",
    "dRuluu= 0.5*np.matmul(Riemann.reshape((-1,16)),levi.reshape((16,-1))).reshape((4,4,4,4))"
   ]
  },
  {
   "cell_type": "code",
   "execution_count": 40,
   "metadata": {},
   "outputs": [
    {
     "data": {
      "text/plain": [
       "8.881784197001252e-16"
      ]
     },
     "execution_count": 40,
     "metadata": {},
     "output_type": "execute_result"
    }
   ],
   "source": [
    "(0.5 * np.einsum(\"abps,psuv->abuv\", Riemann, levi) - (\n",
    "    0.5\n",
    "    * np.matmul(Riemann.reshape((-1, 16)), levi.reshape((16, -1))).reshape((4, 4, 4, 4))\n",
    ")).max()"
   ]
  },
  {
   "cell_type": "code",
   "execution_count": 41,
   "metadata": {},
   "outputs": [
    {
     "name": "stdout",
     "output_type": "stream",
     "text": [
      "9.96 µs ± 369 ns per loop (mean ± std. dev. of 7 runs, 100,000 loops each)\n"
     ]
    }
   ],
   "source": [
    "%%timeit\n",
    "levi_mixed= np.einsum(\"px,sy,xyuv->psuv\",gk,gk,levi)"
   ]
  },
  {
   "cell_type": "code",
   "execution_count": 42,
   "metadata": {},
   "outputs": [
    {
     "name": "stdout",
     "output_type": "stream",
     "text": [
      "2.79 µs ± 92.8 ns per loop (mean ± std. dev. of 7 runs, 100,000 loops each)\n"
     ]
    }
   ],
   "source": [
    "%%timeit\n",
    "levi_mixed = (\n",
    "        gk.dot(\n",
    "            gk.dot(levi.reshape((4, -1)))\n",
    "            .reshape((4, 4, 4, 4))\n",
    "            .transpose(1, 0, 2, 3)\n",
    "            .reshape((4, -1))\n",
    "        )\n",
    "        .reshape((4, 4, 4, 4))\n",
    "        .transpose(1, 0, 2, 3)\n",
    "    )"
   ]
  },
  {
   "cell_type": "code",
   "execution_count": 44,
   "metadata": {},
   "outputs": [
    {
     "data": {
      "text/plain": [
       "1.7763568394002505e-15"
      ]
     },
     "execution_count": 44,
     "metadata": {},
     "output_type": "execute_result"
    }
   ],
   "source": [
    "((\n",
    "    gk.dot(\n",
    "        gk.dot(levi.reshape((4, -1)))\n",
    "        .reshape((4, 4, 4, 4))\n",
    "        .transpose(1, 0, 2, 3)\n",
    "        .reshape((4, -1))\n",
    "    )\n",
    "    .reshape((4, 4, 4, 4))\n",
    "    .transpose(1, 0, 2, 3)\n",
    ") - (np.einsum(\"px,sy,xyuv->psuv\", gk, gk, levi))).max()"
   ]
  },
  {
   "cell_type": "code",
   "execution_count": 46,
   "metadata": {},
   "outputs": [
    {
     "name": "stdout",
     "output_type": "stream",
     "text": [
      "948 ns ± 20.5 ns per loop (mean ± std. dev. of 7 runs, 1,000,000 loops each)\n"
     ]
    }
   ],
   "source": [
    "%%timeit\n",
    "dRlluu = gk.dot(dRuluu.reshape((4, -1))).reshape((4, 4, 4, 4))"
   ]
  },
  {
   "cell_type": "code",
   "execution_count": 47,
   "metadata": {},
   "outputs": [
    {
     "name": "stdout",
     "output_type": "stream",
     "text": [
      "2.24 µs ± 8.89 ns per loop (mean ± std. dev. of 7 runs, 100,000 loops each)\n"
     ]
    }
   ],
   "source": [
    "%%timeit\n",
    "dRlluu= np.einsum(\"ia,abuv->ibuv\",gk,dRuluu)"
   ]
  },
  {
   "cell_type": "code",
   "execution_count": 49,
   "metadata": {},
   "outputs": [
    {
     "data": {
      "text/plain": [
       "1.7763568394002505e-15"
      ]
     },
     "execution_count": 49,
     "metadata": {},
     "output_type": "execute_result"
    }
   ],
   "source": [
    "(\n",
    "    (gk.dot(dRuluu.reshape((4, -1))).reshape((4, 4, 4, 4)))\n",
    "    - (np.einsum(\"ia,abuv->ibuv\", gk, dRuluu))\n",
    ").max()"
   ]
  },
  {
   "cell_type": "code",
   "execution_count": 51,
   "metadata": {},
   "outputs": [
    {
     "name": "stdout",
     "output_type": "stream",
     "text": [
      "4.96 µs ± 185 ns per loop (mean ± std. dev. of 7 runs, 100,000 loops each)\n"
     ]
    }
   ],
   "source": [
    "%%timeit\n",
    "dlevi = -np.einsum(\"uvps,a->uvpsa\", levi, dg) * 0.5"
   ]
  },
  {
   "cell_type": "code",
   "execution_count": 58,
   "metadata": {},
   "outputs": [
    {
     "name": "stdout",
     "output_type": "stream",
     "text": [
      "10.8 µs ± 1.96 µs per loop (mean ± std. dev. of 7 runs, 100,000 loops each)\n"
     ]
    }
   ],
   "source": [
    "%%timeit\n",
    "dlevi= -np.outer(levi,dg).reshape((4,4,4,4,4)) * 0.5"
   ]
  },
  {
   "cell_type": "code",
   "execution_count": 56,
   "metadata": {},
   "outputs": [
    {
     "data": {
      "text/plain": [
       "(256, 4)"
      ]
     },
     "execution_count": 56,
     "metadata": {},
     "output_type": "execute_result"
    }
   ],
   "source": [
    "np.outer(levi, dg)"
   ]
  },
  {
   "cell_type": "code",
   "execution_count": 57,
   "metadata": {},
   "outputs": [
    {
     "data": {
      "text/plain": [
       "array([[[[[0., 0., 0., 0.],\n",
       "          [0., 0., 0., 0.],\n",
       "          [0., 0., 0., 0.],\n",
       "          [0., 0., 0., 0.]],\n",
       "\n",
       "         [[0., 0., 0., 0.],\n",
       "          [0., 0., 0., 0.],\n",
       "          [0., 0., 0., 0.],\n",
       "          [0., 0., 0., 0.]],\n",
       "\n",
       "         [[0., 0., 0., 0.],\n",
       "          [0., 0., 0., 0.],\n",
       "          [0., 0., 0., 0.],\n",
       "          [0., 0., 0., 0.]],\n",
       "\n",
       "         [[0., 0., 0., 0.],\n",
       "          [0., 0., 0., 0.],\n",
       "          [0., 0., 0., 0.],\n",
       "          [0., 0., 0., 0.]]],\n",
       "\n",
       "\n",
       "        [[[0., 0., 0., 0.],\n",
       "          [0., 0., 0., 0.],\n",
       "          [0., 0., 0., 0.],\n",
       "          [0., 0., 0., 0.]],\n",
       "\n",
       "         [[0., 0., 0., 0.],\n",
       "          [0., 0., 0., 0.],\n",
       "          [0., 0., 0., 0.],\n",
       "          [0., 0., 0., 0.]],\n",
       "\n",
       "         [[0., 0., 0., 0.],\n",
       "          [0., 0., 0., 0.],\n",
       "          [0., 0., 0., 0.],\n",
       "          [0., 0., 0., 0.]],\n",
       "\n",
       "         [[0., 0., 0., 0.],\n",
       "          [0., 0., 0., 0.],\n",
       "          [0., 0., 0., 0.],\n",
       "          [0., 0., 0., 0.]]],\n",
       "\n",
       "\n",
       "        [[[0., 0., 0., 0.],\n",
       "          [0., 0., 0., 0.],\n",
       "          [0., 0., 0., 0.],\n",
       "          [0., 0., 0., 0.]],\n",
       "\n",
       "         [[0., 0., 0., 0.],\n",
       "          [0., 0., 0., 0.],\n",
       "          [0., 0., 0., 0.],\n",
       "          [0., 0., 0., 0.]],\n",
       "\n",
       "         [[0., 0., 0., 0.],\n",
       "          [0., 0., 0., 0.],\n",
       "          [0., 0., 0., 0.],\n",
       "          [0., 0., 0., 0.]],\n",
       "\n",
       "         [[0., 0., 0., 0.],\n",
       "          [0., 0., 0., 0.],\n",
       "          [0., 0., 0., 0.],\n",
       "          [0., 0., 0., 0.]]],\n",
       "\n",
       "\n",
       "        [[[0., 0., 0., 0.],\n",
       "          [0., 0., 0., 0.],\n",
       "          [0., 0., 0., 0.],\n",
       "          [0., 0., 0., 0.]],\n",
       "\n",
       "         [[0., 0., 0., 0.],\n",
       "          [0., 0., 0., 0.],\n",
       "          [0., 0., 0., 0.],\n",
       "          [0., 0., 0., 0.]],\n",
       "\n",
       "         [[0., 0., 0., 0.],\n",
       "          [0., 0., 0., 0.],\n",
       "          [0., 0., 0., 0.],\n",
       "          [0., 0., 0., 0.]],\n",
       "\n",
       "         [[0., 0., 0., 0.],\n",
       "          [0., 0., 0., 0.],\n",
       "          [0., 0., 0., 0.],\n",
       "          [0., 0., 0., 0.]]]],\n",
       "\n",
       "\n",
       "\n",
       "       [[[[0., 0., 0., 0.],\n",
       "          [0., 0., 0., 0.],\n",
       "          [0., 0., 0., 0.],\n",
       "          [0., 0., 0., 0.]],\n",
       "\n",
       "         [[0., 0., 0., 0.],\n",
       "          [0., 0., 0., 0.],\n",
       "          [0., 0., 0., 0.],\n",
       "          [0., 0., 0., 0.]],\n",
       "\n",
       "         [[0., 0., 0., 0.],\n",
       "          [0., 0., 0., 0.],\n",
       "          [0., 0., 0., 0.],\n",
       "          [0., 0., 0., 0.]],\n",
       "\n",
       "         [[0., 0., 0., 0.],\n",
       "          [0., 0., 0., 0.],\n",
       "          [0., 0., 0., 0.],\n",
       "          [0., 0., 0., 0.]]],\n",
       "\n",
       "\n",
       "        [[[0., 0., 0., 0.],\n",
       "          [0., 0., 0., 0.],\n",
       "          [0., 0., 0., 0.],\n",
       "          [0., 0., 0., 0.]],\n",
       "\n",
       "         [[0., 0., 0., 0.],\n",
       "          [0., 0., 0., 0.],\n",
       "          [0., 0., 0., 0.],\n",
       "          [0., 0., 0., 0.]],\n",
       "\n",
       "         [[0., 0., 0., 0.],\n",
       "          [0., 0., 0., 0.],\n",
       "          [0., 0., 0., 0.],\n",
       "          [0., 0., 0., 0.]],\n",
       "\n",
       "         [[0., 0., 0., 0.],\n",
       "          [0., 0., 0., 0.],\n",
       "          [0., 0., 0., 0.],\n",
       "          [0., 0., 0., 0.]]],\n",
       "\n",
       "\n",
       "        [[[0., 0., 0., 0.],\n",
       "          [0., 0., 0., 0.],\n",
       "          [0., 0., 0., 0.],\n",
       "          [0., 0., 0., 0.]],\n",
       "\n",
       "         [[0., 0., 0., 0.],\n",
       "          [0., 0., 0., 0.],\n",
       "          [0., 0., 0., 0.],\n",
       "          [0., 0., 0., 0.]],\n",
       "\n",
       "         [[0., 0., 0., 0.],\n",
       "          [0., 0., 0., 0.],\n",
       "          [0., 0., 0., 0.],\n",
       "          [0., 0., 0., 0.]],\n",
       "\n",
       "         [[0., 0., 0., 0.],\n",
       "          [0., 0., 0., 0.],\n",
       "          [0., 0., 0., 0.],\n",
       "          [0., 0., 0., 0.]]],\n",
       "\n",
       "\n",
       "        [[[0., 0., 0., 0.],\n",
       "          [0., 0., 0., 0.],\n",
       "          [0., 0., 0., 0.],\n",
       "          [0., 0., 0., 0.]],\n",
       "\n",
       "         [[0., 0., 0., 0.],\n",
       "          [0., 0., 0., 0.],\n",
       "          [0., 0., 0., 0.],\n",
       "          [0., 0., 0., 0.]],\n",
       "\n",
       "         [[0., 0., 0., 0.],\n",
       "          [0., 0., 0., 0.],\n",
       "          [0., 0., 0., 0.],\n",
       "          [0., 0., 0., 0.]],\n",
       "\n",
       "         [[0., 0., 0., 0.],\n",
       "          [0., 0., 0., 0.],\n",
       "          [0., 0., 0., 0.],\n",
       "          [0., 0., 0., 0.]]]],\n",
       "\n",
       "\n",
       "\n",
       "       [[[[0., 0., 0., 0.],\n",
       "          [0., 0., 0., 0.],\n",
       "          [0., 0., 0., 0.],\n",
       "          [0., 0., 0., 0.]],\n",
       "\n",
       "         [[0., 0., 0., 0.],\n",
       "          [0., 0., 0., 0.],\n",
       "          [0., 0., 0., 0.],\n",
       "          [0., 0., 0., 0.]],\n",
       "\n",
       "         [[0., 0., 0., 0.],\n",
       "          [0., 0., 0., 0.],\n",
       "          [0., 0., 0., 0.],\n",
       "          [0., 0., 0., 0.]],\n",
       "\n",
       "         [[0., 0., 0., 0.],\n",
       "          [0., 0., 0., 0.],\n",
       "          [0., 0., 0., 0.],\n",
       "          [0., 0., 0., 0.]]],\n",
       "\n",
       "\n",
       "        [[[0., 0., 0., 0.],\n",
       "          [0., 0., 0., 0.],\n",
       "          [0., 0., 0., 0.],\n",
       "          [0., 0., 0., 0.]],\n",
       "\n",
       "         [[0., 0., 0., 0.],\n",
       "          [0., 0., 0., 0.],\n",
       "          [0., 0., 0., 0.],\n",
       "          [0., 0., 0., 0.]],\n",
       "\n",
       "         [[0., 0., 0., 0.],\n",
       "          [0., 0., 0., 0.],\n",
       "          [0., 0., 0., 0.],\n",
       "          [0., 0., 0., 0.]],\n",
       "\n",
       "         [[0., 0., 0., 0.],\n",
       "          [0., 0., 0., 0.],\n",
       "          [0., 0., 0., 0.],\n",
       "          [0., 0., 0., 0.]]],\n",
       "\n",
       "\n",
       "        [[[0., 0., 0., 0.],\n",
       "          [0., 0., 0., 0.],\n",
       "          [0., 0., 0., 0.],\n",
       "          [0., 0., 0., 0.]],\n",
       "\n",
       "         [[0., 0., 0., 0.],\n",
       "          [0., 0., 0., 0.],\n",
       "          [0., 0., 0., 0.],\n",
       "          [0., 0., 0., 0.]],\n",
       "\n",
       "         [[0., 0., 0., 0.],\n",
       "          [0., 0., 0., 0.],\n",
       "          [0., 0., 0., 0.],\n",
       "          [0., 0., 0., 0.]],\n",
       "\n",
       "         [[0., 0., 0., 0.],\n",
       "          [0., 0., 0., 0.],\n",
       "          [0., 0., 0., 0.],\n",
       "          [0., 0., 0., 0.]]],\n",
       "\n",
       "\n",
       "        [[[0., 0., 0., 0.],\n",
       "          [0., 0., 0., 0.],\n",
       "          [0., 0., 0., 0.],\n",
       "          [0., 0., 0., 0.]],\n",
       "\n",
       "         [[0., 0., 0., 0.],\n",
       "          [0., 0., 0., 0.],\n",
       "          [0., 0., 0., 0.],\n",
       "          [0., 0., 0., 0.]],\n",
       "\n",
       "         [[0., 0., 0., 0.],\n",
       "          [0., 0., 0., 0.],\n",
       "          [0., 0., 0., 0.],\n",
       "          [0., 0., 0., 0.]],\n",
       "\n",
       "         [[0., 0., 0., 0.],\n",
       "          [0., 0., 0., 0.],\n",
       "          [0., 0., 0., 0.],\n",
       "          [0., 0., 0., 0.]]]],\n",
       "\n",
       "\n",
       "\n",
       "       [[[[0., 0., 0., 0.],\n",
       "          [0., 0., 0., 0.],\n",
       "          [0., 0., 0., 0.],\n",
       "          [0., 0., 0., 0.]],\n",
       "\n",
       "         [[0., 0., 0., 0.],\n",
       "          [0., 0., 0., 0.],\n",
       "          [0., 0., 0., 0.],\n",
       "          [0., 0., 0., 0.]],\n",
       "\n",
       "         [[0., 0., 0., 0.],\n",
       "          [0., 0., 0., 0.],\n",
       "          [0., 0., 0., 0.],\n",
       "          [0., 0., 0., 0.]],\n",
       "\n",
       "         [[0., 0., 0., 0.],\n",
       "          [0., 0., 0., 0.],\n",
       "          [0., 0., 0., 0.],\n",
       "          [0., 0., 0., 0.]]],\n",
       "\n",
       "\n",
       "        [[[0., 0., 0., 0.],\n",
       "          [0., 0., 0., 0.],\n",
       "          [0., 0., 0., 0.],\n",
       "          [0., 0., 0., 0.]],\n",
       "\n",
       "         [[0., 0., 0., 0.],\n",
       "          [0., 0., 0., 0.],\n",
       "          [0., 0., 0., 0.],\n",
       "          [0., 0., 0., 0.]],\n",
       "\n",
       "         [[0., 0., 0., 0.],\n",
       "          [0., 0., 0., 0.],\n",
       "          [0., 0., 0., 0.],\n",
       "          [0., 0., 0., 0.]],\n",
       "\n",
       "         [[0., 0., 0., 0.],\n",
       "          [0., 0., 0., 0.],\n",
       "          [0., 0., 0., 0.],\n",
       "          [0., 0., 0., 0.]]],\n",
       "\n",
       "\n",
       "        [[[0., 0., 0., 0.],\n",
       "          [0., 0., 0., 0.],\n",
       "          [0., 0., 0., 0.],\n",
       "          [0., 0., 0., 0.]],\n",
       "\n",
       "         [[0., 0., 0., 0.],\n",
       "          [0., 0., 0., 0.],\n",
       "          [0., 0., 0., 0.],\n",
       "          [0., 0., 0., 0.]],\n",
       "\n",
       "         [[0., 0., 0., 0.],\n",
       "          [0., 0., 0., 0.],\n",
       "          [0., 0., 0., 0.],\n",
       "          [0., 0., 0., 0.]],\n",
       "\n",
       "         [[0., 0., 0., 0.],\n",
       "          [0., 0., 0., 0.],\n",
       "          [0., 0., 0., 0.],\n",
       "          [0., 0., 0., 0.]]],\n",
       "\n",
       "\n",
       "        [[[0., 0., 0., 0.],\n",
       "          [0., 0., 0., 0.],\n",
       "          [0., 0., 0., 0.],\n",
       "          [0., 0., 0., 0.]],\n",
       "\n",
       "         [[0., 0., 0., 0.],\n",
       "          [0., 0., 0., 0.],\n",
       "          [0., 0., 0., 0.],\n",
       "          [0., 0., 0., 0.]],\n",
       "\n",
       "         [[0., 0., 0., 0.],\n",
       "          [0., 0., 0., 0.],\n",
       "          [0., 0., 0., 0.],\n",
       "          [0., 0., 0., 0.]],\n",
       "\n",
       "         [[0., 0., 0., 0.],\n",
       "          [0., 0., 0., 0.],\n",
       "          [0., 0., 0., 0.],\n",
       "          [0., 0., 0., 0.]]]]])"
      ]
     },
     "execution_count": 57,
     "metadata": {},
     "output_type": "execute_result"
    }
   ],
   "source": [
    "-np.einsum(\"uvps,a->uvpsa\", levi, dg) * 0.5 - (-np.outer(levi,dg).reshape((4,4,4,4,4)) * 0.5)"
   ]
  }
 ],
 "metadata": {
  "kernelspec": {
   "display_name": "gwpython",
   "language": "python",
   "name": "python3"
  },
  "language_info": {
   "codemirror_mode": {
    "name": "ipython",
    "version": 3
   },
   "file_extension": ".py",
   "mimetype": "text/x-python",
   "name": "python",
   "nbconvert_exporter": "python",
   "pygments_lexer": "ipython3",
   "version": "3.11.6"
  }
 },
 "nbformat": 4,
 "nbformat_minor": 2
}
