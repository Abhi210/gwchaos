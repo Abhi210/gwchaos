{
 "cells": [
  {
   "cell_type": "code",
   "execution_count": 1,
   "metadata": {},
   "outputs": [],
   "source": [
    "import numpy as np\n",
    "import sympy as sym"
   ]
  },
  {
   "cell_type": "code",
   "execution_count": 2,
   "metadata": {},
   "outputs": [],
   "source": [
    "from sympy.parsing import mathematica"
   ]
  },
  {
   "cell_type": "code",
   "execution_count": 9,
   "metadata": {},
   "outputs": [],
   "source": [
    "from sympy import *"
   ]
  },
  {
   "cell_type": "code",
   "execution_count": 13,
   "metadata": {},
   "outputs": [
    {
     "data": {
      "text/plain": [
       "'2*drdt**2*(sin(Theta)*sin(Phi - phi(t))*sin(2*theta(t)) - sin(2*Phi - 2*phi(t))*sin(theta(t))**2*cos(Theta)) + 4*drdt*(dphidt*(-sin(Theta)*sin(2*theta(t))*cos(Phi - phi(t)) + 2*sin(theta(t))**2*cos(Theta)*cos(2*Phi - 2*phi(t))) + dthetadt*(2*sin(Theta)*sin(Phi - phi(t))*cos(2*theta(t)) - sin(2*Phi - 2*phi(t))*sin(2*theta(t))*cos(Theta)))*r(t) - (2*d2rdt*(-sin(Theta)*sin(Phi - phi(t))*sin(2*theta(t)) + sin(2*Phi - 2*phi(t))*sin(theta(t))**2*cos(Theta)) + (d2phidt*(sin(Theta)*sin(2*theta(t))*cos(Phi - phi(t)) - 2*sin(theta(t))**2*cos(Theta)*cos(2*Phi - 2*phi(t))) + d2thetadt*(-2*sin(Theta)*sin(Phi - phi(t))*cos(2*theta(t)) + sin(2*Phi - 2*phi(t))*sin(2*theta(t))*cos(Theta)) + dphidt**2*(sin(Theta)*sin(Phi - phi(t))*sin(2*theta(t)) - 4*sin(2*Phi - 2*phi(t))*sin(theta(t))**2*cos(Theta)) + 4*dphidt*dthetadt*(sin(Theta)*cos(Phi - phi(t))*cos(2*theta(t)) - sin(2*theta(t))*cos(Theta)*cos(2*Phi - 2*phi(t))) + 2*dthetadt**2*(2*sin(Theta)*sin(Phi - phi(t))*sin(2*theta(t)) + sin(2*Phi - 2*phi(t))*cos(Theta)*cos(2*theta(t))))*r(t))*r(t)'"
      ]
     },
     "execution_count": 13,
     "metadata": {},
     "output_type": "execute_result"
    }
   ],
   "source": [
    "str(\n",
    "    mathematica.parse_mathematica(\n",
    "        \"(2 drdt^2 (-Cos[Theta] Sin[2 (Phi - phi[t])] Sin[theta[t]]^2 + Sin[Theta] Sin[Phi - phi[t]] Sin[2 theta[t]]) + 4 drdt r[ t] (dphidt (2 Cos[Theta] Cos[2 (Phi - phi[t])] Sin[theta[t]]^2 - Cos[Phi - phi[t]] Sin[Theta] Sin[2 theta[t]]) + dthetadt (2 Cos[2 theta[t]] Sin[Theta] Sin[Phi - phi[t]] - Cos[Theta] Sin[2 (Phi - phi[t])] Sin[2 theta[t]])) - r[t] (2 d2rdt (Cos[Theta] Sin[2 (Phi - phi[t])] Sin[theta[t]]^2 - Sin[Theta] Sin[Phi - phi[t]] Sin[2 theta[t]]) + r[t] (4 dphidt dthetadt (Cos[Phi - phi[t]] Cos[2 theta[t]] Sin[ Theta] - Cos[Theta] Cos[2 (Phi - phi[t])] Sin[2 theta[t]]) + d2phidt (-2 Cos[Theta] Cos[2 (Phi - phi[t])] Sin[theta[t]]^2 + Cos[Phi - phi[t]] Sin[Theta] Sin[2 theta[t]]) + dphidt^2 (-4 Cos[Theta] Sin[2 (Phi - phi[t])] Sin[ theta[t]]^2 + Sin[Theta] Sin[Phi - phi[t]] Sin[2 theta[t]]) + 2 dthetadt^2 (Cos[Theta] Cos[2 theta[t]] Sin[ 2 (Phi - phi[t])] + 2 Sin[Theta] Sin[Phi - phi[t]] Sin[2 theta[t]]) + d2thetadt (-2 Cos[2 theta[t]] Sin[Theta] Sin[Phi - phi[t]] + Cos[Theta] Sin[2 (Phi - phi[t])] Sin[2 theta[t]]))))\"\n",
    "    )\n",
    ")"
   ]
  },
  {
   "cell_type": "code",
   "execution_count": null,
   "metadata": {},
   "outputs": [],
   "source": []
  }
 ],
 "metadata": {
  "kernelspec": {
   "display_name": "base",
   "language": "python",
   "name": "python3"
  },
  "language_info": {
   "codemirror_mode": {
    "name": "ipython",
    "version": 3
   },
   "file_extension": ".py",
   "mimetype": "text/x-python",
   "name": "python",
   "nbconvert_exporter": "python",
   "pygments_lexer": "ipython3",
   "version": "3.10.12"
  }
 },
 "nbformat": 4,
 "nbformat_minor": 2
}
